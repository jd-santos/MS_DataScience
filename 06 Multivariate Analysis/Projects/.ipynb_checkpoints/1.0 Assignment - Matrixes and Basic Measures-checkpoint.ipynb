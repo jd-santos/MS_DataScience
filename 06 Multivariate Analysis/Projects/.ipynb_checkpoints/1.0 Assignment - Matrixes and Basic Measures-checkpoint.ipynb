{
 "cells": [
  {
   "cell_type": "markdown",
   "metadata": {
    "toc": true
   },
   "source": [
    "<h1>Table of Contents<span class=\"tocSkip\"></span></h1>\n",
    "<div class=\"toc\"><ul class=\"toc-item\"><li><span><a href=\"#Problem-1\" data-toc-modified-id=\"Problem-1-1\"><span class=\"toc-item-num\">1&nbsp;&nbsp;</span>Problem 1</a></span><ul class=\"toc-item\"><li><span><a href=\"#A\" data-toc-modified-id=\"A-1.1\"><span class=\"toc-item-num\">1.1&nbsp;&nbsp;</span>A</a></span></li><li><span><a href=\"#B\" data-toc-modified-id=\"B-1.2\"><span class=\"toc-item-num\">1.2&nbsp;&nbsp;</span>B</a></span></li></ul></li><li><span><a href=\"#Problem-2\" data-toc-modified-id=\"Problem-2-2\"><span class=\"toc-item-num\">2&nbsp;&nbsp;</span>Problem 2</a></span><ul class=\"toc-item\"><li><span><a href=\"#A\" data-toc-modified-id=\"A-2.1\"><span class=\"toc-item-num\">2.1&nbsp;&nbsp;</span>A</a></span></li><li><span><a href=\"#B\" data-toc-modified-id=\"B-2.2\"><span class=\"toc-item-num\">2.2&nbsp;&nbsp;</span>B</a></span></li><li><span><a href=\"#C\" data-toc-modified-id=\"C-2.3\"><span class=\"toc-item-num\">2.3&nbsp;&nbsp;</span>C</a></span></li></ul></li><li><span><a href=\"#Problem-3\" data-toc-modified-id=\"Problem-3-3\"><span class=\"toc-item-num\">3&nbsp;&nbsp;</span>Problem 3</a></span><ul class=\"toc-item\"><li><span><a href=\"#A\" data-toc-modified-id=\"A-3.1\"><span class=\"toc-item-num\">3.1&nbsp;&nbsp;</span>A</a></span></li><li><span><a href=\"#B\" data-toc-modified-id=\"B-3.2\"><span class=\"toc-item-num\">3.2&nbsp;&nbsp;</span>B</a></span></li></ul></li><li><span><a href=\"#Problem-4\" data-toc-modified-id=\"Problem-4-4\"><span class=\"toc-item-num\">4&nbsp;&nbsp;</span>Problem 4</a></span><ul class=\"toc-item\"><li><span><a href=\"#A\" data-toc-modified-id=\"A-4.1\"><span class=\"toc-item-num\">4.1&nbsp;&nbsp;</span>A</a></span></li><li><span><a href=\"#B\" data-toc-modified-id=\"B-4.2\"><span class=\"toc-item-num\">4.2&nbsp;&nbsp;</span>B</a></span></li></ul></li><li><span><a href=\"#Problem-5\" data-toc-modified-id=\"Problem-5-5\"><span class=\"toc-item-num\">5&nbsp;&nbsp;</span>Problem 5</a></span></li></ul></div>"
   ]
  },
  {
   "cell_type": "markdown",
   "metadata": {},
   "source": [
    "## Problem 1"
   ]
  },
  {
   "cell_type": "markdown",
   "metadata": {},
   "source": [
    "### A\t\n",
    "- How many rows are in a n×4 matrix?\n",
    "- How many columns?\n",
    "- Choose a number for n then give an example in R."
   ]
  },
  {
   "cell_type": "markdown",
   "metadata": {},
   "source": [
    "There are n rows and 4 columns in this matrix. If n = 2, here is a 2x4 matrix in R:"
   ]
  },
  {
   "cell_type": "code",
   "execution_count": 6,
   "metadata": {},
   "outputs": [
    {
     "data": {
      "text/html": [
       "<table>\n",
       "<caption>A matrix: 2 × 4 of type dbl</caption>\n",
       "<tbody>\n",
       "\t<tr><td>3</td><td>5</td><td>2</td><td>5</td></tr>\n",
       "\t<tr><td>2</td><td>6</td><td>7</td><td>8</td></tr>\n",
       "</tbody>\n",
       "</table>\n"
      ],
      "text/latex": [
       "A matrix: 2 × 4 of type dbl\n",
       "\\begin{tabular}{llll}\n",
       "\t 3 & 5 & 2 & 5\\\\\n",
       "\t 2 & 6 & 7 & 8\\\\\n",
       "\\end{tabular}\n"
      ],
      "text/markdown": [
       "\n",
       "A matrix: 2 × 4 of type dbl\n",
       "\n",
       "| 3 | 5 | 2 | 5 |\n",
       "| 2 | 6 | 7 | 8 |\n",
       "\n"
      ],
      "text/plain": [
       "     [,1] [,2] [,3] [,4]\n",
       "[1,] 3    5    2    5   \n",
       "[2,] 2    6    7    8   "
      ]
     },
     "metadata": {},
     "output_type": "display_data"
    }
   ],
   "source": [
    "A1 <- matrix(c(3,2,5,6,2,7,5,8), ncol=4)\n",
    "A1"
   ]
  },
  {
   "cell_type": "markdown",
   "metadata": {},
   "source": [
    "### B \n",
    "- Give an example of a 4×2 matrix in R.  "
   ]
  },
  {
   "cell_type": "markdown",
   "metadata": {},
   "source": [
    "For a 4x2 matrix, we can take our previous example and tweak the number of columns:"
   ]
  },
  {
   "cell_type": "code",
   "execution_count": 7,
   "metadata": {},
   "outputs": [
    {
     "data": {
      "text/html": [
       "<table>\n",
       "<caption>A matrix: 4 × 2 of type dbl</caption>\n",
       "<tbody>\n",
       "\t<tr><td>3</td><td>2</td></tr>\n",
       "\t<tr><td>2</td><td>7</td></tr>\n",
       "\t<tr><td>5</td><td>5</td></tr>\n",
       "\t<tr><td>6</td><td>8</td></tr>\n",
       "</tbody>\n",
       "</table>\n"
      ],
      "text/latex": [
       "A matrix: 4 × 2 of type dbl\n",
       "\\begin{tabular}{ll}\n",
       "\t 3 & 2\\\\\n",
       "\t 2 & 7\\\\\n",
       "\t 5 & 5\\\\\n",
       "\t 6 & 8\\\\\n",
       "\\end{tabular}\n"
      ],
      "text/markdown": [
       "\n",
       "A matrix: 4 × 2 of type dbl\n",
       "\n",
       "| 3 | 2 |\n",
       "| 2 | 7 |\n",
       "| 5 | 5 |\n",
       "| 6 | 8 |\n",
       "\n"
      ],
      "text/plain": [
       "     [,1] [,2]\n",
       "[1,] 3    2   \n",
       "[2,] 2    7   \n",
       "[3,] 5    5   \n",
       "[4,] 6    8   "
      ]
     },
     "metadata": {},
     "output_type": "display_data"
    }
   ],
   "source": [
    "B1 <- matrix(c(3,2,5,6,2,7,5,8), ncol=2)\n",
    "B1"
   ]
  },
  {
   "cell_type": "markdown",
   "metadata": {},
   "source": [
    "## Problem 2\n",
    "- A series of matrix multiplications are presented with the question of whether they are solvable\n",
    "- Matrices are not printed because I'm struggling with the LaTeX package in Jupyter"
   ]
  },
  {
   "cell_type": "markdown",
   "metadata": {},
   "source": [
    "### A"
   ]
  },
  {
   "cell_type": "markdown",
   "metadata": {},
   "source": [
    "This is solvable, the number of columns in the first matrix equals the number of rows in the second"
   ]
  },
  {
   "cell_type": "markdown",
   "metadata": {},
   "source": [
    "### B"
   ]
  },
  {
   "cell_type": "markdown",
   "metadata": {},
   "source": [
    "This is also solvable, the number of columns is in the first matrix equals the number of rows in the second.\n",
    "\n",
    "In R:"
   ]
  },
  {
   "cell_type": "code",
   "execution_count": 10,
   "metadata": {},
   "outputs": [
    {
     "data": {
      "text/html": [
       "<table>\n",
       "<caption>A matrix: 3 × 3 of type dbl</caption>\n",
       "<tbody>\n",
       "\t<tr><td>1</td><td>1</td><td> 2</td></tr>\n",
       "\t<tr><td>4</td><td>5</td><td> 5</td></tr>\n",
       "\t<tr><td>0</td><td>1</td><td>-3</td></tr>\n",
       "</tbody>\n",
       "</table>\n"
      ],
      "text/latex": [
       "A matrix: 3 × 3 of type dbl\n",
       "\\begin{tabular}{lll}\n",
       "\t 1 & 1 &  2\\\\\n",
       "\t 4 & 5 &  5\\\\\n",
       "\t 0 & 1 & -3\\\\\n",
       "\\end{tabular}\n"
      ],
      "text/markdown": [
       "\n",
       "A matrix: 3 × 3 of type dbl\n",
       "\n",
       "| 1 | 1 |  2 |\n",
       "| 4 | 5 |  5 |\n",
       "| 0 | 1 | -3 |\n",
       "\n"
      ],
      "text/plain": [
       "     [,1] [,2] [,3]\n",
       "[1,] 1    1     2  \n",
       "[2,] 4    5     5  \n",
       "[3,] 0    1    -3  "
      ]
     },
     "metadata": {},
     "output_type": "display_data"
    }
   ],
   "source": [
    "b2 <- matrix(c(1,2,-2,0,1,1), ncol=2)\n",
    "b22 <- matrix(c(1,2,1,3,2,1), ncol=3)\n",
    "Result3b = b2 %*% b22\n",
    "Result3b"
   ]
  },
  {
   "cell_type": "markdown",
   "metadata": {},
   "source": [
    "### C "
   ]
  },
  {
   "cell_type": "markdown",
   "metadata": {},
   "source": [
    "This matrix multiplication is not solvable, there are not equal numbers of columns or rows in either equation. \n",
    "\n",
    "In R:"
   ]
  },
  {
   "cell_type": "code",
   "execution_count": 11,
   "metadata": {},
   "outputs": [
    {
     "ename": "ERROR",
     "evalue": "Error in C2 %*% C22: non-conformable arguments\n",
     "output_type": "error",
     "traceback": [
      "Error in C2 %*% C22: non-conformable arguments\nTraceback:\n"
     ]
    }
   ],
   "source": [
    "C2 <- matrix(c(1,2,-2,0,1,1), ncol=2)\n",
    "C22 <- matrix(c(1,-12,0), ncol = 1)\n",
    "C2 %*% C22"
   ]
  },
  {
   "cell_type": "markdown",
   "metadata": {},
   "source": [
    "## Problem 3"
   ]
  },
  {
   "cell_type": "markdown",
   "metadata": {},
   "source": [
    "### A\n",
    "- Given matrix A, find the result of the multiplication: $(A)(A^-1)$. Is it solvable and why?"
   ]
  },
  {
   "cell_type": "code",
   "execution_count": 21,
   "metadata": {},
   "outputs": [
    {
     "data": {
      "text/html": [
       "<table>\n",
       "<caption>A matrix: 2 × 2 of type dbl</caption>\n",
       "<tbody>\n",
       "\t<tr><td>3</td><td>1</td></tr>\n",
       "\t<tr><td>1</td><td>3</td></tr>\n",
       "</tbody>\n",
       "</table>\n"
      ],
      "text/latex": [
       "A matrix: 2 × 2 of type dbl\n",
       "\\begin{tabular}{ll}\n",
       "\t 3 & 1\\\\\n",
       "\t 1 & 3\\\\\n",
       "\\end{tabular}\n"
      ],
      "text/markdown": [
       "\n",
       "A matrix: 2 × 2 of type dbl\n",
       "\n",
       "| 3 | 1 |\n",
       "| 1 | 3 |\n",
       "\n"
      ],
      "text/plain": [
       "     [,1] [,2]\n",
       "[1,] 3    1   \n",
       "[2,] 1    3   "
      ]
     },
     "metadata": {},
     "output_type": "display_data"
    }
   ],
   "source": [
    "# Matrix A (A3)\n",
    "A3 <- matrix(c(3,1,1,3), ncol=2)\n",
    "A3"
   ]
  },
  {
   "cell_type": "markdown",
   "metadata": {},
   "source": [
    "The matrix has an inverse, we can solve the equation and confirm by finding the determinant != 0: "
   ]
  },
  {
   "cell_type": "code",
   "execution_count": 17,
   "metadata": {},
   "outputs": [
    {
     "data": {
      "text/html": [
       "<table>\n",
       "<caption>A matrix: 2 × 2 of type dbl</caption>\n",
       "<tbody>\n",
       "\t<tr><td>1</td><td>0</td></tr>\n",
       "\t<tr><td>0</td><td>1</td></tr>\n",
       "</tbody>\n",
       "</table>\n"
      ],
      "text/latex": [
       "A matrix: 2 × 2 of type dbl\n",
       "\\begin{tabular}{ll}\n",
       "\t 1 & 0\\\\\n",
       "\t 0 & 1\\\\\n",
       "\\end{tabular}\n"
      ],
      "text/markdown": [
       "\n",
       "A matrix: 2 × 2 of type dbl\n",
       "\n",
       "| 1 | 0 |\n",
       "| 0 | 1 |\n",
       "\n"
      ],
      "text/plain": [
       "     [,1] [,2]\n",
       "[1,] 1    0   \n",
       "[2,] 0    1   "
      ]
     },
     "metadata": {},
     "output_type": "display_data"
    }
   ],
   "source": [
    "A3inv = solve(A3)\n",
    "round (A3 %*% A3inv, 10)"
   ]
  },
  {
   "cell_type": "code",
   "execution_count": 15,
   "metadata": {
    "scrolled": true
   },
   "outputs": [
    {
     "data": {
      "text/html": [
       "8"
      ],
      "text/latex": [
       "8"
      ],
      "text/markdown": [
       "8"
      ],
      "text/plain": [
       "[1] 8"
      ]
     },
     "metadata": {},
     "output_type": "display_data"
    }
   ],
   "source": [
    "detA3 = det(A3)\n",
    "detA3"
   ]
  },
  {
   "cell_type": "markdown",
   "metadata": {},
   "source": [
    "### B\n",
    "- Given matrix A, find the result of the multiplication: $(A)(A^-1)$. Is it solvable and why?"
   ]
  },
  {
   "cell_type": "code",
   "execution_count": 18,
   "metadata": {},
   "outputs": [
    {
     "data": {
      "text/html": [
       "<table>\n",
       "<caption>A matrix: 2 × 2 of type dbl</caption>\n",
       "<tbody>\n",
       "\t<tr><td>3</td><td>0</td></tr>\n",
       "\t<tr><td>1</td><td>0</td></tr>\n",
       "</tbody>\n",
       "</table>\n"
      ],
      "text/latex": [
       "A matrix: 2 × 2 of type dbl\n",
       "\\begin{tabular}{ll}\n",
       "\t 3 & 0\\\\\n",
       "\t 1 & 0\\\\\n",
       "\\end{tabular}\n"
      ],
      "text/markdown": [
       "\n",
       "A matrix: 2 × 2 of type dbl\n",
       "\n",
       "| 3 | 0 |\n",
       "| 1 | 0 |\n",
       "\n"
      ],
      "text/plain": [
       "     [,1] [,2]\n",
       "[1,] 3    0   \n",
       "[2,] 1    0   "
      ]
     },
     "metadata": {},
     "output_type": "display_data"
    }
   ],
   "source": [
    "# Matrix A (B3)\n",
    "B3 <- matrix(c(3,1,0,0), ncol=2)\n",
    "B3"
   ]
  },
  {
   "cell_type": "markdown",
   "metadata": {},
   "source": [
    "This multiplication cannot be solved, we confirm by noting that the determinant = 0:"
   ]
  },
  {
   "cell_type": "code",
   "execution_count": 19,
   "metadata": {
    "scrolled": true
   },
   "outputs": [
    {
     "ename": "ERROR",
     "evalue": "Error in solve.default(B3): Lapack routine dgesv: system is exactly singular: U[2,2] = 0\n",
     "output_type": "error",
     "traceback": [
      "Error in solve.default(B3): Lapack routine dgesv: system is exactly singular: U[2,2] = 0\nTraceback:\n",
      "1. solve(B3)",
      "2. solve.default(B3)"
     ]
    }
   ],
   "source": [
    "B3inv = solve(B3)\n",
    "round (B3 %*% B3inv, 10)"
   ]
  },
  {
   "cell_type": "code",
   "execution_count": 20,
   "metadata": {},
   "outputs": [
    {
     "data": {
      "text/html": [
       "0"
      ],
      "text/latex": [
       "0"
      ],
      "text/markdown": [
       "0"
      ],
      "text/plain": [
       "[1] 0"
      ]
     },
     "metadata": {},
     "output_type": "display_data"
    }
   ],
   "source": [
    "det(B3)"
   ]
  },
  {
   "cell_type": "markdown",
   "metadata": {},
   "source": [
    "## Problem 4\n",
    "This problem uses the USairpolution data from the HSAUR2 package. First we install and load the package, then assign the data to variable 'mydata'"
   ]
  },
  {
   "cell_type": "code",
   "execution_count": 22,
   "metadata": {},
   "outputs": [
    {
     "name": "stdout",
     "output_type": "stream",
     "text": [
      "\n",
      "The downloaded binary packages are in\n",
      "\t/var/folders/1n/nvr79nb55tz9j4lsbrw6hsf80000gn/T//RtmpyP1gVX/downloaded_packages\n"
     ]
    }
   ],
   "source": [
    "install.packages(\"HSAUR2\") "
   ]
  },
  {
   "cell_type": "code",
   "execution_count": 23,
   "metadata": {},
   "outputs": [
    {
     "name": "stderr",
     "output_type": "stream",
     "text": [
      "Warning message:\n",
      "“package ‘HSAUR2’ was built under R version 4.0.2”\n",
      "Loading required package: tools\n",
      "\n"
     ]
    }
   ],
   "source": [
    "library(HSAUR2)"
   ]
  },
  {
   "cell_type": "code",
   "execution_count": 24,
   "metadata": {},
   "outputs": [],
   "source": [
    "data(\"USairpollution\", package = \"HSAUR2\")\n",
    "mydata <- USairpollution"
   ]
  },
  {
   "cell_type": "markdown",
   "metadata": {},
   "source": [
    "### A\n",
    "- Report the covariance and correlation matrix. Explain your findings.\n",
    "- What variables are the most correlated, either positively or negatively? Why?"
   ]
  },
  {
   "cell_type": "markdown",
   "metadata": {},
   "source": [
    "The most correlated variables (besides the correlation of the variables to themselves) are popul and manu with a correlation of .955 which is extremely high. The covariance measures are also very high, with the covariance of popul x manu being almost equal to the covariance of popul x popul."
   ]
  },
  {
   "cell_type": "code",
   "execution_count": 27,
   "metadata": {
    "scrolled": true
   },
   "outputs": [
    {
     "data": {
      "text/html": [
       "<table>\n",
       "<caption>A matrix: 7 × 7 of type dbl</caption>\n",
       "<thead>\n",
       "\t<tr><th></th><th scope=col>SO2</th><th scope=col>temp</th><th scope=col>manu</th><th scope=col>popul</th><th scope=col>wind</th><th scope=col>precip</th><th scope=col>predays</th></tr>\n",
       "</thead>\n",
       "<tbody>\n",
       "\t<tr><th scope=row>SO2</th><td> 550.947561</td><td> -73.560671</td><td>  8527.7201</td><td>  6711.9945</td><td>  3.1753049</td><td>  15.0017988</td><td> 229.92988</td></tr>\n",
       "\t<tr><th scope=row>temp</th><td> -73.560671</td><td>  52.239878</td><td>  -773.9713</td><td>  -262.3496</td><td> -3.6113537</td><td>  32.8629884</td><td> -82.42616</td></tr>\n",
       "\t<tr><th scope=row>manu</th><td>8527.720122</td><td>-773.971341</td><td>317502.8902</td><td>311718.8140</td><td>191.5481098</td><td>-215.0199024</td><td>1968.95976</td></tr>\n",
       "\t<tr><th scope=row>popul</th><td>6711.994512</td><td>-262.349634</td><td>311718.8140</td><td>335371.8939</td><td>175.9300610</td><td>-178.0528902</td><td> 645.98598</td></tr>\n",
       "\t<tr><th scope=row>wind</th><td>   3.175305</td><td>  -3.611354</td><td>   191.5481</td><td>   175.9301</td><td>  2.0410244</td><td>  -0.2185311</td><td>   6.21439</td></tr>\n",
       "\t<tr><th scope=row>precip</th><td>  15.001799</td><td>  32.862988</td><td>  -215.0199</td><td>  -178.0529</td><td> -0.2185311</td><td> 138.5693840</td><td> 154.79290</td></tr>\n",
       "\t<tr><th scope=row>predays</th><td> 229.929878</td><td> -82.426159</td><td>  1968.9598</td><td>   645.9860</td><td>  6.2143902</td><td> 154.7929024</td><td> 702.59024</td></tr>\n",
       "</tbody>\n",
       "</table>\n"
      ],
      "text/latex": [
       "A matrix: 7 × 7 of type dbl\n",
       "\\begin{tabular}{r|lllllll}\n",
       "  & SO2 & temp & manu & popul & wind & precip & predays\\\\\n",
       "\\hline\n",
       "\tSO2 &  550.947561 &  -73.560671 &   8527.7201 &   6711.9945 &   3.1753049 &   15.0017988 &  229.92988\\\\\n",
       "\ttemp &  -73.560671 &   52.239878 &   -773.9713 &   -262.3496 &  -3.6113537 &   32.8629884 &  -82.42616\\\\\n",
       "\tmanu & 8527.720122 & -773.971341 & 317502.8902 & 311718.8140 & 191.5481098 & -215.0199024 & 1968.95976\\\\\n",
       "\tpopul & 6711.994512 & -262.349634 & 311718.8140 & 335371.8939 & 175.9300610 & -178.0528902 &  645.98598\\\\\n",
       "\twind &    3.175305 &   -3.611354 &    191.5481 &    175.9301 &   2.0410244 &   -0.2185311 &    6.21439\\\\\n",
       "\tprecip &   15.001799 &   32.862988 &   -215.0199 &   -178.0529 &  -0.2185311 &  138.5693840 &  154.79290\\\\\n",
       "\tpredays &  229.929878 &  -82.426159 &   1968.9598 &    645.9860 &   6.2143902 &  154.7929024 &  702.59024\\\\\n",
       "\\end{tabular}\n"
      ],
      "text/markdown": [
       "\n",
       "A matrix: 7 × 7 of type dbl\n",
       "\n",
       "| <!--/--> | SO2 | temp | manu | popul | wind | precip | predays |\n",
       "|---|---|---|---|---|---|---|---|\n",
       "| SO2 |  550.947561 |  -73.560671 |   8527.7201 |   6711.9945 |   3.1753049 |   15.0017988 |  229.92988 |\n",
       "| temp |  -73.560671 |   52.239878 |   -773.9713 |   -262.3496 |  -3.6113537 |   32.8629884 |  -82.42616 |\n",
       "| manu | 8527.720122 | -773.971341 | 317502.8902 | 311718.8140 | 191.5481098 | -215.0199024 | 1968.95976 |\n",
       "| popul | 6711.994512 | -262.349634 | 311718.8140 | 335371.8939 | 175.9300610 | -178.0528902 |  645.98598 |\n",
       "| wind |    3.175305 |   -3.611354 |    191.5481 |    175.9301 |   2.0410244 |   -0.2185311 |    6.21439 |\n",
       "| precip |   15.001799 |   32.862988 |   -215.0199 |   -178.0529 |  -0.2185311 |  138.5693840 |  154.79290 |\n",
       "| predays |  229.929878 |  -82.426159 |   1968.9598 |    645.9860 |   6.2143902 |  154.7929024 |  702.59024 |\n",
       "\n"
      ],
      "text/plain": [
       "        SO2         temp        manu        popul       wind       \n",
       "SO2      550.947561  -73.560671   8527.7201   6711.9945   3.1753049\n",
       "temp     -73.560671   52.239878   -773.9713   -262.3496  -3.6113537\n",
       "manu    8527.720122 -773.971341 317502.8902 311718.8140 191.5481098\n",
       "popul   6711.994512 -262.349634 311718.8140 335371.8939 175.9300610\n",
       "wind       3.175305   -3.611354    191.5481    175.9301   2.0410244\n",
       "precip    15.001799   32.862988   -215.0199   -178.0529  -0.2185311\n",
       "predays  229.929878  -82.426159   1968.9598    645.9860   6.2143902\n",
       "        precip       predays   \n",
       "SO2       15.0017988  229.92988\n",
       "temp      32.8629884  -82.42616\n",
       "manu    -215.0199024 1968.95976\n",
       "popul   -178.0528902  645.98598\n",
       "wind      -0.2185311    6.21439\n",
       "precip   138.5693840  154.79290\n",
       "predays  154.7929024  702.59024"
      ]
     },
     "metadata": {},
     "output_type": "display_data"
    }
   ],
   "source": [
    "cov(mydata)"
   ]
  },
  {
   "cell_type": "code",
   "execution_count": 28,
   "metadata": {},
   "outputs": [
    {
     "data": {
      "text/html": [
       "<table>\n",
       "<caption>A matrix: 7 × 7 of type dbl</caption>\n",
       "<thead>\n",
       "\t<tr><th></th><th scope=col>SO2</th><th scope=col>temp</th><th scope=col>manu</th><th scope=col>popul</th><th scope=col>wind</th><th scope=col>precip</th><th scope=col>predays</th></tr>\n",
       "</thead>\n",
       "<tbody>\n",
       "\t<tr><th scope=row>SO2</th><td> 1.00000000</td><td>-0.43360020</td><td> 0.64476873</td><td> 0.49377958</td><td> 0.09469045</td><td> 0.05429434</td><td> 0.36956363</td></tr>\n",
       "\t<tr><th scope=row>temp</th><td>-0.43360020</td><td> 1.00000000</td><td>-0.19004216</td><td>-0.06267813</td><td>-0.34973963</td><td> 0.38625342</td><td>-0.43024212</td></tr>\n",
       "\t<tr><th scope=row>manu</th><td> 0.64476873</td><td>-0.19004216</td><td> 1.00000000</td><td> 0.95526935</td><td> 0.23794683</td><td>-0.03241688</td><td> 0.13182930</td></tr>\n",
       "\t<tr><th scope=row>popul</th><td> 0.49377958</td><td>-0.06267813</td><td> 0.95526935</td><td> 1.00000000</td><td> 0.21264375</td><td>-0.02611873</td><td> 0.04208319</td></tr>\n",
       "\t<tr><th scope=row>wind</th><td> 0.09469045</td><td>-0.34973963</td><td> 0.23794683</td><td> 0.21264375</td><td> 1.00000000</td><td>-0.01299438</td><td> 0.16410559</td></tr>\n",
       "\t<tr><th scope=row>precip</th><td> 0.05429434</td><td> 0.38625342</td><td>-0.03241688</td><td>-0.02611873</td><td>-0.01299438</td><td> 1.00000000</td><td> 0.49609671</td></tr>\n",
       "\t<tr><th scope=row>predays</th><td> 0.36956363</td><td>-0.43024212</td><td> 0.13182930</td><td> 0.04208319</td><td> 0.16410559</td><td> 0.49609671</td><td> 1.00000000</td></tr>\n",
       "</tbody>\n",
       "</table>\n"
      ],
      "text/latex": [
       "A matrix: 7 × 7 of type dbl\n",
       "\\begin{tabular}{r|lllllll}\n",
       "  & SO2 & temp & manu & popul & wind & precip & predays\\\\\n",
       "\\hline\n",
       "\tSO2 &  1.00000000 & -0.43360020 &  0.64476873 &  0.49377958 &  0.09469045 &  0.05429434 &  0.36956363\\\\\n",
       "\ttemp & -0.43360020 &  1.00000000 & -0.19004216 & -0.06267813 & -0.34973963 &  0.38625342 & -0.43024212\\\\\n",
       "\tmanu &  0.64476873 & -0.19004216 &  1.00000000 &  0.95526935 &  0.23794683 & -0.03241688 &  0.13182930\\\\\n",
       "\tpopul &  0.49377958 & -0.06267813 &  0.95526935 &  1.00000000 &  0.21264375 & -0.02611873 &  0.04208319\\\\\n",
       "\twind &  0.09469045 & -0.34973963 &  0.23794683 &  0.21264375 &  1.00000000 & -0.01299438 &  0.16410559\\\\\n",
       "\tprecip &  0.05429434 &  0.38625342 & -0.03241688 & -0.02611873 & -0.01299438 &  1.00000000 &  0.49609671\\\\\n",
       "\tpredays &  0.36956363 & -0.43024212 &  0.13182930 &  0.04208319 &  0.16410559 &  0.49609671 &  1.00000000\\\\\n",
       "\\end{tabular}\n"
      ],
      "text/markdown": [
       "\n",
       "A matrix: 7 × 7 of type dbl\n",
       "\n",
       "| <!--/--> | SO2 | temp | manu | popul | wind | precip | predays |\n",
       "|---|---|---|---|---|---|---|---|\n",
       "| SO2 |  1.00000000 | -0.43360020 |  0.64476873 |  0.49377958 |  0.09469045 |  0.05429434 |  0.36956363 |\n",
       "| temp | -0.43360020 |  1.00000000 | -0.19004216 | -0.06267813 | -0.34973963 |  0.38625342 | -0.43024212 |\n",
       "| manu |  0.64476873 | -0.19004216 |  1.00000000 |  0.95526935 |  0.23794683 | -0.03241688 |  0.13182930 |\n",
       "| popul |  0.49377958 | -0.06267813 |  0.95526935 |  1.00000000 |  0.21264375 | -0.02611873 |  0.04208319 |\n",
       "| wind |  0.09469045 | -0.34973963 |  0.23794683 |  0.21264375 |  1.00000000 | -0.01299438 |  0.16410559 |\n",
       "| precip |  0.05429434 |  0.38625342 | -0.03241688 | -0.02611873 | -0.01299438 |  1.00000000 |  0.49609671 |\n",
       "| predays |  0.36956363 | -0.43024212 |  0.13182930 |  0.04208319 |  0.16410559 |  0.49609671 |  1.00000000 |\n",
       "\n"
      ],
      "text/plain": [
       "        SO2         temp        manu        popul       wind        precip     \n",
       "SO2      1.00000000 -0.43360020  0.64476873  0.49377958  0.09469045  0.05429434\n",
       "temp    -0.43360020  1.00000000 -0.19004216 -0.06267813 -0.34973963  0.38625342\n",
       "manu     0.64476873 -0.19004216  1.00000000  0.95526935  0.23794683 -0.03241688\n",
       "popul    0.49377958 -0.06267813  0.95526935  1.00000000  0.21264375 -0.02611873\n",
       "wind     0.09469045 -0.34973963  0.23794683  0.21264375  1.00000000 -0.01299438\n",
       "precip   0.05429434  0.38625342 -0.03241688 -0.02611873 -0.01299438  1.00000000\n",
       "predays  0.36956363 -0.43024212  0.13182930  0.04208319  0.16410559  0.49609671\n",
       "        predays    \n",
       "SO2      0.36956363\n",
       "temp    -0.43024212\n",
       "manu     0.13182930\n",
       "popul    0.04208319\n",
       "wind     0.16410559\n",
       "precip   0.49609671\n",
       "predays  1.00000000"
      ]
     },
     "metadata": {},
     "output_type": "display_data"
    }
   ],
   "source": [
    "cor(mydata)"
   ]
  },
  {
   "cell_type": "markdown",
   "metadata": {},
   "source": [
    "### B\n",
    "- Report the covariance and correlation matrix among cities with the SO2 measure of more than 35.\n",
    "- Explain your findings. What variables are the most correlated, either positively or negatively? Why?"
   ]
  },
  {
   "cell_type": "markdown",
   "metadata": {},
   "source": [
    "## Problem 5\n",
    "- Convert this covariance matrix into the corresponding correlation matrix (using R).\n",
    "- Also explain the intuition behind the difference between the covariance and correlation matrix."
   ]
  },
  {
   "cell_type": "code",
   "execution_count": 31,
   "metadata": {},
   "outputs": [],
   "source": [
    "Cov = matrix(c(3.8778, 2.8110, 3.1480, 3.5062, \n",
    "               2.8110, 2.1210, 2.2669, 2.5690, \n",
    "               3.1480, 2.2669, 2.6550, 2.8341, \n",
    "               3.5062, 2.5690, 2.8341, 3.2352), byrow = T, nrow = 4)"
   ]
  },
  {
   "cell_type": "markdown",
   "metadata": {},
   "source": [
    "The covariance matrix can be converted to the correlation matrix with `cov2cor()`. Covariance can be difficult to intuit because it depends on the scales or measures used by both variables. Correlation divides that covariance by the product of the variable standard deviations to give us a scale between -1 and 1 that makes the relationship easier to universally understand."
   ]
  },
  {
   "cell_type": "code",
   "execution_count": 30,
   "metadata": {},
   "outputs": [
    {
     "data": {
      "text/html": [
       "<table>\n",
       "<caption>A matrix: 4 × 4 of type dbl</caption>\n",
       "<tbody>\n",
       "\t<tr><td>1.0000000</td><td>0.9801619</td><td>0.9810921</td><td>0.9899048</td></tr>\n",
       "\t<tr><td>0.9801619</td><td>1.0000000</td><td>0.9552780</td><td>0.9807159</td></tr>\n",
       "\t<tr><td>0.9810921</td><td>0.9552780</td><td>1.0000000</td><td>0.9670131</td></tr>\n",
       "\t<tr><td>0.9899048</td><td>0.9807159</td><td>0.9670131</td><td>1.0000000</td></tr>\n",
       "</tbody>\n",
       "</table>\n"
      ],
      "text/latex": [
       "A matrix: 4 × 4 of type dbl\n",
       "\\begin{tabular}{llll}\n",
       "\t 1.0000000 & 0.9801619 & 0.9810921 & 0.9899048\\\\\n",
       "\t 0.9801619 & 1.0000000 & 0.9552780 & 0.9807159\\\\\n",
       "\t 0.9810921 & 0.9552780 & 1.0000000 & 0.9670131\\\\\n",
       "\t 0.9899048 & 0.9807159 & 0.9670131 & 1.0000000\\\\\n",
       "\\end{tabular}\n"
      ],
      "text/markdown": [
       "\n",
       "A matrix: 4 × 4 of type dbl\n",
       "\n",
       "| 1.0000000 | 0.9801619 | 0.9810921 | 0.9899048 |\n",
       "| 0.9801619 | 1.0000000 | 0.9552780 | 0.9807159 |\n",
       "| 0.9810921 | 0.9552780 | 1.0000000 | 0.9670131 |\n",
       "| 0.9899048 | 0.9807159 | 0.9670131 | 1.0000000 |\n",
       "\n"
      ],
      "text/plain": [
       "     [,1]      [,2]      [,3]      [,4]     \n",
       "[1,] 1.0000000 0.9801619 0.9810921 0.9899048\n",
       "[2,] 0.9801619 1.0000000 0.9552780 0.9807159\n",
       "[3,] 0.9810921 0.9552780 1.0000000 0.9670131\n",
       "[4,] 0.9899048 0.9807159 0.9670131 1.0000000"
      ]
     },
     "metadata": {},
     "output_type": "display_data"
    }
   ],
   "source": [
    "cov2cor(Cov)"
   ]
  }
 ],
 "metadata": {
  "kernelspec": {
   "display_name": "R",
   "language": "R",
   "name": "ir"
  },
  "language_info": {
   "codemirror_mode": "r",
   "file_extension": ".r",
   "mimetype": "text/x-r-source",
   "name": "R",
   "pygments_lexer": "r",
   "version": "4.0.0"
  },
  "toc": {
   "base_numbering": 1,
   "nav_menu": {},
   "number_sections": true,
   "sideBar": true,
   "skip_h1_title": true,
   "title_cell": "Table of Contents",
   "title_sidebar": "Contents",
   "toc_cell": true,
   "toc_position": {},
   "toc_section_display": true,
   "toc_window_display": false
  }
 },
 "nbformat": 4,
 "nbformat_minor": 4
}
