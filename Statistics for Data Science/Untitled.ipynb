{
 "cells": [
  {
   "cell_type": "markdown",
   "metadata": {},
   "source": [
    "# Normal Distribution Applications"
   ]
  },
  {
   "cell_type": "markdown",
   "metadata": {},
   "source": [
    "## 1. Quantile of the Standard Normal\n",
    "- The $P^{th}$ quantile of the normal probability distribution is the value of x such that $P(X \\leq x)$ = p"
   ]
  },
  {
   "cell_type": "code",
   "execution_count": 6,
   "metadata": {},
   "outputs": [],
   "source": [
    "# Import IRdisplay to insert images \n",
    "library(\"IRdisplay\")"
   ]
  },
  {
   "cell_type": "markdown",
   "metadata": {},
   "source": [
    "### 1.1 Example: Solving for Mean"
   ]
  },
  {
   "cell_type": "markdown",
   "metadata": {},
   "source": [
    "*A packaging system fills boxes such that weights are normally distributed with a μ = 16.3oz and σ = 0.2oz. The package label state the weight as 16oz.*\n",
    "\n",
    "*To what weight should the mean of the process be adjusted so that the chance of an underweight box is only 0.005?*"
   ]
  },
  {
   "cell_type": "markdown",
   "metadata": {},
   "source": [
    "- We know it is underweight if X < 16\n",
    "- This is a normal distribution with σ = 0.2\n",
    "- We are looking for a new mean at which P(X < 16) = 0.005\n",
    "\n",
    "- X can be converted to a Z-score\n",
    "    - P(Z < z) = 0.005\n",
    "    - Mean of Z-score is always 0 and sigma is always 1"
   ]
  },
  {
   "cell_type": "markdown",
   "metadata": {},
   "source": [
    "Calculate z:"
   ]
  },
  {
   "cell_type": "code",
   "execution_count": 5,
   "metadata": {},
   "outputs": [
    {
     "data": {
      "text/html": [
       "-2.5758293035489"
      ],
      "text/latex": [
       "-2.5758293035489"
      ],
      "text/markdown": [
       "-2.5758293035489"
      ],
      "text/plain": [
       "[1] -2.575829"
      ]
     },
     "metadata": {},
     "output_type": "display_data"
    }
   ],
   "source": [
    "z = qnorm(0.005, 0, 1)\n",
    "z"
   ]
  },
  {
   "cell_type": "markdown",
   "metadata": {},
   "source": [
    "z-score formula review: $z = \\frac{x - µ}{σ}$\n",
    "\n",
    "- Using some algebra this means µ = x + σ(z)\n",
    "\n",
    "Plug in values:"
   ]
  },
  {
   "cell_type": "code",
   "execution_count": 4,
   "metadata": {},
   "outputs": [
    {
     "data": {
      "text/html": [
       "16.5151658607098"
      ],
      "text/latex": [
       "16.5151658607098"
      ],
      "text/markdown": [
       "16.5151658607098"
      ],
      "text/plain": [
       "[1] 16.51517"
      ]
     },
     "metadata": {},
     "output_type": "display_data"
    }
   ],
   "source": [
    "mu = 16 -.2*z\n",
    "mu"
   ]
  },
  {
   "cell_type": "markdown",
   "metadata": {},
   "source": [
    "### 1.2 Example"
   ]
  },
  {
   "cell_type": "code",
   "execution_count": 7,
   "metadata": {},
   "outputs": [
    {
     "name": "stderr",
     "output_type": "stream",
     "text": [
      "Warning message in file(con, \"rb\"):\n",
      "“cannot open file 'Images/05_Investor_Example': No such file or directory”"
     ]
    },
    {
     "ename": "ERROR",
     "evalue": "Error in file(con, \"rb\"): cannot open the connection\n",
     "output_type": "error",
     "traceback": [
      "Error in file(con, \"rb\"): cannot open the connection\nTraceback:\n",
      "1. display_png(file = \"Images/05_Investor_Example\")",
      "2. display_raw(\"image/png\", TRUE, data, file, img_metadata(width, \n .     height))",
      "3. prepare_content(isbinary, data, file)",
      "4. read_all(file, isbinary)",
      "5. read(size)",
      "6. readBin(file, \"raw\", s)",
      "7. file(con, \"rb\")"
     ]
    }
   ],
   "source": [
    "display_png(file=\"Images/05_Investor_Example\")  "
   ]
  },
  {
   "cell_type": "code",
   "execution_count": null,
   "metadata": {},
   "outputs": [],
   "source": []
  }
 ],
 "metadata": {
  "kernelspec": {
   "display_name": "R",
   "language": "R",
   "name": "ir"
  },
  "language_info": {
   "codemirror_mode": "r",
   "file_extension": ".r",
   "mimetype": "text/x-r-source",
   "name": "R",
   "pygments_lexer": "r",
   "version": "3.6.1"
  }
 },
 "nbformat": 4,
 "nbformat_minor": 4
}
