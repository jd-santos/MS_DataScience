{
 "cells": [
  {
   "cell_type": "markdown",
   "metadata": {
    "toc": true
   },
   "source": [
    "<h1>Table of Contents<span class=\"tocSkip\"></span></h1>\n",
    "<div class=\"toc\"><ul class=\"toc-item\"><li><span><a href=\"#Problem-3\" data-toc-modified-id=\"Problem-3-1\"><span class=\"toc-item-num\">1&nbsp;&nbsp;</span>Problem 3</a></span></li></ul></div>"
   ]
  },
  {
   "cell_type": "code",
   "execution_count": 5,
   "metadata": {},
   "outputs": [
    {
     "data": {
      "text/html": [
       "2.02269092003676"
      ],
      "text/latex": [
       "2.02269092003676"
      ],
      "text/markdown": [
       "2.02269092003676"
      ],
      "text/plain": [
       "[1] 2.022691"
      ]
     },
     "metadata": {},
     "output_type": "display_data"
    },
    {
     "data": {
      "text/html": [
       "13.5921594084476"
      ],
      "text/latex": [
       "13.5921594084476"
      ],
      "text/markdown": [
       "13.5921594084476"
      ],
      "text/plain": [
       "[1] 13.59216"
      ]
     },
     "metadata": {},
     "output_type": "display_data"
    },
    {
     "data": {
      "text/html": [
       "<style>\n",
       ".list-inline {list-style: none; margin:0; padding: 0}\n",
       ".list-inline>li {display: inline-block}\n",
       ".list-inline>li:not(:last-child)::after {content: \"\\00b7\"; padding: 0 .5ex}\n",
       "</style>\n",
       "<ol class=list-inline><li>161.407840591552</li><li>188.592159408448</li></ol>\n"
      ],
      "text/latex": [
       "\\begin{enumerate*}\n",
       "\\item 161.407840591552\n",
       "\\item 188.592159408448\n",
       "\\end{enumerate*}\n"
      ],
      "text/markdown": [
       "1. 161.407840591552\n",
       "2. 188.592159408448\n",
       "\n",
       "\n"
      ],
      "text/plain": [
       "[1] 161.4078 188.5922"
      ]
     },
     "metadata": {},
     "output_type": "display_data"
    }
   ],
   "source": [
    "alpha = .05\n",
    "df = 39\n",
    "qt(1-alpha/2, df)\n",
    "sd = 42.5\n",
    "xbar = 175\n",
    "n = 40\n",
    "\n",
    "moe = qt (0.975, df) * sd/sqrt(n)\n",
    "moe\n",
    "se = sd/sqrt(n)\n",
    "\n",
    "lb = xbar - qt (0.975, df) * sd/sqrt(n)\n",
    "ub = xbar + qt(0.975, df) * sd/sqrt(n)\n",
    "c(lb, ub) \n",
    "\n",
    "(4*(se)^2)/100"
   ]
  },
  {
   "cell_type": "code",
   "execution_count": 7,
   "metadata": {},
   "outputs": [
    {
     "data": {
      "text/html": [
       "1.80625"
      ],
      "text/latex": [
       "1.80625"
      ],
      "text/markdown": [
       "1.80625"
      ],
      "text/plain": [
       "[1] 1.80625"
      ]
     },
     "metadata": {},
     "output_type": "display_data"
    }
   ],
   "source": []
  },
  {
   "cell_type": "code",
   "execution_count": 29,
   "metadata": {},
   "outputs": [],
   "source": [
    "data <- c(7, 4, 6, 3, 5, 4, 2)\n",
    "xbar = mean(data)\n",
    "s = sd(data)"
   ]
  },
  {
   "cell_type": "code",
   "execution_count": 30,
   "metadata": {},
   "outputs": [
    {
     "data": {
      "text/plain": [
       "\n",
       "\tOne Sample t-test\n",
       "\n",
       "data:  data\n",
       "t = 2.1997, df = 6, p-value = 0.07013\n",
       "alternative hypothesis: true mean is not equal to 3\n",
       "95 percent confidence interval:\n",
       " 2.839456 6.017687\n",
       "sample estimates:\n",
       "mean of x \n",
       " 4.428571 \n"
      ]
     },
     "metadata": {},
     "output_type": "display_data"
    }
   ],
   "source": [
    "t.test(data, mu=3)"
   ]
  },
  {
   "cell_type": "code",
   "execution_count": 33,
   "metadata": {},
   "outputs": [
    {
     "data": {
      "text/html": [
       "0.0350655821026256"
      ],
      "text/latex": [
       "0.0350655821026256"
      ],
      "text/markdown": [
       "0.0350655821026256"
      ],
      "text/plain": [
       "[1] 0.03506558"
      ]
     },
     "metadata": {},
     "output_type": "display_data"
    }
   ],
   "source": [
    "1-pt(2.1997, 6)"
   ]
  },
  {
   "cell_type": "code",
   "execution_count": 18,
   "metadata": {},
   "outputs": [
    {
     "name": "stdout",
     "output_type": "stream",
     "text": [
      "[1] \"Tstat:  3.41789813332252\"\n"
     ]
    }
   ],
   "source": [
    "muXbar = 3.5\n",
    "sigmaXbar = s/sqrt(n)\n",
    "\n",
    "# Find test statistic\n",
    "Tstat = (xbar - 3.5)/(s/sqrt(n))\n",
    "print(paste('Tstat: ', Tstat ))"
   ]
  },
  {
   "cell_type": "markdown",
   "metadata": {},
   "source": [
    "## Problem 3"
   ]
  },
  {
   "cell_type": "code",
   "execution_count": 28,
   "metadata": {},
   "outputs": [
    {
     "name": "stdout",
     "output_type": "stream",
     "text": [
      "[1] \"The Zstat is:  2.33447539410124\"\n",
      "[1] \"Zstat is outside the critical region:  TRUE\"\n"
     ]
    },
    {
     "data": {
      "text/html": [
       "1.64485362695147"
      ],
      "text/latex": [
       "1.64485362695147"
      ],
      "text/markdown": [
       "1.64485362695147"
      ],
      "text/plain": [
       "[1] 1.644854"
      ]
     },
     "metadata": {},
     "output_type": "display_data"
    },
    {
     "data": {
      "text/html": [
       "0.575"
      ],
      "text/latex": [
       "0.575"
      ],
      "text/markdown": [
       "0.575"
      ],
      "text/plain": [
       "[1] 0.575"
      ]
     },
     "metadata": {},
     "output_type": "display_data"
    },
    {
     "data": {
      "text/html": [
       "0.52"
      ],
      "text/latex": [
       "0.52"
      ],
      "text/markdown": [
       "0.52"
      ],
      "text/plain": [
       "[1] 0.52"
      ]
     },
     "metadata": {},
     "output_type": "display_data"
    },
    {
     "name": "stdout",
     "output_type": "stream",
     "text": [
      "[1] \"The p-value is:  0.0097854215104255\"\n"
     ]
    }
   ],
   "source": [
    "# Null hypothesis\n",
    "null.diff = 0\n",
    "\n",
    "\n",
    "n1 = 800\n",
    "phat1 = 460/800\n",
    "\n",
    "n2 = 1000\n",
    "phat2 = 520/1000\n",
    "\n",
    "# Get null distribution parameters µ and se\n",
    "muPhat.diff = 0\n",
    "sigmaPhat.diff = sqrt(phat1*(1-phat1)/n1 + phat2*(1-phat2)/n2)\n",
    "\n",
    "# Find Zstat\n",
    "Zstat = (phat1 - phat2 - null.diff)/(sqrt(phat1*(1-phat1)/n1 + phat2*(1-phat2)/n2))\n",
    "print(paste('The Zstat is: ', Zstat))\n",
    "\n",
    "# Check if Zstat falls in critical region\n",
    "# One-sided test\n",
    "alpha = 0.05\n",
    "critregion = qnorm(1-alpha)\n",
    "print(paste('Zstat is outside the critical region: ', Zstat > critregion))\n",
    "critregion\n",
    "\n",
    "phat1\n",
    "phat2\n",
    "\n",
    "print(paste('The p-value is: ',1-pnorm(Zstat)))"
   ]
  },
  {
   "cell_type": "code",
   "execution_count": null,
   "metadata": {},
   "outputs": [],
   "source": []
  }
 ],
 "metadata": {
  "kernelspec": {
   "display_name": "R",
   "language": "R",
   "name": "ir"
  },
  "language_info": {
   "codemirror_mode": "r",
   "file_extension": ".r",
   "mimetype": "text/x-r-source",
   "name": "R",
   "pygments_lexer": "r",
   "version": "4.0.0"
  },
  "toc": {
   "base_numbering": 1,
   "nav_menu": {},
   "number_sections": true,
   "sideBar": true,
   "skip_h1_title": true,
   "title_cell": "Table of Contents",
   "title_sidebar": "Contents",
   "toc_cell": true,
   "toc_position": {},
   "toc_section_display": true,
   "toc_window_display": false
  }
 },
 "nbformat": 4,
 "nbformat_minor": 4
}
