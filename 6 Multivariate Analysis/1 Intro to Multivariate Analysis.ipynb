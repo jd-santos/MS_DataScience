{
 "cells": [
  {
   "cell_type": "markdown",
   "metadata": {
    "toc": true
   },
   "source": [
    "<h1>Table of Contents<span class=\"tocSkip\"></span></h1>\n",
    "<div class=\"toc\"><ul class=\"toc-item\"><li><span><a href=\"#Overview\" data-toc-modified-id=\"Overview-1\"><span class=\"toc-item-num\">1&nbsp;&nbsp;</span>Overview</a></span><ul class=\"toc-item\"><li><span><a href=\"#Objectives\" data-toc-modified-id=\"Objectives-1.1\"><span class=\"toc-item-num\">1.1&nbsp;&nbsp;</span>Objectives</a></span></li></ul></li><li><span><a href=\"#Matrix-Algebra-Notation\" data-toc-modified-id=\"Matrix-Algebra-Notation-2\"><span class=\"toc-item-num\">2&nbsp;&nbsp;</span>Matrix Algebra Notation</a></span></li></ul></div>"
   ]
  },
  {
   "cell_type": "markdown",
   "metadata": {},
   "source": [
    "# 1.0 Intro to Multivariate Analysis"
   ]
  },
  {
   "cell_type": "markdown",
   "metadata": {},
   "source": [
    "## Overview\n",
    "- Multivariate analysis:\n",
    "\t- Analysis with multiple variables 🤯\n",
    "\t- Includes methods both for describing and exploring multivariate data and exploring the data or making formal inferences about them\n",
    "- The main goal is exploring data\n",
    "- Terminology\n",
    "\t- Rows: observations\n",
    "\t- Columns: variables"
   ]
  },
  {
   "cell_type": "markdown",
   "metadata": {},
   "source": [
    "### Objectives\n",
    "- Data dimension reduction and simplification\n",
    "\t- Like Principal Components Analysis (PCA)\n",
    "\t\t- Reduces the number of variables that need to be considered to the *principal components*\n",
    "\t\t- Principal components\n",
    "\t\t\t- Linear combinations of the original variables\n",
    "- Multivariate visualizations\n",
    "    - Multidimensional Scaling\n",
    "        - Visual representation of distances or dissimilarities between sets of objects\n",
    "        - Objects that are more similar (shorter distances) are closer together than objects that are less similar (longer distances)\n",
    "- Sorting and Grouping\n",
    "    - Cluster analysis\n",
    "        - Concerned with the identification of groups of similar objects"
   ]
  },
  {
   "cell_type": "markdown",
   "metadata": {},
   "source": [
    "## Matrix Algebra Notation\n",
    "- Purpose\n",
    "    - MVA is based on matrix algebra\n",
    "\n",
    "    "
   ]
  },
  {
   "cell_type": "code",
   "execution_count": null,
   "metadata": {},
   "outputs": [],
   "source": []
  },
  {
   "cell_type": "code",
   "execution_count": 2,
   "metadata": {},
   "outputs": [
    {
     "name": "stderr",
     "output_type": "stream",
     "text": [
      "Warning message:\n",
      "“package ‘amsmath’ is not available (for R version 4.0.0)”\n"
     ]
    }
   ],
   "source": [
    "install.packages(\"amsmath\")"
   ]
  },
  {
   "cell_type": "code",
   "execution_count": null,
   "metadata": {},
   "outputs": [],
   "source": []
  }
 ],
 "metadata": {
  "kernelspec": {
   "display_name": "R",
   "language": "R",
   "name": "ir"
  },
  "language_info": {
   "codemirror_mode": "r",
   "file_extension": ".r",
   "mimetype": "text/x-r-source",
   "name": "R",
   "pygments_lexer": "r",
   "version": "4.0.0"
  },
  "toc": {
   "base_numbering": 1,
   "nav_menu": {},
   "number_sections": true,
   "sideBar": true,
   "skip_h1_title": true,
   "title_cell": "Table of Contents",
   "title_sidebar": "Contents",
   "toc_cell": true,
   "toc_position": {},
   "toc_section_display": true,
   "toc_window_display": false
  }
 },
 "nbformat": 4,
 "nbformat_minor": 4
}
