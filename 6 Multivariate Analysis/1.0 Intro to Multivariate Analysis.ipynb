{
 "cells": [
  {
   "cell_type": "markdown",
   "metadata": {
    "toc": true
   },
   "source": [
    "<h1>Table of Contents<span class=\"tocSkip\"></span></h1>\n",
    "<div class=\"toc\"><ul class=\"toc-item\"><li><span><a href=\"#Basics\" data-toc-modified-id=\"Basics-1\"><span class=\"toc-item-num\">1&nbsp;&nbsp;</span>Basics</a></span><ul class=\"toc-item\"><li><span><a href=\"#Objectives\" data-toc-modified-id=\"Objectives-1.1\"><span class=\"toc-item-num\">1.1&nbsp;&nbsp;</span>Objectives</a></span></li></ul></li><li><span><a href=\"#Matrix-Algebra-Notation\" data-toc-modified-id=\"Matrix-Algebra-Notation-2\"><span class=\"toc-item-num\">2&nbsp;&nbsp;</span>Matrix Algebra Notation</a></span><ul class=\"toc-item\"><li><span><a href=\"#Creating-a-Matrix\" data-toc-modified-id=\"Creating-a-Matrix-2.1\"><span class=\"toc-item-num\">2.1&nbsp;&nbsp;</span>Creating a Matrix</a></span></li><li><span><a href=\"#Matrix-Dimensions\" data-toc-modified-id=\"Matrix-Dimensions-2.2\"><span class=\"toc-item-num\">2.2&nbsp;&nbsp;</span>Matrix Dimensions</a></span><ul class=\"toc-item\"><li><span><a href=\"#Querying-Dimensions\" data-toc-modified-id=\"Querying-Dimensions-2.2.1\"><span class=\"toc-item-num\">2.2.1&nbsp;&nbsp;</span>Querying Dimensions</a></span></li><li><span><a href=\"#Vectors\" data-toc-modified-id=\"Vectors-2.2.2\"><span class=\"toc-item-num\">2.2.2&nbsp;&nbsp;</span>Vectors</a></span></li><li><span><a href=\"#Tranpose\" data-toc-modified-id=\"Tranpose-2.2.3\"><span class=\"toc-item-num\">2.2.3&nbsp;&nbsp;</span>Tranpose</a></span></li></ul></li><li><span><a href=\"#Matrix-Arithmetic\" data-toc-modified-id=\"Matrix-Arithmetic-2.3\"><span class=\"toc-item-num\">2.3&nbsp;&nbsp;</span>Matrix Arithmetic</a></span><ul class=\"toc-item\"><li><span><a href=\"#Matrix-Multiplication\" data-toc-modified-id=\"Matrix-Multiplication-2.3.1\"><span class=\"toc-item-num\">2.3.1&nbsp;&nbsp;</span>Matrix Multiplication</a></span></li><li><span><a href=\"#Elementwise-Multiplication\" data-toc-modified-id=\"Elementwise-Multiplication-2.3.2\"><span class=\"toc-item-num\">2.3.2&nbsp;&nbsp;</span>Elementwise Multiplication</a></span></li><li><span><a href=\"#Determinant\" data-toc-modified-id=\"Determinant-2.3.3\"><span class=\"toc-item-num\">2.3.3&nbsp;&nbsp;</span>Determinant</a></span></li><li><span><a href=\"#Trace-of-Matrix\" data-toc-modified-id=\"Trace-of-Matrix-2.3.4\"><span class=\"toc-item-num\">2.3.4&nbsp;&nbsp;</span>Trace of Matrix</a></span></li><li><span><a href=\"#Inverse-of-Matrix\" data-toc-modified-id=\"Inverse-of-Matrix-2.3.5\"><span class=\"toc-item-num\">2.3.5&nbsp;&nbsp;</span>Inverse of Matrix</a></span></li></ul></li></ul></li><li><span><a href=\"#Covariance,-Correlation,-and-Distances\" data-toc-modified-id=\"Covariance,-Correlation,-and-Distances-3\"><span class=\"toc-item-num\">3&nbsp;&nbsp;</span>Covariance, Correlation, and Distances</a></span><ul class=\"toc-item\"><li><span><a href=\"#Covariance\" data-toc-modified-id=\"Covariance-3.1\"><span class=\"toc-item-num\">3.1&nbsp;&nbsp;</span>Covariance</a></span><ul class=\"toc-item\"><li><span><a href=\"#Just-Variance\" data-toc-modified-id=\"Just-Variance-3.1.1\"><span class=\"toc-item-num\">3.1.1&nbsp;&nbsp;</span>Just Variance</a></span></li><li><span><a href=\"#Non-Directionality\" data-toc-modified-id=\"Non-Directionality-3.1.2\"><span class=\"toc-item-num\">3.1.2&nbsp;&nbsp;</span>Non-Directionality</a></span></li><li><span><a href=\"#Covariance-Between-Multiple-Variables\" data-toc-modified-id=\"Covariance-Between-Multiple-Variables-3.1.3\"><span class=\"toc-item-num\">3.1.3&nbsp;&nbsp;</span>Covariance Between Multiple Variables</a></span></li></ul></li><li><span><a href=\"#Correlation\" data-toc-modified-id=\"Correlation-3.2\"><span class=\"toc-item-num\">3.2&nbsp;&nbsp;</span>Correlation</a></span><ul class=\"toc-item\"><li><span><a href=\"#Convert-Covariance-Matrix-to-Correlation-Matrix\" data-toc-modified-id=\"Convert-Covariance-Matrix-to-Correlation-Matrix-3.2.1\"><span class=\"toc-item-num\">3.2.1&nbsp;&nbsp;</span>Convert Covariance Matrix to Correlation Matrix</a></span></li></ul></li><li><span><a href=\"#Distances\" data-toc-modified-id=\"Distances-3.3\"><span class=\"toc-item-num\">3.3&nbsp;&nbsp;</span>Distances</a></span></li></ul></li></ul></div>"
   ]
  },
  {
   "cell_type": "markdown",
   "metadata": {},
   "source": [
    "# 1.0 Intro to Multivariate Analysis"
   ]
  },
  {
   "cell_type": "markdown",
   "metadata": {},
   "source": [
    "## Basics\n",
    "- Multivariate analysis:\n",
    "\t- Analysis with multiple variables 🤯\n",
    "\t- Includes methods both for describing and exploring multivariate data and exploring the data or making formal inferences about them\n",
    "- The main goal is exploring data\n",
    "- Terminology\n",
    "\t- Rows: observations\n",
    "\t- Columns: variables"
   ]
  },
  {
   "cell_type": "markdown",
   "metadata": {},
   "source": [
    "### Objectives\n",
    "- Data dimension reduction and simplification\n",
    "\t- Like Principal Components Analysis (PCA)\n",
    "\t\t- Reduces the number of variables that need to be considered to the *principal components*\n",
    "\t\t- Principal components\n",
    "\t\t\t- Linear combinations of the original variables\n",
    "- Multivariate visualizations\n",
    "    - Multidimensional Scaling\n",
    "        - Visual representation of distances or dissimilarities between sets of objects\n",
    "        - Objects that are more similar (shorter distances) are closer together than objects that are less similar (longer distances)\n",
    "- Sorting and Grouping\n",
    "    - Cluster analysis\n",
    "        - Concerned with the identification of groups of similar objects"
   ]
  },
  {
   "cell_type": "markdown",
   "metadata": {},
   "source": [
    "## Matrix Algebra Notation"
   ]
  },
  {
   "cell_type": "markdown",
   "metadata": {},
   "source": [
    "- Matrix\n",
    "    - An array of numbers with rows and columns considered as a single entity\n",
    "    - m x n matrix = m rows and n columns\n",
    "- Square matrix\n",
    "    - m = n\n",
    "    - Only a single column"
   ]
  },
  {
   "cell_type": "markdown",
   "metadata": {},
   "source": [
    "### Creating a Matrix"
   ]
  },
  {
   "cell_type": "markdown",
   "metadata": {},
   "source": [
    "Create a 2 x 3 matrix in R\n",
    "- Matrix denoted \"A\""
   ]
  },
  {
   "cell_type": "code",
   "execution_count": 3,
   "metadata": {},
   "outputs": [
    {
     "data": {
      "text/html": [
       "<table>\n",
       "<caption>A matrix: 2 × 3 of type dbl</caption>\n",
       "<tbody>\n",
       "\t<tr><td> 2</td><td>3</td><td>1</td></tr>\n",
       "\t<tr><td>-1</td><td>0</td><td>4</td></tr>\n",
       "</tbody>\n",
       "</table>\n"
      ],
      "text/latex": [
       "A matrix: 2 × 3 of type dbl\n",
       "\\begin{tabular}{lll}\n",
       "\t  2 & 3 & 1\\\\\n",
       "\t -1 & 0 & 4\\\\\n",
       "\\end{tabular}\n"
      ],
      "text/markdown": [
       "\n",
       "A matrix: 2 × 3 of type dbl\n",
       "\n",
       "|  2 | 3 | 1 |\n",
       "| -1 | 0 | 4 |\n",
       "\n"
      ],
      "text/plain": [
       "     [,1] [,2] [,3]\n",
       "[1,]  2   3    1   \n",
       "[2,] -1   0    4   "
      ]
     },
     "metadata": {},
     "output_type": "display_data"
    }
   ],
   "source": [
    "A <- matrix(c(2, -1, 3, 0, 1, 4), ncol=3)\n",
    "A"
   ]
  },
  {
   "cell_type": "markdown",
   "metadata": {},
   "source": [
    "Matrix can also be defined row by row\n",
    "- Notice change in number order in parameter"
   ]
  },
  {
   "cell_type": "code",
   "execution_count": 4,
   "metadata": {},
   "outputs": [
    {
     "data": {
      "text/html": [
       "<table>\n",
       "<caption>A matrix: 2 × 3 of type dbl</caption>\n",
       "<tbody>\n",
       "\t<tr><td> 2</td><td>3</td><td>1</td></tr>\n",
       "\t<tr><td>-1</td><td>0</td><td>4</td></tr>\n",
       "</tbody>\n",
       "</table>\n"
      ],
      "text/latex": [
       "A matrix: 2 × 3 of type dbl\n",
       "\\begin{tabular}{lll}\n",
       "\t  2 & 3 & 1\\\\\n",
       "\t -1 & 0 & 4\\\\\n",
       "\\end{tabular}\n"
      ],
      "text/markdown": [
       "\n",
       "A matrix: 2 × 3 of type dbl\n",
       "\n",
       "|  2 | 3 | 1 |\n",
       "| -1 | 0 | 4 |\n",
       "\n"
      ],
      "text/plain": [
       "     [,1] [,2] [,3]\n",
       "[1,]  2   3    1   \n",
       "[2,] -1   0    4   "
      ]
     },
     "metadata": {},
     "output_type": "display_data"
    }
   ],
   "source": [
    "A <- matrix(c(2, 3, 1, -1, 0, 4), ncol=3, byrow = T)\n",
    "A"
   ]
  },
  {
   "cell_type": "markdown",
   "metadata": {},
   "source": [
    "### Matrix Dimensions"
   ]
  },
  {
   "cell_type": "markdown",
   "metadata": {},
   "source": [
    "#### Querying Dimensions"
   ]
  },
  {
   "cell_type": "markdown",
   "metadata": {},
   "source": [
    "- Function `dim()` \n",
    "    - 2-dimension vector carrying the number of rows and columns\n",
    "    - Here we see we have 2 rows and 3 columns"
   ]
  },
  {
   "cell_type": "code",
   "execution_count": 5,
   "metadata": {},
   "outputs": [
    {
     "data": {
      "text/html": [
       "<style>\n",
       ".list-inline {list-style: none; margin:0; padding: 0}\n",
       ".list-inline>li {display: inline-block}\n",
       ".list-inline>li:not(:last-child)::after {content: \"\\00b7\"; padding: 0 .5ex}\n",
       "</style>\n",
       "<ol class=list-inline><li>2</li><li>3</li></ol>\n"
      ],
      "text/latex": [
       "\\begin{enumerate*}\n",
       "\\item 2\n",
       "\\item 3\n",
       "\\end{enumerate*}\n"
      ],
      "text/markdown": [
       "1. 2\n",
       "2. 3\n",
       "\n",
       "\n"
      ],
      "text/plain": [
       "[1] 2 3"
      ]
     },
     "metadata": {},
     "output_type": "display_data"
    }
   ],
   "source": [
    "dim(A)"
   ]
  },
  {
   "cell_type": "markdown",
   "metadata": {},
   "source": [
    "The number of rows and columns can be individually invoked\n",
    "- Rows: `nrow`\n",
    "- Columns: `ncol`"
   ]
  },
  {
   "cell_type": "code",
   "execution_count": 6,
   "metadata": {},
   "outputs": [
    {
     "data": {
      "text/html": [
       "3"
      ],
      "text/latex": [
       "3"
      ],
      "text/markdown": [
       "3"
      ],
      "text/plain": [
       "[1] 3"
      ]
     },
     "metadata": {},
     "output_type": "display_data"
    }
   ],
   "source": [
    "ncol(A)"
   ]
  },
  {
   "cell_type": "code",
   "execution_count": 7,
   "metadata": {},
   "outputs": [
    {
     "data": {
      "text/html": [
       "2"
      ],
      "text/latex": [
       "2"
      ],
      "text/markdown": [
       "2"
      ],
      "text/plain": [
       "[1] 2"
      ]
     },
     "metadata": {},
     "output_type": "display_data"
    }
   ],
   "source": [
    "nrow(A)"
   ]
  },
  {
   "cell_type": "markdown",
   "metadata": {},
   "source": [
    "#### Vectors"
   ]
  },
  {
   "cell_type": "markdown",
   "metadata": {},
   "source": [
    "By setting `ncol = 1` we create a column vector"
   ]
  },
  {
   "cell_type": "code",
   "execution_count": 8,
   "metadata": {},
   "outputs": [
    {
     "data": {
      "text/html": [
       "<table>\n",
       "<caption>A matrix: 3 × 1 of type dbl</caption>\n",
       "<tbody>\n",
       "\t<tr><td>-1</td></tr>\n",
       "\t<tr><td> 1</td></tr>\n",
       "\t<tr><td> 0</td></tr>\n",
       "</tbody>\n",
       "</table>\n"
      ],
      "text/latex": [
       "A matrix: 3 × 1 of type dbl\n",
       "\\begin{tabular}{l}\n",
       "\t -1\\\\\n",
       "\t  1\\\\\n",
       "\t  0\\\\\n",
       "\\end{tabular}\n"
      ],
      "text/markdown": [
       "\n",
       "A matrix: 3 × 1 of type dbl\n",
       "\n",
       "| -1 |\n",
       "|  1 |\n",
       "|  0 |\n",
       "\n"
      ],
      "text/plain": [
       "     [,1]\n",
       "[1,] -1  \n",
       "[2,]  1  \n",
       "[3,]  0  "
      ]
     },
     "metadata": {},
     "output_type": "display_data"
    }
   ],
   "source": [
    "V = matrix(c(-1,1,0), ncol=1)\n",
    "V"
   ]
  },
  {
   "cell_type": "markdown",
   "metadata": {},
   "source": [
    "The same with rows and `nrow=1`"
   ]
  },
  {
   "cell_type": "code",
   "execution_count": 9,
   "metadata": {},
   "outputs": [
    {
     "data": {
      "text/html": [
       "<table>\n",
       "<caption>A matrix: 1 × 3 of type dbl</caption>\n",
       "<tbody>\n",
       "\t<tr><td>-1</td><td>1</td><td>0</td></tr>\n",
       "</tbody>\n",
       "</table>\n"
      ],
      "text/latex": [
       "A matrix: 1 × 3 of type dbl\n",
       "\\begin{tabular}{lll}\n",
       "\t -1 & 1 & 0\\\\\n",
       "\\end{tabular}\n"
      ],
      "text/markdown": [
       "\n",
       "A matrix: 1 × 3 of type dbl\n",
       "\n",
       "| -1 | 1 | 0 |\n",
       "\n"
      ],
      "text/plain": [
       "     [,1] [,2] [,3]\n",
       "[1,] -1   1    0   "
      ]
     },
     "metadata": {},
     "output_type": "display_data"
    }
   ],
   "source": [
    "rV = matrix(c(-1,1,0), nrow=1)\n",
    "rV"
   ]
  },
  {
   "cell_type": "markdown",
   "metadata": {},
   "source": [
    "#### Tranpose\n",
    "- The transpose of a matrix is the interchanging of its rows and columns\n",
    "- In R we can perform a transposition with `t()`"
   ]
  },
  {
   "cell_type": "code",
   "execution_count": 10,
   "metadata": {},
   "outputs": [
    {
     "data": {
      "text/html": [
       "<table>\n",
       "<caption>A matrix: 3 × 2 of type dbl</caption>\n",
       "<tbody>\n",
       "\t<tr><td>2</td><td>-1</td></tr>\n",
       "\t<tr><td>3</td><td> 0</td></tr>\n",
       "\t<tr><td>1</td><td> 4</td></tr>\n",
       "</tbody>\n",
       "</table>\n"
      ],
      "text/latex": [
       "A matrix: 3 × 2 of type dbl\n",
       "\\begin{tabular}{ll}\n",
       "\t 2 & -1\\\\\n",
       "\t 3 &  0\\\\\n",
       "\t 1 &  4\\\\\n",
       "\\end{tabular}\n"
      ],
      "text/markdown": [
       "\n",
       "A matrix: 3 × 2 of type dbl\n",
       "\n",
       "| 2 | -1 |\n",
       "| 3 |  0 |\n",
       "| 1 |  4 |\n",
       "\n"
      ],
      "text/plain": [
       "     [,1] [,2]\n",
       "[1,] 2    -1  \n",
       "[2,] 3     0  \n",
       "[3,] 1     4  "
      ]
     },
     "metadata": {},
     "output_type": "display_data"
    }
   ],
   "source": [
    "t(A)"
   ]
  },
  {
   "cell_type": "markdown",
   "metadata": {},
   "source": [
    "### Matrix Arithmetic"
   ]
  },
  {
   "cell_type": "markdown",
   "metadata": {},
   "source": [
    "#### Matrix Multiplication\n",
    "- We can perform a multiplaction ncol of A equals nrow of V\n",
    "- Operator: `%*%`\n",
    "\n",
    "Example:\n",
    "- A is an i x j matrix (above)\n",
    "- V is a j x k matrix (also above)\n",
    "- $A_{i * j} * V_{j * k} = AV_{i * k}$\n",
    "- The matrix product AV results in a matrix with i rows and k columns\n",
    "- Multiply each row item of A by each column in V, sum those products in a row\n",
    "    - This leaves you with a 2x1 matrix\n",
    "    - First row: 2(-1) + 3(1) + 1(0) = 1\n",
    "    - Second row: -1(-1) + 0(1) + 4(0) = 1"
   ]
  },
  {
   "cell_type": "markdown",
   "metadata": {},
   "source": [
    "**Extra explanation provided by my professor (Dr. Alireza Sheikh-Zadeh):**\n",
    "\n",
    ">The whole point of matrix multiplication is to construct measure linear (equation) summations. For example,\n",
    "\n",
    ">y = 2x_1 + 3x_2 + x_3\n",
    "\n",
    ">Suppose x_1, x_2, and x_3 can be 10, 10, 15, respectively. If I want to measure y I can use matrix multiplication.\n",
    "\n",
    ">If I say coefficients is a matrix A = [2, 3, 1], A is a 1x3 matrix. And X = transpose[10, 10, 15] is a 3x1 matrix. For finding y I need to do matrix multiplication of A%*%X, which will be a 1x1 matrix (or a scaler).\n",
    "\n",
    ">Now, think that your X matrix is 3x2, or in other word x_1, x_2, and x_3, each can have two values, then Y also should be two values, a matrix of 1x2. This only happens if you do matrix multiplication.\n",
    "\n"
   ]
  },
  {
   "cell_type": "code",
   "execution_count": 21,
   "metadata": {},
   "outputs": [
    {
     "data": {
      "text/html": [
       "<table>\n",
       "<caption>A matrix: 2 × 1 of type dbl</caption>\n",
       "<tbody>\n",
       "\t<tr><td>1</td></tr>\n",
       "\t<tr><td>1</td></tr>\n",
       "</tbody>\n",
       "</table>\n"
      ],
      "text/latex": [
       "A matrix: 2 × 1 of type dbl\n",
       "\\begin{tabular}{l}\n",
       "\t 1\\\\\n",
       "\t 1\\\\\n",
       "\\end{tabular}\n"
      ],
      "text/markdown": [
       "\n",
       "A matrix: 2 × 1 of type dbl\n",
       "\n",
       "| 1 |\n",
       "| 1 |\n",
       "\n"
      ],
      "text/plain": [
       "     [,1]\n",
       "[1,] 1   \n",
       "[2,] 1   "
      ]
     },
     "metadata": {},
     "output_type": "display_data"
    }
   ],
   "source": [
    "Result1 = A %*% V\n",
    "Result1"
   ]
  },
  {
   "cell_type": "markdown",
   "metadata": {},
   "source": [
    "#### Elementwise Multiplication\n",
    "- Element by element\n",
    "- Operator: `*`\n",
    "- Both matrices must have the same dimensions\n",
    "    - nrow=nrow and ncol=ncol"
   ]
  },
  {
   "cell_type": "code",
   "execution_count": 14,
   "metadata": {},
   "outputs": [
    {
     "data": {
      "text/html": [
       "<table>\n",
       "<caption>A matrix: 2 × 3 of type dbl</caption>\n",
       "<tbody>\n",
       "\t<tr><td> 1</td><td> 1</td><td> 1</td></tr>\n",
       "\t<tr><td>-1</td><td>-1</td><td>-2</td></tr>\n",
       "</tbody>\n",
       "</table>\n"
      ],
      "text/latex": [
       "A matrix: 2 × 3 of type dbl\n",
       "\\begin{tabular}{lll}\n",
       "\t  1 &  1 &  1\\\\\n",
       "\t -1 & -1 & -2\\\\\n",
       "\\end{tabular}\n"
      ],
      "text/markdown": [
       "\n",
       "A matrix: 2 × 3 of type dbl\n",
       "\n",
       "|  1 |  1 |  1 |\n",
       "| -1 | -1 | -2 |\n",
       "\n"
      ],
      "text/plain": [
       "     [,1] [,2] [,3]\n",
       "[1,]  1    1    1  \n",
       "[2,] -1   -1   -2  "
      ]
     },
     "metadata": {},
     "output_type": "display_data"
    }
   ],
   "source": [
    "# Create a new matrix to practice elementwise multiplication\n",
    "B <- matrix(c(1, -1, 1, -1, 1, -2), ncol=3)\n",
    "B"
   ]
  },
  {
   "cell_type": "code",
   "execution_count": 15,
   "metadata": {},
   "outputs": [
    {
     "data": {
      "text/html": [
       "<table>\n",
       "<caption>A matrix: 2 × 3 of type dbl</caption>\n",
       "<tbody>\n",
       "\t<tr><td>2</td><td>3</td><td> 1</td></tr>\n",
       "\t<tr><td>1</td><td>0</td><td>-8</td></tr>\n",
       "</tbody>\n",
       "</table>\n"
      ],
      "text/latex": [
       "A matrix: 2 × 3 of type dbl\n",
       "\\begin{tabular}{lll}\n",
       "\t 2 & 3 &  1\\\\\n",
       "\t 1 & 0 & -8\\\\\n",
       "\\end{tabular}\n"
      ],
      "text/markdown": [
       "\n",
       "A matrix: 2 × 3 of type dbl\n",
       "\n",
       "| 2 | 3 |  1 |\n",
       "| 1 | 0 | -8 |\n",
       "\n"
      ],
      "text/plain": [
       "     [,1] [,2] [,3]\n",
       "[1,] 2    3     1  \n",
       "[2,] 1    0    -8  "
      ]
     },
     "metadata": {},
     "output_type": "display_data"
    }
   ],
   "source": [
    "# Do the multiplication\n",
    "Result2 = A * B\n",
    "Result2"
   ]
  },
  {
   "cell_type": "markdown",
   "metadata": {},
   "source": [
    "#### Determinant\n",
    "- A unique number associated with a sqaure matrix\n",
    "    - Remember square matrix is ncol=nrow\n",
    "- Found with `det()`\n",
    "- If determinant is 0, we cannot find the inverse\n",
    "- We don't know what it means yet, but it's provocative (complicated)"
   ]
  },
  {
   "cell_type": "code",
   "execution_count": 16,
   "metadata": {},
   "outputs": [
    {
     "data": {
      "text/html": [
       "<table>\n",
       "<caption>A matrix: 2 × 2 of type dbl</caption>\n",
       "<tbody>\n",
       "\t<tr><td>1</td><td>2</td></tr>\n",
       "\t<tr><td>3</td><td>4</td></tr>\n",
       "</tbody>\n",
       "</table>\n"
      ],
      "text/latex": [
       "A matrix: 2 × 2 of type dbl\n",
       "\\begin{tabular}{ll}\n",
       "\t 1 & 2\\\\\n",
       "\t 3 & 4\\\\\n",
       "\\end{tabular}\n"
      ],
      "text/markdown": [
       "\n",
       "A matrix: 2 × 2 of type dbl\n",
       "\n",
       "| 1 | 2 |\n",
       "| 3 | 4 |\n",
       "\n"
      ],
      "text/plain": [
       "     [,1] [,2]\n",
       "[1,] 1    2   \n",
       "[2,] 3    4   "
      ]
     },
     "metadata": {},
     "output_type": "display_data"
    }
   ],
   "source": [
    "# Create matrix C\n",
    "C <- matrix(c(1, 2, 3, 4), ncol=2, byrow = T)\n",
    "C"
   ]
  },
  {
   "cell_type": "code",
   "execution_count": 17,
   "metadata": {},
   "outputs": [
    {
     "data": {
      "text/html": [
       "-2"
      ],
      "text/latex": [
       "-2"
      ],
      "text/markdown": [
       "-2"
      ],
      "text/plain": [
       "[1] -2"
      ]
     },
     "metadata": {},
     "output_type": "display_data"
    }
   ],
   "source": [
    "# Establish and print determinant \n",
    "detC = det(C)\n",
    "detC"
   ]
  },
  {
   "cell_type": "markdown",
   "metadata": {},
   "source": [
    "#### Trace of Matrix\n",
    "- A trace is the sum of the matrix's diagonal terms\n",
    "- Only defined for a square matrix\n",
    "- Found with `sum()`"
   ]
  },
  {
   "cell_type": "code",
   "execution_count": 18,
   "metadata": {},
   "outputs": [
    {
     "data": {
      "text/html": [
       "5"
      ],
      "text/latex": [
       "5"
      ],
      "text/markdown": [
       "5"
      ],
      "text/plain": [
       "[1] 5"
      ]
     },
     "metadata": {},
     "output_type": "display_data"
    }
   ],
   "source": [
    "sum(diag(C))"
   ]
  },
  {
   "cell_type": "markdown",
   "metadata": {},
   "source": [
    "#### Inverse of Matrix\n",
    "- The mathematical inverse of the matrix \n",
    "- Take our matrix C\n",
    "    - Inverse is $C^{-1}$\n",
    "    - $C * C^{-1} = I$\n",
    "    - I is the identity of the matrix\n",
    "- Use `solve()` to find inverse"
   ]
  },
  {
   "cell_type": "code",
   "execution_count": 19,
   "metadata": {},
   "outputs": [
    {
     "data": {
      "text/html": [
       "<table>\n",
       "<caption>A matrix: 2 × 2 of type dbl</caption>\n",
       "<tbody>\n",
       "\t<tr><td>-2.0</td><td> 1.0</td></tr>\n",
       "\t<tr><td> 1.5</td><td>-0.5</td></tr>\n",
       "</tbody>\n",
       "</table>\n"
      ],
      "text/latex": [
       "A matrix: 2 × 2 of type dbl\n",
       "\\begin{tabular}{ll}\n",
       "\t -2.0 &  1.0\\\\\n",
       "\t  1.5 & -0.5\\\\\n",
       "\\end{tabular}\n"
      ],
      "text/markdown": [
       "\n",
       "A matrix: 2 × 2 of type dbl\n",
       "\n",
       "| -2.0 |  1.0 |\n",
       "|  1.5 | -0.5 |\n",
       "\n"
      ],
      "text/plain": [
       "     [,1] [,2]\n",
       "[1,] -2.0  1.0\n",
       "[2,]  1.5 -0.5"
      ]
     },
     "metadata": {},
     "output_type": "display_data"
    }
   ],
   "source": [
    "Cinv = solve(C)\n",
    "Cinv"
   ]
  },
  {
   "cell_type": "code",
   "execution_count": 22,
   "metadata": {},
   "outputs": [
    {
     "data": {
      "text/html": [
       "<table>\n",
       "<caption>A matrix: 2 × 2 of type dbl</caption>\n",
       "<tbody>\n",
       "\t<tr><td>1</td><td>0</td></tr>\n",
       "\t<tr><td>0</td><td>1</td></tr>\n",
       "</tbody>\n",
       "</table>\n"
      ],
      "text/latex": [
       "A matrix: 2 × 2 of type dbl\n",
       "\\begin{tabular}{ll}\n",
       "\t 1 & 0\\\\\n",
       "\t 0 & 1\\\\\n",
       "\\end{tabular}\n"
      ],
      "text/markdown": [
       "\n",
       "A matrix: 2 × 2 of type dbl\n",
       "\n",
       "| 1 | 0 |\n",
       "| 0 | 1 |\n",
       "\n"
      ],
      "text/plain": [
       "     [,1] [,2]\n",
       "[1,] 1    0   \n",
       "[2,] 0    1   "
      ]
     },
     "metadata": {},
     "output_type": "display_data"
    }
   ],
   "source": [
    "# Confirm the inverse\n",
    "\n",
    "# Round to 10 decimals because of weird binary computer math\n",
    "round(C %*% Cinv, 10)"
   ]
  },
  {
   "cell_type": "markdown",
   "metadata": {},
   "source": [
    "## Covariance, Correlation, and Distances\n",
    "- Patterns in data can be implied by relationships between the columns (variables) or the relativeness \"closeness\" of the rows\n",
    "- Multivariate analysis allows us to examine these as well as the different variable values given to us by univariate methods"
   ]
  },
  {
   "cell_type": "markdown",
   "metadata": {},
   "source": [
    "### Covariance\n",
    "- The covariance of two random variables is a measure of their linear dependence \n",
    "- The population covariance of two random variables $X_i$ and $X_j$ is a measure of the expected joint variability of the two random variables\n",
    "    \n",
    "    This joint variability is defined by:\n",
    "    \n",
    "    $Cov(X_i,X_j) = σ_{ij} = E((X_i - μ_o)(X_j - μ_j))$\n",
    "    \n",
    "    Where $μ_i = E(X_i)$ and $μ_j = E(X_j)$\n",
    "- Use `cov()` to find covariance"
   ]
  },
  {
   "cell_type": "code",
   "execution_count": 23,
   "metadata": {},
   "outputs": [
    {
     "data": {
      "text/html": [
       "<table>\n",
       "<caption>A data.frame: 6 × 4</caption>\n",
       "<thead>\n",
       "\t<tr><th></th><th scope=col>Chest</th><th scope=col>Waist</th><th scope=col>Hips</th><th scope=col>Gender</th></tr>\n",
       "\t<tr><th></th><th scope=col>&lt;int&gt;</th><th scope=col>&lt;int&gt;</th><th scope=col>&lt;int&gt;</th><th scope=col>&lt;int&gt;</th></tr>\n",
       "</thead>\n",
       "<tbody>\n",
       "\t<tr><th scope=row>1</th><td>34</td><td>30</td><td>32</td><td>1</td></tr>\n",
       "\t<tr><th scope=row>2</th><td>37</td><td>32</td><td>37</td><td>1</td></tr>\n",
       "\t<tr><th scope=row>3</th><td>38</td><td>30</td><td>36</td><td>1</td></tr>\n",
       "\t<tr><th scope=row>4</th><td>36</td><td>33</td><td>39</td><td>1</td></tr>\n",
       "\t<tr><th scope=row>5</th><td>38</td><td>29</td><td>33</td><td>1</td></tr>\n",
       "\t<tr><th scope=row>6</th><td>43</td><td>32</td><td>38</td><td>1</td></tr>\n",
       "</tbody>\n",
       "</table>\n"
      ],
      "text/latex": [
       "A data.frame: 6 × 4\n",
       "\\begin{tabular}{r|llll}\n",
       "  & Chest & Waist & Hips & Gender\\\\\n",
       "  & <int> & <int> & <int> & <int>\\\\\n",
       "\\hline\n",
       "\t1 & 34 & 30 & 32 & 1\\\\\n",
       "\t2 & 37 & 32 & 37 & 1\\\\\n",
       "\t3 & 38 & 30 & 36 & 1\\\\\n",
       "\t4 & 36 & 33 & 39 & 1\\\\\n",
       "\t5 & 38 & 29 & 33 & 1\\\\\n",
       "\t6 & 43 & 32 & 38 & 1\\\\\n",
       "\\end{tabular}\n"
      ],
      "text/markdown": [
       "\n",
       "A data.frame: 6 × 4\n",
       "\n",
       "| <!--/--> | Chest &lt;int&gt; | Waist &lt;int&gt; | Hips &lt;int&gt; | Gender &lt;int&gt; |\n",
       "|---|---|---|---|---|\n",
       "| 1 | 34 | 30 | 32 | 1 |\n",
       "| 2 | 37 | 32 | 37 | 1 |\n",
       "| 3 | 38 | 30 | 36 | 1 |\n",
       "| 4 | 36 | 33 | 39 | 1 |\n",
       "| 5 | 38 | 29 | 33 | 1 |\n",
       "| 6 | 43 | 32 | 38 | 1 |\n",
       "\n"
      ],
      "text/plain": [
       "  Chest Waist Hips Gender\n",
       "1 34    30    32   1     \n",
       "2 37    32    37   1     \n",
       "3 38    30    36   1     \n",
       "4 36    33    39   1     \n",
       "5 38    29    33   1     \n",
       "6 43    32    38   1     "
      ]
     },
     "metadata": {},
     "output_type": "display_data"
    }
   ],
   "source": [
    "# Read in example data\n",
    "measure <-read.csv(\"https://rb.gy/h2nkrx\")\n",
    "head(measure)"
   ]
  },
  {
   "cell_type": "code",
   "execution_count": 28,
   "metadata": {},
   "outputs": [],
   "source": [
    "# Control number of digits/decimals\n",
    "# Apparently doesn't work in notebooks\n",
    "options(digits = 3)"
   ]
  },
  {
   "cell_type": "code",
   "execution_count": 29,
   "metadata": {},
   "outputs": [
    {
     "data": {
      "text/html": [
       "6.36842105263158"
      ],
      "text/latex": [
       "6.36842105263158"
      ],
      "text/markdown": [
       "6.36842105263158"
      ],
      "text/plain": [
       "[1] 6.37"
      ]
     },
     "metadata": {},
     "output_type": "display_data"
    }
   ],
   "source": [
    "# Find covariance of chest and waist measurements\n",
    "cov(measure$Chest, measure$Waist)"
   ]
  },
  {
   "cell_type": "markdown",
   "metadata": {},
   "source": [
    "#### Just Variance\n",
    "If i - j then the covariance of the variable with itself is just the variance\n",
    "- There is therefore no need to define variances and covariances independently "
   ]
  },
  {
   "cell_type": "code",
   "execution_count": 30,
   "metadata": {},
   "outputs": [
    {
     "data": {
      "text/html": [
       "6.63157894736842"
      ],
      "text/latex": [
       "6.63157894736842"
      ],
      "text/markdown": [
       "6.63157894736842"
      ],
      "text/plain": [
       "[1] 6.63"
      ]
     },
     "metadata": {},
     "output_type": "display_data"
    }
   ],
   "source": [
    "cov(measure$Chest, measure$Chest)"
   ]
  },
  {
   "cell_type": "code",
   "execution_count": 31,
   "metadata": {},
   "outputs": [
    {
     "data": {
      "text/html": [
       "6.63157894736842"
      ],
      "text/latex": [
       "6.63157894736842"
      ],
      "text/markdown": [
       "6.63157894736842"
      ],
      "text/plain": [
       "[1] 6.63"
      ]
     },
     "metadata": {},
     "output_type": "display_data"
    }
   ],
   "source": [
    "var(measure$Chest)"
   ]
  },
  {
   "cell_type": "markdown",
   "metadata": {},
   "source": [
    "#### Non-Directionality\n",
    "If $X_i$ and $X_j$ are independent, then covariance is necessarily zero\n",
    "- Larger values of covariance imply a greater degree of linear dependence\n",
    "- Covariance is non-directional \n",
    "    - $Cov(X_i, X_j) = Cov(X_j, X_i)$"
   ]
  },
  {
   "cell_type": "code",
   "execution_count": 32,
   "metadata": {},
   "outputs": [
    {
     "data": {
      "text/html": [
       "6.36842105263158"
      ],
      "text/latex": [
       "6.36842105263158"
      ],
      "text/markdown": [
       "6.36842105263158"
      ],
      "text/plain": [
       "[1] 6.37"
      ]
     },
     "metadata": {},
     "output_type": "display_data"
    }
   ],
   "source": [
    "cov(measure$Chest, measure$Waist)"
   ]
  },
  {
   "cell_type": "code",
   "execution_count": 33,
   "metadata": {},
   "outputs": [
    {
     "data": {
      "text/html": [
       "6.36842105263158"
      ],
      "text/latex": [
       "6.36842105263158"
      ],
      "text/markdown": [
       "6.36842105263158"
      ],
      "text/plain": [
       "[1] 6.37"
      ]
     },
     "metadata": {},
     "output_type": "display_data"
    }
   ],
   "source": [
    "# Regardless of which variable is first we get the same result\n",
    "cov(measure$Waist, measure$Chest)"
   ]
  },
  {
   "cell_type": "markdown",
   "metadata": {},
   "source": [
    "#### Covariance Between Multiple Variables\n",
    "- We use a symmetric square matrix\n",
    "- The notation for the covariance matrix is Σ"
   ]
  },
  {
   "cell_type": "code",
   "execution_count": 37,
   "metadata": {},
   "outputs": [
    {
     "data": {
      "text/html": [
       "<table>\n",
       "<caption>A matrix: 2 × 2 of type dbl</caption>\n",
       "<thead>\n",
       "\t<tr><th></th><th scope=col>Chest</th><th scope=col>Waist</th></tr>\n",
       "</thead>\n",
       "<tbody>\n",
       "\t<tr><th scope=row>Chest</th><td>6.63</td><td> 6.37</td></tr>\n",
       "\t<tr><th scope=row>Waist</th><td>6.37</td><td>12.53</td></tr>\n",
       "</tbody>\n",
       "</table>\n"
      ],
      "text/latex": [
       "A matrix: 2 × 2 of type dbl\n",
       "\\begin{tabular}{r|ll}\n",
       "  & Chest & Waist\\\\\n",
       "\\hline\n",
       "\tChest & 6.63 &  6.37\\\\\n",
       "\tWaist & 6.37 & 12.53\\\\\n",
       "\\end{tabular}\n"
      ],
      "text/markdown": [
       "\n",
       "A matrix: 2 × 2 of type dbl\n",
       "\n",
       "| <!--/--> | Chest | Waist |\n",
       "|---|---|---|\n",
       "| Chest | 6.63 |  6.37 |\n",
       "| Waist | 6.37 | 12.53 |\n",
       "\n"
      ],
      "text/plain": [
       "      Chest Waist\n",
       "Chest 6.63   6.37\n",
       "Waist 6.37  12.53"
      ]
     },
     "metadata": {},
     "output_type": "display_data"
    }
   ],
   "source": [
    "cov(measure[,1:2])"
   ]
  },
  {
   "cell_type": "markdown",
   "metadata": {},
   "source": [
    "Find the column means with `colMeans`"
   ]
  },
  {
   "cell_type": "code",
   "execution_count": 35,
   "metadata": {},
   "outputs": [
    {
     "data": {
      "text/html": [
       "<style>\n",
       ".dl-inline {width: auto; margin:0; padding: 0}\n",
       ".dl-inline>dt, .dl-inline>dd {float: none; width: auto; display: inline-block}\n",
       ".dl-inline>dt::after {content: \":\\0020\"; padding-right: .5ex}\n",
       ".dl-inline>dt:not(:first-of-type) {padding-left: .5ex}\n",
       "</style><dl class=dl-inline><dt>Chest</dt><dd>37</dd><dt>Waist</dt><dd>28</dd></dl>\n"
      ],
      "text/latex": [
       "\\begin{description*}\n",
       "\\item[Chest] 37\n",
       "\\item[Waist] 28\n",
       "\\end{description*}\n"
      ],
      "text/markdown": [
       "Chest\n",
       ":   37Waist\n",
       ":   28\n",
       "\n"
      ],
      "text/plain": [
       "Chest Waist \n",
       "   37    28 "
      ]
     },
     "metadata": {},
     "output_type": "display_data"
    }
   ],
   "source": [
    "colMeans(measure[,1:2])"
   ]
  },
  {
   "cell_type": "code",
   "execution_count": 36,
   "metadata": {},
   "outputs": [
    {
     "data": {
      "text/html": [
       "<table>\n",
       "<caption>A matrix: 3 × 3 of type dbl</caption>\n",
       "<thead>\n",
       "\t<tr><th></th><th scope=col>Chest</th><th scope=col>Waist</th><th scope=col>Hips</th></tr>\n",
       "</thead>\n",
       "<tbody>\n",
       "\t<tr><th scope=row>Chest</th><td>6.63</td><td> 6.37</td><td>3.00</td></tr>\n",
       "\t<tr><th scope=row>Waist</th><td>6.37</td><td>12.53</td><td>3.58</td></tr>\n",
       "\t<tr><th scope=row>Hips</th><td>3.00</td><td> 3.58</td><td>5.94</td></tr>\n",
       "</tbody>\n",
       "</table>\n"
      ],
      "text/latex": [
       "A matrix: 3 × 3 of type dbl\n",
       "\\begin{tabular}{r|lll}\n",
       "  & Chest & Waist & Hips\\\\\n",
       "\\hline\n",
       "\tChest & 6.63 &  6.37 & 3.00\\\\\n",
       "\tWaist & 6.37 & 12.53 & 3.58\\\\\n",
       "\tHips & 3.00 &  3.58 & 5.94\\\\\n",
       "\\end{tabular}\n"
      ],
      "text/markdown": [
       "\n",
       "A matrix: 3 × 3 of type dbl\n",
       "\n",
       "| <!--/--> | Chest | Waist | Hips |\n",
       "|---|---|---|---|\n",
       "| Chest | 6.63 |  6.37 | 3.00 |\n",
       "| Waist | 6.37 | 12.53 | 3.58 |\n",
       "| Hips | 3.00 |  3.58 | 5.94 |\n",
       "\n"
      ],
      "text/plain": [
       "      Chest Waist Hips\n",
       "Chest 6.63   6.37 3.00\n",
       "Waist 6.37  12.53 3.58\n",
       "Hips  3.00   3.58 5.94"
      ]
     },
     "metadata": {},
     "output_type": "display_data"
    }
   ],
   "source": [
    "cov(measure[,1:3])"
   ]
  },
  {
   "cell_type": "markdown",
   "metadata": {},
   "source": [
    "### Correlation\n",
    "- The covariance can be unintuitive because it is dependent on the scale of the variables used\n",
    "- Correlation 'standardizes' the covariance by dividing it by the product of the variable standard deviations\n",
    "    - Called the correlation coefficient\n",
    "- Use `cor()` to find the correlation\n",
    "\n",
    "$Corr(X_i,X_j) = ρ_{ij} = \\frac{Cov(X_i,X_j)}{σ_iσ_j}$"
   ]
  },
  {
   "cell_type": "code",
   "execution_count": 38,
   "metadata": {},
   "outputs": [
    {
     "data": {
      "text/html": [
       "0.698733586414197"
      ],
      "text/latex": [
       "0.698733586414197"
      ],
      "text/markdown": [
       "0.698733586414197"
      ],
      "text/plain": [
       "[1] 0.699"
      ]
     },
     "metadata": {},
     "output_type": "display_data"
    }
   ],
   "source": [
    "cor(measure$Chest, measure$Waist)"
   ]
  },
  {
   "cell_type": "markdown",
   "metadata": {},
   "source": [
    "Manually calculated from covariance:"
   ]
  },
  {
   "cell_type": "code",
   "execution_count": 39,
   "metadata": {},
   "outputs": [
    {
     "data": {
      "text/html": [
       "0.698733586414197"
      ],
      "text/latex": [
       "0.698733586414197"
      ],
      "text/markdown": [
       "0.698733586414197"
      ],
      "text/plain": [
       "[1] 0.699"
      ]
     },
     "metadata": {},
     "output_type": "display_data"
    }
   ],
   "source": [
    "cov(measure$Chest, measure$Waist)/(sd(measure$Chest)*sd(measure$Waist))"
   ]
  },
  {
   "cell_type": "markdown",
   "metadata": {},
   "source": [
    "Creating square matrix to show multiple correlations\n",
    "- Notation for a covariance matrix is R"
   ]
  },
  {
   "cell_type": "code",
   "execution_count": 40,
   "metadata": {},
   "outputs": [
    {
     "data": {
      "text/html": [
       "<table>\n",
       "<caption>A matrix: 3 × 3 of type dbl</caption>\n",
       "<thead>\n",
       "\t<tr><th></th><th scope=col>Chest</th><th scope=col>Waist</th><th scope=col>Hips</th></tr>\n",
       "</thead>\n",
       "<tbody>\n",
       "\t<tr><th scope=row>Chest</th><td>1.000</td><td>0.699</td><td>0.478</td></tr>\n",
       "\t<tr><th scope=row>Waist</th><td>0.699</td><td>1.000</td><td>0.415</td></tr>\n",
       "\t<tr><th scope=row>Hips</th><td>0.478</td><td>0.415</td><td>1.000</td></tr>\n",
       "</tbody>\n",
       "</table>\n"
      ],
      "text/latex": [
       "A matrix: 3 × 3 of type dbl\n",
       "\\begin{tabular}{r|lll}\n",
       "  & Chest & Waist & Hips\\\\\n",
       "\\hline\n",
       "\tChest & 1.000 & 0.699 & 0.478\\\\\n",
       "\tWaist & 0.699 & 1.000 & 0.415\\\\\n",
       "\tHips & 0.478 & 0.415 & 1.000\\\\\n",
       "\\end{tabular}\n"
      ],
      "text/markdown": [
       "\n",
       "A matrix: 3 × 3 of type dbl\n",
       "\n",
       "| <!--/--> | Chest | Waist | Hips |\n",
       "|---|---|---|---|\n",
       "| Chest | 1.000 | 0.699 | 0.478 |\n",
       "| Waist | 0.699 | 1.000 | 0.415 |\n",
       "| Hips | 0.478 | 0.415 | 1.000 |\n",
       "\n"
      ],
      "text/plain": [
       "      Chest Waist Hips \n",
       "Chest 1.000 0.699 0.478\n",
       "Waist 0.699 1.000 0.415\n",
       "Hips  0.478 0.415 1.000"
      ]
     },
     "metadata": {},
     "output_type": "display_data"
    }
   ],
   "source": [
    "corr = cor(measure[,1:3])\n",
    "corr"
   ]
  },
  {
   "cell_type": "markdown",
   "metadata": {},
   "source": [
    "#### Convert Covariance Matrix to Correlation Matrix\n",
    "- Cannot be done in reverse\n",
    "- Use `cov2cor`"
   ]
  },
  {
   "cell_type": "code",
   "execution_count": 43,
   "metadata": {},
   "outputs": [
    {
     "data": {
      "text/html": [
       "<table>\n",
       "<caption>A matrix: 3 × 3 of type dbl</caption>\n",
       "<thead>\n",
       "\t<tr><th></th><th scope=col>Chest</th><th scope=col>Waist</th><th scope=col>Hips</th></tr>\n",
       "</thead>\n",
       "<tbody>\n",
       "\t<tr><th scope=row>Chest</th><td>1.000</td><td>0.699</td><td>0.478</td></tr>\n",
       "\t<tr><th scope=row>Waist</th><td>0.699</td><td>1.000</td><td>0.415</td></tr>\n",
       "\t<tr><th scope=row>Hips</th><td>0.478</td><td>0.415</td><td>1.000</td></tr>\n",
       "</tbody>\n",
       "</table>\n"
      ],
      "text/latex": [
       "A matrix: 3 × 3 of type dbl\n",
       "\\begin{tabular}{r|lll}\n",
       "  & Chest & Waist & Hips\\\\\n",
       "\\hline\n",
       "\tChest & 1.000 & 0.699 & 0.478\\\\\n",
       "\tWaist & 0.699 & 1.000 & 0.415\\\\\n",
       "\tHips & 0.478 & 0.415 & 1.000\\\\\n",
       "\\end{tabular}\n"
      ],
      "text/markdown": [
       "\n",
       "A matrix: 3 × 3 of type dbl\n",
       "\n",
       "| <!--/--> | Chest | Waist | Hips |\n",
       "|---|---|---|---|\n",
       "| Chest | 1.000 | 0.699 | 0.478 |\n",
       "| Waist | 0.699 | 1.000 | 0.415 |\n",
       "| Hips | 0.478 | 0.415 | 1.000 |\n",
       "\n"
      ],
      "text/plain": [
       "      Chest Waist Hips \n",
       "Chest 1.000 0.699 0.478\n",
       "Waist 0.699 1.000 0.415\n",
       "Hips  0.478 0.415 1.000"
      ]
     },
     "metadata": {},
     "output_type": "display_data"
    }
   ],
   "source": [
    "cov = cov(measure[,1:3])\n",
    "cov2cor(cov)"
   ]
  },
  {
   "cell_type": "markdown",
   "metadata": {},
   "source": [
    "### Distances\n",
    "- Finding the 'distance' between units (rows) in the dataset is important\n",
    "    - Especially in multidimensional scaling and cluster analysis\n",
    "- Given two units i and j, the Euclidean distance is how we measure...distance\n",
    "- [I can go the distance](https://www.youtube.com/watch?v=vRAu4kvpmEs)\n",
    "- Use `dist()` in R \n",
    "\n",
    "The **Eucledian Distance**\n",
    "\n",
    "(If you're reading the PDF, peep the .md to see me flex my mediocre LaTeX) \n",
    "\n",
    "$d_{ij} = \\sqrt{\\sum\\limits_{k=1}^q(X_{ik} - X_{jk})^2}$\n"
   ]
  },
  {
   "cell_type": "markdown",
   "metadata": {},
   "source": [
    "The Euclidean distance between the first two rows/observations/units:"
   ]
  },
  {
   "cell_type": "code",
   "execution_count": 44,
   "metadata": {},
   "outputs": [
    {
     "data": {
      "text/plain": [
       "     1\n",
       "2 6.16"
      ]
     },
     "metadata": {},
     "output_type": "display_data"
    }
   ],
   "source": [
    "d = dist(measure[1:2, 1:3])\n",
    "d"
   ]
  },
  {
   "cell_type": "markdown",
   "metadata": {},
   "source": [
    "Euclidean distances depend on measurement scales\n",
    "- We need to standardize the data first\n",
    "- Use `scale()`"
   ]
  },
  {
   "cell_type": "code",
   "execution_count": 46,
   "metadata": {},
   "outputs": [
    {
     "data": {
      "text/plain": [
       "     1\n",
       "2 2.43"
      ]
     },
     "metadata": {},
     "output_type": "display_data"
    }
   ],
   "source": [
    "# Scale the data\n",
    "measure.s = scale(measure[, 1:3])\n",
    "\n",
    "# Get the distance\n",
    "d.s = dist(measure.s[1:2, ])\n",
    "d.s"
   ]
  },
  {
   "cell_type": "markdown",
   "metadata": {},
   "source": [
    "The pairwise scaled Euclidean distances between the first 10 units:"
   ]
  },
  {
   "cell_type": "code",
   "execution_count": 48,
   "metadata": {},
   "outputs": [
    {
     "data": {
      "text/plain": [
       "      1    2    3    4    5    6    7    8    9\n",
       "2  2.43                                        \n",
       "3  2.26 0.80                                   \n",
       "4  3.09 0.95 1.68                              \n",
       "5  1.63 1.89 1.26 2.82                         \n",
       "6  4.31 2.37 2.18 2.76 2.95                    \n",
       "7  4.79 2.38 2.72 1.98 3.94 2.03               \n",
       "8  3.63 1.41 1.64 1.22 2.88 2.18 1.41          \n",
       "9  3.10 1.29 0.88 1.95 1.84 1.36 2.22 1.46     \n",
       "10 3.99 1.76 1.79 1.96 2.85 0.88 1.32 1.36 1.07"
      ]
     },
     "metadata": {},
     "output_type": "display_data"
    }
   ],
   "source": [
    "distances.s = dist(measure.s[1:10,])\n",
    "\n",
    "# Round the distances\n",
    "round((distances.s),2)"
   ]
  }
 ],
 "metadata": {
  "kernelspec": {
   "display_name": "R",
   "language": "R",
   "name": "ir"
  },
  "language_info": {
   "codemirror_mode": "r",
   "file_extension": ".r",
   "mimetype": "text/x-r-source",
   "name": "R",
   "pygments_lexer": "r",
   "version": "4.0.0"
  },
  "toc": {
   "base_numbering": 1,
   "nav_menu": {},
   "number_sections": true,
   "sideBar": true,
   "skip_h1_title": true,
   "title_cell": "Table of Contents",
   "title_sidebar": "Contents",
   "toc_cell": true,
   "toc_position": {},
   "toc_section_display": true,
   "toc_window_display": false
  }
 },
 "nbformat": 4,
 "nbformat_minor": 4
}
