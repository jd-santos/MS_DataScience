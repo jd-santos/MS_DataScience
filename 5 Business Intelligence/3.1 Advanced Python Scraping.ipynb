{
 "cells": [
  {
   "cell_type": "markdown",
   "metadata": {
    "toc": true
   },
   "source": [
    "<h1>Table of Contents<span class=\"tocSkip\"></span></h1>\n",
    "<div class=\"toc\"><ul class=\"toc-item\"><li><span><a href=\"#Setup\" data-toc-modified-id=\"Setup-1\"><span class=\"toc-item-num\">1&nbsp;&nbsp;</span>Setup</a></span></li><li><span><a href=\"#Submit-Form-as-Get-with-Cookies\" data-toc-modified-id=\"Submit-Form-as-Get-with-Cookies-2\"><span class=\"toc-item-num\">2&nbsp;&nbsp;</span>Submit Form as Get with Cookies</a></span><ul class=\"toc-item\"><li><span><a href=\"#Find-our-Cookie\" data-toc-modified-id=\"Find-our-Cookie-2.1\"><span class=\"toc-item-num\">2.1&nbsp;&nbsp;</span>Find our Cookie</a></span></li><li><span><a href=\"#Sneakily-Acquire-Cookie\" data-toc-modified-id=\"Sneakily-Acquire-Cookie-2.2\"><span class=\"toc-item-num\">2.2&nbsp;&nbsp;</span>Sneakily Acquire Cookie</a></span></li></ul></li><li><span><a href=\"#Sending-Data-with-POST\" data-toc-modified-id=\"Sending-Data-with-POST-3\"><span class=\"toc-item-num\">3&nbsp;&nbsp;</span>Sending Data with POST</a></span><ul class=\"toc-item\"><li><span><a href=\"#Simulating-Browser-Header\" data-toc-modified-id=\"Simulating-Browser-Header-3.1\"><span class=\"toc-item-num\">3.1&nbsp;&nbsp;</span>Simulating Browser Header</a></span></li></ul></li></ul></div>"
   ]
  },
  {
   "cell_type": "markdown",
   "metadata": {},
   "source": [
    "# Interacting with HTML Forms"
   ]
  },
  {
   "cell_type": "markdown",
   "metadata": {},
   "source": [
    "Import request and BeautifulSoup libraries"
   ]
  },
  {
   "cell_type": "code",
   "execution_count": 1,
   "metadata": {},
   "outputs": [],
   "source": [
    "import requests as r\n",
    "from bs4 import BeautifulSoup"
   ]
  },
  {
   "cell_type": "markdown",
   "metadata": {},
   "source": [
    "- Perform get request on URL and make a soup object\n",
    "- Store the content of the select tag with id of 'ddlRandomness'"
   ]
  },
  {
   "cell_type": "code",
   "execution_count": 2,
   "metadata": {},
   "outputs": [],
   "source": [
    "searchURL = 'http://drd.ba.ttu.edu/isqs6339/ex/l1.2/search.php'\n",
    "\n",
    "res = r.get(searchURL)\n",
    "soup = BeautifulSoup(res.content,'lxml')\n",
    "res.content\n",
    "ddlresult = soup.find(\"select\", attrs={'id' : 'ddlRandomness'})"
   ]
  },
  {
   "cell_type": "markdown",
   "metadata": {},
   "source": [
    "Look for all option tags and print their value attribute"
   ]
  },
  {
   "cell_type": "code",
   "execution_count": 4,
   "metadata": {},
   "outputs": [
    {
     "name": "stdout",
     "output_type": "stream",
     "text": [
      "NES\n",
      "SNES\n",
      "Playstation\n",
      "XBOX\n"
     ]
    }
   ],
   "source": [
    "for o in ddlresult.find_all('option'):\n",
    "    print(o['value'])"
   ]
  },
  {
   "cell_type": "markdown",
   "metadata": {},
   "source": [
    "# Advanced Python Scraping"
   ]
  },
  {
   "cell_type": "markdown",
   "metadata": {},
   "source": [
    "- Import libraries\n",
    "- Create search URL\n",
    "- Create action URL we will post to\n",
    "- Create post-post URL\n",
    "    -Post-post is my new favorite word"
   ]
  },
  {
   "cell_type": "markdown",
   "metadata": {},
   "source": [
    "## Setup"
   ]
  },
  {
   "cell_type": "code",
   "execution_count": 9,
   "metadata": {},
   "outputs": [],
   "source": [
    "import requests as r\n",
    "\n",
    "searchURL = 'http://drd.ba.ttu.edu/isqs6339/ex/l1.2/search.php'\n",
    "actionURL = 'http://drd.ba.ttu.edu/isqs6339/ex/l1.2/search_post.php?method=GET&searchInput=asdf&ddlRandomness=NES'\n",
    "action_postURL = 'http://drd.ba.ttu.edu/isqs6339/ex/l1.2/search_post.php'"
   ]
  },
  {
   "cell_type": "markdown",
   "metadata": {},
   "source": [
    "Do our basics:\n",
    "- GET the URL, store in request object\n",
    "- Get the status code\n",
    "- Get content-type from headers\n",
    "- Get encoding\n",
    "- Store as text"
   ]
  },
  {
   "cell_type": "code",
   "execution_count": 10,
   "metadata": {
    "collapsed": true
   },
   "outputs": [
    {
     "data": {
      "text/plain": [
       "b'<html>\\n\\t<head>\\n\\t\\t<title>Test Search Page</title>\\n\\t</head>\\n\\t<body>\\n\\t\\t\\t\\tLet\\'s Search for Stuff!\\n\\t\\t<br />\\n\\t\\t<br />\\n\\t\\t<ul>\\n\\t\\t\\t<li>Put in \"TV\" for one set.</li>\\n\\t\\t\\t<li>Put in \"VCR\" for set of obsolete information.</li>\\n\\t\\t\\t<li>Anything else defaults.</li>\\n\\t\\t</ul>\\n\\t\\t<br />\\n\\t\\t<br />\\n\\t\\t<fieldset>\\n\\t\\t\\t<legend>POST Method on Form</legend>\\n\\t\\t\\t\\t<form action=\"search_post.php\" method=\"POST\">\\n\\t\\t\\t\\t\\t<input type=\"hidden\" id=\"method\" name=\"method\" value=\"POST\" />\\n\\t\\t\\t\\t\\t<ul>\\n\\t\\t\\t\\t\\t\\t<li>Search String:  <input type=\"text\" id=\"searchInput\" name=\"searchInput\" /></li>\\n\\t\\t\\t\\t\\t\\t<li>Which Option:  <select id=\"ddlRandomness\" name=\"ddlRandomness\">\\n\\t\\t\\t\\t\\t\\t\\t\\t\\t<option value=\"NES\">NES</option>\\n\\t\\t\\t\\t\\t\\t\\t\\t\\t<option value=\"SNES\">SNES</option>\\n\\t\\t\\t\\t\\t\\t\\t\\t\\t<option value=\"Playstation\">Playstation</option>\\n\\t\\t\\t\\t\\t\\t\\t\\t\\t<option value=\"XBOX\">XBox</option>\\n\\t\\t\\t\\t\\t\\t\\t\\t</select>\\n\\t\\t\\t\\t\\t</ul>\\n\\t\\t\\t\\t\\t<input type=\"submit\" value=\"Submit Post Form\" />\\n\\t\\t\\t\\t</form>\\n\\t\\t\\t</legend>\\n\\t\\t</fieldset>\\n\\t\\t<br /><br />\\n\\t\\t<fieldset>\\n\\t\\t\\t<legend>GET Method on Form</legend>\\n\\t\\t\\t\\t<form action=\"search_post.php\" method=\"GET\">\\n\\t\\t\\t\\t\\t<input type=\"hidden\" id=\"method\" name=\"method\" value=\"GET\" />\\n\\t\\t\\t\\t\\t<ul>\\n\\t\\t\\t\\t\\t\\t<li>Search String:  <input type=\"text\" id=\"searchInput\" name=\"searchInput\" /></li>\\n\\t\\t\\t\\t\\t\\t<li>Which Option:  <select id=\"ddlRandomness\" name=\"ddlRandomness\">\\n\\t\\t\\t\\t\\t\\t\\t\\t\\t<option value=\"NES\">NES</option>\\n\\t\\t\\t\\t\\t\\t\\t\\t\\t<option value=\"SNES\">SNES</option>\\n\\t\\t\\t\\t\\t\\t\\t\\t\\t<option value=\"Playstation\">Playstation</option>\\n\\t\\t\\t\\t\\t\\t\\t\\t\\t<option value=\"XBOX\">XBox</option>\\n\\t\\t\\t\\t\\t\\t\\t\\t</select>\\n\\t\\t\\t\\t\\t</ul>\\n\\t\\t\\t\\t\\t<input type=\"submit\" value=\"Submit Get Form\" />\\n\\t\\t\\t\\t</form>\\n\\t\\t\\t</legend>\\n\\t\\t</fieldset>\\n\\n\\t</body>\\n</html>\\n'"
      ]
     },
     "execution_count": 10,
     "metadata": {},
     "output_type": "execute_result"
    }
   ],
   "source": [
    "res = r.get(searchURL)\n",
    "\n",
    "res.status_code\n",
    "res.headers['content-type']\n",
    "res.encoding\n",
    "res.text\n",
    "res.content"
   ]
  },
  {
   "cell_type": "markdown",
   "metadata": {},
   "source": [
    "## Submit Form as Get with Cookies\n",
    "- Get request from the actionURL\n",
    "- This should return the file that the form is posting to\n",
    "- We've been bamboozled"
   ]
  },
  {
   "cell_type": "code",
   "execution_count": 11,
   "metadata": {},
   "outputs": [
    {
     "data": {
      "text/plain": [
       "b'<html>\\n\\t<head>\\n\\t\\t<title>Response to Input</title>\\n\\t</head>\\n\\t<body>\\n\\t\\t\\t\\t\\tSTOP TRYING TO SCRAPE MY SITE YOU EVIL ROBOT!\\n\\t\\t\\t</body>\\n</html>\\n\\n\\n\\n\\n\\n\\n'"
      ]
     },
     "execution_count": 11,
     "metadata": {},
     "output_type": "execute_result"
    }
   ],
   "source": [
    "# Notice the action url and method\n",
    "\n",
    "res_get = r.get(actionURL)\n",
    "\n",
    "res_get.status_code\n",
    "res_get.content"
   ]
  },
  {
   "cell_type": "markdown",
   "metadata": {},
   "source": [
    "### Find our Cookie\n",
    "This site is expecting a cookie\n",
    "- We can examine our previous request (res) to see what cookie was passed \n",
    "    - name='search_cookie'\n",
    "- Compare this to our modified request (res_get) \n",
    "    - no cookies :( "
   ]
  },
  {
   "cell_type": "code",
   "execution_count": 12,
   "metadata": {},
   "outputs": [
    {
     "data": {
      "text/plain": [
       "<RequestsCookieJar[Cookie(version=0, name='search_cookie', value='testsearch', port=None, port_specified=False, domain='drd.ba.ttu.edu', domain_specified=False, domain_initial_dot=False, path='/', path_specified=True, secure=False, expires=1601686454, discard=False, comment=None, comment_url=None, rest={}, rfc2109=False)]>"
      ]
     },
     "execution_count": 12,
     "metadata": {},
     "output_type": "execute_result"
    }
   ],
   "source": [
    "res.cookies"
   ]
  },
  {
   "cell_type": "code",
   "execution_count": 13,
   "metadata": {},
   "outputs": [
    {
     "data": {
      "text/plain": [
       "<RequestsCookieJar[]>"
      ]
     },
     "execution_count": 13,
     "metadata": {},
     "output_type": "execute_result"
    }
   ],
   "source": [
    "res_get.cookies"
   ]
  },
  {
   "cell_type": "markdown",
   "metadata": {},
   "source": [
    "### Sneakily Acquire Cookie\n",
    "To get around this we can\n",
    "- Set our first request cookie equal to 'search_cookies' variable\n",
    "- Pass that variable into the get request attribute 'cookies'\n",
    "- Success!"
   ]
  },
  {
   "cell_type": "code",
   "execution_count": 14,
   "metadata": {},
   "outputs": [
    {
     "data": {
      "text/plain": [
       "b'<html>\\n\\t<head>\\n\\t\\t<title>Response to Input</title>\\n\\t</head>\\n\\t<body>\\n\\t\\t\\n\\t\\t<fieldset>\\n\\t\\t\\t<legend>Output of Search</legend>\\n\\t\\t\\t<ul>\\n\\t\\t\\t\\t\\t<li>Method:  GET</li>\\n\\t\\t\\t\\t\\t\\t<li>I love Nintendo!</li>\\n\\t\\t\\t\\t\\t\\t\\t\\t<li>Browser Header: python-requests/2.22.0</li>\\n\\t\\t\\t</ul>\\n\\t\\t</fieldset>\\n\\t\\t\\t</body>\\n</html>\\n\\n\\n\\n\\n\\n\\n'"
      ]
     },
     "execution_count": 14,
     "metadata": {},
     "output_type": "execute_result"
    }
   ],
   "source": [
    "#Get the Cookies\n",
    "search_cookies = res.cookies\n",
    "\n",
    "#set cookies for call\n",
    "res_get = r.get(actionURL, cookies=search_cookies)\n",
    "\n",
    "res_get.content"
   ]
  },
  {
   "cell_type": "markdown",
   "metadata": {},
   "source": [
    "## Sending Data with POST\n",
    "- Be sure to use request.post, not get\n",
    "- Create a dictionary to pass in data: \n",
    "    - Method: POST\n",
    "    - searchInput: asdf\n",
    "        - What goes into the search field\n",
    "    - ddlRandomness: NES\n",
    "- The actual post includes\n",
    "    - The action postURL\n",
    "    - post_data from above\n",
    "    - cookies=search_cookies from previous example"
   ]
  },
  {
   "cell_type": "code",
   "execution_count": 15,
   "metadata": {},
   "outputs": [
    {
     "data": {
      "text/plain": [
       "b'<html>\\n\\t<head>\\n\\t\\t<title>Response to Input</title>\\n\\t</head>\\n\\t<body>\\n\\t\\t\\n\\t\\t<fieldset>\\n\\t\\t\\t<legend>Output of Search</legend>\\n\\t\\t\\t<ul>\\n\\t\\t\\t\\t\\t<li>Method:  POST</li>\\n\\t\\t\\t\\t\\t\\t<li>I love Nintendo!</li>\\n\\t\\t\\t\\t\\t\\t\\n\\t\\t\\t\\t\\t<li>Browser Header: python-requests/2.22.0</li>\\n\\t\\t\\t</ul>\\n\\t\\t</fieldset>\\n\\t\\t\\t</body>\\n</html>\\n\\n\\n\\n\\n\\n\\n'"
      ]
     },
     "execution_count": 15,
     "metadata": {},
     "output_type": "execute_result"
    }
   ],
   "source": [
    "post_data = {'method':'POST','searchInput':'asdf','ddlRandomness':'NES'}\n",
    "\n",
    "res_post = r.post(action_postURL, data=post_data, cookies=search_cookies )\n",
    "\n",
    "res_post.content"
   ]
  },
  {
   "cell_type": "markdown",
   "metadata": {},
   "source": [
    "### Simulating Browser Header"
   ]
  },
  {
   "cell_type": "markdown",
   "metadata": {},
   "source": [
    "Note the 'Browser Header' in the previous output\n",
    "- 'python-requests'\n",
    "- Websites may not want scraping from python requests\n",
    "- For this reason we need to pass a simulated browser header\n",
    "- Check the header in the new output"
   ]
  },
  {
   "cell_type": "code",
   "execution_count": 17,
   "metadata": {},
   "outputs": [
    {
     "data": {
      "text/plain": [
       "b'<html>\\n\\t<head>\\n\\t\\t<title>Response to Input</title>\\n\\t</head>\\n\\t<body>\\n\\t\\t\\n\\t\\t<fieldset>\\n\\t\\t\\t<legend>Output of Search</legend>\\n\\t\\t\\t<ul>\\n\\t\\t\\t\\t\\t<li>Method:  POST</li>\\n\\t\\t\\t\\t\\t\\t<li>I love Nintendo!</li>\\n\\t\\t\\t\\t\\t\\t\\n\\t\\t\\t\\t\\t<li>Browser Header: Mozilla/5.0 (X11; Ubuntu; Linux x86_64; rv:65.0) Gecko/20100101 Firefox/65.0</li>\\n\\t\\t\\t</ul>\\n\\t\\t</fieldset>\\n\\t\\t\\t</body>\\n</html>\\n\\n\\n\\n\\n\\n\\n'"
      ]
     },
     "execution_count": 17,
     "metadata": {},
     "output_type": "execute_result"
    }
   ],
   "source": [
    "#Let's pass a real browser header\n",
    "\n",
    "# Store Firefox browser agent in dictionary with user-agent as key\n",
    "headers = {'user-agent' : 'Mozilla/5.0 (X11; Ubuntu; Linux x86_64; rv:65.0) Gecko/20100101 Firefox/65.0'}\n",
    "\n",
    "# Notice headers=headers, we pass in our dictionary\n",
    "res_post = r.post(action_postURL, data=post_data, cookies=search_cookies, headers=headers)\n",
    "\n",
    "res_post.content"
   ]
  },
  {
   "cell_type": "markdown",
   "metadata": {},
   "source": [
    "We can also do this in a GET:"
   ]
  },
  {
   "cell_type": "code",
   "execution_count": 18,
   "metadata": {},
   "outputs": [
    {
     "data": {
      "text/plain": [
       "b'<html>\\n\\t<head>\\n\\t\\t<title>Response to Input</title>\\n\\t</head>\\n\\t<body>\\n\\t\\t\\n\\t\\t<fieldset>\\n\\t\\t\\t<legend>Output of Search</legend>\\n\\t\\t\\t<ul>\\n\\t\\t\\t\\t\\t<li>Method:  GET</li>\\n\\t\\t\\t\\t\\t\\t<li>I love Nintendo!</li>\\n\\t\\t\\t\\t\\t\\t\\t\\t<li>Browser Header: Mozilla/5.0 (X11; Ubuntu; Linux x86_64; rv:65.0) Gecko/20100101 Firefox/65.0</li>\\n\\t\\t\\t</ul>\\n\\t\\t</fieldset>\\n\\t\\t\\t</body>\\n</html>\\n\\n\\n\\n\\n\\n\\n'"
      ]
     },
     "execution_count": 18,
     "metadata": {},
     "output_type": "execute_result"
    }
   ],
   "source": [
    "res_get = r.get(actionURL, cookies=search_cookies, headers=headers)\n",
    "\n",
    "res_get.content"
   ]
  }
 ],
 "metadata": {
  "kernelspec": {
   "display_name": "Python 3",
   "language": "python",
   "name": "python3"
  },
  "language_info": {
   "codemirror_mode": {
    "name": "ipython",
    "version": 3
   },
   "file_extension": ".py",
   "mimetype": "text/x-python",
   "name": "python",
   "nbconvert_exporter": "python",
   "pygments_lexer": "ipython3",
   "version": "3.7.6"
  },
  "toc": {
   "base_numbering": 1,
   "nav_menu": {},
   "number_sections": true,
   "sideBar": true,
   "skip_h1_title": true,
   "title_cell": "Table of Contents",
   "title_sidebar": "Contents",
   "toc_cell": true,
   "toc_position": {},
   "toc_section_display": true,
   "toc_window_display": false
  }
 },
 "nbformat": 4,
 "nbformat_minor": 4
}
