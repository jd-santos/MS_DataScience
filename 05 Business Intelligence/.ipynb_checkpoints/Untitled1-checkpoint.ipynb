{
 "cells": [
  {
   "cell_type": "markdown",
   "metadata": {
    "toc": true
   },
   "source": [
    "<h1>Table of Contents<span class=\"tocSkip\"></span></h1>\n",
    "<div class=\"toc\"><ul class=\"toc-item\"></ul></div>"
   ]
  },
  {
   "cell_type": "markdown",
   "metadata": {},
   "source": [
    "# 5.3 Shaping Dataframes"
   ]
  },
  {
   "cell_type": "code",
   "execution_count": null,
   "metadata": {},
   "outputs": [],
   "source": [
    "import io\n",
    "import pandas as pd\n",
    "import requests as r"
   ]
  },
  {
   "cell_type": "code",
   "execution_count": null,
   "metadata": {},
   "outputs": [],
   "source": [
    "#variables needed for ease of file access\n",
    "url = 'http://drd.ba.ttu.edu/isqs6339/ex/L2.1/'\n",
    "file_1 = 'employment.csv'\n",
    "file_2 = 'job_title.csv'\n",
    "file_3 = 'job_title_year.csv'"
   ]
  },
  {
   "cell_type": "code",
   "execution_count": null,
   "metadata": {},
   "outputs": [],
   "source": [
    "#pull employment\n",
    "res = r.get(url + file_1)\n",
    "res.status_code\n",
    "df_emp = pd.read_csv(io.StringIO(res.text)) "
   ]
  },
  {
   "cell_type": "code",
   "execution_count": null,
   "metadata": {},
   "outputs": [],
   "source": [
    "#pull job\n",
    "res = r.get(url + file_2)\n",
    "res.status_code\n",
    "df_job = pd.read_csv(io.StringIO(res.text)) \n",
    "\n",
    "df_emp.head()\n",
    "df_job.head()"
   ]
  },
  {
   "cell_type": "code",
   "execution_count": null,
   "metadata": {},
   "outputs": [],
   "source": [
    "###############################################################################\n",
    "#                Basic joins                                                  #\n",
    "###############################################################################"
   ]
  },
  {
   "cell_type": "code",
   "execution_count": null,
   "metadata": {},
   "outputs": [],
   "source": [
    "#Note, could just use \"on\" rather than left/right on as the field is the same name\n",
    "df_emp_merge = df_emp.merge(df_job, how=\"inner\", left_on=\"jobtitleid\", right_on=\"jobtitleid\")\n",
    "df_emp_merge.head()"
   ]
  },
  {
   "cell_type": "code",
   "execution_count": null,
   "metadata": {},
   "outputs": [],
   "source": [
    "#Did we lose any data?  i.e.  what is the meaning of an inner join\n",
    "df_emp_merge['jobtitle'].value_counts()\n",
    "df_job['jobtitle']"
   ]
  },
  {
   "cell_type": "code",
   "execution_count": null,
   "metadata": {},
   "outputs": [],
   "source": [
    "#Let's do a left join\n",
    "df_emp_merge_left = df_emp.merge(df_job, how='left', on='jobtitleid')\n",
    "df_emp_merge_left['jobtitle'].value_counts() #wait!  we left join, where's the mungers!"
   ]
  },
  {
   "cell_type": "code",
   "execution_count": null,
   "metadata": {},
   "outputs": [],
   "source": [
    "#Time to demo the right join\n",
    "df_emp_merge_right = df_emp.merge(df_job, how='right', on='jobtitleid')\n",
    "df_emp_merge_right['jobtitle'].value_counts() #Ahh, so outside is left side of \n",
    "#operator and inside is the right side of the operator."
   ]
  },
  {
   "cell_type": "code",
   "execution_count": null,
   "metadata": {},
   "outputs": [],
   "source": [
    "#Wait, why is Munger a \"1\" on value_counts????\n",
    "#Answer, we only asked it to count that column\n",
    "#More on how this can help us later."
   ]
  },
  {
   "cell_type": "code",
   "execution_count": null,
   "metadata": {},
   "outputs": [],
   "source": [
    "###############################################################################\n",
    "#                               Multikey join                                 #\n",
    "###############################################################################"
   ]
  },
  {
   "cell_type": "code",
   "execution_count": null,
   "metadata": {},
   "outputs": [],
   "source": [
    "#Let's say our employees were only for 2018 and our job title file was\n",
    "#also keyed to year.  "
   ]
  },
  {
   "cell_type": "code",
   "execution_count": null,
   "metadata": {},
   "outputs": [],
   "source": [
    "#Let's get our new job title file\n",
    "#pull job\n",
    "res = r.get(url + file_3)\n",
    "res.status_code\n",
    "df_job_year = pd.read_csv(io.StringIO(res.text)) "
   ]
  },
  {
   "cell_type": "code",
   "execution_count": null,
   "metadata": {},
   "outputs": [],
   "source": [
    "#Notice the yr and salary increases of 2K\n",
    "df_job_year"
   ]
  },
  {
   "cell_type": "code",
   "execution_count": null,
   "metadata": {},
   "outputs": [],
   "source": [
    "#Let's add a yr field to our emps and make it 2019\n",
    "df_emp['yr'] = 2019\n",
    "df_emp.head()"
   ]
  },
  {
   "cell_type": "code",
   "execution_count": null,
   "metadata": {},
   "outputs": [],
   "source": [
    "#Now, let's join.  Note, we can't do it on a single field\n",
    "df_emp_merge_yr = df_emp.merge(df_job_year, how='inner', on=['jobtitleid', 'yr'])\n",
    "df_emp_merge_yr"
   ]
  },
  {
   "cell_type": "code",
   "execution_count": null,
   "metadata": {},
   "outputs": [],
   "source": [
    "#similar logic using left_on, right_on.  \n",
    "df_emp_merge_yr_lr = df_emp.merge(df_job_year, how='inner', left_on=['jobtitleid', 'yr'], right_on=['jobtitleid', 'yr'])\n",
    "df_emp_merge_yr_lr"
   ]
  },
  {
   "cell_type": "code",
   "execution_count": null,
   "metadata": {},
   "outputs": [],
   "source": [
    "#Note, the order of the fields matters\n",
    "df_emp_merge_yr_lr2 = df_emp.merge(df_job_year, how='inner', left_on=['yr', 'jobtitleid'], right_on=['jobtitleid', 'yr'])\n",
    "df_emp_merge_yr_lr2"
   ]
  }
 ],
 "metadata": {
  "kernelspec": {
   "display_name": "Python 3",
   "language": "python",
   "name": "python3"
  },
  "language_info": {
   "codemirror_mode": {
    "name": "ipython",
    "version": 3
   },
   "file_extension": ".py",
   "mimetype": "text/x-python",
   "name": "python",
   "nbconvert_exporter": "python",
   "pygments_lexer": "ipython3",
   "version": "3.7.6"
  },
  "toc": {
   "base_numbering": 1,
   "nav_menu": {},
   "number_sections": true,
   "sideBar": true,
   "skip_h1_title": true,
   "title_cell": "Table of Contents",
   "title_sidebar": "Contents",
   "toc_cell": true,
   "toc_position": {},
   "toc_section_display": true,
   "toc_window_display": false
  }
 },
 "nbformat": 4,
 "nbformat_minor": 4
}
