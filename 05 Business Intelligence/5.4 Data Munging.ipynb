{
 "cells": [
  {
   "cell_type": "markdown",
   "metadata": {
    "toc": true
   },
   "source": [
    "<h1>Table of Contents<span class=\"tocSkip\"></span></h1>\n",
    "<div class=\"toc\"><ul class=\"toc-item\"><li><span><a href=\"#Overview\" data-toc-modified-id=\"Overview-1\"><span class=\"toc-item-num\">1&nbsp;&nbsp;</span>Overview</a></span></li><li><span><a href=\"#Basic-Munging-Operations\" data-toc-modified-id=\"Basic-Munging-Operations-2\"><span class=\"toc-item-num\">2&nbsp;&nbsp;</span>Basic Munging Operations</a></span><ul class=\"toc-item\"><li><span><a href=\"#Encoding-(Categorizing)\" data-toc-modified-id=\"Encoding-(Categorizing)-2.1\"><span class=\"toc-item-num\">2.1&nbsp;&nbsp;</span>Encoding (Categorizing)</a></span></li><li><span><a href=\"#Change-Capitalization\" data-toc-modified-id=\"Change-Capitalization-2.2\"><span class=\"toc-item-num\">2.2&nbsp;&nbsp;</span>Change Capitalization</a></span></li><li><span><a href=\"#Drop-Columns\" data-toc-modified-id=\"Drop-Columns-2.3\"><span class=\"toc-item-num\">2.3&nbsp;&nbsp;</span>Drop Columns</a></span></li><li><span><a href=\"#Selecting-String-Characters\" data-toc-modified-id=\"Selecting-String-Characters-2.4\"><span class=\"toc-item-num\">2.4&nbsp;&nbsp;</span>Selecting String Characters</a></span></li><li><span><a href=\"#Date-Operations\" data-toc-modified-id=\"Date-Operations-2.5\"><span class=\"toc-item-num\">2.5&nbsp;&nbsp;</span>Date Operations</a></span></li></ul></li><li><span><a href=\"#Data-Munging-Concerns\" data-toc-modified-id=\"Data-Munging-Concerns-3\"><span class=\"toc-item-num\">3&nbsp;&nbsp;</span>Data Munging Concerns</a></span></li><li><span><a href=\"#Munging-Missing-Values\" data-toc-modified-id=\"Munging-Missing-Values-4\"><span class=\"toc-item-num\">4&nbsp;&nbsp;</span>Munging Missing Values</a></span><ul class=\"toc-item\"><li><span><a href=\"#Investigating-Missing-Data\" data-toc-modified-id=\"Investigating-Missing-Data-4.1\"><span class=\"toc-item-num\">4.1&nbsp;&nbsp;</span>Investigating Missing Data</a></span></li><li><span><a href=\"#Identifying-Nulls\" data-toc-modified-id=\"Identifying-Nulls-4.2\"><span class=\"toc-item-num\">4.2&nbsp;&nbsp;</span>Identifying Nulls</a></span></li><li><span><a href=\"#Filling-Nulls\" data-toc-modified-id=\"Filling-Nulls-4.3\"><span class=\"toc-item-num\">4.3&nbsp;&nbsp;</span>Filling Nulls</a></span><ul class=\"toc-item\"><li><span><a href=\"#Filling-Nulls-with-Zeroes\" data-toc-modified-id=\"Filling-Nulls-with-Zeroes-4.3.1\"><span class=\"toc-item-num\">4.3.1&nbsp;&nbsp;</span>Filling Nulls with Zeroes</a></span></li><li><span><a href=\"#Filling-Nulls-with-Averages\" data-toc-modified-id=\"Filling-Nulls-with-Averages-4.3.2\"><span class=\"toc-item-num\">4.3.2&nbsp;&nbsp;</span>Filling Nulls with Averages</a></span></li></ul></li><li><span><a href=\"#Join-Issues\" data-toc-modified-id=\"Join-Issues-4.4\"><span class=\"toc-item-num\">4.4&nbsp;&nbsp;</span>Join Issues</a></span><ul class=\"toc-item\"><li><span><a href=\"#Filling-NAs\" data-toc-modified-id=\"Filling-NAs-4.4.1\"><span class=\"toc-item-num\">4.4.1&nbsp;&nbsp;</span>Filling NAs</a></span></li><li><span><a href=\"#Best-Practice\" data-toc-modified-id=\"Best-Practice-4.4.2\"><span class=\"toc-item-num\">4.4.2&nbsp;&nbsp;</span>Best Practice</a></span></li></ul></li><li><span><a href=\"#Missing-Values-Outcomes\" data-toc-modified-id=\"Missing-Values-Outcomes-4.5\"><span class=\"toc-item-num\">4.5&nbsp;&nbsp;</span>Missing Values Outcomes</a></span></li></ul></li></ul></div>"
   ]
  },
  {
   "cell_type": "markdown",
   "metadata": {},
   "source": [
    "# 5.4 Data Munging"
   ]
  },
  {
   "cell_type": "markdown",
   "metadata": {},
   "source": [
    "## Overview\n",
    "- Data munging is the manipulation of data\n",
    "    - Transformation in ETL\n",
    "- We've already done some munging by changing data types, rows, and other manipulations"
   ]
  },
  {
   "cell_type": "markdown",
   "metadata": {},
   "source": [
    "Setup with file variables:"
   ]
  },
  {
   "cell_type": "code",
   "execution_count": 3,
   "metadata": {},
   "outputs": [],
   "source": [
    "import io\n",
    "import pandas as pd\n",
    "import requests as r\n",
    "\n",
    "#variables needed for ease of file access\n",
    "url = 'http://drd.ba.ttu.edu/isqs6339/ex/L2.2/'\n",
    "file_1 = 'scifi_characters.csv'\n",
    "\n",
    "res = r.get(url + file_1)\n",
    "res.status_code\n",
    "df = pd.read_csv(io.StringIO(res.text)) "
   ]
  },
  {
   "cell_type": "markdown",
   "metadata": {},
   "source": [
    "## Basic Munging Operations"
   ]
  },
  {
   "cell_type": "markdown",
   "metadata": {},
   "source": [
    "### Encoding (Categorizing)\n",
    "- 'Bucketing' that we've done before\n",
    "- Here we will encode any character over the age of 80 as 'wise'\n",
    "    - The default is 'gaining wisdom'"
   ]
  },
  {
   "cell_type": "code",
   "execution_count": 4,
   "metadata": {},
   "outputs": [
    {
     "name": "stderr",
     "output_type": "stream",
     "text": [
      "/Users/jdmini/opt/anaconda3/lib/python3.7/site-packages/ipykernel_launcher.py:2: SettingWithCopyWarning: \n",
      "A value is trying to be set on a copy of a slice from a DataFrame\n",
      "\n",
      "See the caveats in the documentation: https://pandas.pydata.org/pandas-docs/stable/user_guide/indexing.html#returning-a-view-versus-a-copy\n",
      "  \n"
     ]
    }
   ],
   "source": [
    "df['Age_Category'] = 'Gaining Wisdom'\n",
    "df['Age_Category'][df['Age'] > 80] = 'Wise'"
   ]
  },
  {
   "cell_type": "code",
   "execution_count": 5,
   "metadata": {},
   "outputs": [
    {
     "data": {
      "text/html": [
       "<div>\n",
       "<style scoped>\n",
       "    .dataframe tbody tr th:only-of-type {\n",
       "        vertical-align: middle;\n",
       "    }\n",
       "\n",
       "    .dataframe tbody tr th {\n",
       "        vertical-align: top;\n",
       "    }\n",
       "\n",
       "    .dataframe thead th {\n",
       "        text-align: right;\n",
       "    }\n",
       "</style>\n",
       "<table border=\"1\" class=\"dataframe\">\n",
       "  <thead>\n",
       "    <tr style=\"text-align: right;\">\n",
       "      <th></th>\n",
       "      <th>id</th>\n",
       "      <th>fname</th>\n",
       "      <th>lname</th>\n",
       "      <th>birthdate</th>\n",
       "      <th>Age</th>\n",
       "      <th>Age_Category</th>\n",
       "    </tr>\n",
       "  </thead>\n",
       "  <tbody>\n",
       "    <tr>\n",
       "      <th>0</th>\n",
       "      <td>1</td>\n",
       "      <td>Daniel</td>\n",
       "      <td>Jackson</td>\n",
       "      <td>6/23/2114</td>\n",
       "      <td>91</td>\n",
       "      <td>Wise</td>\n",
       "    </tr>\n",
       "    <tr>\n",
       "      <th>1</th>\n",
       "      <td>2</td>\n",
       "      <td>Samantha</td>\n",
       "      <td>Carter</td>\n",
       "      <td>5/14/2167</td>\n",
       "      <td>38</td>\n",
       "      <td>Gaining Wisdom</td>\n",
       "    </tr>\n",
       "    <tr>\n",
       "      <th>2</th>\n",
       "      <td>3</td>\n",
       "      <td>Jack</td>\n",
       "      <td>O'Neil</td>\n",
       "      <td>6/20/2103</td>\n",
       "      <td>102</td>\n",
       "      <td>Wise</td>\n",
       "    </tr>\n",
       "    <tr>\n",
       "      <th>3</th>\n",
       "      <td>4</td>\n",
       "      <td>Susan</td>\n",
       "      <td>Ivanova</td>\n",
       "      <td>9/6/2151</td>\n",
       "      <td>53</td>\n",
       "      <td>Gaining Wisdom</td>\n",
       "    </tr>\n",
       "    <tr>\n",
       "      <th>4</th>\n",
       "      <td>5</td>\n",
       "      <td>John</td>\n",
       "      <td>Sheridan</td>\n",
       "      <td>6/23/2167</td>\n",
       "      <td>38</td>\n",
       "      <td>Gaining Wisdom</td>\n",
       "    </tr>\n",
       "    <tr>\n",
       "      <th>5</th>\n",
       "      <td>6</td>\n",
       "      <td>Londo</td>\n",
       "      <td>Mallari</td>\n",
       "      <td>3/19/2174</td>\n",
       "      <td>31</td>\n",
       "      <td>Gaining Wisdom</td>\n",
       "    </tr>\n",
       "    <tr>\n",
       "      <th>6</th>\n",
       "      <td>7</td>\n",
       "      <td>Aeryn</td>\n",
       "      <td>Sun</td>\n",
       "      <td>1/20/2175</td>\n",
       "      <td>30</td>\n",
       "      <td>Gaining Wisdom</td>\n",
       "    </tr>\n",
       "    <tr>\n",
       "      <th>7</th>\n",
       "      <td>8</td>\n",
       "      <td>John</td>\n",
       "      <td>Crichton</td>\n",
       "      <td>12/9/2123</td>\n",
       "      <td>81</td>\n",
       "      <td>Wise</td>\n",
       "    </tr>\n",
       "    <tr>\n",
       "      <th>8</th>\n",
       "      <td>9</td>\n",
       "      <td>Sikozu</td>\n",
       "      <td>Shanu</td>\n",
       "      <td>2/22/2149</td>\n",
       "      <td>56</td>\n",
       "      <td>Gaining Wisdom</td>\n",
       "    </tr>\n",
       "  </tbody>\n",
       "</table>\n",
       "</div>"
      ],
      "text/plain": [
       "   id     fname     lname  birthdate  Age    Age_Category\n",
       "0   1    Daniel   Jackson  6/23/2114   91            Wise\n",
       "1   2  Samantha    Carter  5/14/2167   38  Gaining Wisdom\n",
       "2   3      Jack    O'Neil  6/20/2103  102            Wise\n",
       "3   4     Susan   Ivanova   9/6/2151   53  Gaining Wisdom\n",
       "4   5      John  Sheridan  6/23/2167   38  Gaining Wisdom\n",
       "5   6     Londo   Mallari  3/19/2174   31  Gaining Wisdom\n",
       "6   7     Aeryn       Sun  1/20/2175   30  Gaining Wisdom\n",
       "7   8      John  Crichton  12/9/2123   81            Wise\n",
       "8   9    Sikozu     Shanu  2/22/2149   56  Gaining Wisdom"
      ]
     },
     "execution_count": 5,
     "metadata": {},
     "output_type": "execute_result"
    }
   ],
   "source": [
    "df"
   ]
  },
  {
   "cell_type": "markdown",
   "metadata": {},
   "source": [
    "### Change Capitalization\n",
    "`df['value'].str.upper()\n",
    "- Change data type to string with .str\n",
    "- Convert string to uppercase with str.upper()\n",
    "- Place these in new column"
   ]
  },
  {
   "cell_type": "code",
   "execution_count": 6,
   "metadata": {},
   "outputs": [
    {
     "data": {
      "text/html": [
       "<div>\n",
       "<style scoped>\n",
       "    .dataframe tbody tr th:only-of-type {\n",
       "        vertical-align: middle;\n",
       "    }\n",
       "\n",
       "    .dataframe tbody tr th {\n",
       "        vertical-align: top;\n",
       "    }\n",
       "\n",
       "    .dataframe thead th {\n",
       "        text-align: right;\n",
       "    }\n",
       "</style>\n",
       "<table border=\"1\" class=\"dataframe\">\n",
       "  <thead>\n",
       "    <tr style=\"text-align: right;\">\n",
       "      <th></th>\n",
       "      <th>id</th>\n",
       "      <th>fname</th>\n",
       "      <th>lname</th>\n",
       "      <th>birthdate</th>\n",
       "      <th>Age</th>\n",
       "      <th>Age_Category</th>\n",
       "      <th>lname_upper</th>\n",
       "    </tr>\n",
       "  </thead>\n",
       "  <tbody>\n",
       "    <tr>\n",
       "      <th>0</th>\n",
       "      <td>1</td>\n",
       "      <td>Daniel</td>\n",
       "      <td>Jackson</td>\n",
       "      <td>6/23/2114</td>\n",
       "      <td>91</td>\n",
       "      <td>Wise</td>\n",
       "      <td>JACKSON</td>\n",
       "    </tr>\n",
       "    <tr>\n",
       "      <th>1</th>\n",
       "      <td>2</td>\n",
       "      <td>Samantha</td>\n",
       "      <td>Carter</td>\n",
       "      <td>5/14/2167</td>\n",
       "      <td>38</td>\n",
       "      <td>Gaining Wisdom</td>\n",
       "      <td>CARTER</td>\n",
       "    </tr>\n",
       "    <tr>\n",
       "      <th>2</th>\n",
       "      <td>3</td>\n",
       "      <td>Jack</td>\n",
       "      <td>O'Neil</td>\n",
       "      <td>6/20/2103</td>\n",
       "      <td>102</td>\n",
       "      <td>Wise</td>\n",
       "      <td>O'NEIL</td>\n",
       "    </tr>\n",
       "    <tr>\n",
       "      <th>3</th>\n",
       "      <td>4</td>\n",
       "      <td>Susan</td>\n",
       "      <td>Ivanova</td>\n",
       "      <td>9/6/2151</td>\n",
       "      <td>53</td>\n",
       "      <td>Gaining Wisdom</td>\n",
       "      <td>IVANOVA</td>\n",
       "    </tr>\n",
       "    <tr>\n",
       "      <th>4</th>\n",
       "      <td>5</td>\n",
       "      <td>John</td>\n",
       "      <td>Sheridan</td>\n",
       "      <td>6/23/2167</td>\n",
       "      <td>38</td>\n",
       "      <td>Gaining Wisdom</td>\n",
       "      <td>SHERIDAN</td>\n",
       "    </tr>\n",
       "    <tr>\n",
       "      <th>5</th>\n",
       "      <td>6</td>\n",
       "      <td>Londo</td>\n",
       "      <td>Mallari</td>\n",
       "      <td>3/19/2174</td>\n",
       "      <td>31</td>\n",
       "      <td>Gaining Wisdom</td>\n",
       "      <td>MALLARI</td>\n",
       "    </tr>\n",
       "    <tr>\n",
       "      <th>6</th>\n",
       "      <td>7</td>\n",
       "      <td>Aeryn</td>\n",
       "      <td>Sun</td>\n",
       "      <td>1/20/2175</td>\n",
       "      <td>30</td>\n",
       "      <td>Gaining Wisdom</td>\n",
       "      <td>SUN</td>\n",
       "    </tr>\n",
       "    <tr>\n",
       "      <th>7</th>\n",
       "      <td>8</td>\n",
       "      <td>John</td>\n",
       "      <td>Crichton</td>\n",
       "      <td>12/9/2123</td>\n",
       "      <td>81</td>\n",
       "      <td>Wise</td>\n",
       "      <td>CRICHTON</td>\n",
       "    </tr>\n",
       "    <tr>\n",
       "      <th>8</th>\n",
       "      <td>9</td>\n",
       "      <td>Sikozu</td>\n",
       "      <td>Shanu</td>\n",
       "      <td>2/22/2149</td>\n",
       "      <td>56</td>\n",
       "      <td>Gaining Wisdom</td>\n",
       "      <td>SHANU</td>\n",
       "    </tr>\n",
       "  </tbody>\n",
       "</table>\n",
       "</div>"
      ],
      "text/plain": [
       "   id     fname     lname  birthdate  Age    Age_Category lname_upper\n",
       "0   1    Daniel   Jackson  6/23/2114   91            Wise     JACKSON\n",
       "1   2  Samantha    Carter  5/14/2167   38  Gaining Wisdom      CARTER\n",
       "2   3      Jack    O'Neil  6/20/2103  102            Wise      O'NEIL\n",
       "3   4     Susan   Ivanova   9/6/2151   53  Gaining Wisdom     IVANOVA\n",
       "4   5      John  Sheridan  6/23/2167   38  Gaining Wisdom    SHERIDAN\n",
       "5   6     Londo   Mallari  3/19/2174   31  Gaining Wisdom     MALLARI\n",
       "6   7     Aeryn       Sun  1/20/2175   30  Gaining Wisdom         SUN\n",
       "7   8      John  Crichton  12/9/2123   81            Wise    CRICHTON\n",
       "8   9    Sikozu     Shanu  2/22/2149   56  Gaining Wisdom       SHANU"
      ]
     },
     "execution_count": 6,
     "metadata": {},
     "output_type": "execute_result"
    }
   ],
   "source": [
    "df['lname_upper'] = df['lname'].str.upper()\n",
    "df"
   ]
  },
  {
   "cell_type": "markdown",
   "metadata": {},
   "source": [
    "### Drop Columns\n",
    "- `df.drop`\n",
    "    - Use this, not the old one that looks weird\n",
    "- `inplace=True`\n",
    "    - Drops and saves deletion to the df in one step\n",
    "- `axes=1`\n",
    "    - Identifies column"
   ]
  },
  {
   "cell_type": "code",
   "execution_count": null,
   "metadata": {},
   "outputs": [],
   "source": [
    "df.drop('lname_upper', inplace=True, axis=1)\n",
    "df"
   ]
  },
  {
   "cell_type": "markdown",
   "metadata": {},
   "source": [
    "### Selecting String Characters\n",
    "- Strings are arrays of characters\n",
    "    - We can select specific characters by calling their index\n",
    "- To get the first character we can use `df[].str[0]`"
   ]
  },
  {
   "cell_type": "code",
   "execution_count": 9,
   "metadata": {},
   "outputs": [
    {
     "data": {
      "text/html": [
       "<div>\n",
       "<style scoped>\n",
       "    .dataframe tbody tr th:only-of-type {\n",
       "        vertical-align: middle;\n",
       "    }\n",
       "\n",
       "    .dataframe tbody tr th {\n",
       "        vertical-align: top;\n",
       "    }\n",
       "\n",
       "    .dataframe thead th {\n",
       "        text-align: right;\n",
       "    }\n",
       "</style>\n",
       "<table border=\"1\" class=\"dataframe\">\n",
       "  <thead>\n",
       "    <tr style=\"text-align: right;\">\n",
       "      <th></th>\n",
       "      <th>id</th>\n",
       "      <th>fname</th>\n",
       "      <th>lname</th>\n",
       "      <th>birthdate</th>\n",
       "      <th>Age</th>\n",
       "      <th>Age_Category</th>\n",
       "      <th>lname_upper</th>\n",
       "      <th>lname_1stchar</th>\n",
       "    </tr>\n",
       "  </thead>\n",
       "  <tbody>\n",
       "    <tr>\n",
       "      <th>0</th>\n",
       "      <td>1</td>\n",
       "      <td>Daniel</td>\n",
       "      <td>Jackson</td>\n",
       "      <td>6/23/2114</td>\n",
       "      <td>91</td>\n",
       "      <td>Wise</td>\n",
       "      <td>JACKSON</td>\n",
       "      <td>J</td>\n",
       "    </tr>\n",
       "    <tr>\n",
       "      <th>1</th>\n",
       "      <td>2</td>\n",
       "      <td>Samantha</td>\n",
       "      <td>Carter</td>\n",
       "      <td>5/14/2167</td>\n",
       "      <td>38</td>\n",
       "      <td>Gaining Wisdom</td>\n",
       "      <td>CARTER</td>\n",
       "      <td>C</td>\n",
       "    </tr>\n",
       "    <tr>\n",
       "      <th>2</th>\n",
       "      <td>3</td>\n",
       "      <td>Jack</td>\n",
       "      <td>O'Neil</td>\n",
       "      <td>6/20/2103</td>\n",
       "      <td>102</td>\n",
       "      <td>Wise</td>\n",
       "      <td>O'NEIL</td>\n",
       "      <td>O</td>\n",
       "    </tr>\n",
       "    <tr>\n",
       "      <th>3</th>\n",
       "      <td>4</td>\n",
       "      <td>Susan</td>\n",
       "      <td>Ivanova</td>\n",
       "      <td>9/6/2151</td>\n",
       "      <td>53</td>\n",
       "      <td>Gaining Wisdom</td>\n",
       "      <td>IVANOVA</td>\n",
       "      <td>I</td>\n",
       "    </tr>\n",
       "    <tr>\n",
       "      <th>4</th>\n",
       "      <td>5</td>\n",
       "      <td>John</td>\n",
       "      <td>Sheridan</td>\n",
       "      <td>6/23/2167</td>\n",
       "      <td>38</td>\n",
       "      <td>Gaining Wisdom</td>\n",
       "      <td>SHERIDAN</td>\n",
       "      <td>S</td>\n",
       "    </tr>\n",
       "    <tr>\n",
       "      <th>5</th>\n",
       "      <td>6</td>\n",
       "      <td>Londo</td>\n",
       "      <td>Mallari</td>\n",
       "      <td>3/19/2174</td>\n",
       "      <td>31</td>\n",
       "      <td>Gaining Wisdom</td>\n",
       "      <td>MALLARI</td>\n",
       "      <td>M</td>\n",
       "    </tr>\n",
       "    <tr>\n",
       "      <th>6</th>\n",
       "      <td>7</td>\n",
       "      <td>Aeryn</td>\n",
       "      <td>Sun</td>\n",
       "      <td>1/20/2175</td>\n",
       "      <td>30</td>\n",
       "      <td>Gaining Wisdom</td>\n",
       "      <td>SUN</td>\n",
       "      <td>S</td>\n",
       "    </tr>\n",
       "    <tr>\n",
       "      <th>7</th>\n",
       "      <td>8</td>\n",
       "      <td>John</td>\n",
       "      <td>Crichton</td>\n",
       "      <td>12/9/2123</td>\n",
       "      <td>81</td>\n",
       "      <td>Wise</td>\n",
       "      <td>CRICHTON</td>\n",
       "      <td>C</td>\n",
       "    </tr>\n",
       "    <tr>\n",
       "      <th>8</th>\n",
       "      <td>9</td>\n",
       "      <td>Sikozu</td>\n",
       "      <td>Shanu</td>\n",
       "      <td>2/22/2149</td>\n",
       "      <td>56</td>\n",
       "      <td>Gaining Wisdom</td>\n",
       "      <td>SHANU</td>\n",
       "      <td>S</td>\n",
       "    </tr>\n",
       "  </tbody>\n",
       "</table>\n",
       "</div>"
      ],
      "text/plain": [
       "   id     fname     lname  birthdate  Age    Age_Category lname_upper  \\\n",
       "0   1    Daniel   Jackson  6/23/2114   91            Wise     JACKSON   \n",
       "1   2  Samantha    Carter  5/14/2167   38  Gaining Wisdom      CARTER   \n",
       "2   3      Jack    O'Neil  6/20/2103  102            Wise      O'NEIL   \n",
       "3   4     Susan   Ivanova   9/6/2151   53  Gaining Wisdom     IVANOVA   \n",
       "4   5      John  Sheridan  6/23/2167   38  Gaining Wisdom    SHERIDAN   \n",
       "5   6     Londo   Mallari  3/19/2174   31  Gaining Wisdom     MALLARI   \n",
       "6   7     Aeryn       Sun  1/20/2175   30  Gaining Wisdom         SUN   \n",
       "7   8      John  Crichton  12/9/2123   81            Wise    CRICHTON   \n",
       "8   9    Sikozu     Shanu  2/22/2149   56  Gaining Wisdom       SHANU   \n",
       "\n",
       "  lname_1stchar  \n",
       "0             J  \n",
       "1             C  \n",
       "2             O  \n",
       "3             I  \n",
       "4             S  \n",
       "5             M  \n",
       "6             S  \n",
       "7             C  \n",
       "8             S  "
      ]
     },
     "execution_count": 9,
     "metadata": {},
     "output_type": "execute_result"
    }
   ],
   "source": [
    "df['lname_1stchar'] = df['lname'].str[0]\n",
    "df"
   ]
  },
  {
   "cell_type": "markdown",
   "metadata": {},
   "source": [
    "### Date Operations\n",
    "- Look at datatypes to ensure we have dates\n",
    "- Here birthdate is an object (string)\n",
    "- `pd.to_datetime(df['value']).dt.year`\n",
    "    - Casts the dataframe value to year\n",
    "- We can use this to address different elements of the data (month, day, etc)\n",
    "    "
   ]
  },
  {
   "cell_type": "code",
   "execution_count": 11,
   "metadata": {},
   "outputs": [
    {
     "data": {
      "text/plain": [
       "id                int64\n",
       "fname            object\n",
       "lname            object\n",
       "birthdate        object\n",
       "Age               int64\n",
       "Age_Category     object\n",
       "lname_upper      object\n",
       "lname_1stchar    object\n",
       "yr                int64\n",
       "dtype: object"
      ]
     },
     "execution_count": 11,
     "metadata": {},
     "output_type": "execute_result"
    }
   ],
   "source": [
    "df.dtypes"
   ]
  },
  {
   "cell_type": "code",
   "execution_count": 10,
   "metadata": {},
   "outputs": [
    {
     "data": {
      "text/html": [
       "<div>\n",
       "<style scoped>\n",
       "    .dataframe tbody tr th:only-of-type {\n",
       "        vertical-align: middle;\n",
       "    }\n",
       "\n",
       "    .dataframe tbody tr th {\n",
       "        vertical-align: top;\n",
       "    }\n",
       "\n",
       "    .dataframe thead th {\n",
       "        text-align: right;\n",
       "    }\n",
       "</style>\n",
       "<table border=\"1\" class=\"dataframe\">\n",
       "  <thead>\n",
       "    <tr style=\"text-align: right;\">\n",
       "      <th></th>\n",
       "      <th>id</th>\n",
       "      <th>fname</th>\n",
       "      <th>lname</th>\n",
       "      <th>birthdate</th>\n",
       "      <th>Age</th>\n",
       "      <th>Age_Category</th>\n",
       "      <th>lname_upper</th>\n",
       "      <th>lname_1stchar</th>\n",
       "      <th>yr</th>\n",
       "    </tr>\n",
       "  </thead>\n",
       "  <tbody>\n",
       "    <tr>\n",
       "      <th>0</th>\n",
       "      <td>1</td>\n",
       "      <td>Daniel</td>\n",
       "      <td>Jackson</td>\n",
       "      <td>6/23/2114</td>\n",
       "      <td>91</td>\n",
       "      <td>Wise</td>\n",
       "      <td>JACKSON</td>\n",
       "      <td>J</td>\n",
       "      <td>2114</td>\n",
       "    </tr>\n",
       "    <tr>\n",
       "      <th>1</th>\n",
       "      <td>2</td>\n",
       "      <td>Samantha</td>\n",
       "      <td>Carter</td>\n",
       "      <td>5/14/2167</td>\n",
       "      <td>38</td>\n",
       "      <td>Gaining Wisdom</td>\n",
       "      <td>CARTER</td>\n",
       "      <td>C</td>\n",
       "      <td>2167</td>\n",
       "    </tr>\n",
       "    <tr>\n",
       "      <th>2</th>\n",
       "      <td>3</td>\n",
       "      <td>Jack</td>\n",
       "      <td>O'Neil</td>\n",
       "      <td>6/20/2103</td>\n",
       "      <td>102</td>\n",
       "      <td>Wise</td>\n",
       "      <td>O'NEIL</td>\n",
       "      <td>O</td>\n",
       "      <td>2103</td>\n",
       "    </tr>\n",
       "    <tr>\n",
       "      <th>3</th>\n",
       "      <td>4</td>\n",
       "      <td>Susan</td>\n",
       "      <td>Ivanova</td>\n",
       "      <td>9/6/2151</td>\n",
       "      <td>53</td>\n",
       "      <td>Gaining Wisdom</td>\n",
       "      <td>IVANOVA</td>\n",
       "      <td>I</td>\n",
       "      <td>2151</td>\n",
       "    </tr>\n",
       "    <tr>\n",
       "      <th>4</th>\n",
       "      <td>5</td>\n",
       "      <td>John</td>\n",
       "      <td>Sheridan</td>\n",
       "      <td>6/23/2167</td>\n",
       "      <td>38</td>\n",
       "      <td>Gaining Wisdom</td>\n",
       "      <td>SHERIDAN</td>\n",
       "      <td>S</td>\n",
       "      <td>2167</td>\n",
       "    </tr>\n",
       "    <tr>\n",
       "      <th>5</th>\n",
       "      <td>6</td>\n",
       "      <td>Londo</td>\n",
       "      <td>Mallari</td>\n",
       "      <td>3/19/2174</td>\n",
       "      <td>31</td>\n",
       "      <td>Gaining Wisdom</td>\n",
       "      <td>MALLARI</td>\n",
       "      <td>M</td>\n",
       "      <td>2174</td>\n",
       "    </tr>\n",
       "    <tr>\n",
       "      <th>6</th>\n",
       "      <td>7</td>\n",
       "      <td>Aeryn</td>\n",
       "      <td>Sun</td>\n",
       "      <td>1/20/2175</td>\n",
       "      <td>30</td>\n",
       "      <td>Gaining Wisdom</td>\n",
       "      <td>SUN</td>\n",
       "      <td>S</td>\n",
       "      <td>2175</td>\n",
       "    </tr>\n",
       "    <tr>\n",
       "      <th>7</th>\n",
       "      <td>8</td>\n",
       "      <td>John</td>\n",
       "      <td>Crichton</td>\n",
       "      <td>12/9/2123</td>\n",
       "      <td>81</td>\n",
       "      <td>Wise</td>\n",
       "      <td>CRICHTON</td>\n",
       "      <td>C</td>\n",
       "      <td>2123</td>\n",
       "    </tr>\n",
       "    <tr>\n",
       "      <th>8</th>\n",
       "      <td>9</td>\n",
       "      <td>Sikozu</td>\n",
       "      <td>Shanu</td>\n",
       "      <td>2/22/2149</td>\n",
       "      <td>56</td>\n",
       "      <td>Gaining Wisdom</td>\n",
       "      <td>SHANU</td>\n",
       "      <td>S</td>\n",
       "      <td>2149</td>\n",
       "    </tr>\n",
       "  </tbody>\n",
       "</table>\n",
       "</div>"
      ],
      "text/plain": [
       "   id     fname     lname  birthdate  Age    Age_Category lname_upper  \\\n",
       "0   1    Daniel   Jackson  6/23/2114   91            Wise     JACKSON   \n",
       "1   2  Samantha    Carter  5/14/2167   38  Gaining Wisdom      CARTER   \n",
       "2   3      Jack    O'Neil  6/20/2103  102            Wise      O'NEIL   \n",
       "3   4     Susan   Ivanova   9/6/2151   53  Gaining Wisdom     IVANOVA   \n",
       "4   5      John  Sheridan  6/23/2167   38  Gaining Wisdom    SHERIDAN   \n",
       "5   6     Londo   Mallari  3/19/2174   31  Gaining Wisdom     MALLARI   \n",
       "6   7     Aeryn       Sun  1/20/2175   30  Gaining Wisdom         SUN   \n",
       "7   8      John  Crichton  12/9/2123   81            Wise    CRICHTON   \n",
       "8   9    Sikozu     Shanu  2/22/2149   56  Gaining Wisdom       SHANU   \n",
       "\n",
       "  lname_1stchar    yr  \n",
       "0             J  2114  \n",
       "1             C  2167  \n",
       "2             O  2103  \n",
       "3             I  2151  \n",
       "4             S  2167  \n",
       "5             M  2174  \n",
       "6             S  2175  \n",
       "7             C  2123  \n",
       "8             S  2149  "
      ]
     },
     "execution_count": 10,
     "metadata": {},
     "output_type": "execute_result"
    }
   ],
   "source": [
    "df['yr'] = pd.to_datetime(df['birthdate']).dt.year\n",
    "df"
   ]
  },
  {
   "cell_type": "markdown",
   "metadata": {},
   "source": [
    "## Data Munging Concerns\n",
    "- Balancing between cleaning and manipulation\n",
    "    - Cleaning: Making data more readily usable\n",
    "    - Manipulation: Changing the meaning\n",
    "- Also balance between time and value \n",
    "    - We can spend forever cleaning\n",
    "- Ethics\n",
    "    - Would my actions be defendable depending on analysis of processed data? "
   ]
  },
  {
   "cell_type": "markdown",
   "metadata": {},
   "source": [
    "## Munging Missing Values\n",
    "- Not just missing measures or numerics\n",
    "- Common missing issues\n",
    "    - Data value is missing\n",
    "    - Data attributes\n",
    "        - Missing textual attributes\n",
    "        - E.g. we have temperature but not state\n",
    "    - Data keys\n",
    "        - Missing key to join datasets\n",
    "- Fixing missing data values\n",
    "    - Easiest: replace with avg, min, max, etc\n",
    "- Fixing data attributes?\n",
    "    - E.g. list of states, we can't average a state"
   ]
  },
  {
   "cell_type": "markdown",
   "metadata": {},
   "source": [
    "Setup:"
   ]
  },
  {
   "cell_type": "code",
   "execution_count": 13,
   "metadata": {},
   "outputs": [],
   "source": [
    "url = 'http://drd.ba.ttu.edu/isqs6339/ex/L2.2/'\n",
    "file_1 = 'employment.csv'\n",
    "file_2 = 'job_title.csv'\n",
    "file_3 = 'job_title_year.csv'\n",
    "\n",
    "#pull employment\n",
    "res = r.get(url + file_1)\n",
    "res.status_code\n",
    "df_emp = pd.read_csv(io.StringIO(res.text)) \n",
    "\n",
    "#pull job\n",
    "res = r.get(url + file_2)\n",
    "res.status_code\n",
    "df_job = pd.read_csv(io.StringIO(res.text)) "
   ]
  },
  {
   "cell_type": "markdown",
   "metadata": {},
   "source": [
    "### Investigating Missing Data\n",
    "- A good way to start is looking at the count of values\n",
    "- Typically you should not have different values for each column, that's a red flag\n",
    "- Note the odd/different values\n",
    "- This is counting the number of non-NAs, not the number of rows"
   ]
  },
  {
   "cell_type": "code",
   "execution_count": 15,
   "metadata": {},
   "outputs": [
    {
     "data": {
      "text/plain": [
       "id            99\n",
       "ssn           99\n",
       "age           99\n",
       "salary        95\n",
       "jobtitleid    94\n",
       "dtype: int64"
      ]
     },
     "execution_count": 15,
     "metadata": {},
     "output_type": "execute_result"
    }
   ],
   "source": [
    "df_emp.head()\n",
    "#Let's look at the count\n",
    "df_emp.count()"
   ]
  },
  {
   "cell_type": "markdown",
   "metadata": {},
   "source": [
    "### Identifying Nulls"
   ]
  },
  {
   "cell_type": "markdown",
   "metadata": {},
   "source": [
    "Identify the 'not' NAs:"
   ]
  },
  {
   "cell_type": "code",
   "execution_count": null,
   "metadata": {},
   "outputs": [],
   "source": [
    "df_emp[df_emp['salary'].notna()]"
   ]
  },
  {
   "cell_type": "markdown",
   "metadata": {},
   "source": [
    "Now let's look for the nulls directly:"
   ]
  },
  {
   "cell_type": "code",
   "execution_count": 16,
   "metadata": {},
   "outputs": [
    {
     "data": {
      "text/html": [
       "<div>\n",
       "<style scoped>\n",
       "    .dataframe tbody tr th:only-of-type {\n",
       "        vertical-align: middle;\n",
       "    }\n",
       "\n",
       "    .dataframe tbody tr th {\n",
       "        vertical-align: top;\n",
       "    }\n",
       "\n",
       "    .dataframe thead th {\n",
       "        text-align: right;\n",
       "    }\n",
       "</style>\n",
       "<table border=\"1\" class=\"dataframe\">\n",
       "  <thead>\n",
       "    <tr style=\"text-align: right;\">\n",
       "      <th></th>\n",
       "      <th>id</th>\n",
       "      <th>ssn</th>\n",
       "      <th>age</th>\n",
       "      <th>salary</th>\n",
       "      <th>jobtitleid</th>\n",
       "    </tr>\n",
       "  </thead>\n",
       "  <tbody>\n",
       "    <tr>\n",
       "      <th>10</th>\n",
       "      <td>11</td>\n",
       "      <td>521003273</td>\n",
       "      <td>38</td>\n",
       "      <td>NaN</td>\n",
       "      <td>6.0</td>\n",
       "    </tr>\n",
       "    <tr>\n",
       "      <th>22</th>\n",
       "      <td>23</td>\n",
       "      <td>526007969</td>\n",
       "      <td>23</td>\n",
       "      <td>NaN</td>\n",
       "      <td>1.0</td>\n",
       "    </tr>\n",
       "    <tr>\n",
       "      <th>44</th>\n",
       "      <td>45</td>\n",
       "      <td>707009414</td>\n",
       "      <td>29</td>\n",
       "      <td>NaN</td>\n",
       "      <td>8.0</td>\n",
       "    </tr>\n",
       "    <tr>\n",
       "      <th>59</th>\n",
       "      <td>60</td>\n",
       "      <td>364006076</td>\n",
       "      <td>46</td>\n",
       "      <td>NaN</td>\n",
       "      <td>7.0</td>\n",
       "    </tr>\n",
       "  </tbody>\n",
       "</table>\n",
       "</div>"
      ],
      "text/plain": [
       "    id        ssn  age  salary  jobtitleid\n",
       "10  11  521003273   38     NaN         6.0\n",
       "22  23  526007969   23     NaN         1.0\n",
       "44  45  707009414   29     NaN         8.0\n",
       "59  60  364006076   46     NaN         7.0"
      ]
     },
     "execution_count": 16,
     "metadata": {},
     "output_type": "execute_result"
    }
   ],
   "source": [
    "df_emp[df_emp['salary'].isnull()]"
   ]
  },
  {
   "cell_type": "markdown",
   "metadata": {},
   "source": [
    "### Filling Nulls"
   ]
  },
  {
   "cell_type": "markdown",
   "metadata": {},
   "source": [
    "#### Filling Nulls with Zeroes\n",
    "- Now salaries are fixed"
   ]
  },
  {
   "cell_type": "code",
   "execution_count": 17,
   "metadata": {},
   "outputs": [
    {
     "data": {
      "text/plain": [
       "id            99\n",
       "ssn           99\n",
       "age           99\n",
       "salary        99\n",
       "jobtitleid    94\n",
       "dtype: int64"
      ]
     },
     "execution_count": 17,
     "metadata": {},
     "output_type": "execute_result"
    }
   ],
   "source": [
    "df_emp['salary'].fillna(0, inplace=True)\n",
    "df_emp.count()"
   ]
  },
  {
   "cell_type": "markdown",
   "metadata": {},
   "source": [
    "#### Filling Nulls with Averages\n",
    "- Might be a better idea than zeroes depending on data"
   ]
  },
  {
   "cell_type": "code",
   "execution_count": 18,
   "metadata": {},
   "outputs": [],
   "source": [
    "# Reset dataframe to unfix salaries\n",
    "res = r.get(url + file_1)\n",
    "res.status_code\n",
    "df_emp = pd.read_csv(io.StringIO(res.text)) "
   ]
  },
  {
   "cell_type": "markdown",
   "metadata": {},
   "source": [
    "Loop over rows to fill in averages:\n",
    "`df_emp['salary']`\n",
    "    - Looking at salary column\n",
    "`[(df_emp['jobtitleid'] == row['jobtitleid'])`\n",
    "    - We want the jobtitle to equal the current row we're iterating on \n",
    "`(df_emp['salary'].isnull())]`\n",
    "    - AND we want to ensure we're only editing null salary rows\n",
    "    - This is important, we're replacing data!\n",
    "`= row['avg_salary']`\n",
    "- Set row equal to average salary"
   ]
  },
  {
   "cell_type": "code",
   "execution_count": 20,
   "metadata": {},
   "outputs": [
    {
     "name": "stderr",
     "output_type": "stream",
     "text": [
      "/Users/jdmini/opt/anaconda3/lib/python3.7/site-packages/ipykernel_launcher.py:2: SettingWithCopyWarning: \n",
      "A value is trying to be set on a copy of a slice from a DataFrame\n",
      "\n",
      "See the caveats in the documentation: https://pandas.pydata.org/pandas-docs/stable/user_guide/indexing.html#returning-a-view-versus-a-copy\n",
      "  \n"
     ]
    },
    {
     "data": {
      "text/plain": [
       "id            99\n",
       "ssn           99\n",
       "age           99\n",
       "salary        99\n",
       "jobtitleid    94\n",
       "dtype: int64"
      ]
     },
     "execution_count": 20,
     "metadata": {},
     "output_type": "execute_result"
    }
   ],
   "source": [
    "for index, row in df_job.iterrows():\n",
    "        df_emp['salary'][(df_emp['jobtitleid'] == row['jobtitleid']) & (df_emp['salary'].isnull())] = row['avg_salary']\n",
    "\n",
    "df_emp.count()"
   ]
  },
  {
   "cell_type": "markdown",
   "metadata": {},
   "source": [
    "Nicer way to accomplish this:"
   ]
  },
  {
   "cell_type": "code",
   "execution_count": 30,
   "metadata": {},
   "outputs": [],
   "source": [
    "#reset the dataframe\n",
    "res = r.get(url + file_1)\n",
    "res.status_code\n",
    "df_emp = pd.read_csv(io.StringIO(res.text)) \n",
    "\n",
    "for index, row in df_emp.iterrows():\n",
    "    if pd.isna(df_emp.at[index, 'salary']):\n",
    "        df_emp.at[index, 'salary'] = df_job['avg_salary'][df_job['jobtitleid']==row['jobtitleid']]"
   ]
  },
  {
   "cell_type": "markdown",
   "metadata": {},
   "source": [
    "### Join Issues"
   ]
  },
  {
   "cell_type": "code",
   "execution_count": 25,
   "metadata": {},
   "outputs": [],
   "source": [
    "#reset the dataframe\n",
    "res = r.get(url + file_1)\n",
    "res.status_code\n",
    "df_emp = pd.read_csv(io.StringIO(res.text)) "
   ]
  },
  {
   "cell_type": "markdown",
   "metadata": {},
   "source": [
    "Join our files and look at the count for issues"
   ]
  },
  {
   "cell_type": "code",
   "execution_count": 26,
   "metadata": {},
   "outputs": [
    {
     "data": {
      "text/html": [
       "<div>\n",
       "<style scoped>\n",
       "    .dataframe tbody tr th:only-of-type {\n",
       "        vertical-align: middle;\n",
       "    }\n",
       "\n",
       "    .dataframe tbody tr th {\n",
       "        vertical-align: top;\n",
       "    }\n",
       "\n",
       "    .dataframe thead th {\n",
       "        text-align: right;\n",
       "    }\n",
       "</style>\n",
       "<table border=\"1\" class=\"dataframe\">\n",
       "  <thead>\n",
       "    <tr style=\"text-align: right;\">\n",
       "      <th></th>\n",
       "      <th>id</th>\n",
       "      <th>ssn</th>\n",
       "      <th>age</th>\n",
       "      <th>salary</th>\n",
       "      <th>jobtitleid</th>\n",
       "      <th>jobtitle</th>\n",
       "      <th>avg_salary</th>\n",
       "      <th>avg_age</th>\n",
       "    </tr>\n",
       "  </thead>\n",
       "  <tbody>\n",
       "    <tr>\n",
       "      <th>0</th>\n",
       "      <td>1</td>\n",
       "      <td>933003970</td>\n",
       "      <td>22</td>\n",
       "      <td>84370.0</td>\n",
       "      <td>8.0</td>\n",
       "      <td>Asst. Manager</td>\n",
       "      <td>81000</td>\n",
       "      <td>32</td>\n",
       "    </tr>\n",
       "    <tr>\n",
       "      <th>1</th>\n",
       "      <td>7</td>\n",
       "      <td>733008623</td>\n",
       "      <td>30</td>\n",
       "      <td>97576.0</td>\n",
       "      <td>8.0</td>\n",
       "      <td>Asst. Manager</td>\n",
       "      <td>81000</td>\n",
       "      <td>32</td>\n",
       "    </tr>\n",
       "    <tr>\n",
       "      <th>2</th>\n",
       "      <td>37</td>\n",
       "      <td>750004704</td>\n",
       "      <td>46</td>\n",
       "      <td>47686.0</td>\n",
       "      <td>8.0</td>\n",
       "      <td>Asst. Manager</td>\n",
       "      <td>81000</td>\n",
       "      <td>32</td>\n",
       "    </tr>\n",
       "    <tr>\n",
       "      <th>3</th>\n",
       "      <td>45</td>\n",
       "      <td>707009414</td>\n",
       "      <td>29</td>\n",
       "      <td>NaN</td>\n",
       "      <td>8.0</td>\n",
       "      <td>Asst. Manager</td>\n",
       "      <td>81000</td>\n",
       "      <td>32</td>\n",
       "    </tr>\n",
       "    <tr>\n",
       "      <th>4</th>\n",
       "      <td>50</td>\n",
       "      <td>284001503</td>\n",
       "      <td>39</td>\n",
       "      <td>98150.0</td>\n",
       "      <td>8.0</td>\n",
       "      <td>Asst. Manager</td>\n",
       "      <td>81000</td>\n",
       "      <td>32</td>\n",
       "    </tr>\n",
       "  </tbody>\n",
       "</table>\n",
       "</div>"
      ],
      "text/plain": [
       "   id        ssn  age   salary  jobtitleid       jobtitle  avg_salary  avg_age\n",
       "0   1  933003970   22  84370.0         8.0  Asst. Manager       81000       32\n",
       "1   7  733008623   30  97576.0         8.0  Asst. Manager       81000       32\n",
       "2  37  750004704   46  47686.0         8.0  Asst. Manager       81000       32\n",
       "3  45  707009414   29      NaN         8.0  Asst. Manager       81000       32\n",
       "4  50  284001503   39  98150.0         8.0  Asst. Manager       81000       32"
      ]
     },
     "execution_count": 26,
     "metadata": {},
     "output_type": "execute_result"
    }
   ],
   "source": [
    "dfmerged = df_emp.merge(df_job, how='inner', on='jobtitleid')\n",
    "dfmerged.head()"
   ]
  },
  {
   "cell_type": "code",
   "execution_count": 27,
   "metadata": {},
   "outputs": [
    {
     "data": {
      "text/plain": [
       "id            94\n",
       "ssn           94\n",
       "age           94\n",
       "salary        90\n",
       "jobtitleid    94\n",
       "jobtitle      94\n",
       "avg_salary    94\n",
       "avg_age       94\n",
       "dtype: int64"
      ]
     },
     "execution_count": 27,
     "metadata": {},
     "output_type": "execute_result"
    }
   ],
   "source": [
    "dfmerged.count()"
   ]
  },
  {
   "cell_type": "markdown",
   "metadata": {},
   "source": [
    "Our counts are off, let's try with a left instead of inner join:"
   ]
  },
  {
   "cell_type": "code",
   "execution_count": 28,
   "metadata": {},
   "outputs": [
    {
     "data": {
      "text/plain": [
       "id            99\n",
       "ssn           99\n",
       "age           99\n",
       "salary        95\n",
       "jobtitleid    94\n",
       "jobtitle      94\n",
       "avg_salary    94\n",
       "avg_age       94\n",
       "dtype: int64"
      ]
     },
     "execution_count": 28,
     "metadata": {},
     "output_type": "execute_result"
    }
   ],
   "source": [
    "dfmerged = df_emp.merge(df_job, how='left', on='jobtitleid')\n",
    "dfmerged.count()"
   ]
  },
  {
   "cell_type": "markdown",
   "metadata": {},
   "source": [
    "#### Filling NAs\n",
    "- `df.fillna()`\n",
    "- To update multiple values at once we can insert a dictionary into `.fillna`\n",
    "    - Key: column\n",
    "    - Value: value to insert into nulls"
   ]
  },
  {
   "cell_type": "code",
   "execution_count": 29,
   "metadata": {},
   "outputs": [
    {
     "data": {
      "text/plain": [
       "id            99\n",
       "ssn           99\n",
       "age           99\n",
       "salary        95\n",
       "jobtitleid    99\n",
       "jobtitle      99\n",
       "avg_salary    99\n",
       "avg_age       99\n",
       "dtype: int64"
      ]
     },
     "execution_count": 29,
     "metadata": {},
     "output_type": "execute_result"
    }
   ],
   "source": [
    "dfmergedcln = dfmerged.fillna({'jobtitleid' : -1, 'jobtitle':'other', 'avg_salary':0, 'avg_age':0})\n",
    "dfmergedcln.count()"
   ]
  },
  {
   "cell_type": "markdown",
   "metadata": {},
   "source": [
    "#### Best Practice\n",
    "- May be better to add null rows to job files\n",
    "- Create a dummy job ID then remerge to avoid key errors "
   ]
  },
  {
   "cell_type": "markdown",
   "metadata": {},
   "source": [
    "### Missing Values Outcomes\n",
    "- Everything we do is a compromise\n",
    "    - We are modifying data no matter what\n",
    "- We need to document our assumptions\n",
    "- Practices\n",
    "    - Check your assumptions\n",
    "    - Can you justify your methodology?\n",
    "    - Does the modification introduce ambiguity? \n",
    "- Goal: Clean data with minimal modification to the source"
   ]
  }
 ],
 "metadata": {
  "kernelspec": {
   "display_name": "Python 3",
   "language": "python",
   "name": "python3"
  },
  "language_info": {
   "codemirror_mode": {
    "name": "ipython",
    "version": 3
   },
   "file_extension": ".py",
   "mimetype": "text/x-python",
   "name": "python",
   "nbconvert_exporter": "python",
   "pygments_lexer": "ipython3",
   "version": "3.7.6"
  },
  "toc": {
   "base_numbering": 1,
   "nav_menu": {},
   "number_sections": true,
   "sideBar": true,
   "skip_h1_title": true,
   "title_cell": "Table of Contents",
   "title_sidebar": "Contents",
   "toc_cell": true,
   "toc_position": {},
   "toc_section_display": true,
   "toc_window_display": false
  }
 },
 "nbformat": 4,
 "nbformat_minor": 4
}
