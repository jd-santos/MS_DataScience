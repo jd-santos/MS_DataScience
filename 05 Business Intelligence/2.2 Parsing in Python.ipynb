{
 "cells": [
  {
   "cell_type": "markdown",
   "metadata": {
    "toc": true
   },
   "source": [
    "<h1>Table of Contents<span class=\"tocSkip\"></span></h1>\n",
    "<div class=\"toc\"><ul class=\"toc-item\"><li><span><a href=\"#Parsing-Review\" data-toc-modified-id=\"Parsing-Review-1\"><span class=\"toc-item-num\">1&nbsp;&nbsp;</span>Parsing Review</a></span></li><li><span><a href=\"#Nested-Search\" data-toc-modified-id=\"Nested-Search-2\"><span class=\"toc-item-num\">2&nbsp;&nbsp;</span>Nested Search</a></span></li><li><span><a href=\"#Prepare-CSV-Export\" data-toc-modified-id=\"Prepare-CSV-Export-3\"><span class=\"toc-item-num\">3&nbsp;&nbsp;</span>Prepare CSV Export</a></span></li><li><span><a href=\"#Export-to-CSV\" data-toc-modified-id=\"Export-to-CSV-4\"><span class=\"toc-item-num\">4&nbsp;&nbsp;</span>Export to CSV</a></span></li></ul></div>"
   ]
  },
  {
   "cell_type": "markdown",
   "metadata": {},
   "source": [
    "## Parsing Review"
   ]
  },
  {
   "cell_type": "markdown",
   "metadata": {},
   "source": [
    "Import libraries, including csv which we will be using to generate CSV outputs"
   ]
  },
  {
   "cell_type": "code",
   "execution_count": 1,
   "metadata": {},
   "outputs": [],
   "source": [
    "import requests as r\n",
    "from bs4 import BeautifulSoup\n",
    "import csv"
   ]
  },
  {
   "cell_type": "markdown",
   "metadata": {},
   "source": [
    "Set URL and filepath for efficiency, run a get on the URL"
   ]
  },
  {
   "cell_type": "code",
   "execution_count": 2,
   "metadata": {},
   "outputs": [],
   "source": [
    "urltoget = 'http://drd.ba.ttu.edu/isqs6339/imbadproducts/'\n",
    "filepath = '/Users/jdmini/Library/Group Containers/D75L7R8266.com.reinvented.KeepIt/Keep It/Files/MS_DataScience/Business Intelligence/Assets/2.1_DataOut'\n",
    "\n",
    "res = r.get(urltoget)"
   ]
  },
  {
   "cell_type": "markdown",
   "metadata": {},
   "source": [
    "Small script to check if request is good"
   ]
  },
  {
   "cell_type": "code",
   "execution_count": 3,
   "metadata": {},
   "outputs": [
    {
     "name": "stdout",
     "output_type": "stream",
     "text": [
      "request is good\n"
     ]
    }
   ],
   "source": [
    "#Check if we have a good request\n",
    "if res.status_code == 200:\n",
    "    print('request is good')\n",
    "else:\n",
    "    print('bad request, received code ' + str(res.status_code))"
   ]
  },
  {
   "cell_type": "markdown",
   "metadata": {},
   "source": [
    "Examine the server header, double check we're working with a normal HTML file"
   ]
  },
  {
   "cell_type": "code",
   "execution_count": null,
   "metadata": {},
   "outputs": [],
   "source": [
    "#Let's look at the server header\n",
    "print(res.headers)    "
   ]
  },
  {
   "cell_type": "markdown",
   "metadata": {},
   "source": [
    "Fire up the parser and place the code into 'soup' object"
   ]
  },
  {
   "cell_type": "code",
   "execution_count": 5,
   "metadata": {},
   "outputs": [],
   "source": [
    "#Let's identify our products blocks in HTML\n",
    "soup = BeautifulSoup(res.content,'lxml')"
   ]
  },
  {
   "cell_type": "markdown",
   "metadata": {},
   "source": [
    "- find_all the anchor tags\n",
    "- Store them in product_result\n",
    "- Use for loop to print all of the anchor tag content"
   ]
  },
  {
   "cell_type": "code",
   "execution_count": 6,
   "metadata": {
    "scrolled": true
   },
   "outputs": [
    {
     "name": "stdout",
     "output_type": "stream",
     "text": [
      "<a href=\"products/B01NAJGGA2.html\">\n",
      "<div class=\"productresult\">\n",
      "<span class=\"productid\">B01NAJGGA2</span>\n",
      "<span class=\"producttitle\">Mpow 059 Bluetooth Headphones</span>\n",
      "<span class=\"productprice\">$35.99</span>\n",
      "<span class=\"productdesc\">Over Ear, Hi-Fi Stereo Wireless Headset, Foldable, Soft Memory-Protein Earmuffs, w/Built-in Mic Wired Mode PC/Cell Phones/TV</span>\n",
      "</div>\n",
      "</a>\n",
      "<a href=\"products/B07JMSQLCP.html\">\n",
      "<div class=\"productresult\">\n",
      "<span class=\"productid\">B07JMSQLCP</span>\n",
      "<span class=\"producttitle\">APIE Bluetooth Headphones, Wireless Earbuds</span>\n",
      "<span class=\"productprice\">$19.99</span>\n",
      "<span class=\"productdesc\">Bluetooth 4.1 with Microphone Sport Stereo Headset, Stereo Neckband Headset, Premium Sound with Bass, Noise Cancelling - Black</span>\n",
      "</div>\n",
      "</a>\n",
      "<a href=\"products/B018APC4LE.html\">\n",
      "<div class=\"productresult\">\n",
      "<span class=\"productid\">B018APC4LE</span>\n",
      "<span class=\"producttitle\">Bluetooth Headphones, Otium</span>\n",
      "<span class=\"productprice\">$19.97</span>\n",
      "<span class=\"productdesc\">Best Wireless Sports Earphones W/Mic IPX7 Waterproof HD Stereo Sweatproof in Ear Earbuds Gym Running Workout 8 Hour Battery Noise Cancelling Headsets</span>\n",
      "</div>\n",
      "</a>\n"
     ]
    }
   ],
   "source": [
    "product_result = soup.find_all('a')\n",
    "for pr in product_result:\n",
    "    print(pr)"
   ]
  },
  {
   "cell_type": "markdown",
   "metadata": {},
   "source": [
    "## Nested Search\n",
    "- Our previous approach works on simple pages, but if there are additional anchors this may complicate parsing\n",
    "    - Example: footers often contain anchor tags\n",
    "- This is a good use for nested searches\n",
    "- In this case, we know that all of the products were contained within a div with an id of 'searchresults'\n",
    "    - We can pass that into the attrs parameter of soup.find"
   ]
  },
  {
   "cell_type": "code",
   "execution_count": 8,
   "metadata": {},
   "outputs": [],
   "source": [
    "search_results = soup.find('div', attrs={'id' : 'searchresults'})"
   ]
  },
  {
   "cell_type": "markdown",
   "metadata": {},
   "source": [
    "Now our new variable 'search_results' is an object containing just the results in the searchresults div of our soup object\n",
    "- We can run the same find_all within it to locate all of the anchor tags\n",
    "- Loop through it as before to print all of the results\n",
    "- In this example there weren't any extra anchor tags on the page, so this output is the same"
   ]
  },
  {
   "cell_type": "code",
   "execution_count": 9,
   "metadata": {
    "collapsed": true
   },
   "outputs": [
    {
     "name": "stdout",
     "output_type": "stream",
     "text": [
      "<a href=\"products/B01NAJGGA2.html\">\n",
      "<div class=\"productresult\">\n",
      "<span class=\"productid\">B01NAJGGA2</span>\n",
      "<span class=\"producttitle\">Mpow 059 Bluetooth Headphones</span>\n",
      "<span class=\"productprice\">$35.99</span>\n",
      "<span class=\"productdesc\">Over Ear, Hi-Fi Stereo Wireless Headset, Foldable, Soft Memory-Protein Earmuffs, w/Built-in Mic Wired Mode PC/Cell Phones/TV</span>\n",
      "</div>\n",
      "</a>\n",
      "<a href=\"products/B07JMSQLCP.html\">\n",
      "<div class=\"productresult\">\n",
      "<span class=\"productid\">B07JMSQLCP</span>\n",
      "<span class=\"producttitle\">APIE Bluetooth Headphones, Wireless Earbuds</span>\n",
      "<span class=\"productprice\">$19.99</span>\n",
      "<span class=\"productdesc\">Bluetooth 4.1 with Microphone Sport Stereo Headset, Stereo Neckband Headset, Premium Sound with Bass, Noise Cancelling - Black</span>\n",
      "</div>\n",
      "</a>\n",
      "<a href=\"products/B018APC4LE.html\">\n",
      "<div class=\"productresult\">\n",
      "<span class=\"productid\">B018APC4LE</span>\n",
      "<span class=\"producttitle\">Bluetooth Headphones, Otium</span>\n",
      "<span class=\"productprice\">$19.97</span>\n",
      "<span class=\"productdesc\">Best Wireless Sports Earphones W/Mic IPX7 Waterproof HD Stereo Sweatproof in Ear Earbuds Gym Running Workout 8 Hour Battery Noise Cancelling Headsets</span>\n",
      "</div>\n",
      "</a>\n"
     ]
    }
   ],
   "source": [
    "#Now, search for anchors within that result\n",
    "product_result = search_results.find_all('a')    \n",
    "for pr in product_result:\n",
    "    print(pr)"
   ]
  },
  {
   "cell_type": "markdown",
   "metadata": {},
   "source": [
    "## Prepare CSV Export\n",
    "- To begin our CSV export, we need to print out the results for each item\n",
    "    - In this case we can use the class attribute of the tags\n",
    "- Note: this is in memory on the machine\n",
    "    - The doesn't re-query the server\n",
    "- Notice concatenations inside of print statement\n",
    "    - Also converting our pr.find to text with .text\n"
   ]
  },
  {
   "cell_type": "code",
   "execution_count": 10,
   "metadata": {},
   "outputs": [
    {
     "name": "stdout",
     "output_type": "stream",
     "text": [
      "URL:  products/B01NAJGGA2.html\n",
      "Product ID:  B01NAJGGA2\n",
      "Product Title:  Mpow 059 Bluetooth Headphones\n",
      "Product Price:  $35.99\n",
      "Product Description:  Over Ear, Hi-Fi Stereo Wireless Headset, Foldable, Soft Memory-Protein Earmuffs, w/Built-in Mic Wired Mode PC/Cell Phones/TV\n",
      "----------------\n",
      "URL:  products/B07JMSQLCP.html\n",
      "Product ID:  B07JMSQLCP\n",
      "Product Title:  APIE Bluetooth Headphones, Wireless Earbuds\n",
      "Product Price:  $19.99\n",
      "Product Description:  Bluetooth 4.1 with Microphone Sport Stereo Headset, Stereo Neckband Headset, Premium Sound with Bass, Noise Cancelling - Black\n",
      "----------------\n",
      "URL:  products/B018APC4LE.html\n",
      "Product ID:  B018APC4LE\n",
      "Product Title:  Bluetooth Headphones, Otium\n",
      "Product Price:  $19.97\n",
      "Product Description:  Best Wireless Sports Earphones W/Mic IPX7 Waterproof HD Stereo Sweatproof in Ear Earbuds Gym Running Workout 8 Hour Battery Noise Cancelling Headsets\n",
      "----------------\n"
     ]
    }
   ],
   "source": [
    "#Let's print out each part for each item    \n",
    "product_result = search_results.find_all('a')    \n",
    "for pr in product_result:\n",
    "    print('URL:  ' + pr['href'])\n",
    "    print('Product ID:  ' + pr.find('span', attrs={'class' : 'productid'}).text)\n",
    "    print('Product Title:  ' + pr.find('span', attrs={'class' : 'producttitle'}).text)\n",
    "    print('Product Price:  ' + pr.find('span', attrs={'class' : 'productprice'}).text)\n",
    "    print('Product Description:  ' + pr.find('span', attrs={'class' : 'productdesc'}).text)\n",
    "    print('----------------')"
   ]
  },
  {
   "cell_type": "markdown",
   "metadata": {},
   "source": [
    "## Export to CSV \n",
    "- Begin by opening the file at the filepath with the write attribute\n",
    "    - alias to dataout\n",
    "- Create csv.writer object 'datawriter'\n",
    "    - Use the dataout file\n",
    "    - Set delimiter to comma \n",
    "    - Quotechar (quote character) ensures columns are surrounded by quotes\n",
    "        - Since comma is our delimiter, this is useful in case a comma appears in the middle of a data item\n",
    "    - csv.QUOTE_NONNUMERIC ensures we are only quoting nonnumeric data\n",
    "        - We're only putting those quotes around nonnumeric data, theoritcally it shouldn't have our delimiter (comma)\n",
    "- The first csv.writerow adds the first row to create column headers (names)\n",
    "    - Nothing makes this a header except that it's the first row\n",
    "    - In this case we add it as an array\n",
    "- Loop through product_result writing the rows sequentially\n",
    "    - This will add one row at a time found with .find\n",
    "    - Should result in rows for each of the products    "
   ]
  },
  {
   "cell_type": "code",
   "execution_count": 13,
   "metadata": {},
   "outputs": [],
   "source": [
    "#Let's put this in a csv file\n",
    "\n",
    "with open(filepath, 'w') as dataout:\n",
    "    datawriter = csv.writer(dataout, delimiter=',', quotechar='\"', quoting=csv.QUOTE_NONNUMERIC)\n",
    "    datawriter.writerow(['URL', 'id', 'title', 'price', 'description'])\n",
    "    for pr in product_result:\n",
    "        datawriter.writerow([pr['href'],\n",
    "                             pr.find('span', attrs={'class' : 'productid'}).text,\n",
    "                             pr.find('span', attrs={'class' : 'producttitle'}).text,\n",
    "                             pr.find('span', attrs={'class' : 'productprice'}).text,\n",
    "                             pr.find('span', attrs={'class' : 'productdesc'}).text])"
   ]
  }
 ],
 "metadata": {
  "kernelspec": {
   "display_name": "Python 3",
   "language": "python",
   "name": "python3"
  },
  "language_info": {
   "codemirror_mode": {
    "name": "ipython",
    "version": 3
   },
   "file_extension": ".py",
   "mimetype": "text/x-python",
   "name": "python",
   "nbconvert_exporter": "python",
   "pygments_lexer": "ipython3",
   "version": "3.7.6"
  },
  "toc": {
   "base_numbering": 1,
   "nav_menu": {},
   "number_sections": true,
   "sideBar": true,
   "skip_h1_title": true,
   "title_cell": "Table of Contents",
   "title_sidebar": "Contents",
   "toc_cell": true,
   "toc_position": {},
   "toc_section_display": true,
   "toc_window_display": false
  }
 },
 "nbformat": 4,
 "nbformat_minor": 4
}
