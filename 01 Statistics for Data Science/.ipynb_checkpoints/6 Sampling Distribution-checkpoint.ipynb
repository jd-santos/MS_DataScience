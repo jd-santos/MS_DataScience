{
 "cells": [
  {
   "cell_type": "markdown",
   "metadata": {
    "toc": true
   },
   "source": [
    "<h1>Table of Contents<span class=\"tocSkip\"></span></h1>\n",
    "<div class=\"toc\"><ul class=\"toc-item\"><li><span><a href=\"#Overview\" data-toc-modified-id=\"Overview-1\"><span class=\"toc-item-num\">1&nbsp;&nbsp;</span>Overview</a></span><ul class=\"toc-item\"><li><span><a href=\"#Notation-for-Statistics-and-Parameters\" data-toc-modified-id=\"Notation-for-Statistics-and-Parameters-1.1\"><span class=\"toc-item-num\">1.1&nbsp;&nbsp;</span>Notation for Statistics and Parameters</a></span></li></ul></li><li><span><a href=\"#Sampling-Distribution-of-the-Mean\" data-toc-modified-id=\"Sampling-Distribution-of-the-Mean-2\"><span class=\"toc-item-num\">2&nbsp;&nbsp;</span>Sampling Distribution of the Mean</a></span></li><li><span><a href=\"#Central-Limit-Theorem\" data-toc-modified-id=\"Central-Limit-Theorem-3\"><span class=\"toc-item-num\">3&nbsp;&nbsp;</span>Central Limit Theorem</a></span></li></ul></div>"
   ]
  },
  {
   "cell_type": "markdown",
   "metadata": {},
   "source": [
    "# Sampling Distribution"
   ]
  },
  {
   "cell_type": "markdown",
   "metadata": {},
   "source": [
    "## Overview"
   ]
  },
  {
   "cell_type": "markdown",
   "metadata": {},
   "source": [
    "- Making a conclusion from a sample of a population\n",
    "    - Conclusions include statistics of the sample\n",
    "- Import to ensure the sample is representative of the entire population\n",
    "- Population\n",
    "    - The entire collection of the interested data\n",
    "    - E.g. to study height of adult males, your population is all adult males\n",
    "    - Typically impossible to study entire populations\n",
    "- Sample\n",
    "    - Subset of the population\n",
    "- Survey\n",
    "    - Posing questions to the sample to learn about the population\n",
    "- Representative\n",
    "    - Samples reflect the mix of the entire population\n",
    "- Bias\n",
    "    - Systemic error in selecting the sample\n",
    "    - E.g. ignoring a group of people or data\n",
    "- Properties of sampling\n",
    "    - The best way to get a representative sample is to pick the members of the population at random\n",
    "    - The sample should be as large as possible, but larger populations do not require larger samples\n",
    "- Estimating parameters\n",
    "    - Parameters\n",
    "        - A characteristic of the population\n",
    "        - Can be referred to as the \"true\" mean, sd, etc\n",
    "        - Typically use greek letters like µ\n",
    "    - Statistic\n",
    "        - An observed characteristic of a sample\n",
    "        - Doesn't use greek letters, instead symbols like $\\bar{y}$ to show it is a characteristic of a sample \n",
    "        - Statistics, like the mean, can vary from sample to sample\n",
    "            - $\\bar{X_{1}}, \\bar{X_{2}}...,\\bar{X_{n}}$\n",
    "    - Estimate\n",
    "        - Using a statistic to approximate a parameter\n",
    "    - Standard error\n",
    "        - Variation from sample to sample which is the error of the estimate\n",
    "        - Used instead of standard deviation for samples"
   ]
  },
  {
   "cell_type": "markdown",
   "metadata": {},
   "source": [
    "### Notation for Statistics and Parameters\n",
    "\n",
    "| Name               | Sample Statistic | Population Parameter |\n",
    "|--------------------|------------------|----------------------|\n",
    "| Mean               | $\\bar{y}$        | μ                    |\n",
    "| Standard deviation | s                | σ                    |\n",
    "| Correlation        | r                | ρ                    |\n",
    "| Slope of line      | b                | β                    |\n",
    "| Proportion         | $\\hat{p}$        | p                    |\n"
   ]
  },
  {
   "cell_type": "markdown",
   "metadata": {},
   "source": [
    "## Sampling Distribution of the Mean\n",
    "- Finding the means of multiple samples helps normalize individual distributions\n",
    "    - However, central limit theorem tells us this is unnecessary\n",
    "    - With a large enough sample size, we can just take the mean ($\\bar{X}$) of a single sample\n",
    "- $\\bar{X}$ tends to be normally distributed\n",
    "    - Low variation from sample to sample"
   ]
  },
  {
   "cell_type": "markdown",
   "metadata": {},
   "source": [
    "## Central Limit Theorem\n",
    "- Regardless of the shape of the population, if the sample size is large enough the shape of the sample means tends to be normally distributed\n",
    "    - Even if population is highly skewed\n",
    "- Sampling distribution becomes normal as n increases even if the population is not normal\n",
    "- Central tendency:\n",
    "$µ_{\\bar{X}} = µ$\n",
    "- Standard error:\n",
    "$σ_{\\bar{X}} = \\frac{σ}{\\sqrt{n}}$"
   ]
  },
  {
   "cell_type": "code",
   "execution_count": null,
   "metadata": {},
   "outputs": [],
   "source": []
  }
 ],
 "metadata": {
  "kernelspec": {
   "display_name": "R",
   "language": "R",
   "name": "ir"
  },
  "language_info": {
   "codemirror_mode": "r",
   "file_extension": ".r",
   "mimetype": "text/x-r-source",
   "name": "R",
   "pygments_lexer": "r",
   "version": "4.0.0"
  },
  "toc": {
   "base_numbering": 1,
   "nav_menu": {},
   "number_sections": true,
   "sideBar": true,
   "skip_h1_title": true,
   "title_cell": "Table of Contents",
   "title_sidebar": "Contents",
   "toc_cell": true,
   "toc_position": {},
   "toc_section_display": true,
   "toc_window_display": false
  }
 },
 "nbformat": 4,
 "nbformat_minor": 4
}
