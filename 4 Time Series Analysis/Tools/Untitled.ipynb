{
 "cells": [
  {
   "cell_type": "markdown",
   "metadata": {
    "toc": true
   },
   "source": [
    "<h1>Table of Contents<span class=\"tocSkip\"></span></h1>\n",
    "<div class=\"toc\"><ul class=\"toc-item\"></ul></div>"
   ]
  },
  {
   "cell_type": "code",
   "execution_count": 3,
   "metadata": {},
   "outputs": [
    {
     "name": "stderr",
     "output_type": "stream",
     "text": [
      "Warning message:\n",
      "“package ‘readxlsx’ is not available (for R version 4.0.0)”\n"
     ]
    }
   ],
   "source": [
    "install.packages(\"readxl\")"
   ]
  },
  {
   "cell_type": "code",
   "execution_count": 5,
   "metadata": {},
   "outputs": [
    {
     "name": "stderr",
     "output_type": "stream",
     "text": [
      "Warning message:\n",
      "“package ‘readxl’ was built under R version 4.0.2”\n"
     ]
    }
   ],
   "source": [
    "library(\"readxl\")"
   ]
  },
  {
   "cell_type": "code",
   "execution_count": 6,
   "metadata": {
    "scrolled": true
   },
   "outputs": [],
   "source": [
    "mydata <-read_xlsx(\"5.0-Employment_Data.xlsx\")"
   ]
  },
  {
   "cell_type": "markdown",
   "metadata": {},
   "source": [
    "Probit Model:"
   ]
  },
  {
   "cell_type": "code",
   "execution_count": 17,
   "metadata": {},
   "outputs": [
    {
     "data": {
      "text/html": [
       "<table>\n",
       "<caption>A tibble: 6 × 21</caption>\n",
       "<thead>\n",
       "\t<tr><th scope=col>age</th><th scope=col>race</th><th scope=col>earnwke</th><th scope=col>employed</th><th scope=col>unemployed</th><th scope=col>married</th><th scope=col>union</th><th scope=col>ne_states</th><th scope=col>so_states</th><th scope=col>ce_states</th><th scope=col>⋯</th><th scope=col>government</th><th scope=col>private</th><th scope=col>self</th><th scope=col>educ_lths</th><th scope=col>educ_hs</th><th scope=col>educ_somecol</th><th scope=col>educ_aa</th><th scope=col>educ_bac</th><th scope=col>educ_adv</th><th scope=col>female</th></tr>\n",
       "\t<tr><th scope=col>&lt;dbl&gt;</th><th scope=col>&lt;dbl&gt;</th><th scope=col>&lt;dbl&gt;</th><th scope=col>&lt;dbl&gt;</th><th scope=col>&lt;dbl&gt;</th><th scope=col>&lt;dbl&gt;</th><th scope=col>&lt;dbl&gt;</th><th scope=col>&lt;dbl&gt;</th><th scope=col>&lt;dbl&gt;</th><th scope=col>&lt;dbl&gt;</th><th scope=col>⋯</th><th scope=col>&lt;dbl&gt;</th><th scope=col>&lt;dbl&gt;</th><th scope=col>&lt;dbl&gt;</th><th scope=col>&lt;dbl&gt;</th><th scope=col>&lt;dbl&gt;</th><th scope=col>&lt;dbl&gt;</th><th scope=col>&lt;dbl&gt;</th><th scope=col>&lt;dbl&gt;</th><th scope=col>&lt;dbl&gt;</th><th scope=col>&lt;dbl&gt;</th></tr>\n",
       "</thead>\n",
       "<tbody>\n",
       "\t<tr><td>53</td><td>1</td><td> 961.53</td><td>1</td><td>0</td><td>0</td><td>0</td><td>0</td><td>0</td><td>1</td><td>⋯</td><td>0</td><td>1</td><td>0</td><td>0</td><td>0</td><td>0</td><td>0</td><td>1</td><td>0</td><td>1</td></tr>\n",
       "\t<tr><td>34</td><td>1</td><td> 600.00</td><td>1</td><td>0</td><td>1</td><td>0</td><td>0</td><td>1</td><td>0</td><td>⋯</td><td>0</td><td>1</td><td>0</td><td>0</td><td>1</td><td>0</td><td>0</td><td>0</td><td>0</td><td>0</td></tr>\n",
       "\t<tr><td>38</td><td>1</td><td> 955.00</td><td>1</td><td>0</td><td>1</td><td>0</td><td>0</td><td>1</td><td>0</td><td>⋯</td><td>0</td><td>1</td><td>0</td><td>0</td><td>0</td><td>0</td><td>1</td><td>0</td><td>0</td><td>1</td></tr>\n",
       "\t<tr><td>31</td><td>2</td><td> 865.00</td><td>0</td><td>0</td><td>0</td><td>1</td><td>1</td><td>0</td><td>0</td><td>⋯</td><td>0</td><td>1</td><td>0</td><td>0</td><td>0</td><td>0</td><td>0</td><td>0</td><td>1</td><td>1</td></tr>\n",
       "\t<tr><td>21</td><td>1</td><td> 250.00</td><td>1</td><td>0</td><td>0</td><td>0</td><td>0</td><td>0</td><td>0</td><td>⋯</td><td>0</td><td>1</td><td>0</td><td>0</td><td>1</td><td>0</td><td>0</td><td>0</td><td>0</td><td>0</td></tr>\n",
       "\t<tr><td>40</td><td>1</td><td>1394.00</td><td>1</td><td>0</td><td>1</td><td>0</td><td>0</td><td>0</td><td>0</td><td>⋯</td><td>0</td><td>1</td><td>0</td><td>0</td><td>0</td><td>0</td><td>0</td><td>0</td><td>1</td><td>0</td></tr>\n",
       "</tbody>\n",
       "</table>\n"
      ],
      "text/latex": [
       "A tibble: 6 × 21\n",
       "\\begin{tabular}{lllllllllllllllllllll}\n",
       " age & race & earnwke & employed & unemployed & married & union & ne\\_states & so\\_states & ce\\_states & ⋯ & government & private & self & educ\\_lths & educ\\_hs & educ\\_somecol & educ\\_aa & educ\\_bac & educ\\_adv & female\\\\\n",
       " <dbl> & <dbl> & <dbl> & <dbl> & <dbl> & <dbl> & <dbl> & <dbl> & <dbl> & <dbl> & ⋯ & <dbl> & <dbl> & <dbl> & <dbl> & <dbl> & <dbl> & <dbl> & <dbl> & <dbl> & <dbl>\\\\\n",
       "\\hline\n",
       "\t 53 & 1 &  961.53 & 1 & 0 & 0 & 0 & 0 & 0 & 1 & ⋯ & 0 & 1 & 0 & 0 & 0 & 0 & 0 & 1 & 0 & 1\\\\\n",
       "\t 34 & 1 &  600.00 & 1 & 0 & 1 & 0 & 0 & 1 & 0 & ⋯ & 0 & 1 & 0 & 0 & 1 & 0 & 0 & 0 & 0 & 0\\\\\n",
       "\t 38 & 1 &  955.00 & 1 & 0 & 1 & 0 & 0 & 1 & 0 & ⋯ & 0 & 1 & 0 & 0 & 0 & 0 & 1 & 0 & 0 & 1\\\\\n",
       "\t 31 & 2 &  865.00 & 0 & 0 & 0 & 1 & 1 & 0 & 0 & ⋯ & 0 & 1 & 0 & 0 & 0 & 0 & 0 & 0 & 1 & 1\\\\\n",
       "\t 21 & 1 &  250.00 & 1 & 0 & 0 & 0 & 0 & 0 & 0 & ⋯ & 0 & 1 & 0 & 0 & 1 & 0 & 0 & 0 & 0 & 0\\\\\n",
       "\t 40 & 1 & 1394.00 & 1 & 0 & 1 & 0 & 0 & 0 & 0 & ⋯ & 0 & 1 & 0 & 0 & 0 & 0 & 0 & 0 & 1 & 0\\\\\n",
       "\\end{tabular}\n"
      ],
      "text/markdown": [
       "\n",
       "A tibble: 6 × 21\n",
       "\n",
       "| age &lt;dbl&gt; | race &lt;dbl&gt; | earnwke &lt;dbl&gt; | employed &lt;dbl&gt; | unemployed &lt;dbl&gt; | married &lt;dbl&gt; | union &lt;dbl&gt; | ne_states &lt;dbl&gt; | so_states &lt;dbl&gt; | ce_states &lt;dbl&gt; | ⋯ ⋯ | government &lt;dbl&gt; | private &lt;dbl&gt; | self &lt;dbl&gt; | educ_lths &lt;dbl&gt; | educ_hs &lt;dbl&gt; | educ_somecol &lt;dbl&gt; | educ_aa &lt;dbl&gt; | educ_bac &lt;dbl&gt; | educ_adv &lt;dbl&gt; | female &lt;dbl&gt; |\n",
       "|---|---|---|---|---|---|---|---|---|---|---|---|---|---|---|---|---|---|---|---|---|\n",
       "| 53 | 1 |  961.53 | 1 | 0 | 0 | 0 | 0 | 0 | 1 | ⋯ | 0 | 1 | 0 | 0 | 0 | 0 | 0 | 1 | 0 | 1 |\n",
       "| 34 | 1 |  600.00 | 1 | 0 | 1 | 0 | 0 | 1 | 0 | ⋯ | 0 | 1 | 0 | 0 | 1 | 0 | 0 | 0 | 0 | 0 |\n",
       "| 38 | 1 |  955.00 | 1 | 0 | 1 | 0 | 0 | 1 | 0 | ⋯ | 0 | 1 | 0 | 0 | 0 | 0 | 1 | 0 | 0 | 1 |\n",
       "| 31 | 2 |  865.00 | 0 | 0 | 0 | 1 | 1 | 0 | 0 | ⋯ | 0 | 1 | 0 | 0 | 0 | 0 | 0 | 0 | 1 | 1 |\n",
       "| 21 | 1 |  250.00 | 1 | 0 | 0 | 0 | 0 | 0 | 0 | ⋯ | 0 | 1 | 0 | 0 | 1 | 0 | 0 | 0 | 0 | 0 |\n",
       "| 40 | 1 | 1394.00 | 1 | 0 | 1 | 0 | 0 | 0 | 0 | ⋯ | 0 | 1 | 0 | 0 | 0 | 0 | 0 | 0 | 1 | 0 |\n",
       "\n"
      ],
      "text/plain": [
       "  age race earnwke employed unemployed married union ne_states so_states\n",
       "1 53  1     961.53 1        0          0       0     0         0        \n",
       "2 34  1     600.00 1        0          1       0     0         1        \n",
       "3 38  1     955.00 1        0          1       0     0         1        \n",
       "4 31  2     865.00 0        0          0       1     1         0        \n",
       "5 21  1     250.00 1        0          0       0     0         0        \n",
       "6 40  1    1394.00 1        0          1       0     0         0        \n",
       "  ce_states ⋯ government private self educ_lths educ_hs educ_somecol educ_aa\n",
       "1 1         ⋯ 0          1       0    0         0       0            0      \n",
       "2 0         ⋯ 0          1       0    0         1       0            0      \n",
       "3 0         ⋯ 0          1       0    0         0       0            1      \n",
       "4 0         ⋯ 0          1       0    0         0       0            0      \n",
       "5 0         ⋯ 0          1       0    0         1       0            0      \n",
       "6 0         ⋯ 0          1       0    0         0       0            0      \n",
       "  educ_bac educ_adv female\n",
       "1 1        0        1     \n",
       "2 0        0        0     \n",
       "3 0        0        1     \n",
       "4 0        1        1     \n",
       "5 0        0        0     \n",
       "6 0        1        0     "
      ]
     },
     "metadata": {},
     "output_type": "display_data"
    }
   ],
   "source": [
    "head(mydata)"
   ]
  },
  {
   "cell_type": "code",
   "execution_count": 18,
   "metadata": {
    "scrolled": true
   },
   "outputs": [
    {
     "data": {
      "text/plain": [
       "\n",
       "Call:\n",
       "glm(formula = employed ~ union + married + female + educ_adv + \n",
       "    private + age, family = binomial(link = \"probit\"), data = mydata)\n",
       "\n",
       "Deviance Residuals: \n",
       "    Min       1Q   Median       3Q      Max  \n",
       "-2.5507   0.3595   0.4353   0.4985   0.6765  \n",
       "\n",
       "Coefficients:\n",
       "             Estimate Std. Error z value Pr(>|z|)    \n",
       "(Intercept)  1.012033   0.118979   8.506  < 2e-16 ***\n",
       "union       -0.051513   0.081638  -0.631  0.52805    \n",
       "married      0.253672   0.053403   4.750 2.03e-06 ***\n",
       "female      -0.248803   0.051900  -4.794 1.64e-06 ***\n",
       "educ_adv     0.207644   0.094490   2.198  0.02798 *  \n",
       "private     -0.004441   0.070889  -0.063  0.95005    \n",
       "age          0.005916   0.002277   2.598  0.00937 ** \n",
       "---\n",
       "Signif. codes:  0 ‘***’ 0.001 ‘**’ 0.01 ‘*’ 0.05 ‘.’ 0.1 ‘ ’ 1\n",
       "\n",
       "(Dispersion parameter for binomial family taken to be 1)\n",
       "\n",
       "    Null deviance: 2975.2  on 4567  degrees of freedom\n",
       "Residual deviance: 2906.2  on 4561  degrees of freedom\n",
       "AIC: 2920.2\n",
       "\n",
       "Number of Fisher Scoring iterations: 5\n"
      ]
     },
     "metadata": {},
     "output_type": "display_data"
    }
   ],
   "source": [
    "ProbitModel <- glm(employed ~ union + married + female + educ_adv + private + age, data=mydata, family=binomial(link=\"probit\"))\n",
    "summary(ProbitModel)"
   ]
  },
  {
   "cell_type": "markdown",
   "metadata": {},
   "source": [
    "Logit Model:"
   ]
  },
  {
   "cell_type": "code",
   "execution_count": 13,
   "metadata": {},
   "outputs": [
    {
     "data": {
      "text/plain": [
       "\n",
       "Call:\n",
       "glm(formula = employed ~ female + educ_adv, family = binomial(link = \"logit\"), \n",
       "    data = mydata)\n",
       "\n",
       "Deviance Residuals: \n",
       "    Min       1Q   Median       3Q      Max  \n",
       "-2.4340   0.4158   0.4158   0.5196   0.5196  \n",
       "\n",
       "Coefficients:\n",
       "            Estimate Std. Error z value Pr(>|z|)    \n",
       "(Intercept)  2.40462    0.07837  30.683  < 2e-16 ***\n",
       "female      -0.47053    0.10045  -4.684 2.81e-06 ***\n",
       "educ_adv     0.50444    0.19022   2.652  0.00801 ** \n",
       "---\n",
       "Signif. codes:  0 ‘***’ 0.001 ‘**’ 0.01 ‘*’ 0.05 ‘.’ 0.1 ‘ ’ 1\n",
       "\n",
       "(Dispersion parameter for binomial family taken to be 1)\n",
       "\n",
       "    Null deviance: 2975.2  on 4567  degrees of freedom\n",
       "Residual deviance: 2944.7  on 4565  degrees of freedom\n",
       "AIC: 2950.7\n",
       "\n",
       "Number of Fisher Scoring iterations: 5\n"
      ]
     },
     "metadata": {},
     "output_type": "display_data"
    }
   ],
   "source": [
    "LogitModel <- glm(employed ~ female + educ_adv, data=mydata, family=binomial(link=\"logit\"))\n",
    "summary(LogitModel)"
   ]
  },
  {
   "cell_type": "code",
   "execution_count": 10,
   "metadata": {},
   "outputs": [
    {
     "data": {
      "text/html": [
       "<table>\n",
       "<caption>A tibble: 6 × 21</caption>\n",
       "<thead>\n",
       "\t<tr><th scope=col>age</th><th scope=col>race</th><th scope=col>earnwke</th><th scope=col>employed</th><th scope=col>unemployed</th><th scope=col>married</th><th scope=col>union</th><th scope=col>ne_states</th><th scope=col>so_states</th><th scope=col>ce_states</th><th scope=col>⋯</th><th scope=col>government</th><th scope=col>private</th><th scope=col>self</th><th scope=col>educ_lths</th><th scope=col>educ_hs</th><th scope=col>educ_somecol</th><th scope=col>educ_aa</th><th scope=col>educ_bac</th><th scope=col>educ_adv</th><th scope=col>female</th></tr>\n",
       "\t<tr><th scope=col>&lt;dbl&gt;</th><th scope=col>&lt;dbl&gt;</th><th scope=col>&lt;dbl&gt;</th><th scope=col>&lt;dbl&gt;</th><th scope=col>&lt;dbl&gt;</th><th scope=col>&lt;dbl&gt;</th><th scope=col>&lt;dbl&gt;</th><th scope=col>&lt;dbl&gt;</th><th scope=col>&lt;dbl&gt;</th><th scope=col>&lt;dbl&gt;</th><th scope=col>⋯</th><th scope=col>&lt;dbl&gt;</th><th scope=col>&lt;dbl&gt;</th><th scope=col>&lt;dbl&gt;</th><th scope=col>&lt;dbl&gt;</th><th scope=col>&lt;dbl&gt;</th><th scope=col>&lt;dbl&gt;</th><th scope=col>&lt;dbl&gt;</th><th scope=col>&lt;dbl&gt;</th><th scope=col>&lt;dbl&gt;</th><th scope=col>&lt;dbl&gt;</th></tr>\n",
       "</thead>\n",
       "<tbody>\n",
       "\t<tr><td>53</td><td>1</td><td> 961.53</td><td>1</td><td>0</td><td>0</td><td>0</td><td>0</td><td>0</td><td>1</td><td>⋯</td><td>0</td><td>1</td><td>0</td><td>0</td><td>0</td><td>0</td><td>0</td><td>1</td><td>0</td><td>1</td></tr>\n",
       "\t<tr><td>34</td><td>1</td><td> 600.00</td><td>1</td><td>0</td><td>1</td><td>0</td><td>0</td><td>1</td><td>0</td><td>⋯</td><td>0</td><td>1</td><td>0</td><td>0</td><td>1</td><td>0</td><td>0</td><td>0</td><td>0</td><td>0</td></tr>\n",
       "\t<tr><td>38</td><td>1</td><td> 955.00</td><td>1</td><td>0</td><td>1</td><td>0</td><td>0</td><td>1</td><td>0</td><td>⋯</td><td>0</td><td>1</td><td>0</td><td>0</td><td>0</td><td>0</td><td>1</td><td>0</td><td>0</td><td>1</td></tr>\n",
       "\t<tr><td>31</td><td>2</td><td> 865.00</td><td>0</td><td>0</td><td>0</td><td>1</td><td>1</td><td>0</td><td>0</td><td>⋯</td><td>0</td><td>1</td><td>0</td><td>0</td><td>0</td><td>0</td><td>0</td><td>0</td><td>1</td><td>1</td></tr>\n",
       "\t<tr><td>21</td><td>1</td><td> 250.00</td><td>1</td><td>0</td><td>0</td><td>0</td><td>0</td><td>0</td><td>0</td><td>⋯</td><td>0</td><td>1</td><td>0</td><td>0</td><td>1</td><td>0</td><td>0</td><td>0</td><td>0</td><td>0</td></tr>\n",
       "\t<tr><td>40</td><td>1</td><td>1394.00</td><td>1</td><td>0</td><td>1</td><td>0</td><td>0</td><td>0</td><td>0</td><td>⋯</td><td>0</td><td>1</td><td>0</td><td>0</td><td>0</td><td>0</td><td>0</td><td>0</td><td>1</td><td>0</td></tr>\n",
       "</tbody>\n",
       "</table>\n"
      ],
      "text/latex": [
       "A tibble: 6 × 21\n",
       "\\begin{tabular}{lllllllllllllllllllll}\n",
       " age & race & earnwke & employed & unemployed & married & union & ne\\_states & so\\_states & ce\\_states & ⋯ & government & private & self & educ\\_lths & educ\\_hs & educ\\_somecol & educ\\_aa & educ\\_bac & educ\\_adv & female\\\\\n",
       " <dbl> & <dbl> & <dbl> & <dbl> & <dbl> & <dbl> & <dbl> & <dbl> & <dbl> & <dbl> & ⋯ & <dbl> & <dbl> & <dbl> & <dbl> & <dbl> & <dbl> & <dbl> & <dbl> & <dbl> & <dbl>\\\\\n",
       "\\hline\n",
       "\t 53 & 1 &  961.53 & 1 & 0 & 0 & 0 & 0 & 0 & 1 & ⋯ & 0 & 1 & 0 & 0 & 0 & 0 & 0 & 1 & 0 & 1\\\\\n",
       "\t 34 & 1 &  600.00 & 1 & 0 & 1 & 0 & 0 & 1 & 0 & ⋯ & 0 & 1 & 0 & 0 & 1 & 0 & 0 & 0 & 0 & 0\\\\\n",
       "\t 38 & 1 &  955.00 & 1 & 0 & 1 & 0 & 0 & 1 & 0 & ⋯ & 0 & 1 & 0 & 0 & 0 & 0 & 1 & 0 & 0 & 1\\\\\n",
       "\t 31 & 2 &  865.00 & 0 & 0 & 0 & 1 & 1 & 0 & 0 & ⋯ & 0 & 1 & 0 & 0 & 0 & 0 & 0 & 0 & 1 & 1\\\\\n",
       "\t 21 & 1 &  250.00 & 1 & 0 & 0 & 0 & 0 & 0 & 0 & ⋯ & 0 & 1 & 0 & 0 & 1 & 0 & 0 & 0 & 0 & 0\\\\\n",
       "\t 40 & 1 & 1394.00 & 1 & 0 & 1 & 0 & 0 & 0 & 0 & ⋯ & 0 & 1 & 0 & 0 & 0 & 0 & 0 & 0 & 1 & 0\\\\\n",
       "\\end{tabular}\n"
      ],
      "text/markdown": [
       "\n",
       "A tibble: 6 × 21\n",
       "\n",
       "| age &lt;dbl&gt; | race &lt;dbl&gt; | earnwke &lt;dbl&gt; | employed &lt;dbl&gt; | unemployed &lt;dbl&gt; | married &lt;dbl&gt; | union &lt;dbl&gt; | ne_states &lt;dbl&gt; | so_states &lt;dbl&gt; | ce_states &lt;dbl&gt; | ⋯ ⋯ | government &lt;dbl&gt; | private &lt;dbl&gt; | self &lt;dbl&gt; | educ_lths &lt;dbl&gt; | educ_hs &lt;dbl&gt; | educ_somecol &lt;dbl&gt; | educ_aa &lt;dbl&gt; | educ_bac &lt;dbl&gt; | educ_adv &lt;dbl&gt; | female &lt;dbl&gt; |\n",
       "|---|---|---|---|---|---|---|---|---|---|---|---|---|---|---|---|---|---|---|---|---|\n",
       "| 53 | 1 |  961.53 | 1 | 0 | 0 | 0 | 0 | 0 | 1 | ⋯ | 0 | 1 | 0 | 0 | 0 | 0 | 0 | 1 | 0 | 1 |\n",
       "| 34 | 1 |  600.00 | 1 | 0 | 1 | 0 | 0 | 1 | 0 | ⋯ | 0 | 1 | 0 | 0 | 1 | 0 | 0 | 0 | 0 | 0 |\n",
       "| 38 | 1 |  955.00 | 1 | 0 | 1 | 0 | 0 | 1 | 0 | ⋯ | 0 | 1 | 0 | 0 | 0 | 0 | 1 | 0 | 0 | 1 |\n",
       "| 31 | 2 |  865.00 | 0 | 0 | 0 | 1 | 1 | 0 | 0 | ⋯ | 0 | 1 | 0 | 0 | 0 | 0 | 0 | 0 | 1 | 1 |\n",
       "| 21 | 1 |  250.00 | 1 | 0 | 0 | 0 | 0 | 0 | 0 | ⋯ | 0 | 1 | 0 | 0 | 1 | 0 | 0 | 0 | 0 | 0 |\n",
       "| 40 | 1 | 1394.00 | 1 | 0 | 1 | 0 | 0 | 0 | 0 | ⋯ | 0 | 1 | 0 | 0 | 0 | 0 | 0 | 0 | 1 | 0 |\n",
       "\n"
      ],
      "text/plain": [
       "  age race earnwke employed unemployed married union ne_states so_states\n",
       "1 53  1     961.53 1        0          0       0     0         0        \n",
       "2 34  1     600.00 1        0          1       0     0         1        \n",
       "3 38  1     955.00 1        0          1       0     0         1        \n",
       "4 31  2     865.00 0        0          0       1     1         0        \n",
       "5 21  1     250.00 1        0          0       0     0         0        \n",
       "6 40  1    1394.00 1        0          1       0     0         0        \n",
       "  ce_states ⋯ government private self educ_lths educ_hs educ_somecol educ_aa\n",
       "1 1         ⋯ 0          1       0    0         0       0            0      \n",
       "2 0         ⋯ 0          1       0    0         1       0            0      \n",
       "3 0         ⋯ 0          1       0    0         0       0            1      \n",
       "4 0         ⋯ 0          1       0    0         0       0            0      \n",
       "5 0         ⋯ 0          1       0    0         1       0            0      \n",
       "6 0         ⋯ 0          1       0    0         0       0            0      \n",
       "  educ_bac educ_adv female\n",
       "1 1        0        1     \n",
       "2 0        0        0     \n",
       "3 0        0        1     \n",
       "4 0        1        1     \n",
       "5 0        0        0     \n",
       "6 0        1        0     "
      ]
     },
     "metadata": {},
     "output_type": "display_data"
    }
   ],
   "source": [
    "head(mydata)"
   ]
  },
  {
   "cell_type": "code",
   "execution_count": 11,
   "metadata": {},
   "outputs": [],
   "source": []
  },
  {
   "cell_type": "code",
   "execution_count": 14,
   "metadata": {
    "scrolled": true
   },
   "outputs": [
    {
     "ename": "ERROR",
     "evalue": "Error in z.test(2.40462): could not find function \"z.test\"\n",
     "output_type": "error",
     "traceback": [
      "Error in z.test(2.40462): could not find function \"z.test\"\nTraceback:\n"
     ]
    }
   ],
   "source": [
    "q3 = z.test(2.40462)"
   ]
  },
  {
   "cell_type": "code",
   "execution_count": null,
   "metadata": {},
   "outputs": [],
   "source": []
  }
 ],
 "metadata": {
  "kernelspec": {
   "display_name": "R",
   "language": "R",
   "name": "ir"
  },
  "language_info": {
   "codemirror_mode": "r",
   "file_extension": ".r",
   "mimetype": "text/x-r-source",
   "name": "R",
   "pygments_lexer": "r",
   "version": "4.0.0"
  },
  "toc": {
   "base_numbering": 1,
   "nav_menu": {},
   "number_sections": true,
   "sideBar": true,
   "skip_h1_title": true,
   "title_cell": "Table of Contents",
   "title_sidebar": "Contents",
   "toc_cell": true,
   "toc_position": {},
   "toc_section_display": true,
   "toc_window_display": false
  }
 },
 "nbformat": 4,
 "nbformat_minor": 4
}
