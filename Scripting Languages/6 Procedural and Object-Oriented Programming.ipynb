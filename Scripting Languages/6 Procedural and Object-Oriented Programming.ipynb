{
 "cells": [
  {
   "cell_type": "markdown",
   "metadata": {
    "toc": true
   },
   "source": [
    "<h1>Table of Contents<span class=\"tocSkip\"></span></h1>\n",
    "<div class=\"toc\"><ul class=\"toc-item\"><li><span><a href=\"#Overview\" data-toc-modified-id=\"Overview-1\"><span class=\"toc-item-num\">1&nbsp;&nbsp;</span>Overview</a></span></li><li><span><a href=\"#Classes\" data-toc-modified-id=\"Classes-2\"><span class=\"toc-item-num\">2&nbsp;&nbsp;</span>Classes</a></span><ul class=\"toc-item\"><li><span><a href=\"#Creating-a-Class\" data-toc-modified-id=\"Creating-a-Class-2.1\"><span class=\"toc-item-num\">2.1&nbsp;&nbsp;</span>Creating a Class</a></span><ul class=\"toc-item\"><li><span><a href=\"#Create-Class-Functions-and-Calling\" data-toc-modified-id=\"Create-Class-Functions-and-Calling-2.1.1\"><span class=\"toc-item-num\">2.1.1&nbsp;&nbsp;</span>Create Class Functions and Calling</a></span></li></ul></li></ul></li><li><span><a href=\"#Working-with-Instances\" data-toc-modified-id=\"Working-with-Instances-3\"><span class=\"toc-item-num\">3&nbsp;&nbsp;</span>Working with Instances</a></span><ul class=\"toc-item\"><li><span><a href=\"#Attributes\" data-toc-modified-id=\"Attributes-3.1\"><span class=\"toc-item-num\">3.1&nbsp;&nbsp;</span>Attributes</a></span><ul class=\"toc-item\"><li><span><a href=\"#Accessor-and-Mutator\" data-toc-modified-id=\"Accessor-and-Mutator-3.1.1\"><span class=\"toc-item-num\">3.1.1&nbsp;&nbsp;</span>Accessor and Mutator</a></span></li><li><span><a href=\"#Passing-objects-as-arguments\" data-toc-modified-id=\"Passing-objects-as-arguments-3.1.2\"><span class=\"toc-item-num\">3.1.2&nbsp;&nbsp;</span>Passing objects as arguments</a></span></li></ul></li><li><span><a href=\"#Desiging-Classes\" data-toc-modified-id=\"Desiging-Classes-3.2\"><span class=\"toc-item-num\">3.2&nbsp;&nbsp;</span>Desiging Classes</a></span><ul class=\"toc-item\"><li><span><a href=\"#Unified-Modeling-Language-(UML)\" data-toc-modified-id=\"Unified-Modeling-Language-(UML)-3.2.1\"><span class=\"toc-item-num\">3.2.1&nbsp;&nbsp;</span>Unified Modeling Language (UML)</a></span></li><li><span><a href=\"#Inheritance\" data-toc-modified-id=\"Inheritance-3.2.2\"><span class=\"toc-item-num\">3.2.2&nbsp;&nbsp;</span>Inheritance</a></span></li></ul></li></ul></li></ul></div>"
   ]
  },
  {
   "cell_type": "markdown",
   "metadata": {},
   "source": [
    "# Procedural and Object-Oriented Programming\n",
    "## Overview\n",
    "- Procedural Programming\n",
    "    - Writing programs made of functions that perform specific tasks\n",
    "\t- Procedures typically operate on data items that are separate from the procedures\n",
    "\t- Data items commonly passed from one procedure to another\n",
    "\t- Focus\n",
    "\t\t- To create procedures that operate on program's data \n",
    "- Object-Oriented Program\n",
    "\t\t- Focused on creating objects\n",
    "\t\t\t- Object\n",
    "\t\t\t\t- Entity that contains data and procedures\n",
    "\t\t\t- Data\n",
    "\t\t\t\t- Known as data attributes and procedures are known as methods \n",
    "\t\t\t- Methods\n",
    "\t\t\t\t- Perform operations on data attributes\n",
    "\t\t- Encapsulation\n",
    "\t\t\t- Combining data and code into a single object\n",
    "\t\t- Data hiding\n",
    "\t\t\t- Object's data attributes are hidden from code outside the object\n",
    "## Classes\n",
    "- Class\n",
    "\t- Code that specifies the data attributes and methods of a particular objects\n",
    "\t- Similar to a blueprint \n",
    "- Instance\n",
    "\t- An object created from a class\n",
    "\t- Like a specific house built according to blueprint\n",
    "\t- There can be many instances of a class\n",
    "- Format\n",
    "\t- Starts with capital letter by convention\n",
    "    - class Classname:\n",
    "- **__init__** initializer\n",
    "\t- Used to initialize (assign values) to the data members of the class when an object of the class is created\n",
    "\t- Runs as soon as an object of the class is instantiated, known as a \"constructor\" in OOP\n",
    "    - When class is called, the instance is passed to __init__ as an argument via  (self)\n",
    "    - (self)\n",
    "        - Represents the instance of the class\n",
    "        - Binds the attributes with the given arguments\n",
    "        - Needs to be first parameter in other method definitions to access instance attributes\n",
    "- **__str__** string method\n",
    "\t- Returns a string variable of the object's state\n",
    "\t- Invoked with print(object_name)"
   ]
  },
  {
   "cell_type": "markdown",
   "metadata": {},
   "source": [
    "### Creating a Class"
   ]
  },
  {
   "cell_type": "code",
   "execution_count": 1,
   "metadata": {},
   "outputs": [],
   "source": [
    "# Create class, class name is capitalized\n",
    "class Rectangle: \n",
    "    # Class variable\n",
    "    count = 0 \n",
    "    \n",
    "    # Initializer\n",
    "    # self not necessary but good practice\n",
    "    def __init__(self): \n",
    "        # Instance variable self.#\n",
    "        self.width = width\n",
    "        self.height = height\n",
    "        Rectangle.count += 1"
   ]
  },
  {
   "cell_type": "markdown",
   "metadata": {},
   "source": [
    "#### Create Class Functions and Calling\n",
    "\n",
    "In this example, we will create a class called Coin and use it in a separate function."
   ]
  },
  {
   "cell_type": "markdown",
   "metadata": {},
   "source": [
    "*Create Coin class*\n",
    "- This example uses **random.randint** method\n",
    "    - Returns a random int between (a,b)\n",
    "    - Requires random library"
   ]
  },
  {
   "cell_type": "code",
   "execution_count": 5,
   "metadata": {},
   "outputs": [],
   "source": [
    "import random\n",
    "\n",
    "class Coin:\n",
    "    \n",
    "    # Initialize sideup data attribute\n",
    "    # __init__ will be executed when class is initialized\n",
    "    def __init__(self):\n",
    "        self.sideup = 'Heads'\n",
    "        \n",
    "    def toss(self):\n",
    "        if random.randint(0,1) == 0:\n",
    "            self.sideup = 'Heads'\n",
    "        else:\n",
    "            self.sideup = 'Tails'\n",
    "    # As opposed to procedural, in OOP it's better for each...\n",
    "    #...method to perform a single task\n",
    "    def get_sideup(self):\n",
    "        return self.sideup"
   ]
  },
  {
   "cell_type": "markdown",
   "metadata": {},
   "source": [
    "Create function that calls Coin class\n",
    "- `my_coin = Coin()` creates an *instance* of the Coin class called my_coin\n",
    "    - Now my_coin can use Coin methods \n",
    "- Empty parenthesis will call the __init__ method\n"
   ]
  },
  {
   "cell_type": "code",
   "execution_count": 9,
   "metadata": {},
   "outputs": [
    {
     "name": "stdout",
     "output_type": "stream",
     "text": [
      "This side is up:  Heads\n",
      "Now this side is up:  Heads\n"
     ]
    }
   ],
   "source": [
    "# If this were in a separate script, you would need to import:\n",
    "# import coin \n",
    "\n",
    "def main():\n",
    "\n",
    "    # If this were separate script, use coin.Coin()\n",
    "    my_coin  = Coin()\n",
    "\n",
    "    # Display side of coin facing up by using .get_sideup method\n",
    "    print('This side is up: ', my_coin.get_sideup())\n",
    "    \n",
    "    # Call toss method to \"toss\" the coin and print\n",
    "    my_coin.toss()\n",
    "    print('Now this side is up: ', my_coin.get_sideup())\n",
    "\n",
    "# Call main method\n",
    "main()\n"
   ]
  },
  {
   "cell_type": "markdown",
   "metadata": {},
   "source": [
    "## Working with Instances"
   ]
  },
  {
   "cell_type": "markdown",
   "metadata": {},
   "source": [
    "### Attributes"
   ]
  },
  {
   "cell_type": "markdown",
   "metadata": {},
   "source": [
    "(Some notes from [Python Class Attributes: An Overly Thorough Guide](https://www.toptal.com/python/python-class-attributes-an-overly-thorough-guide))\n",
    "- Class attribute\n",
    "    - An attribute of the entire class, not an instance of a class\n",
    "- Instance attribute\n",
    "    - Attributes of the particular instance\n",
    "    - Created when a method uses the `self` parameter to create an attribute\n",
    "    - If many instances of a class are created, each would have its own set of attributes\n",
    "- Namspaces\n",
    "    - A mapping from names to objects\n",
    "    - There is no relation between names in different namespaces \n",
    "    - Classes and instances of classes have distinct namespaces\n",
    "    - Represented by __dict__ attributes:\n",
    "        - Class: `MyClass.__dict__`\n",
    "        - Instance: `InstanceOfClass.__dict__`\n",
    "    - When accessing an attribute from an instance:\n",
    "        - First looks at instance namespace and returns value if found\n",
    "        - If not, looks at class namespace and returns that instead\n",
    "\n",
    "Here, `class_var` is a class attribute and `i_var` is an instance attribute:"
   ]
  },
  {
   "cell_type": "code",
   "execution_count": 3,
   "metadata": {},
   "outputs": [],
   "source": [
    "class MyClass(object):\n",
    "    class_var = 1\n",
    "\n",
    "    def __init__(self, i_var):\n",
    "        self.i_var = i_var"
   ]
  },
  {
   "cell_type": "markdown",
   "metadata": {},
   "source": [
    "#### Accessor and Mutator\n",
    "- Typically all class data attributes are private and provide methods to access and change them\n",
    "- Accessor methods\n",
    "    - Return a value from a class's attribute without changing it\n",
    "    - Safe way for code outside the class to retrieve the value of attributes\n",
    "    - .get_balance() in below example \n",
    "- Mutator methods\n",
    "    - Store or change the value of a data attribute\n",
    "    - .deposit() and . withdraw() in below example"
   ]
  },
  {
   "cell_type": "markdown",
   "metadata": {},
   "source": [
    "In the following example, we will create a class to allow a user to withdraw from, deposit to, and read the balanace of a bank account\n",
    "- Adding arguments to init means the method expects something to be passed when any method of BankAccount is called\n",
    "- This class will get an initial bal from user and set it as self.__balance \n",
    "- .deposit() and .withdraw() functions get amounts from user and use that to modify self.__balance (mutator)\n",
    "- .get_balance() will return the current value of self.__balance (accessor)"
   ]
  },
  {
   "cell_type": "code",
   "execution_count": 17,
   "metadata": {},
   "outputs": [],
   "source": [
    "class BankAccount:\n",
    "\n",
    "    def __init__(self,bal):\n",
    "        # Amount passed to bal will be assigned to this variable\n",
    "        self.__balance = bal\n",
    "\n",
    "    # deposit method will expect amount to be passed\n",
    "    # Assign amount to self.__balance\n",
    "    def deposit(self, amount):\n",
    "\n",
    "        # Short way to write self.__balance = balance + amt\n",
    "        self.__balance += amount\n",
    "    \n",
    "    # Create withdraw method\n",
    "    # Can use same variable amount because it is local to each method\n",
    "    def withdraw(self, amount):\n",
    "        # Validate that user can't withdraw more than curent amount\n",
    "        if self.__balance >= amount:\n",
    "            self.__balance -= amount \n",
    "        else:\n",
    "            print('Error: Insufficient funds')\n",
    "    \n",
    "    # Show current balance\n",
    "    def get_balance(self):\n",
    "        return self.__balance\n",
    "    \n",
    "    # The __str__ method\n",
    "    # Returns a string variable of the object's state\n",
    "    def __str__(self):\n",
    "        return 'The balance is $' + format(self.__balance, '.2f')"
   ]
  },
  {
   "cell_type": "markdown",
   "metadata": {},
   "source": [
    "Interacting with BankAccount methods:\n",
    "- Ask the user for start_bal which will be passed into bal\n",
    "- Deposit: ask user for contribution which will be passed into 'amount'\n",
    "- Withdrawal: ask user for cash which is passed into 'amount'\n",
    "- Call .get_balance() to return self.__balance"
   ]
  },
  {
   "cell_type": "code",
   "execution_count": 18,
   "metadata": {},
   "outputs": [
    {
     "name": "stdout",
     "output_type": "stream",
     "text": [
      "Enter your starting balance: 100\n",
      "How much would you like to save? 50\n",
      "Your savings account balance is $ 150.00\n",
      "How much would you like to withdraw? 20\n",
      "Your savings account balance is $ 130.00\n"
     ]
    }
   ],
   "source": [
    "def main():\n",
    "    # Get starting balance from user\n",
    "    start_bal=float(input('Enter your starting balance: '))\n",
    "\n",
    "    # Create instance of BankAccount called savings\n",
    "    # Pass in our start_bal float the user gave us\n",
    "    savings = BankAccount(start_bal)\n",
    "\n",
    "    # Deposit user's savings contribution\n",
    "    contribution = float(input('How much would you like to save? '))\n",
    "    \n",
    "    # Call .deposit() method\n",
    "    savings.deposit(contribution)\n",
    "    # Call .get_balance() to print savings balance\n",
    "    # Format to two decimals with comma separator\n",
    "    print('Your savings account balance is $', format(savings.get_balance(), ',.2f'))\n",
    "    \n",
    "\n",
    "    # Use withdraw method to let user deduct cash\n",
    "    cash = float(input('How much would you like to withdraw? '))\n",
    "    savings.withdraw(cash)\n",
    "     # Print savings balance, format to two decimals with comma separator\n",
    "    print('Your savings account balance is $', format(savings.get_balance(), ',.2f'))\n",
    "\n",
    "    # For the last two chunks you can also use:\n",
    "    # print(savings)\n",
    "    # Savings is defined above as an instance of BankAccount\n",
    "    # Calling it with no argument invokes the __str__ method from Ex. 3\n",
    "\n",
    "main()"
   ]
  },
  {
   "cell_type": "markdown",
   "metadata": {},
   "source": [
    "#### Passing objects as arguments\n",
    "- Methods and functions often need to accept objects as arguments\n",
    "    - When doing this, you are actually passing a reference to the object\n",
    "- The receiving method or function has access to the actual object\n",
    "- Methods of the object can be called within the receiving function or method\n",
    "    - Data attributes may be changed using mutator methods\n",
    "    \n",
    "To demonstrate, we pass in our my_coin instance into a new function flip. The flip function is then able to use methods of the my_coin object (in Coin class)."
   ]
  },
  {
   "cell_type": "code",
   "execution_count": null,
   "metadata": {},
   "outputs": [],
   "source": [
    "# import coin\n",
    "\n",
    "def main():\n",
    "    my_coin = Coin() # coin.Coin()\n",
    "    print(my_coin.get_sideup())\n",
    "    \n",
    "    # Call function flip with object my_coin as argument\n",
    "    flip(my_coin)\n",
    "    print (my_coin.get_sideup())\n",
    "    \n",
    "def flip(coin_obj):\n",
    "    coin_obj.toss()\n",
    "\n",
    "main()"
   ]
  },
  {
   "cell_type": "markdown",
   "metadata": {},
   "source": [
    "### Desiging Classes"
   ]
  },
  {
   "cell_type": "markdown",
   "metadata": {},
   "source": [
    "#### Unified Modeling Language (UML)\n",
    "- Standard diagrams for graphically depicting object-oriented systems\n",
    "- General layout is a box with three sections:\n",
    "    - Top: Name of the class\n",
    "    - Middle: List of data attributes\n",
    "    - Bottom: list of class methods\n",
    "    "
   ]
  },
  {
   "cell_type": "markdown",
   "metadata": {},
   "source": [
    "#### Inheritance\n",
    "- In the real world, many objects are a specialized version of more general objects\n",
    "- 'Is a' relationship\n",
    "    - When one object is a specialized version of another object\n",
    "    - Specialized object has all characteristics of the general object plus unique characteristics\n",
    "- Inheritance\n",
    "    - Used to create 'is a' relationship between classes\n",
    "    - Superclass (base class): a general class\n",
    "    - Subclass (derived class): a specialized class\n",
    "        - Extended version of superclass\n",
    "        - Can use superclass attributes and methods and add their own\n",
    "        - Can have multiple superclasses\n",
    "            - Called 'multiple inheritance'"
   ]
  }
 ],
 "metadata": {
  "kernelspec": {
   "display_name": "Python 3",
   "language": "python",
   "name": "python3"
  },
  "language_info": {
   "codemirror_mode": {
    "name": "ipython",
    "version": 3
   },
   "file_extension": ".py",
   "mimetype": "text/x-python",
   "name": "python",
   "nbconvert_exporter": "python",
   "pygments_lexer": "ipython3",
   "version": "3.7.6"
  },
  "toc": {
   "base_numbering": 1,
   "nav_menu": {},
   "number_sections": true,
   "sideBar": true,
   "skip_h1_title": true,
   "title_cell": "Table of Contents",
   "title_sidebar": "Contents",
   "toc_cell": true,
   "toc_position": {},
   "toc_section_display": true,
   "toc_window_display": false
  }
 },
 "nbformat": 4,
 "nbformat_minor": 4
}
