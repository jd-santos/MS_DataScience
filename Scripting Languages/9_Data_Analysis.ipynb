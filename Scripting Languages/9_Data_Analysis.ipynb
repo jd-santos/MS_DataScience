{
 "cells": [
  {
   "cell_type": "markdown",
   "metadata": {},
   "source": [
    "# Data Analysis and Mining"
   ]
  },
  {
   "cell_type": "markdown",
   "metadata": {},
   "source": [
    "## Basic Statistics in Python"
   ]
  },
  {
   "cell_type": "markdown",
   "metadata": {},
   "source": [
    "### Mean and Median"
   ]
  },
  {
   "cell_type": "markdown",
   "metadata": {},
   "source": [
    "#### Mean and Histograms"
   ]
  },
  {
   "cell_type": "code",
   "execution_count": 4,
   "metadata": {},
   "outputs": [
    {
     "data": {
      "text/plain": [
       "26657.03785400753"
      ]
     },
     "execution_count": 4,
     "metadata": {},
     "output_type": "execute_result"
    }
   ],
   "source": [
    "import numpy as np\n",
    "import matplotlib.pyplot as plt\n",
    "import pandas as pd\n",
    "\n",
    "# Create random normal distribution\n",
    "# (mean, standard deviation, size/number of points)\n",
    "income = np.random.normal(27000, 15000, 10000)\n",
    "\n",
    "np.mean(income)"
   ]
  },
  {
   "cell_type": "markdown",
   "metadata": {},
   "source": [
    "Create histogram of distribution with bins of 20\n",
    "- If not given, default is bin width of 10"
   ]
  },
  {
   "cell_type": "code",
   "execution_count": 6,
   "metadata": {
    "scrolled": true
   },
   "outputs": [
    {
     "data": {
      "text/plain": [
       "(array([2.000e+00, 8.000e+00, 3.700e+01, 1.470e+02, 4.670e+02, 9.630e+02,\n",
       "        1.723e+03, 2.191e+03, 1.973e+03, 1.404e+03, 7.000e+02, 2.810e+02,\n",
       "        8.300e+01, 1.700e+01, 4.000e+00]),\n",
       " array([-37416.73858507, -29167.63299549, -20918.52740591, -12669.42181633,\n",
       "         -4420.31622675,   3828.78936282,  12077.8949524 ,  20327.00054198,\n",
       "         28576.10613156,  36825.21172114,  45074.31731072,  53323.4229003 ,\n",
       "         61572.52848988,  69821.63407946,  78070.73966904,  86319.84525862]),\n",
       " <a list of 15 Patch objects>)"
      ]
     },
     "execution_count": 6,
     "metadata": {},
     "output_type": "execute_result"
    },
    {
     "data": {
      "image/png": "[encoded data removed]",
      "text/plain": [
       "<Figure size 432x288 with 1 Axes>"
      ]
     },
     "metadata": {
      "needs_background": "light"
     },
     "output_type": "display_data"
    }
   ],
   "source": [
    "plt.hist(income, 15)"
   ]
  },
  {
   "cell_type": "markdown",
   "metadata": {},
   "source": [
    "To do this with Pandas, we can create a series with the same distribution:"
   ]
  },
  {
   "cell_type": "code",
   "execution_count": 5,
   "metadata": {
    "scrolled": true
   },
   "outputs": [
    {
     "data": {
      "text/plain": [
       "<matplotlib.axes._subplots.AxesSubplot at 0x7fde0051e8d0>"
      ]
     },
     "execution_count": 5,
     "metadata": {},
     "output_type": "execute_result"
    },
    {
     "data": {
      "image/png": "[encoded data removed]",
      "text/plain": [
       "<Figure size 432x288 with 1 Axes>"
      ]
     },
     "metadata": {
      "needs_background": "light"
     },
     "output_type": "display_data"
    }
   ],
   "source": [
    "income2 = pd.Series(np.random.normal(27000, 15000, 10000))\n",
    "income2.hist()"
   ]
  },
  {
   "cell_type": "markdown",
   "metadata": {},
   "source": [
    "#### Median with Numpy"
   ]
  },
  {
   "cell_type": "code",
   "execution_count": 7,
   "metadata": {},
   "outputs": [
    {
     "data": {
      "text/plain": [
       "26917.21377974219"
      ]
     },
     "execution_count": 7,
     "metadata": {},
     "output_type": "execute_result"
    }
   ],
   "source": [
    "np.median(income2)"
   ]
  },
  {
   "cell_type": "markdown",
   "metadata": {},
   "source": [
    "### Variance and Standard Deviation"
   ]
  },
  {
   "cell_type": "markdown",
   "metadata": {},
   "source": [
    "#### Standard deviation with .std()"
   ]
  },
  {
   "cell_type": "code",
   "execution_count": 10,
   "metadata": {},
   "outputs": [
    {
     "data": {
      "text/plain": [
       "20.00126559615178"
      ]
     },
     "execution_count": 10,
     "metadata": {},
     "output_type": "execute_result"
    }
   ],
   "source": [
    "# Mean of 100, sd of 20, 10000 points\n",
    "income3 = np.random.normal(100.0, 20.0, 10000)\n",
    "\n",
    "income3.std()"
   ]
  },
  {
   "cell_type": "markdown",
   "metadata": {},
   "source": [
    "#### Variance with .var()"
   ]
  },
  {
   "cell_type": "code",
   "execution_count": 11,
   "metadata": {},
   "outputs": [
    {
     "data": {
      "text/plain": [
       "400.05062544780475"
      ]
     },
     "execution_count": 11,
     "metadata": {},
     "output_type": "execute_result"
    }
   ],
   "source": [
    "income3.var()"
   ]
  },
  {
   "cell_type": "markdown",
   "metadata": {},
   "source": [
    "### Uniform and Exponential Distributions"
   ]
  },
  {
   "cell_type": "markdown",
   "metadata": {},
   "source": [
    "#### Uniform distribution\n",
    "- Instead of mean and sd, we have lower and upper ranges"
   ]
  },
  {
   "cell_type": "code",
   "execution_count": 16,
   "metadata": {
    "scrolled": true
   },
   "outputs": [
    {
     "data": {
      "text/plain": [
       "(array([5038., 5033., 4974., 5111., 5022., 4962., 4971., 4926., 5006.,\n",
       "        5080., 4891., 4904., 4928., 5061., 5025., 5000., 5118., 4967.,\n",
       "        4998., 4985.]),\n",
       " array([-9.99966265e+00, -8.99968363e+00, -7.99970461e+00, -6.99972559e+00,\n",
       "        -5.99974657e+00, -4.99976754e+00, -3.99978852e+00, -2.99980950e+00,\n",
       "        -1.99983048e+00, -9.99851457e-01,  1.27564688e-04,  1.00010659e+00,\n",
       "         2.00008561e+00,  3.00006463e+00,  4.00004365e+00,  5.00002267e+00,\n",
       "         6.00000170e+00,  6.99998072e+00,  7.99995974e+00,  8.99993876e+00,\n",
       "         9.99991778e+00]),\n",
       " <a list of 20 Patch objects>)"
      ]
     },
     "execution_count": 16,
     "metadata": {},
     "output_type": "execute_result"
    },
    {
     "data": {
      "image/png": "[encoded data removed]",
      "text/plain": [
       "<Figure size 432x288 with 1 Axes>"
      ]
     },
     "metadata": {
      "needs_background": "light"
     },
     "output_type": "display_data"
    }
   ],
   "source": [
    "# Uniform distribution(low, high, size)\n",
    "dist = np.random.uniform(-10.0, 10.0, 100000)\n",
    "plt.hist(dist, 20)"
   ]
  },
  {
   "cell_type": "markdown",
   "metadata": {},
   "source": [
    "#### Exponential Distribution:\n",
    "- Requires scipy package"
   ]
  },
  {
   "cell_type": "code",
   "execution_count": 17,
   "metadata": {},
   "outputs": [],
   "source": [
    "from scipy.stats import expon"
   ]
  },
  {
   "cell_type": "code",
   "execution_count": 20,
   "metadata": {},
   "outputs": [
    {
     "data": {
      "text/plain": [
       "[<matplotlib.lines.Line2D at 0x7fddd156b050>]"
      ]
     },
     "execution_count": 20,
     "metadata": {},
     "output_type": "execute_result"
    },
    {
     "data": {
      "image/png": "[encoded data removed]",
      "text/plain": [
       "<Figure size 432x288 with 1 Axes>"
      ]
     },
     "metadata": {
      "needs_background": "light"
     },
     "output_type": "display_data"
    }
   ],
   "source": [
    "# Create range\n",
    "x = np.arange(0, 10, 0.001)\n",
    "\n",
    "# Create exponential plot of x\n",
    "plt.plot(x, expon.pdf(x))"
   ]
  },
  {
   "cell_type": "markdown",
   "metadata": {},
   "source": [
    "## Conditional Probability\n",
    "- Measuring the relationship between two events\n",
    "    - The probability that something will happen given that another event has already happened\n",
    "- Notation\n",
    "    - P(A,B)\n",
    "        - The probability of A and B occurring independently of each other\n",
    "    - P(B|A)\n",
    "        - The probability of B given A\n",
    "- Computation\n",
    "    - $P(B|A) = \\frac{P(A,B)}{P(A)}$\n",
    "        - The probability of A and B occurring over the probability of A alone occuring"
   ]
  },
  {
   "cell_type": "markdown",
   "metadata": {},
   "source": [
    "Create sample data of people randomly assigned ages and a number of purchases:"
   ]
  },
  {
   "cell_type": "code",
   "execution_count": 25,
   "metadata": {},
   "outputs": [],
   "source": [
    "import numpy as np\n",
    "\n",
    "np.random.seed(0)\n",
    "\n",
    "totals = {20:0, 30:0, 40:0, 50:0, 60:0, 70:0}\n",
    "\n",
    "purchase = {20:0, 30:0, 40:0, 50:0, 60:0, 70:0}\n",
    "\n",
    "totalPurchase = 0\n",
    "\n",
    "# Start with 1 million people\n",
    "for i in range(1000000):\n",
    "    # Randomly assign person to age bracket\n",
    "    ageDecade = np.random.choice([20, 30, 40, 50, 60, 70])\n",
    "    \n",
    "    # Create a probability from this assignment\n",
    "    purchaseProbability = float(ageDecade) / 100.0\n",
    "    \n",
    "    # Add person to age bracket\n",
    "    totals[ageDecade] += 1\n",
    "    \n",
    "    if (np.random.random() < purchaseProbability):\n",
    "        totalPurchase += 1\n",
    "        purchase[ageDecade] += 1"
   ]
  },
  {
   "cell_type": "markdown",
   "metadata": {},
   "source": [
    "Print total number of people in each age category:"
   ]
  },
  {
   "cell_type": "code",
   "execution_count": 24,
   "metadata": {
    "scrolled": true
   },
   "outputs": [
    {
     "data": {
      "text/plain": [
       "{20: 167086, 30: 166631, 40: 166751, 50: 166878, 60: 166473, 70: 166181}"
      ]
     },
     "execution_count": 24,
     "metadata": {},
     "output_type": "execute_result"
    }
   ],
   "source": [
    "totals"
   ]
  },
  {
   "cell_type": "markdown",
   "metadata": {},
   "source": [
    "Print number of purchases in each age category and total purchases:"
   ]
  },
  {
   "cell_type": "code",
   "execution_count": 28,
   "metadata": {},
   "outputs": [
    {
     "data": {
      "text/plain": [
       "{20: 33162, 30: 50410, 40: 66490, 50: 83282, 60: 99698, 70: 115969}"
      ]
     },
     "execution_count": 28,
     "metadata": {},
     "output_type": "execute_result"
    }
   ],
   "source": [
    "purchase"
   ]
  },
  {
   "cell_type": "markdown",
   "metadata": {},
   "source": [
    "Find the probability of a purchase given person is in 30s:"
   ]
  },
  {
   "cell_type": "code",
   "execution_count": 31,
   "metadata": {},
   "outputs": [],
   "source": [
    "PEF = float(purchase[30]) / float(totals[30])"
   ]
  },
  {
   "cell_type": "code",
   "execution_count": 32,
   "metadata": {},
   "outputs": [
    {
     "name": "stdout",
     "output_type": "stream",
     "text": [
      "P(purchase|30s: )  0.302524740294423\n"
     ]
    }
   ],
   "source": [
    "print(\"P(purchase|30s: ) \", PEF)"
   ]
  },
  {
   "cell_type": "markdown",
   "metadata": {},
   "source": [
    "## Linear Regression\n",
    "- Ordinary Least Squares (OLS) technique\n",
    "    - A linear relationship, trying to fit a curve or line to a set of observations\n",
    "    - y = mx + c\n",
    "        - mx = slope\n",
    "        - c = y intercept\n",
    "    - OLS tries to minimize the squared error between each observation"
   ]
  },
  {
   "cell_type": "markdown",
   "metadata": {},
   "source": [
    "Create two random normal datasets and view on scatter:"
   ]
  },
  {
   "cell_type": "code",
   "execution_count": 33,
   "metadata": {},
   "outputs": [
    {
     "data": {
      "text/plain": [
       "<matplotlib.collections.PathCollection at 0x7fde00a477d0>"
      ]
     },
     "execution_count": 33,
     "metadata": {},
     "output_type": "execute_result"
    },
    {
     "data": {
      "image/png": "[encoded data removed]",
      "text/plain": [
       "<Figure size 432x288 with 1 Axes>"
      ]
     },
     "metadata": {
      "needs_background": "light"
     },
     "output_type": "display_data"
    }
   ],
   "source": [
    "pageSpeed = np.random.normal(3.0, 1.0, 1000)\n",
    "\n",
    "purchaseAmt = 100 - (pageSpeed + np.random.normal(0, 0.1, 1000) * 3)\n",
    "\n",
    "plt.scatter(pageSpeed, purchaseAmt)"
   ]
  },
  {
   "cell_type": "markdown",
   "metadata": {},
   "source": [
    "Ordinary least squares is available from stats.linregress() method in scipy package\n",
    "- This method will return a lot of values: slope, intercept, r_value, p_value, and std_error"
   ]
  },
  {
   "cell_type": "code",
   "execution_count": 34,
   "metadata": {},
   "outputs": [],
   "source": [
    "from scipy import stats"
   ]
  },
  {
   "cell_type": "code",
   "execution_count": 35,
   "metadata": {},
   "outputs": [],
   "source": [
    "slope, intercept, r_value, p_value, std_error = stats.linregress(pageSpeed, purchaseAmt)"
   ]
  },
  {
   "cell_type": "markdown",
   "metadata": {},
   "source": [
    "Create a plot of the best fit line:"
   ]
  },
  {
   "cell_type": "code",
   "execution_count": 36,
   "metadata": {},
   "outputs": [
    {
     "data": {
      "text/plain": [
       "<function matplotlib.pyplot.show(*args, **kw)>"
      ]
     },
     "execution_count": 36,
     "metadata": {},
     "output_type": "execute_result"
    },
    {
     "data": {
      "image/png": "[encoded data removed]",
      "text/plain": [
       "<Figure size 432x288 with 1 Axes>"
      ]
     },
     "metadata": {
      "needs_background": "light"
     },
     "output_type": "display_data"
    }
   ],
   "source": [
    "# Small function that returns y = mx + c\n",
    "def predict(x):\n",
    "    # slope and intercept come from .linregress()\n",
    "    return slope * x + intercept \n",
    "\n",
    "# Pass pageSpeed (x-axis) into predict function and assign to fitLine\n",
    "fitline = predict(pageSpeed)\n",
    "\n",
    "# Create the scatter\n",
    "plt.scatter(pageSpeed, purchaseAmt)\n",
    "\n",
    "# Add the fit line and show\n",
    "plt.plot(pageSpeed, fitline, c = 'r')\n",
    "plt.show"
   ]
  },
  {
   "cell_type": "markdown",
   "metadata": {},
   "source": [
    "### Multiple Regression Analysis\n",
    "- Takes more than one factor into account"
   ]
  },
  {
   "cell_type": "markdown",
   "metadata": {},
   "source": [
    "In this example, we have a dataset with four different variables"
   ]
  },
  {
   "cell_type": "code",
   "execution_count": 40,
   "metadata": {},
   "outputs": [
    {
     "data": {
      "text/html": [
       "<div>\n",
       "<style scoped>\n",
       "    .dataframe tbody tr th:only-of-type {\n",
       "        vertical-align: middle;\n",
       "    }\n",
       "\n",
       "    .dataframe tbody tr th {\n",
       "        vertical-align: top;\n",
       "    }\n",
       "\n",
       "    .dataframe thead th {\n",
       "        text-align: right;\n",
       "    }\n",
       "</style>\n",
       "<table border=\"1\" class=\"dataframe\">\n",
       "  <thead>\n",
       "    <tr style=\"text-align: right;\">\n",
       "      <th></th>\n",
       "      <th>Price</th>\n",
       "      <th>Mileage</th>\n",
       "      <th>Liter</th>\n",
       "      <th>Doors</th>\n",
       "    </tr>\n",
       "  </thead>\n",
       "  <tbody>\n",
       "    <tr>\n",
       "      <th>0</th>\n",
       "      <td>17314.10313</td>\n",
       "      <td>8221</td>\n",
       "      <td>3.1</td>\n",
       "      <td>4</td>\n",
       "    </tr>\n",
       "    <tr>\n",
       "      <th>1</th>\n",
       "      <td>17542.03608</td>\n",
       "      <td>9135</td>\n",
       "      <td>3.1</td>\n",
       "      <td>4</td>\n",
       "    </tr>\n",
       "    <tr>\n",
       "      <th>2</th>\n",
       "      <td>16218.84786</td>\n",
       "      <td>13196</td>\n",
       "      <td>3.1</td>\n",
       "      <td>4</td>\n",
       "    </tr>\n",
       "    <tr>\n",
       "      <th>3</th>\n",
       "      <td>14862.09387</td>\n",
       "      <td>24021</td>\n",
       "      <td>3.1</td>\n",
       "      <td>4</td>\n",
       "    </tr>\n",
       "    <tr>\n",
       "      <th>4</th>\n",
       "      <td>15295.01827</td>\n",
       "      <td>27325</td>\n",
       "      <td>3.1</td>\n",
       "      <td>4</td>\n",
       "    </tr>\n",
       "  </tbody>\n",
       "</table>\n",
       "</div>"
      ],
      "text/plain": [
       "         Price  Mileage  Liter  Doors\n",
       "0  17314.10313     8221    3.1      4\n",
       "1  17542.03608     9135    3.1      4\n",
       "2  16218.84786    13196    3.1      4\n",
       "3  14862.09387    24021    3.1      4\n",
       "4  15295.01827    27325    3.1      4"
      ]
     },
     "execution_count": 40,
     "metadata": {},
     "output_type": "execute_result"
    }
   ],
   "source": [
    "# Read csv into dataframe\n",
    "car = pd.read_csv('Images/09_xcars.csv')\n",
    "\n",
    "car.head()"
   ]
  },
  {
   "cell_type": "markdown",
   "metadata": {},
   "source": [
    "Create model that tries to predict price based on mileage, liter, and doors\n",
    "- The summary will reveal correlation and how the individual independent varibles correlate with the dependent variable (price)\n",
    "\n",
    "For this we will need OLS from the statsmodel.api package:"
   ]
  },
  {
   "cell_type": "code",
   "execution_count": 42,
   "metadata": {},
   "outputs": [
    {
     "name": "stdout",
     "output_type": "stream",
     "text": [
      "                                 OLS Regression Results                                \n",
      "=======================================================================================\n",
      "Dep. Variable:                  Price   R-squared (uncentered):                   0.900\n",
      "Model:                            OLS   Adj. R-squared (uncentered):              0.897\n",
      "Method:                 Least Squares   F-statistic:                              290.5\n",
      "Date:                Tue, 30 Jun 2020   Prob (F-statistic):                    2.57e-48\n",
      "Time:                        22:22:09   Log-Likelihood:                         -1041.8\n",
      "No. Observations:                 100   AIC:                                      2090.\n",
      "Df Residuals:                      97   BIC:                                      2097.\n",
      "Df Model:                           3                                                  \n",
      "Covariance Type:            nonrobust                                                  \n",
      "==============================================================================\n",
      "                 coef    std err          t      P>|t|      [0.025      0.975]\n",
      "------------------------------------------------------------------------------\n",
      "Mileage       -0.0694      0.088     -0.787      0.433      -0.244       0.106\n",
      "Liter       1.186e+04    630.800     18.796      0.000    1.06e+04    1.31e+04\n",
      "Doors      -3309.5100    616.666     -5.367      0.000   -4533.420   -2085.600\n",
      "==============================================================================\n",
      "Omnibus:                       10.691   Durbin-Watson:                   0.129\n",
      "Prob(Omnibus):                  0.005   Jarque-Bera (JB):               11.875\n",
      "Skew:                           0.842   Prob(JB):                      0.00264\n",
      "Kurtosis:                       2.876   Cond. No.                     2.03e+04\n",
      "==============================================================================\n",
      "\n",
      "Warnings:\n",
      "[1] Standard Errors assume that the covariance matrix of the errors is correctly specified.\n",
      "[2] The condition number is large, 2.03e+04. This might indicate that there are\n",
      "strong multicollinearity or other numerical problems.\n"
     ]
    }
   ],
   "source": [
    "import statsmodels.api as sm\n",
    "\n",
    "# Our dependent variable is price (y)\n",
    "y = car[['Price']]\n",
    "\n",
    "# We have multiple independent variables (x)\n",
    "x = car[['Mileage', 'Liter', 'Doors']]\n",
    "\n",
    "# Pass both variables to OLS and use fit\n",
    "est = sm.OLS(y,x).fit()\n",
    "\n",
    "# Analyze data with .summary() function\n",
    "print(est.summary())"
   ]
  },
  {
   "cell_type": "markdown",
   "metadata": {},
   "source": [
    "## HTML Parsing and Crawling"
   ]
  },
  {
   "cell_type": "markdown",
   "metadata": {},
   "source": [
    "### Data Mining\n",
    "- The process of automatically discovering useful information in large data repository\n",
    "- Can be automatic or semiautomatic\n",
    "- Extracting\n",
    "    - Implicit\n",
    "    - Previously unknown\n",
    "    - Potentially useful\n",
    "- Information from data\n",
    "- Crawling\n",
    "    - Explores web in an organized and automated way\n",
    "    - Called crawling or spidering\n",
    "    - Can be used for link checking, html validation, or collecting information"
   ]
  },
  {
   "cell_type": "markdown",
   "metadata": {},
   "source": [
    "Capturing the image from our professor's webpage\n",
    "- Uses package urllib.request\n",
    "    - \"URL Library\""
   ]
  },
  {
   "cell_type": "code",
   "execution_count": 43,
   "metadata": {},
   "outputs": [
    {
     "name": "stdout",
     "output_type": "stream",
     "text": [
      "The file is saved\n"
     ]
    }
   ],
   "source": [
    "import urllib.request\n",
    "\n",
    "# Link to prof's page\n",
    "url = 'http://www.depts.ttu.edu/rawlsbusiness/about/isqs/coordinator.php/song450.jpg'\n",
    "\n",
    "# Once captured, save as:\n",
    "savename = 'jaeki.jpg'\n",
    "\n",
    "# Use url library request urlretrieve function to save image\n",
    "urllib.request.urlretrieve(url, savename)\n",
    "\n",
    "print('The file is saved')"
   ]
  },
  {
   "cell_type": "markdown",
   "metadata": {},
   "source": [
    "Do the same thing, this time using .urlopen function"
   ]
  },
  {
   "cell_type": "code",
   "execution_count": 44,
   "metadata": {},
   "outputs": [
    {
     "name": "stdout",
     "output_type": "stream",
     "text": [
      "Saved\n"
     ]
    }
   ],
   "source": [
    "savename2 = 'jaeki2.jpg'\n",
    "\n",
    "# Download\n",
    "men = urllib.request.urlopen(url).read()\n",
    "\n",
    "# Save \n",
    "# Use open function 'write binary' mode\n",
    "with open (savename2, mode = 'wb') as f:\n",
    "    # Write men (url)\n",
    "    f.write(men)\n",
    "    print(\"Saved\")"
   ]
  },
  {
   "cell_type": "markdown",
   "metadata": {},
   "source": [
    "### Web Scraping"
   ]
  },
  {
   "cell_type": "markdown",
   "metadata": {},
   "source": [
    "This uses module BeautifulSoup\n",
    "- Provides tools for navigating, searching, and modifying a parsed tree\n",
    "- Automatically imports incoming document to unicode and outgoing document to UTF-8\n",
    "- Uses an html *parser*\n",
    "    - Takes text as input \n",
    "    - Divides syntax into parts for extraction"
   ]
  },
  {
   "cell_type": "code",
   "execution_count": 46,
   "metadata": {},
   "outputs": [
    {
     "name": "stdout",
     "output_type": "stream",
     "text": [
      "<h1> What is scraping? </h1>\n",
      "<p> Analyze web pages </p>\n",
      "<p> Extract web data </p>\n"
     ]
    }
   ],
   "source": [
    "from bs4 import BeautifulSoup\n",
    "\n",
    "# Create sample HTML\n",
    "html = \"\"\"\n",
    "<html><body>\n",
    "    <h1> What is scraping? </h1>\n",
    "    <p> Analyze web pages </p>\n",
    "    <p> Extract web data </p>\n",
    "</body></html>\n",
    "\"\"\"\n",
    "\n",
    "# Analyze HTML\n",
    "# (item, type of parser to use)\n",
    "soup = BeautifulSoup(html, 'html.parser')\n",
    "\n",
    "# Extract the specific html elements to variables\n",
    "h1 = soup.html.body.h1\n",
    "p1 = soup.html.body.p\n",
    "# Extracts next p from p1\n",
    "p2 = p1.next_sibling.next_sibling\n",
    "\n",
    "print(h1)\n",
    "print(p1)\n",
    "print(p2)"
   ]
  },
  {
   "cell_type": "markdown",
   "metadata": {},
   "source": [
    "#### Scraping Foreign Code\n",
    "- In this example we will scrape all URLs from a site\n",
    "- Uses requests package and BeautifulSoup\n"
   ]
  },
  {
   "cell_type": "code",
   "execution_count": null,
   "metadata": {},
   "outputs": [],
   "source": [
    "import requests\n",
    "from bs4 import BeautifulSoup\n",
    "\n",
    "\n",
    "url = input('Enter a website to extract URLs: ')\n",
    "\n",
    "# Sends get request to url\n",
    "# Pass in url given by user\n",
    "# Save in 'r'\n",
    "r = requests.get('http://' + url)\n",
    "\n",
    "# Save all code from site as text file in 'data'\n",
    "data = r.text\n",
    "\n",
    "# Create instance of BeautifulSoup called 'soup'\n",
    "# Pass in data (text of website)\n",
    "soup = BeautifulSoup(data)\n",
    "\n",
    "# Uses find_all() method to look for 'a'\n",
    "# Prints the link (href in html)\n",
    "for link in soup.find_all('a'):\n",
    "    print(link.get('href'))"
   ]
  },
  {
   "cell_type": "markdown",
   "metadata": {},
   "source": [
    "### JSON\n",
    "- \"Javascript Object Notation\"\n",
    "- Used for sending data via HTTP request between web browsers and other applications\n",
    "- JSON array is same as Python dictionary\n",
    "    - Key/value pairs\n",
    "- Allows you to retrieve specific values from keys\n",
    "- import json package"
   ]
  },
  {
   "cell_type": "markdown",
   "metadata": {},
   "source": [
    "Scrape JSON and look for name, owner, and login"
   ]
  },
  {
   "cell_type": "code",
   "execution_count": null,
   "metadata": {},
   "outputs": [],
   "source": [
    "import urllib.request\n",
    "import json\n",
    "\n",
    "url = \"https://api.github.com/repositories\"\n",
    "savename = 'jsonEx'\n",
    "\n",
    "# Retrive url, save as savename\n",
    "urllib.request.urlretrieve(url,savename)\n",
    "\n",
    "# Analyze JSON file\n",
    "# Use JSON .load() function to open savename\n",
    "# 'r' is readonly\n",
    "# Encode as UTF-8\n",
    "item = json.load(open(savename, 'r', encoding = 'utf-8'))\n",
    "\n",
    "# Print output\n",
    "for item in items:\n",
    "    # Displays any item with name, owner, and login if present\n",
    "    print(item['name'] + item['owner']['login'])"
   ]
  }
 ],
 "metadata": {
  "kernelspec": {
   "display_name": "Python 3",
   "language": "python",
   "name": "python3"
  },
  "language_info": {
   "codemirror_mode": {
    "name": "ipython",
    "version": 3
   },
   "file_extension": ".py",
   "mimetype": "text/x-python",
   "name": "python",
   "nbconvert_exporter": "python",
   "pygments_lexer": "ipython3",
   "version": "3.7.6"
  }
 },
 "nbformat": 4,
 "nbformat_minor": 4
}
