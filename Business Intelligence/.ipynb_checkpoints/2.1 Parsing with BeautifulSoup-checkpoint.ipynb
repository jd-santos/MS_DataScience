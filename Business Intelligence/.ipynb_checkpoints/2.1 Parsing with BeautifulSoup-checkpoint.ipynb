{
 "cells": [
  {
   "cell_type": "markdown",
   "metadata": {
    "toc": true
   },
   "source": [
    "<h1>Table of Contents<span class=\"tocSkip\"></span></h1>\n",
    "<div class=\"toc\"><ul class=\"toc-item\"><li><span><a href=\"#Using-BeautifulSoup\" data-toc-modified-id=\"Using-BeautifulSoup-1\"><span class=\"toc-item-num\">1&nbsp;&nbsp;</span>Using BeautifulSoup</a></span></li><li><span><a href=\"#Using-Loops-to-Print-Output\" data-toc-modified-id=\"Using-Loops-to-Print-Output-2\"><span class=\"toc-item-num\">2&nbsp;&nbsp;</span>Using Loops to Print Output</a></span></li><li><span><a href=\"#Parsing-from-innerHTML\" data-toc-modified-id=\"Parsing-from-innerHTML-3\"><span class=\"toc-item-num\">3&nbsp;&nbsp;</span>Parsing from innerHTML</a></span></li></ul></div>"
   ]
  },
  {
   "cell_type": "markdown",
   "metadata": {},
   "source": [
    "# Intro to Parsing with BeautifulSoup"
   ]
  },
  {
   "cell_type": "markdown",
   "metadata": {},
   "source": [
    "Import BeautifulSoup and Request libraries"
   ]
  },
  {
   "cell_type": "code",
   "execution_count": 8,
   "metadata": {},
   "outputs": [],
   "source": [
    "import requests as r\n",
    "from bs4 import BeautifulSoup\n",
    "\n",
    "# Save URL for efficiency porpoises\n",
    "urltoget = 'http://drd.ba.ttu.edu/isqs6339/imbadproducts/'"
   ]
  },
  {
   "cell_type": "markdown",
   "metadata": {},
   "source": [
    "Request products page, store in res, examine the content\n",
    "- `\\t` refers to tabs\n",
    "- `\\n` refers to newlines"
   ]
  },
  {
   "cell_type": "code",
   "execution_count": 10,
   "metadata": {},
   "outputs": [
    {
     "data": {
      "text/plain": [
       "b'<html>\\n<head>\\n<link rel=\"stylesheet\" href=\"style/badstyle.css\">\\n</head>\\n<body>\\n\\t<div id=\"searchresults\">\\n\\t\\t<h2>Search Results</h2>\\n\\t\\t<a href=\"products/B01NAJGGA2.html\">\\n\\t\\t\\t<div class=\"productresult\">\\n\\t\\t\\t\\t<span class=\"productid\">B01NAJGGA2</span>\\n\\t\\t\\t\\t<span class=\"producttitle\">Mpow 059 Bluetooth Headphones</span>\\n\\t\\t\\t\\t<span class=\"productprice\">$35.99</span>\\n\\t\\t\\t\\t<span class=\"productdesc\">Over Ear, Hi-Fi Stereo Wireless Headset, Foldable, Soft Memory-Protein Earmuffs, w/Built-in Mic Wired Mode PC/Cell Phones/TV</span>\\n\\t\\t\\t</div>\\n\\t\\t</a>\\n\\t\\t<a href=\"products/B07JMSQLCP.html\">\\n\\t\\t\\t<div class=\"productresult\">\\n\\t\\t\\t\\t<span class=\"productid\">B07JMSQLCP</span>\\n\\t\\t\\t\\t<span class=\"producttitle\">APIE Bluetooth Headphones, Wireless Earbuds</span>\\n\\t\\t\\t\\t<span class=\"productprice\">$19.99</span>\\n\\t\\t\\t\\t<span class=\"productdesc\">Bluetooth 4.1 with Microphone Sport Stereo Headset, Stereo Neckband Headset, Premium Sound with Bass, Noise Cancelling - Black</span>\\n\\t\\t\\t</div>\\n\\t\\t</a>\\n\\t\\t<a href=\"products/B018APC4LE.html\">\\n\\t\\t\\t<div class=\"productresult\">\\n\\t\\t\\t\\t<span class=\"productid\">B018APC4LE</span>\\n\\t\\t\\t\\t<span class=\"producttitle\">Bluetooth Headphones, Otium</span>\\n\\t\\t\\t\\t<span class=\"productprice\">$19.97</span>\\n\\t\\t\\t\\t<span class=\"productdesc\">Best Wireless Sports Earphones W/Mic IPX7 Waterproof HD Stereo Sweatproof in Ear Earbuds Gym Running Workout 8 Hour Battery Noise Cancelling Headsets</span>\\n\\t\\t\\t</div>\\n\\t\\t</a>\\n\\t</div>\\n</body>\\n</html>\\n'"
      ]
     },
     "execution_count": 10,
     "metadata": {},
     "output_type": "execute_result"
    }
   ],
   "source": [
    "res = r.get(urltoget)\n",
    "res.content"
   ]
  },
  {
   "cell_type": "markdown",
   "metadata": {},
   "source": [
    "## Using BeautifulSoup"
   ]
  },
  {
   "cell_type": "markdown",
   "metadata": {},
   "source": [
    "Call BeautifulSoup and parse the content into an object\n",
    "- Here we're parsing with lxml"
   ]
  },
  {
   "cell_type": "code",
   "execution_count": 12,
   "metadata": {},
   "outputs": [],
   "source": [
    "soup = BeautifulSoup(res.content,'lxml')"
   ]
  },
  {
   "cell_type": "markdown",
   "metadata": {},
   "source": [
    "Use soup.find to find the anchor tags ('a') in the HTML\n",
    "- This will also return all of the innerHTML within the tag\n",
    "- soup.find will only return the **first** object that matches"
   ]
  },
  {
   "cell_type": "code",
   "execution_count": 14,
   "metadata": {},
   "outputs": [
    {
     "name": "stdout",
     "output_type": "stream",
     "text": [
      "<a href=\"products/B01NAJGGA2.html\">\n",
      "<div class=\"productresult\">\n",
      "<span class=\"productid\">B01NAJGGA2</span>\n",
      "<span class=\"producttitle\">Mpow 059 Bluetooth Headphones</span>\n",
      "<span class=\"productprice\">$35.99</span>\n",
      "<span class=\"productdesc\">Over Ear, Hi-Fi Stereo Wireless Headset, Foldable, Soft Memory-Protein Earmuffs, w/Built-in Mic Wired Mode PC/Cell Phones/TV</span>\n",
      "</div>\n",
      "</a>\n"
     ]
    }
   ],
   "source": [
    "#Find the first anchor links\n",
    "results = soup.find(\"a\")\n",
    "print(results)"
   ]
  },
  {
   "cell_type": "markdown",
   "metadata": {},
   "source": [
    "We can then pull out the href from these results\n",
    "- Note this is a local path which is why it looks truncated"
   ]
  },
  {
   "cell_type": "code",
   "execution_count": 16,
   "metadata": {},
   "outputs": [
    {
     "name": "stdout",
     "output_type": "stream",
     "text": [
      "products/B01NAJGGA2.html\n"
     ]
    }
   ],
   "source": [
    "#pull the href\n",
    "print(results['href'])"
   ]
  },
  {
   "cell_type": "markdown",
   "metadata": {},
   "source": [
    "Use soup.find_all to see all of the anchor links instead of just the first one"
   ]
  },
  {
   "cell_type": "code",
   "execution_count": 17,
   "metadata": {},
   "outputs": [],
   "source": [
    "results = soup.find_all(\"a\")"
   ]
  },
  {
   "cell_type": "markdown",
   "metadata": {},
   "source": [
    "Put this in a loop to print all of the hrefs"
   ]
  },
  {
   "cell_type": "markdown",
   "metadata": {},
   "source": [
    "## Using Loops to Print Output"
   ]
  },
  {
   "cell_type": "code",
   "execution_count": 18,
   "metadata": {},
   "outputs": [
    {
     "name": "stdout",
     "output_type": "stream",
     "text": [
      "products/B01NAJGGA2.html\n",
      "products/B07JMSQLCP.html\n",
      "products/B018APC4LE.html\n"
     ]
    }
   ],
   "source": [
    "#Loop to see the links\n",
    "for l in results:\n",
    "    print(l['href'])"
   ]
  },
  {
   "cell_type": "markdown",
   "metadata": {},
   "source": [
    "To get the innerHTML we can loop on the text:"
   ]
  },
  {
   "cell_type": "code",
   "execution_count": 19,
   "metadata": {},
   "outputs": [
    {
     "name": "stdout",
     "output_type": "stream",
     "text": [
      "\n",
      "\n",
      "B01NAJGGA2\n",
      "Mpow 059 Bluetooth Headphones\n",
      "$35.99\n",
      "Over Ear, Hi-Fi Stereo Wireless Headset, Foldable, Soft Memory-Protein Earmuffs, w/Built-in Mic Wired Mode PC/Cell Phones/TV\n",
      "\n",
      "\n",
      "\n",
      "\n",
      "B07JMSQLCP\n",
      "APIE Bluetooth Headphones, Wireless Earbuds\n",
      "$19.99\n",
      "Bluetooth 4.1 with Microphone Sport Stereo Headset, Stereo Neckband Headset, Premium Sound with Bass, Noise Cancelling - Black\n",
      "\n",
      "\n",
      "\n",
      "\n",
      "B018APC4LE\n",
      "Bluetooth Headphones, Otium\n",
      "$19.97\n",
      "Best Wireless Sports Earphones W/Mic IPX7 Waterproof HD Stereo Sweatproof in Ear Earbuds Gym Running Workout 8 Hour Battery Noise Cancelling Headsets\n",
      "\n",
      "\n"
     ]
    }
   ],
   "source": [
    "for l in results:\n",
    "    print(l.text)"
   ]
  },
  {
   "cell_type": "markdown",
   "metadata": {},
   "source": [
    "## Parsing from innerHTML"
   ]
  },
  {
   "cell_type": "markdown",
   "metadata": {},
   "source": [
    "This is a great start, but what if we want to pull individual items from the innerHTML?\n",
    "Example: Pull the product IDs\n",
    "- We can parse by CSS class productid\n",
    "- Pass in parameter 'attrs' (attributes)\n",
    "    - In this example we give a small dictionary with the attribute on the tag we're looking for (class) and the text we want to match (productid)\n",
    "- This gives us all of our productids"
   ]
  },
  {
   "cell_type": "code",
   "execution_count": 20,
   "metadata": {},
   "outputs": [
    {
     "name": "stdout",
     "output_type": "stream",
     "text": [
      "B01NAJGGA2\n",
      "B07JMSQLCP\n",
      "B018APC4LE\n"
     ]
    }
   ],
   "source": [
    "results = soup.find_all('span', attrs={'class' : 'productid'})\n",
    "for l in results:\n",
    "    #print(l) #returns HTML of each found node\n",
    "    print(l.text)"
   ]
  },
  {
   "cell_type": "markdown",
   "metadata": {},
   "source": [
    "We can do the same to find the prices:"
   ]
  },
  {
   "cell_type": "code",
   "execution_count": 21,
   "metadata": {
    "scrolled": true
   },
   "outputs": [
    {
     "name": "stdout",
     "output_type": "stream",
     "text": [
      "$35.99\n",
      "$19.99\n",
      "$19.97\n"
     ]
    }
   ],
   "source": [
    "results = soup.find_all('span', attrs={'class' : 'productprice'})\n",
    "for l in results:\n",
    "    #print(l) #returns HTML of each found node\n",
    "    print(l.text)"
   ]
  },
  {
   "cell_type": "markdown",
   "metadata": {},
   "source": [
    "Further, we can search by the ID of a tag:"
   ]
  },
  {
   "cell_type": "code",
   "execution_count": 23,
   "metadata": {
    "scrolled": true
   },
   "outputs": [
    {
     "name": "stdout",
     "output_type": "stream",
     "text": [
      "<div id=\"searchresults\">\n",
      "<h2>Search Results</h2>\n",
      "<a href=\"products/B01NAJGGA2.html\">\n",
      "<div class=\"productresult\">\n",
      "<span class=\"productid\">B01NAJGGA2</span>\n",
      "<span class=\"producttitle\">Mpow 059 Bluetooth Headphones</span>\n",
      "<span class=\"productprice\">$35.99</span>\n",
      "<span class=\"productdesc\">Over Ear, Hi-Fi Stereo Wireless Headset, Foldable, Soft Memory-Protein Earmuffs, w/Built-in Mic Wired Mode PC/Cell Phones/TV</span>\n",
      "</div>\n",
      "</a>\n",
      "<a href=\"products/B07JMSQLCP.html\">\n",
      "<div class=\"productresult\">\n",
      "<span class=\"productid\">B07JMSQLCP</span>\n",
      "<span class=\"producttitle\">APIE Bluetooth Headphones, Wireless Earbuds</span>\n",
      "<span class=\"productprice\">$19.99</span>\n",
      "<span class=\"productdesc\">Bluetooth 4.1 with Microphone Sport Stereo Headset, Stereo Neckband Headset, Premium Sound with Bass, Noise Cancelling - Black</span>\n",
      "</div>\n",
      "</a>\n",
      "<a href=\"products/B018APC4LE.html\">\n",
      "<div class=\"productresult\">\n",
      "<span class=\"productid\">B018APC4LE</span>\n",
      "<span class=\"producttitle\">Bluetooth Headphones, Otium</span>\n",
      "<span class=\"productprice\">$19.97</span>\n",
      "<span class=\"productdesc\">Best Wireless Sports Earphones W/Mic IPX7 Waterproof HD Stereo Sweatproof in Ear Earbuds Gym Running Workout 8 Hour Battery Noise Cancelling Headsets</span>\n",
      "</div>\n",
      "</a>\n",
      "</div>\n"
     ]
    }
   ],
   "source": [
    "#Instead of class, we can look for id\n",
    "results = soup.find('div', attrs={'id' : 'searchresults'})\n",
    "print(results)"
   ]
  }
 ],
 "metadata": {
  "kernelspec": {
   "display_name": "Python 3",
   "language": "python",
   "name": "python3"
  },
  "language_info": {
   "codemirror_mode": {
    "name": "ipython",
    "version": 3
   },
   "file_extension": ".py",
   "mimetype": "text/x-python",
   "name": "python",
   "nbconvert_exporter": "python",
   "pygments_lexer": "ipython3",
   "version": "3.7.6"
  },
  "toc": {
   "base_numbering": 1,
   "nav_menu": {},
   "number_sections": true,
   "sideBar": true,
   "skip_h1_title": true,
   "title_cell": "Table of Contents",
   "title_sidebar": "Contents",
   "toc_cell": true,
   "toc_position": {},
   "toc_section_display": true,
   "toc_window_display": false
  }
 },
 "nbformat": 4,
 "nbformat_minor": 4
}
