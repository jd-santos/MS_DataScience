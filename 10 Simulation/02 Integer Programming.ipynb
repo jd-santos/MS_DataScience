{
 "cells": [
  {
   "cell_type": "markdown",
   "id": "93bcf6ba-729c-4509-a35c-d60aeab98997",
   "metadata": {},
   "source": [
    "# Integer Programming\n",
    "**Jonathan De Los Santos**\n",
    "\n",
    "*03-25-2023*\n",
    "\n",
    "Applications of linear programming where variables represent discrete decisions and must be modeled as integers. Model formulation and Python solutions are presented for simple, binary, and mixed-integer programming."
   ]
  },
  {
   "cell_type": "markdown",
   "id": "d97d8994-7855-4ec5-8891-94eeaec592cf",
   "metadata": {
    "tags": []
   },
   "source": [
    "## Basic Integer Programming (IP)\n",
    "\n",
    "### Problem\n",
    "\n",
    "The CitruSun Corporation ships frozen orange juice concentrate from processing plants in Eustis and Clermont to distributors in Miami, Orlando, and Tallahassee. Each plant can produce 20 tons of concentrate each week.\n",
    "\n",
    "The company has just received orders of 10 tons from Miami for the coming week, 15 tons for Orlando, and 10 tons for Tallahassee. The cost per ton for\n",
    "supplying each of the distributors from each of the processing plants is shown in the following table:\n",
    "\n",
    "|          | Miami  | Orlando | Tallahassee |\n",
    "|----------|--------|---------|-------------|\n",
    "| Eustis   | \\\\$260 | \\\\$220  | \\\\$290      |\n",
    "| Clermont | \\\\$220 | \\\\$240  | \\\\$320      |\n",
    "\n",
    "The company wants to determine the **minimum** costly plan for filling their orders for the coming week."
   ]
  },
  {
   "cell_type": "markdown",
   "id": "ff3afde3-e2e3-4a48-a556-618f3d6e3f89",
   "metadata": {
    "tags": []
   },
   "source": [
    "### Formulate the Model\n",
    "In this problem we are trying to determine how many tons of OJ to ship to each distribution center and from which plants to minimize cost. This means that every cell on the above table represents a decision variable:\n",
    "\n",
    "|          | Miami | Orlando | Tallahassee |\n",
    "|----------|-------|---------|-------------|\n",
    "| Eustis   | $x_1$ | $x_2$   | $x_3$       |\n",
    "| Clermont | $x_4$ | $x_5$   | $x_6$       |\n",
    "\n",
    "Aligning this with the cost table above, we can formulate our objective function and constraints:"
   ]
  },
  {
   "cell_type": "markdown",
   "id": "aa25c1cb-c657-4d4b-9288-9395712766c5",
   "metadata": {
    "tags": []
   },
   "source": [
    "Minimize\n",
    "\n",
    "$260x_1 + 220x_2 + 290x_3 + 220x_4 + 240x_5 + 320x_6$\n",
    "\n",
    "Subject to\n",
    "\n",
    "*Each plant can produce 20 tons of concentrate each week*\n",
    "\n",
    "$x_1 + x_2 + x_3 \\leq 20$\n",
    "\n",
    "$x_4 + x_5 + x_6 \\leq 20$\n",
    "\n",
    "*10 tons for Miami*: $x_1 + x_4 = 10$\n",
    "\n",
    "*15 tons for Orlando*: $x_2 + x_5 = 15$\n",
    "\n",
    "*10 tons for Tallahassee*: $x_3 + x_6 = 10$\n",
    "\n",
    "*non-negativity*: $x_1,x_2,x_3,x_4,x_5,x_6 \\geq 0$\n",
    "\n",
    "*integer constraint*: $x_1,x_2,x_3,x_4,x_5,x_6 \\in integer$"
   ]
  },
  {
   "cell_type": "markdown",
   "id": "7a41cb98-0fcb-4e0c-a92f-2283b450dfc4",
   "metadata": {},
   "source": [
    "### Model in Python\n",
    "This process doesn't differ much from our previous modeling, with the exception of specifying the `cat` of our `LpVariable` as `Integer`"
   ]
  },
  {
   "cell_type": "code",
   "execution_count": 2,
   "id": "83dd4056-5d68-4ba1-991f-85aa937a7a84",
   "metadata": {
    "tags": []
   },
   "outputs": [],
   "source": [
    "from pulp import *"
   ]
  },
  {
   "cell_type": "markdown",
   "id": "86a4eca5-4dd3-4686-8dda-68f2502276b6",
   "metadata": {},
   "source": [
    "Define our variables specified above. Next add the constraints we defined above except the non-negativity and integer constraints. These are captured in the `lowBound` and `cat`, respectively. "
   ]
  },
  {
   "cell_type": "code",
   "execution_count": 5,
   "id": "0d0a7cbc-c23e-48a0-b2eb-dd71036f89df",
   "metadata": {
    "tags": []
   },
   "outputs": [],
   "source": [
    "intprob = LpProblem(\"OJ_Distribution\", LpMinimize)\n",
    "\n",
    "x1 = LpVariable('EustisToMiami', lowBound = 0, cat = 'Integer')\n",
    "x2 = LpVariable('EustisToOrlando', lowBound = 0, cat = 'Integer')\n",
    "x3 = LpVariable('EustisToTallahassee', lowBound = 0, cat = 'Integer')\n",
    "x4 = LpVariable('ClermontToMiami', lowBound = 0, cat = 'Integer')\n",
    "x5 = LpVariable('ClermontToOrlando', lowBound = 0, cat = 'Integer')\n",
    "x6 = LpVariable('ClermontToTallahassee', lowBound = 0, cat = 'Integer')"
   ]
  },
  {
   "cell_type": "code",
   "execution_count": 8,
   "id": "1ac877c0-e728-4eda-9c26-80cb16f617ca",
   "metadata": {
    "tags": []
   },
   "outputs": [],
   "source": [
    "# Objective function\n",
    "intprob += 260*𝑥1 + 220*𝑥2 + 290*𝑥3 + 220*𝑥4 + 240*𝑥5 + 320*𝑥6, \"Obj\"\n",
    "\n",
    "# Plant production constraint\n",
    "intprob += x1 + x2 + x3 <= 20, \"Eustis constraint\"\n",
    "intprob += x4 + x5 + x6 <= 20, \"Clermont constraint\"\n",
    "\n",
    "# Order constraints\n",
    "intprob += 𝑥1 + 𝑥4 == 10, \"Miami order\"\n",
    "intprob += 𝑥2 + 𝑥5 == 15, \"Orlando order\"\n",
    "intprob += 𝑥3 + 𝑥6 == 10, \"Tallahassee order\" "
   ]
  },
  {
   "cell_type": "code",
   "execution_count": 9,
   "id": "2dbcb37a-ae04-435e-abcc-4ed5f70e5903",
   "metadata": {
    "tags": []
   },
   "outputs": [
    {
     "name": "stdout",
     "output_type": "stream",
     "text": [
      "OJ_Distribution:\n",
      "MINIMIZE\n",
      "220*ClermontToMiami + 240*ClermontToOrlando + 320*ClermontToTallahassee + 260*EustisToMiami + 220*EustisToOrlando + 290*EustisToTallahassee + 0\n",
      "SUBJECT TO\n",
      "Eustis_constraint: EustisToMiami + EustisToOrlando + EustisToTallahassee <= 20\n",
      "\n",
      "Clermont_constraint: ClermontToMiami + ClermontToOrlando\n",
      " + ClermontToTallahassee <= 20\n",
      "\n",
      "Miami_order: ClermontToMiami + EustisToMiami = 10\n",
      "\n",
      "Orlando_order: ClermontToOrlando + EustisToOrlando = 15\n",
      "\n",
      "Tallahassee_order: ClermontToTallahassee + EustisToTallahassee = 10\n",
      "\n",
      "VARIABLES\n",
      "0 <= ClermontToMiami Integer\n",
      "0 <= ClermontToOrlando Integer\n",
      "0 <= ClermontToTallahassee Integer\n",
      "0 <= EustisToMiami Integer\n",
      "0 <= EustisToOrlando Integer\n",
      "0 <= EustisToTallahassee Integer\n",
      "\n"
     ]
    }
   ],
   "source": [
    "print(intprob)"
   ]
  },
  {
   "cell_type": "markdown",
   "id": "6b10a658-5aca-4dc1-bc0c-5fabb7af3b39",
   "metadata": {},
   "source": [
    "Finally, we can solve and print the optimal variables and value. "
   ]
  },
  {
   "cell_type": "code",
   "execution_count": null,
   "id": "a858f07b-308a-4c74-9872-4bfc61766bb2",
   "metadata": {
    "tags": []
   },
   "outputs": [],
   "source": [
    "intprob.solve()\n",
    "print(LpStatus[intprob.status])"
   ]
  },
  {
   "cell_type": "code",
   "execution_count": 11,
   "id": "626171f6-ec43-46e7-bacb-be338d2409cb",
   "metadata": {
    "tags": []
   },
   "outputs": [
    {
     "name": "stdout",
     "output_type": "stream",
     "text": [
      "ClermontToMiami = 10.0\n",
      "ClermontToOrlando = 5.0\n",
      "ClermontToTallahassee = 0.0\n",
      "EustisToMiami = 0.0\n",
      "EustisToOrlando = 10.0\n",
      "EustisToTallahassee = 10.0\n",
      "Optimial Function Value = 8500.0\n"
     ]
    }
   ],
   "source": [
    "for variable in intprob.variables():\n",
    "  print(\"{} = {}\".format(variable.name, variable.varValue))\n",
    "\n",
    "print(\"Optimial Function Value = {}\".format(value(intprob.objective)))"
   ]
  },
  {
   "cell_type": "markdown",
   "id": "73fae789-76bd-45af-8cd3-13defb6ef972",
   "metadata": {},
   "source": [
    "### IP Interpretation\n",
    "\n",
    "Our optimal minimum cost is **$8500**\n",
    "\n",
    "Which can be achieved by planning the orders as follows:\n",
    "\n",
    "|          | Miami | Orlando | Tallahassee |\n",
    "|----------|-------|---------|-------------|\n",
    "| Eustis   | 0     | 10      | 10          |\n",
    "| Clermont | 10    | 5       | 0           |"
   ]
  },
  {
   "cell_type": "markdown",
   "id": "7d961869-9db7-4aeb-accf-69b597253a74",
   "metadata": {},
   "source": [
    "## Binary Integer Programming (BIP)\n",
    "\n",
    "### Problem \n",
    "A young couple, Eve and Steven, want to divide their main household tasks (shopping, cooking, dishwashing, and laundering) between them so that each has two tasks, but the total time they spend on household duties is kept to a minimum.\n",
    "\n",
    "Their efficiencies on these tasks differ, where the following table gives the time each would need to perform the task:\n",
    "\n",
    "|        | Shopping  | Cooking   | Dishwashing | Laundry   |\n",
    "|--------|-----------|-----------|-------------|-----------|\n",
    "| Eve    | 4.5 hours | 7.5 hours | 3.5 hours   | 3.0 hours |\n",
    "| Steven | 5.0 hours | 7.2 hours | 4.5 hours   | 3.2 hours |"
   ]
  },
  {
   "cell_type": "markdown",
   "id": "8b3ccca2-147d-437f-8aaa-1806a269c2d9",
   "metadata": {},
   "source": [
    "### Formulate the Model\n",
    "\n",
    "Again, we can identify our decision variables according to the table:\n",
    "\n",
    "|        | Shopping | Cooking | Dishwashing | Laundry |\n",
    "|--------|----------|---------|-------------|---------|\n",
    "| Eve    | $x_1$    | $x_2$   | $x_3$       | $x_4$   |\n",
    "| Steven | $x_5$    | $x_6$   | $x_7$       | $x_8$   |\n",
    "\n",
    "Using this and the information in the prompt, we will build our objective function and constraints.\n",
    "\n",
    "Minimize\n",
    "\n",
    "$4.5x_1 + 7.5x_2 + 3.5x_3 + 3x_4 + 5x_5 + 7.2x_6 + 4.5x_7 + 3.2x_8$\n",
    "\n",
    "s.t.\n",
    "\n",
    "*Each has two tasks*\n",
    "\n",
    "$x_1 + x_2 + x_3 + x_4 = 2$\n",
    "\n",
    "$x_5 + x_6 + x_7 + x_8 = 2$\n",
    "\n",
    "*Each task assigned to one person*\n",
    "\n",
    "$x_1 + x_5 == 1$\n",
    "\n",
    "$x_2 + x_6 == 1$\n",
    "\n",
    "$x_3 + x_7 == 1$\n",
    "\n",
    "$x_4 + x_8 == 1$\n",
    "\n",
    "*non-negativity*\n",
    "\n",
    "$x_1,x_2,x_3,x_4,x_5,x_6,x_7,x_8 \\geq 0$\n",
    "\n",
    "*integer constraint*\n",
    "\n",
    "$x_1,x_2,x_3,x_4,x_5,x_6,x_7,x_8 \\in integer$"
   ]
  },
  {
   "cell_type": "markdown",
   "id": "6766ac0f-218b-4520-9e37-d5ce0f128f4f",
   "metadata": {},
   "source": [
    "### BIP in Python\n",
    "For this model, the major change is ensuring that we set our upper-bound to 1 for each decision variable to indicate that the tasks are assigned to a single person. Otherwise, we can model this very similarly to the simple integer programming problem above."
   ]
  },
  {
   "cell_type": "code",
   "execution_count": 19,
   "id": "9fd535ca-fd70-4673-9f93-8c4bf9ad40f7",
   "metadata": {
    "tags": []
   },
   "outputs": [],
   "source": [
    "bipprob = LpProblem(\"EvenStevens\", LpMinimize)\n",
    "\n",
    "x1 = LpVariable('EveShopping', lowBound = 0, upBound = 1, cat = 'Integer')\n",
    "x2 = LpVariable('EveCooking', lowBound = 0, upBound = 1, cat = 'Integer')\n",
    "x3 = LpVariable('EveDishwashing', lowBound = 0, upBound = 1, cat = 'Integer')\n",
    "x4 = LpVariable('EveLaundry', lowBound = 0, upBound = 1, cat = 'Integer')\n",
    "x5 = LpVariable('StevenShopping', lowBound = 0, upBound = 1, cat = 'Integer')\n",
    "x6 = LpVariable('StevenCooking', lowBound = 0, upBound = 1, cat = 'Integer')\n",
    "x7 = LpVariable('StevenDishwashing', lowBound = 0, upBound = 1, cat = 'Integer')\n",
    "x8 = LpVariable('StevenLaundry', lowBound = 0, upBound = 1, cat = 'Integer')"
   ]
  },
  {
   "cell_type": "code",
   "execution_count": 20,
   "id": "c39ae38b-e46f-4c07-bb1e-98fd2b345ef0",
   "metadata": {
    "tags": []
   },
   "outputs": [],
   "source": [
    "# Objective function\n",
    "bipprob += 4.5*𝑥1 + 7.5*𝑥2 + 3.5*𝑥3 + 3*𝑥4 + 5*𝑥5 + 7.2*𝑥6 + 4.5*𝑥7 + 3.2*𝑥8 , \"Obj\"\n",
    "\n",
    "# Plant production constraint\n",
    "bipprob += x1 + x2 + x3 + x4 == 2, \"Eve Constraint\"\n",
    "bipprob += x5 + x6 + x7 + x8 == 2, \"Steven constraint\"\n",
    "\n",
    "# Task constraints\n",
    "bipprob += 𝑥1 + 𝑥5 == 1, \"Shopping constraint\"\n",
    "bipprob += 𝑥2 + 𝑥6 == 1, \"Cooking constraint\"\n",
    "bipprob += 𝑥3 + 𝑥7 == 1, \"Dishwashing constraint\"\n",
    "bipprob += 𝑥4 + 𝑥8 == 1, \"Laundry constraint\""
   ]
  },
  {
   "cell_type": "code",
   "execution_count": null,
   "id": "79e4d3b5-610d-4e71-9cff-dc00e5416c44",
   "metadata": {
    "tags": []
   },
   "outputs": [],
   "source": [
    "print(bipprob)"
   ]
  },
  {
   "cell_type": "code",
   "execution_count": null,
   "id": "c9791f36-0221-4591-92aa-6aeb71311052",
   "metadata": {
    "tags": []
   },
   "outputs": [],
   "source": [
    "bipprob.solve()"
   ]
  },
  {
   "cell_type": "code",
   "execution_count": 23,
   "id": "71ba51ed-c823-4d6a-bec0-8459a5b2c634",
   "metadata": {
    "tags": []
   },
   "outputs": [
    {
     "name": "stdout",
     "output_type": "stream",
     "text": [
      "EveCooking = 0.0\n",
      "EveDishwashing = 1.0\n",
      "EveLaundry = 0.0\n",
      "EveShopping = 1.0\n",
      "StevenCooking = 1.0\n",
      "StevenDishwashing = 0.0\n",
      "StevenLaundry = 1.0\n",
      "StevenShopping = 0.0\n",
      "Optimial Function Value = 18.4\n"
     ]
    }
   ],
   "source": [
    "for variable in bipprob.variables():\n",
    "  print(\"{} = {}\".format(variable.name, variable.varValue))\n",
    "\n",
    "print(\"Optimial Function Value = {}\".format(value(bipprob.objective)))"
   ]
  },
  {
   "cell_type": "markdown",
   "id": "57d0499b-21bc-4970-8082-c07e3c3272a4",
   "metadata": {},
   "source": [
    "### BIP Interpretation\n",
    "\n",
    "The minimized optimal amount of work between the couple is **18.4 hours**.\n",
    "\n",
    "To achieve this, Eve should do the dishwashing and shopping while Steven should do the cooking and the laundry. "
   ]
  },
  {
   "cell_type": "markdown",
   "id": "f451f737-2a32-4055-8d21-64bb5c5bb78b",
   "metadata": {},
   "source": [
    "## Mixed-Integer Programming (MIP)"
   ]
  },
  {
   "cell_type": "markdown",
   "id": "375b3273-11f4-422e-b70d-3e241e5262db",
   "metadata": {},
   "source": [
    "### Problem\n",
    "\n",
    "The XYZ Company has developed two new products to potentially add to their product line before the next holiday season. The cost of setting up production facilities for product 1 is \\\\$50,000, and for product 2, it is $70,000. Once the initial costs are recovered, each unit of product 1 generates a profit of \\\\$10, and each unit of product 2 generates a profit of \\\\$15.\n",
    "\n",
    "The company has two factories that can produce these products, but **only one factory can be used** to avoid doubling the setup costs. The choice of factory will be based on **maximizing profit.** If both new products are produced, they will be manufactured in the same factory for administrative reasons.\n",
    "In factory 1, product 1 can be produced at a rate of 50 per hour (or 1/50 hours per unit), and product 2 can be produced at a rate of 40 per hour (or 1/40 hours per unit). In factory 2, product 1 can be produced at a rate of 40 per hour (or 1/40 hours per unit), and product 2 can be produced at a rate of 25 per hour.\n",
    "\n",
    "Before Christmas, there are 500 hours of production time available in factory 1 and 700 hours of production time available in factory 2. It is not known whether these products will be continued after the holiday season. Therefore, **the objective is to determine the optimal number of units of each product to produce** before Christmas to maximize the total profit.\n",
    "\n",
    "Note that we express the production rates as hours-per-unit rather than units-per-hour. \n",
    "\n",
    "|              | Product 1      | Product 2      | Available Hours |\n",
    "|--------------|----------------|----------------|-----------------|\n",
    "| Factory 1    | $\\frac{1}{50}$ | $\\frac{1}{40}$ | 500             |\n",
    "| Factory 2    | $\\frac{1}{40}$ | $\\frac{1}{25}$ | 700             |\n",
    "| Startup Cost | 50000          | 70000          |                 |\n",
    "| Profit       | 10             | 15             |                 |"
   ]
  },
  {
   "cell_type": "markdown",
   "id": "4be8acc1-a4d4-48fd-af2f-53899a65157d",
   "metadata": {
    "tags": []
   },
   "source": [
    "### MIP Modeling\n",
    "\n",
    "For this objective function we have a new challenge - each product has a startup cost. These costs need to be subtracted, but they also need to be attached to their own $y$ decision variables so they are only factored in if the product is chosen in our optimal solution. \n",
    "\n",
    "**Maximize**\n",
    "\n",
    "$10*x_1 + 15*x_2 – 50000*y_1 – 70000*y_2$"
   ]
  },
  {
   "cell_type": "markdown",
   "id": "ef8e592d-4852-4a47-ad35-9590688cac17",
   "metadata": {},
   "source": [
    "The need to choose a single factory of the two also presents a new challenge. This requires a neat track involving an additional variable to represent the binary decision, $y_3$, and another to represent a large number that we refer to as Big $M$\n",
    "\n",
    "For each factory, we will add both variables to the right-hand side of their respective constraints. The trick is that in one we multiply Big M by $y_3$, and in the other we multiply it by $(1-y_3)$.\n",
    "\n",
    "When $y_3$ is determined by the solution to be 1 or 0, plugging it in will make the RHS of one of these two constraints large enough to be unbounded for the scope of our solution. This indicates that the other constraint is the one affecting our solution, which makes it the optimal factory decision.\n",
    "\n",
    "**Subject to**\n",
    "\n",
    "*Factory constraints*\n",
    "\n",
    "$\\frac{1}{50}x_1 + \\frac{1}{40}x_2 <= 500 + My_3$\n",
    "\n",
    "\n",
    "$\\frac{1}{40}x_1 + \\frac{1}{25}x_2 <= 700 + M(1-y_3)$\n",
    "\n",
    "*Product constraints*\n",
    "\n",
    "$x_1 <= My_1$\n",
    "\n",
    "$x_2 <= My_2$\n",
    "\n",
    "*Non-negativity constraint*: $x_1,x_2,y_1,y_2,y_3 \\geq 0$\n",
    "\n",
    "*Integer constraint*: $y_1,y_2,y_3 \\in integer$"
   ]
  },
  {
   "cell_type": "markdown",
   "id": "1450b6b9-49f0-4ba2-bba7-98c04696686f",
   "metadata": {
    "tags": []
   },
   "source": [
    "### MIP in Python\n",
    "\n",
    "In addition to our $y_3$ variable for determining the factory, we also have additional y variables that indicate whether each product is \"used\" in the final solution. This allows us to implement the correct amount of fixed cost in the objective function. \n",
    "\n",
    "The only additional change is defining a value for `bigM`. For the purpose and scale of this problem, a value of 1,000,000 is large that enough that it would nullify any constraint if it isn't mathematically removed. "
   ]
  },
  {
   "cell_type": "code",
   "execution_count": 7,
   "id": "499a2bd2-7204-4cba-ac4e-25ca2bd37d86",
   "metadata": {
    "tags": []
   },
   "outputs": [],
   "source": [
    "from pulp import *"
   ]
  },
  {
   "cell_type": "code",
   "execution_count": 11,
   "id": "84039c4c-2947-4473-89ba-3150fd1d4a30",
   "metadata": {
    "tags": []
   },
   "outputs": [],
   "source": [
    "mipprob = LpProblem(\"MIP_Products\", LpMaximize)\n",
    "\n",
    "# Decision Variables\n",
    "x1 = LpVariable('Product1_x', lowBound = 0)\n",
    "x2 = LpVariable('Product2_x', lowBound = 0)\n",
    "\n",
    "# Mixed Variables\n",
    "y1 = LpVariable('Product1isUsed', lowBound = 0, upBound = 1, cat = \"Integer\")\n",
    "y2 = LpVariable('Product2isUsed', lowBound = 0, upBound = 1, cat = \"Integer\")\n",
    "y3 = LpVariable('FactoryBiVariable', lowBound = 0, upBound = 1, cat = \"Integer\")\n",
    "\n",
    "# Objective Function\n",
    "mipprob += 10*x1 + 15*x2 - 50000*y1 - 70000*y2, \"Obj\"\n",
    "\n",
    "# Big M\n",
    "bigM = 1000000"
   ]
  },
  {
   "cell_type": "code",
   "execution_count": 12,
   "id": "f7b79a1a-339d-4627-b659-e1352cc04448",
   "metadata": {
    "tags": []
   },
   "outputs": [],
   "source": [
    "# Constraints\n",
    "mipprob += (1/50)*x1 + (1/40)*x2 <= 500 + bigM*y3\n",
    "mipprob += (1/40)*x1 + (1/25)*x2 <= 700 + bigM*(1-y3)\n",
    "mipprob += x1 <= bigM*y1\n",
    "mipprob += x2 <= bigM*y2"
   ]
  },
  {
   "cell_type": "code",
   "execution_count": 13,
   "id": "708d640c-4e31-4b9c-a0ac-f036440dcec3",
   "metadata": {
    "tags": []
   },
   "outputs": [
    {
     "name": "stdout",
     "output_type": "stream",
     "text": [
      "MIP_Products:\n",
      "MAXIMIZE\n",
      "10*Product1_x + -50000*Product1isUsed + 15*Product2_x + -70000*Product2isUsed + 0\n",
      "SUBJECT TO\n",
      "_C1: - 1000000 FactoryBiVariable + 0.02 Product1_x + 0.025 Product2_x <= 500\n",
      "\n",
      "_C2: 1000000 FactoryBiVariable + 0.025 Product1_x + 0.04 Product2_x <= 1000700\n",
      "\n",
      "_C3: Product1_x - 1000000 Product1isUsed <= 0\n",
      "\n",
      "_C4: Product2_x - 1000000 Product2isUsed <= 0\n",
      "\n",
      "_C5: Product1isUsed + Product2isUsed <= 2\n",
      "\n",
      "VARIABLES\n",
      "0 <= FactoryBiVariable <= 1 Integer\n",
      "Product1_x Continuous\n",
      "0 <= Product1isUsed <= 1 Integer\n",
      "Product2_x Continuous\n",
      "0 <= Product2isUsed <= 1 Integer\n",
      "\n"
     ]
    }
   ],
   "source": [
    "print(mipprob)"
   ]
  },
  {
   "cell_type": "code",
   "execution_count": null,
   "id": "4e22710b-589b-4b8f-b695-ae92d0cc2b78",
   "metadata": {
    "tags": []
   },
   "outputs": [],
   "source": [
    "mipprob.solve()"
   ]
  },
  {
   "cell_type": "code",
   "execution_count": 16,
   "id": "8468a6e5-78c9-4df8-bd3b-f50f9197866e",
   "metadata": {
    "tags": []
   },
   "outputs": [
    {
     "name": "stdout",
     "output_type": "stream",
     "text": [
      "FactoryBiVariable = 1.0\n",
      "Product1_x = 28000.0\n",
      "Product1isUsed = 1.0\n",
      "Product2_x = 0.0\n",
      "Product2isUsed = 0.0\n",
      "Optimial Function Value = 230000.0\n"
     ]
    }
   ],
   "source": [
    "for variable in mipprob.variables():\n",
    "  print(\"{} = {}\".format(variable.name, variable.varValue))\n",
    "\n",
    "print(\"Optimial Function Value = {}\".format(value(mipprob.objective)))"
   ]
  },
  {
   "cell_type": "markdown",
   "id": "070214a9-6a3c-40cd-9545-49ab5b3c65dc",
   "metadata": {},
   "source": [
    "### MIP Interpretation \n",
    "\n",
    "These results give us two obvious pieces of information about our optimal solution:\n",
    "1. We should produce 28000 units of Product 1 and none of Product 2\n",
    "2. This results in an optimum profit of $230,000\n",
    "\n",
    "We can confirm this relationship by multiplying those 28000 units by our profit-per-unit of \\\\$10 and subtracting the \\\\$50,000 startup cost, giving us \\\\$230,000 in profit.\n",
    "\n",
    "Less obvious is that our binary variable ($y_3$) is equal to 1. To interpret this, let's review our constraints using this variable:\n",
    "\n",
    "$\\frac{1}{50}x_1 + \\frac{1}{40}x_2 <= 500 + My_3$\n",
    "\n",
    "\n",
    "$\\frac{1}{40}x_1 + \\frac{1}{25}x_2 <= 700 + M(1-y_3)$\n",
    "\n",
    "If we substitute 1 for $y_3$, this would give us an extremely large number on the right-hand side of the first equation representing Factory 1. This represents a virtually unbounded constraint as opposed to the second equation, where the 1 results in the Big M being multiplied by 0 and our original RHS of 700 hours remains a realistic boundary. \n",
    "\n",
    "In addition to the product decision variables above, this tells us that Factory 2 should be used for all production. "
   ]
  }
 ],
 "metadata": {
  "kernelspec": {
   "display_name": "datapad",
   "language": "python",
   "name": "datapad"
  },
  "language_info": {
   "codemirror_mode": {
    "name": "ipython",
    "version": 3
   },
   "file_extension": ".py",
   "mimetype": "text/x-python",
   "name": "python",
   "nbconvert_exporter": "python",
   "pygments_lexer": "ipython3",
   "version": "3.9.6"
  },
  "toc-autonumbering": false,
  "toc-showmarkdowntxt": false,
  "toc-showtags": false
 },
 "nbformat": 4,
 "nbformat_minor": 5
}
