{
 "cells": [
  {
   "cell_type": "markdown",
   "id": "ed365dec-372e-4220-9f20-ba5ad0ae660d",
   "metadata": {},
   "source": [
    "## Case Study 1: Capacity Concerns\n",
    "**Safwan Hasan** \n",
    "\n",
    "Ryan Miller, either the founder or the CEO of CommuniCorp, is stressed about the financials of his business. CommuniCorp, the manufacturer of pagers, stocks plummeted within the last 12 months, losing about 25% of the pager market. The ticker price is also at an all-time low in the previous 52 weeks. Mr. Miller found that it was due to the lack of transparency and communication between the marketing and warehouse executives.\n",
    "\n",
    "He turned to the head of Corporate Information Management, Emily Jones, to request her to help him get his company back on track since CommuniCorp was behind on orders, even though their warehouse had adequate inventory. "
   ]
  },
  {
   "cell_type": "markdown",
   "id": "c01b3ee7-4a3f-413f-97d0-af9b880074d5",
   "metadata": {},
   "source": [
    "(a) Emily Jones first decided to evaluate the number and type of servers to purchase on a month-to-month basis. Here, the key parameter is the number of employees in the company, which is 330, who need access to the intranet. An IP model to determine which servers Emily should purchase in a particular month to minimize costs in that month and support all the new users within 5 months, assuming there are 3 server manufacturers (Intel Pentium, SGI, and Sun):"
   ]
  },
  {
   "cell_type": "markdown",
   "id": "79695acc-93bf-4fbf-866d-fbca68f2e53a",
   "metadata": {},
   "source": [
    "#### Month 1:\n",
    "\n",
    "Since we are limited in the budget to purchase a server in the first two months, we cannot spend over \\\\$9500. SGI is also willing to give us a discount of 10 percent off each server purchased, but only if purchased in the first or second month. So SGI Workstation for month 1 would be \\\\$9000 and can support all Sales department employees by month 2, and also a few of the manufacturing department employees. Sun, on the other hand, is willing to give us a 25 percent discount on all servers purchased in the first two months but that is unaffordable since \\\\$18750 is still higher than the \\\\$9500 budget for the first two months. So we will not buy any servers from Sun manufacturer. Therefore, the model is as follows:\n",
    "\n",
    "Decision variables:\n",
    "- x1-> the number of Standard Intel Pentium PC servers purchased in month 1\n",
    "- x2 -> the number of Enhanced Intel Pentium PC servers purchased in month 1\n",
    "- x3 -> the number of SGI Workstation servers purchased in month 1\n",
    "- x4 -> the number of Sun Workstation servers purchased in month 1\n",
    "\n",
    "Constraints: \n",
    "- The total cost of servers purchased in month 1 cannot exceed \\$9,500: \n",
    "    2500*x1 + 5000*x2+ 9000*x3 + 18750*x4 <= $9500\n",
    "\n",
    "Objective function:\n",
    "Maximize efficiency: 2500*x1 + 5000*x2+ 9000*x3 + 18750*x4"
   ]
  },
  {
   "cell_type": "code",
   "execution_count": 2,
   "id": "cdd7ab1a-c900-4b99-b8dc-1535b882edac",
   "metadata": {
    "tags": []
   },
   "outputs": [
    {
     "name": "stdout",
     "output_type": "stream",
     "text": [
      "Welcome to the CBC MILP Solver \n",
      "Version: 2.10.3 \n",
      "Build Date: Dec 15 2019 \n",
      "\n",
      "command line - /Users/jdmini/datapad/lib/python3.9/site-packages/pulp/solverdir/cbc/osx/64/cbc /var/folders/1n/nvr79nb55tz9j4lsbrw6hsf80000gn/T/1c871a2b441e44438a273635796f6f3b-pulp.mps max timeMode elapsed branch printingOptions all solution /var/folders/1n/nvr79nb55tz9j4lsbrw6hsf80000gn/T/1c871a2b441e44438a273635796f6f3b-pulp.sol (default strategy 1)\n",
      "At line 2 NAME          MODEL\n",
      "At line 3 ROWS\n",
      "At line 6 COLUMNS\n",
      "At line 23 RHS\n",
      "At line 25 BOUNDS\n",
      "At line 30 ENDATA\n",
      "Problem MODEL has 1 rows, 4 columns and 4 elements\n",
      "Coin0008I MODEL read with 0 errors\n",
      "Option for timeMode changed from cpu to elapsed\n",
      "Continuous objective value is 9500 - 0.00 seconds\n",
      "Cgl0003I 0 fixed, 0 tightened bounds, 1 strengthened rows, 0 substitutions\n",
      "Cgl0003I 0 fixed, 0 tightened bounds, 1 strengthened rows, 0 substitutions\n",
      "Cgl0004I processed model has 1 rows, 3 columns (3 integer (2 of which binary)) and 3 elements\n",
      "Cutoff increment increased from 1e-05 to 500\n",
      "Cbc0038I Initial state - 1 integers unsatisfied sum - 0.210526\n",
      "Cbc0038I Solution found of -7500\n",
      "Cbc0038I Cleaned solution of -7500\n",
      "Cbc0038I Before mini branch and bound, 2 integers at bound fixed and 0 continuous\n",
      "Cbc0038I Full problem 1 rows 3 columns, reduced to 0 rows 0 columns\n",
      "Cbc0038I Mini branch and bound did not improve solution (0.00 seconds)\n",
      "Cbc0038I Round again with cutoff of -8139.47\n",
      "Cbc0038I Reduced cost fixing fixed 1 variables on major pass 2\n",
      "Cbc0038I Pass   1: suminf.    0.07105 (1) obj. -8139.47 iterations 1\n",
      "Cbc0038I Pass   2: suminf.    0.00000 (0) obj. -9000 iterations 2\n",
      "Cbc0038I Solution found of -9000\n",
      "Cbc0038I Cleaned solution of -9000\n",
      "Cbc0038I Before mini branch and bound, 1 integers at bound fixed and 0 continuous\n",
      "Cbc0038I Mini branch and bound did not improve solution (0.00 seconds)\n",
      "Cbc0038I After 0.00 seconds - Feasibility pump exiting with objective of -9000 - took 0.00 seconds\n",
      "Cbc0012I Integer solution of -9000 found by feasibility pump after 0 iterations and 0 nodes (0.00 seconds)\n",
      "Cbc0001I Search completed - best objective -9000, took 1 iterations and 0 nodes (0.00 seconds)\n",
      "Cbc0035I Maximum depth 0, 1 variables fixed on reduced cost\n",
      "Cuts at root node changed objective from -9394.74 to -7500\n",
      "Probing was tried 0 times and created 0 cuts of which 0 were active after adding rounds of cuts (0.000 seconds)\n",
      "Gomory was tried 0 times and created 0 cuts of which 0 were active after adding rounds of cuts (0.000 seconds)\n",
      "Knapsack was tried 0 times and created 0 cuts of which 0 were active after adding rounds of cuts (0.000 seconds)\n",
      "Clique was tried 0 times and created 0 cuts of which 0 were active after adding rounds of cuts (0.000 seconds)\n",
      "MixedIntegerRounding2 was tried 0 times and created 0 cuts of which 0 were active after adding rounds of cuts (0.000 seconds)\n",
      "FlowCover was tried 0 times and created 0 cuts of which 0 were active after adding rounds of cuts (0.000 seconds)\n",
      "TwoMirCuts was tried 0 times and created 0 cuts of which 0 were active after adding rounds of cuts (0.000 seconds)\n",
      "ZeroHalf was tried 0 times and created 0 cuts of which 0 were active after adding rounds of cuts (0.000 seconds)\n",
      "\n",
      "Result - Optimal solution found\n",
      "\n",
      "Objective value:                9000.00000000\n",
      "Enumerated nodes:               0\n",
      "Total iterations:               1\n",
      "Time (CPU seconds):             0.00\n",
      "Time (Wallclock seconds):       0.00\n",
      "\n",
      "Option for printingOptions changed from normal to all\n",
      "Total time (CPU seconds):       0.00   (Wallclock seconds):       0.00\n",
      "\n",
      "Status: Optimal\n",
      "Optimal Solution:\n",
      "Standard = 0.0\n",
      "Enhanced = 0.0\n",
      "SGI = 1.0\n",
      "Sun= 0.0\n",
      "Optimal Cost = 9000.0\n"
     ]
    }
   ],
   "source": [
    "import pulp\n",
    "from pulp import *\n",
    "\n",
    "# Create the problem\n",
    "prob = LpProblem(\"Capacity concerns\", LpMaximize)\n",
    "\n",
    "# Define the decision variables\n",
    "x1 = LpVariable(\"Standard\", lowBound=0, cat = \"Integer\")\n",
    "x2 = LpVariable(\"Enhanced\", lowBound=0, cat = \"Integer\")\n",
    "x3 = LpVariable(\"SGI\", lowBound=0, cat = \"Integer\")\n",
    "x4 = LpVariable(\"Sun\", lowBound=0, cat = \"Integer\")\n",
    "\n",
    "# Define the objective function\n",
    "prob += 2500*x1 + 5000*x2+ 9000*x3 + 18750*x4\n",
    "\n",
    "# Define the constraints\n",
    "prob += 2500*x1 + 5000*x2+ 9000*x3 + 18750*x4 <= 9500\n",
    "\n",
    "\n",
    "# Solve the problem\n",
    "prob.solve()\n",
    "\n",
    "# Print the solution status\n",
    "print(\"Status:\", LpStatus[prob.status])\n",
    "\n",
    "# Print the optimal solution\n",
    "print(\"Optimal Solution:\")\n",
    "print(\"Standard =\", value(x1))\n",
    "print(\"Enhanced =\", value(x2))\n",
    "print(\"SGI =\", value(x3))\n",
    "print(\"Sun=\", value(x4))\n",
    "print(\"Optimal Cost =\", value(prob.objective))\n"
   ]
  },
  {
   "cell_type": "markdown",
   "id": "92cf80a5-cd2a-40d1-b70a-89e3e437d4c5",
   "metadata": {},
   "source": [
    "According to the results, Emily should purchase 1 SGI workstation since that is the optimal number of servers within an optimal budget of $9000 to support all Sales department employees by month 2, and also a few of the manufacturing department employees by month 3."
   ]
  },
  {
   "cell_type": "markdown",
   "id": "699e997f-a0b2-4623-a0de-6f888bd6ee29",
   "metadata": {},
   "source": [
    "## Month 2\n",
    "\n",
    "The server purchased in month 1 supports 200 employees, so all 50 Sales employees are supported and can already start to use the intranet. However, she is now left with a budget of $500, which is not enough to buy any servers. Also, since we used SGI’s discount on month 1, we will have to pay the entire $10,000 for another SGI server. Let’s still look at what our output might be with such complicated constraints:\n",
    "\n",
    "Decision variables:\n",
    "- x1-> the number of Standard Intel Pentium PC servers purchased in month 2\n",
    "- x2 -> the number of Enhanced Intel Pentium PC servers purchased in month 2\n",
    "- x3 -> the number of SGI Workstation servers purchased in month 2\n",
    "- x4 -> the number of Sun Workstation servers purchased in month 2\n",
    "\n",
    "Constraints: \n",
    "- The total cost of servers purchased in month 2 cannot exceed $500: 2500*x1 + 5000*x2 + 10000*x3 + 18750*x4 <= $500\n",
    "\n",
    "Objective function:\n",
    "Maximize efficiency: 2500*x1 + 5000*x2 + 10000*x3 + 18750*x4\n"
   ]
  }
 ],
 "metadata": {
  "kernelspec": {
   "display_name": "Python 3 (ipykernel)",
   "language": "python",
   "name": "python3"
  },
  "language_info": {
   "codemirror_mode": {
    "name": "ipython",
    "version": 3
   },
   "file_extension": ".py",
   "mimetype": "text/x-python",
   "name": "python",
   "nbconvert_exporter": "python",
   "pygments_lexer": "ipython3",
   "version": "3.9.6"
  }
 },
 "nbformat": 4,
 "nbformat_minor": 5
}
