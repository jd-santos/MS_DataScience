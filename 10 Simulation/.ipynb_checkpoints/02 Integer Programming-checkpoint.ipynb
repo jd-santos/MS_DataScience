{
 "cells": [
  {
   "cell_type": "markdown",
   "id": "d97d8994-7855-4ec5-8891-94eeaec592cf",
   "metadata": {
    "tags": []
   },
   "source": [
    "## Integer Programming Model\n",
    "\n",
    "### Problem\n",
    "\n",
    "The CitruSun Corporation ships frozen orange juice concentrate from processing plants in Eustis and Clermont to distributors in Miami, Orlando, and Tallahassee. Each plant can produce 20 tons of concentrate each week.\n",
    "\n",
    "The company has just received orders of 10 tons from Miami for the coming week, 15 tons for Orlando, and 10 tons for Tallahassee. The cost per ton for\n",
    "supplying each of the distributors from each of the processing plants is shown in the following table:\n",
    "\n",
    "|          | Miami  | Orlando | Tallahassee |\n",
    "|----------|--------|---------|-------------|\n",
    "| Eustis   | \\\\$260 | \\\\$220  | \\\\$290      |\n",
    "| Clermont | \\\\$220 | \\\\$240  | \\\\$320      |\n",
    "\n",
    "The company wants to determine the **minimum** costly plan for filling their orders for the coming week."
   ]
  },
  {
   "cell_type": "markdown",
   "id": "295e46f0-139f-4429-9824-80d4d4b2711f",
   "metadata": {
    "tags": []
   },
   "source": [
    "### Formulate the Model\n",
    "In this problem we are trying to determine how many tons of OJ to ship to each distribution center and from which plants to minimize cost. This means that every cell on the above table represents a decision variable:\n",
    "\n",
    "|          | Miami | Orlando | Tallahassee |\n",
    "|----------|-------|---------|-------------|\n",
    "| Eustis   | $x_1$ | $x_2$   | $x_3$       |\n",
    "| Clermont | $x_4$ | $x_5$   | $x_6$       |\n",
    "\n",
    "Aligning this with the cost table above, we can formulate our objective function and constraints:\n",
    "\n",
    "Minimize\n",
    "\n",
    "$260x_1 + 220x_2 + 290x_3 + 220x_4 + 240x_5 + 320x_6$\n",
    "\n",
    "Subject to\n",
    "\n",
    "*Each plant can produce 20 tons of concentrate each week*\n",
    "\n",
    "$x_1 + x_2 + x_3 \\leq 20$\n",
    "\n",
    "$x_4 + x_5 + x_6 \\leq 20$\n",
    "\n",
    "*10 tons for Miami*\n",
    "\n",
    "$x_1 + x_4 = 10$\n",
    "\n",
    "*15 tons for Orlando*\n",
    "\n",
    "$x_2 + x_5 = 15$\n",
    "\n",
    "*10 tons for Tallahassee*\n",
    "\n",
    "$x_3 + x_6 = 10$\n",
    "\n",
    "*non-negativity*\n",
    "\n",
    "$x_1,x_2,x_3,x_4,x_5,x_6 \\geq 0$\n",
    "\n",
    "*integer constraint*\n",
    "\n",
    "$x_1,x_2,x_3,x_4,x_5,x_6 \\in integer$"
   ]
  },
  {
   "cell_type": "markdown",
   "id": "7a41cb98-0fcb-4e0c-a92f-2283b450dfc4",
   "metadata": {},
   "source": [
    "### Model in Python\n",
    "This process doesn't differ much from our previous modeling, with the exception of specifying the `cat` of our `LpVariable` as `Integer`"
   ]
  },
  {
   "cell_type": "code",
   "execution_count": 2,
   "id": "83dd4056-5d68-4ba1-991f-85aa937a7a84",
   "metadata": {
    "tags": []
   },
   "outputs": [],
   "source": [
    "from pulp import *"
   ]
  },
  {
   "cell_type": "markdown",
   "id": "86a4eca5-4dd3-4686-8dda-68f2502276b6",
   "metadata": {},
   "source": [
    "Define our variables specified above. Next add the constraints we defined above except the non-negativity and integer constraints. These are captured in the `lowBound` and `cat`, respectively. "
   ]
  },
  {
   "cell_type": "code",
   "execution_count": 5,
   "id": "0d0a7cbc-c23e-48a0-b2eb-dd71036f89df",
   "metadata": {
    "tags": []
   },
   "outputs": [],
   "source": [
    "intprob = LpProblem(\"OJ_Distribution\", LpMinimize)\n",
    "\n",
    "x1 = LpVariable('EustisToMiami', lowBound = 0, cat = 'Integer')\n",
    "x2 = LpVariable('EustisToOrlando', lowBound = 0, cat = 'Integer')\n",
    "x3 = LpVariable('EustisToTallahassee', lowBound = 0, cat = 'Integer')\n",
    "x4 = LpVariable('ClermontToMiami', lowBound = 0, cat = 'Integer')\n",
    "x5 = LpVariable('ClermontToOrlando', lowBound = 0, cat = 'Integer')\n",
    "x6 = LpVariable('ClermontToTallahassee', lowBound = 0, cat = 'Integer')"
   ]
  },
  {
   "cell_type": "code",
   "execution_count": 8,
   "id": "1ac877c0-e728-4eda-9c26-80cb16f617ca",
   "metadata": {
    "tags": []
   },
   "outputs": [],
   "source": [
    "# Objective function\n",
    "intprob += 260*𝑥1 + 220*𝑥2 + 290*𝑥3 + 220*𝑥4 + 240*𝑥5 + 320*𝑥6, \"Obj\"\n",
    "\n",
    "# Plant production constraint\n",
    "intprob += x1 + x2 + x3 <= 20, \"Eustis constraint\"\n",
    "intprob += x4 + x5 + x6 <= 20, \"Clermont constraint\"\n",
    "\n",
    "# Order constraints\n",
    "intprob += 𝑥1 + 𝑥4 == 10, \"Miami order\"\n",
    "intprob += 𝑥2 + 𝑥5 == 15, \"Orlando order\"\n",
    "intprob += 𝑥3 + 𝑥6 == 10, \"Tallahassee order\" "
   ]
  },
  {
   "cell_type": "code",
   "execution_count": 9,
   "id": "2dbcb37a-ae04-435e-abcc-4ed5f70e5903",
   "metadata": {
    "tags": []
   },
   "outputs": [
    {
     "name": "stdout",
     "output_type": "stream",
     "text": [
      "OJ_Distribution:\n",
      "MINIMIZE\n",
      "220*ClermontToMiami + 240*ClermontToOrlando + 320*ClermontToTallahassee + 260*EustisToMiami + 220*EustisToOrlando + 290*EustisToTallahassee + 0\n",
      "SUBJECT TO\n",
      "Eustis_constraint: EustisToMiami + EustisToOrlando + EustisToTallahassee <= 20\n",
      "\n",
      "Clermont_constraint: ClermontToMiami + ClermontToOrlando\n",
      " + ClermontToTallahassee <= 20\n",
      "\n",
      "Miami_order: ClermontToMiami + EustisToMiami = 10\n",
      "\n",
      "Orlando_order: ClermontToOrlando + EustisToOrlando = 15\n",
      "\n",
      "Tallahassee_order: ClermontToTallahassee + EustisToTallahassee = 10\n",
      "\n",
      "VARIABLES\n",
      "0 <= ClermontToMiami Integer\n",
      "0 <= ClermontToOrlando Integer\n",
      "0 <= ClermontToTallahassee Integer\n",
      "0 <= EustisToMiami Integer\n",
      "0 <= EustisToOrlando Integer\n",
      "0 <= EustisToTallahassee Integer\n",
      "\n"
     ]
    }
   ],
   "source": [
    "print(intprob)"
   ]
  },
  {
   "cell_type": "markdown",
   "id": "6b10a658-5aca-4dc1-bc0c-5fabb7af3b39",
   "metadata": {},
   "source": [
    "Finally, we can solve and print the optimal variables and value. "
   ]
  },
  {
   "cell_type": "code",
   "execution_count": null,
   "id": "a858f07b-308a-4c74-9872-4bfc61766bb2",
   "metadata": {
    "tags": []
   },
   "outputs": [],
   "source": [
    "intprob.solve()\n",
    "print(LpStatus[intprob.status])"
   ]
  },
  {
   "cell_type": "code",
   "execution_count": 11,
   "id": "626171f6-ec43-46e7-bacb-be338d2409cb",
   "metadata": {
    "tags": []
   },
   "outputs": [
    {
     "name": "stdout",
     "output_type": "stream",
     "text": [
      "ClermontToMiami = 10.0\n",
      "ClermontToOrlando = 5.0\n",
      "ClermontToTallahassee = 0.0\n",
      "EustisToMiami = 0.0\n",
      "EustisToOrlando = 10.0\n",
      "EustisToTallahassee = 10.0\n",
      "Optimial Function Value = 8500.0\n"
     ]
    }
   ],
   "source": [
    "for variable in intprob.variables():\n",
    "  print(\"{} = {}\".format(variable.name, variable.varValue))\n",
    "\n",
    "print(\"Optimial Function Value = {}\".format(value(intprob.objective)))"
   ]
  },
  {
   "cell_type": "markdown",
   "id": "73fae789-76bd-45af-8cd3-13defb6ef972",
   "metadata": {},
   "source": [
    "Our optimal minimum cost is **$8500**\n",
    "\n",
    "Which can be achieved by planning the orders as follows:\n",
    "\n",
    "|          | Miami | Orlando | Tallahassee |\n",
    "|----------|-------|---------|-------------|\n",
    "| Eustis   | 0     | 10      | 10          |\n",
    "| Clermont | 10    | 5       | 0           |"
   ]
  },
  {
   "cell_type": "markdown",
   "id": "7d961869-9db7-4aeb-accf-69b597253a74",
   "metadata": {},
   "source": [
    "## Binary Integer Programming\n",
    "\n",
    "### Problem \n",
    "A young couple, Eve and Steven, want to divide their main household tasks (shopping, cooking, dishwashing, and laundering) between them so that each has two tasks, but the total time they spend on household duties is kept to a minimum. Their efficiencies on these tasks differ, where the following table gives the time each would need to perform the task:\n",
    "\n",
    "|        | Shopping  | Cooking   | Dishwashing | Laundry   |\n",
    "|--------|-----------|-----------|-------------|-----------|\n",
    "| Eve    | 4.5 hours | 7.5 hours | 3.5 hours   | 3.0 hours |\n",
    "| Steven | 5.0 hours | 7.2 hours | 4.5 hours   | 3.2 hours |"
   ]
  },
  {
   "cell_type": "markdown",
   "id": "8b3ccca2-147d-437f-8aaa-1806a269c2d9",
   "metadata": {},
   "source": [
    "### Formulate the Model\n",
    "\n",
    "Again, we can identify our decision variables according to the table:\n",
    "\n",
    "|        | Shopping | Cooking | Dishwashing | Laundry |\n",
    "|--------|----------|---------|-------------|---------|\n",
    "| Eve    | $x_1$    | $x_2$   | $x_3$       | $x_4$   |\n",
    "| Steven | $x_5$    | $x_6$   | $x_7$       | $x_8$   |\n",
    "\n",
    "Using this and the information in the prompt, we will build our objective function and constraints.\n",
    "\n",
    "Minimize\n",
    "\n",
    "$4.5x_1 + 7.5x_2 + 3.5x_3 + 3x_4 + 5x_5 + 7.2x_6 + 4.5x_7 + 3.2x_8$\n",
    "\n",
    "s.t.\n",
    "\n",
    "*Each has two tasks*\n",
    "\n",
    "$x_1 + x_2 + x_3 + x_4 = 2$\n",
    "\n",
    "$x_5 + x_6 + x_7 + x_8 = 2$\n",
    "\n",
    "*Each task assigned to one person*\n",
    "\n",
    "$x_1 + x_5 == 1$\n",
    "\n",
    "$x_2 + x_6 == 1$\n",
    "\n",
    "$x_3 + x_7 == 1$\n",
    "\n",
    "$x_4 + x_8 == 1$\n",
    "\n",
    "*non-negativity*\n",
    "\n",
    "$x_1,x_2,x_3,x_4,x_5,x_6,x_7,x_8 \\geq 0$\n",
    "\n",
    "*integer constraint*\n",
    "\n",
    "$x_1,x_2,x_3,x_4,x_5,x_6,x_7,x_8 \\in integer$"
   ]
  },
  {
   "cell_type": "markdown",
   "id": "6766ac0f-218b-4520-9e37-d5ce0f128f4f",
   "metadata": {},
   "source": [
    "### Binary IP in Python\n",
    "For this model, the major change is ensuring that we set our upper-bound to 1 for each decision variable to indicate that the tasks are assigned to a single person. Otherwise, we can model this very similarly to the simple integer programming problem above."
   ]
  },
  {
   "cell_type": "code",
   "execution_count": 19,
   "id": "9fd535ca-fd70-4673-9f93-8c4bf9ad40f7",
   "metadata": {
    "tags": []
   },
   "outputs": [],
   "source": [
    "bipprob = LpProblem(\"EvenStevens\", LpMinimize)\n",
    "\n",
    "x1 = LpVariable('EveShopping', lowBound = 0, upBound = 1, cat = 'Integer')\n",
    "x2 = LpVariable('EveCooking', lowBound = 0, upBound = 1, cat = 'Integer')\n",
    "x3 = LpVariable('EveDishwashing', lowBound = 0, upBound = 1, cat = 'Integer')\n",
    "x4 = LpVariable('EveLaundry', lowBound = 0, upBound = 1, cat = 'Integer')\n",
    "x5 = LpVariable('StevenShopping', lowBound = 0, upBound = 1, cat = 'Integer')\n",
    "x6 = LpVariable('StevenCooking', lowBound = 0, upBound = 1, cat = 'Integer')\n",
    "x7 = LpVariable('StevenDishwashing', lowBound = 0, upBound = 1, cat = 'Integer')\n",
    "x8 = LpVariable('StevenLaundry', lowBound = 0, upBound = 1, cat = 'Integer')"
   ]
  },
  {
   "cell_type": "code",
   "execution_count": 20,
   "id": "c39ae38b-e46f-4c07-bb1e-98fd2b345ef0",
   "metadata": {
    "tags": []
   },
   "outputs": [],
   "source": [
    "# Objective function\n",
    "bipprob += 4.5*𝑥1 + 7.5*𝑥2 + 3.5*𝑥3 + 3*𝑥4 + 5*𝑥5 + 7.2*𝑥6 + 4.5*𝑥7 + 3.2*𝑥8 , \"Obj\"\n",
    "\n",
    "# Plant production constraint\n",
    "bipprob += x1 + x2 + x3 + x4 == 2, \"Eve Constraint\"\n",
    "bipprob += x5 + x6 + x7 + x8 == 2, \"Steven constraint\"\n",
    "\n",
    "# Task constraints\n",
    "bipprob += 𝑥1 + 𝑥5 == 1, \"Shopping constraint\"\n",
    "bipprob += 𝑥2 + 𝑥6 == 1, \"Cooking constraint\"\n",
    "bipprob += 𝑥3 + 𝑥7 == 1, \"Dishwashing constraint\"\n",
    "bipprob += 𝑥4 + 𝑥8 == 1, \"Laundry constraint\""
   ]
  },
  {
   "cell_type": "code",
   "execution_count": 21,
   "id": "79e4d3b5-610d-4e71-9cff-dc00e5416c44",
   "metadata": {
    "tags": []
   },
   "outputs": [
    {
     "name": "stdout",
     "output_type": "stream",
     "text": [
      "EvenStevens:\n",
      "MINIMIZE\n",
      "7.5*EveCooking + 3.5*EveDishwashing + 3*EveLaundry + 4.5*EveShopping + 7.2*StevenCooking + 4.5*StevenDishwashing + 3.2*StevenLaundry + 5*StevenShopping + 0.0\n",
      "SUBJECT TO\n",
      "Eve_Constraint: EveCooking + EveDishwashing + EveLaundry + EveShopping = 2\n",
      "\n",
      "Steven_constraint: StevenCooking + StevenDishwashing + StevenLaundry\n",
      " + StevenShopping = 2\n",
      "\n",
      "Shopping_constraint: EveShopping + StevenShopping = 1\n",
      "\n",
      "Cooking_constraint: EveCooking + StevenCooking = 1\n",
      "\n",
      "Dishwashing_constraint: EveDishwashing + StevenDishwashing = 1\n",
      "\n",
      "Laundry_constraint: EveLaundry + StevenLaundry = 1\n",
      "\n",
      "VARIABLES\n",
      "0 <= EveCooking <= 1 Integer\n",
      "0 <= EveDishwashing <= 1 Integer\n",
      "0 <= EveLaundry <= 1 Integer\n",
      "0 <= EveShopping <= 1 Integer\n",
      "0 <= StevenCooking <= 1 Integer\n",
      "0 <= StevenDishwashing <= 1 Integer\n",
      "0 <= StevenLaundry <= 1 Integer\n",
      "0 <= StevenShopping <= 1 Integer\n",
      "\n"
     ]
    }
   ],
   "source": [
    "print(bipprob)"
   ]
  },
  {
   "cell_type": "code",
   "execution_count": null,
   "id": "c9791f36-0221-4591-92aa-6aeb71311052",
   "metadata": {
    "tags": []
   },
   "outputs": [],
   "source": [
    "bipprob.solve()"
   ]
  },
  {
   "cell_type": "code",
   "execution_count": 23,
   "id": "71ba51ed-c823-4d6a-bec0-8459a5b2c634",
   "metadata": {
    "tags": []
   },
   "outputs": [
    {
     "name": "stdout",
     "output_type": "stream",
     "text": [
      "EveCooking = 0.0\n",
      "EveDishwashing = 1.0\n",
      "EveLaundry = 0.0\n",
      "EveShopping = 1.0\n",
      "StevenCooking = 1.0\n",
      "StevenDishwashing = 0.0\n",
      "StevenLaundry = 1.0\n",
      "StevenShopping = 0.0\n",
      "Optimial Function Value = 18.4\n"
     ]
    }
   ],
   "source": [
    "for variable in bipprob.variables():\n",
    "  print(\"{} = {}\".format(variable.name, variable.varValue))\n",
    "\n",
    "print(\"Optimial Function Value = {}\".format(value(bipprob.objective)))"
   ]
  },
  {
   "cell_type": "markdown",
   "id": "57d0499b-21bc-4970-8082-c07e3c3272a4",
   "metadata": {},
   "source": [
    "The minimized optimal amount of work between the couple is **18.4 hours**.\n",
    "\n",
    "To achieve this, Eve should do the dishwashing and shopping while Steven should do the cooking and the laundry. "
   ]
  },
  {
   "cell_type": "code",
   "execution_count": null,
   "id": "3db88c59-75c1-4230-8aa3-b1b569dd1f2b",
   "metadata": {},
   "outputs": [],
   "source": []
  }
 ],
 "metadata": {
  "kernelspec": {
   "display_name": "datapad",
   "language": "python",
   "name": "datapad"
  },
  "language_info": {
   "codemirror_mode": {
    "name": "ipython",
    "version": 3
   },
   "file_extension": ".py",
   "mimetype": "text/x-python",
   "name": "python",
   "nbconvert_exporter": "python",
   "pygments_lexer": "ipython3",
   "version": "3.9.6"
  }
 },
 "nbformat": 4,
 "nbformat_minor": 5
}
