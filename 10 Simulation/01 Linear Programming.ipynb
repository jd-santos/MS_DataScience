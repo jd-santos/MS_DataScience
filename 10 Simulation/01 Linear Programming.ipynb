{
 "cells": [
  {
   "cell_type": "markdown",
   "id": "c044217a",
   "metadata": {
    "toc": true
   },
   "source": [
    "<h1>Table of Contents<span class=\"tocSkip\"></span></h1>\n",
    "<div class=\"toc\"><ul class=\"toc-item\"><li><span><a href=\"#Elements-of-Linear-Programming\" data-toc-modified-id=\"Elements-of-Linear-Programming-1\"><span class=\"toc-item-num\">1&nbsp;&nbsp;</span>Elements of Linear Programming</a></span></li><li><span><a href=\"#Example:-Product-Machining\" data-toc-modified-id=\"Example:-Product-Machining-2\"><span class=\"toc-item-num\">2&nbsp;&nbsp;</span>Example: Product Machining</a></span></li><li><span><a href=\"#LP-Model-Formulation\" data-toc-modified-id=\"LP-Model-Formulation-3\"><span class=\"toc-item-num\">3&nbsp;&nbsp;</span>LP Model Formulation</a></span><ul class=\"toc-item\"><li><span><a href=\"#Decision-Variables\" data-toc-modified-id=\"Decision-Variables-3.1\"><span class=\"toc-item-num\">3.1&nbsp;&nbsp;</span>Decision Variables</a></span></li><li><span><a href=\"#Objective-Function\" data-toc-modified-id=\"Objective-Function-3.2\"><span class=\"toc-item-num\">3.2&nbsp;&nbsp;</span>Objective Function</a></span></li><li><span><a href=\"#Constraints\" data-toc-modified-id=\"Constraints-3.3\"><span class=\"toc-item-num\">3.3&nbsp;&nbsp;</span>Constraints</a></span></li></ul></li><li><span><a href=\"#Graphically-Solving-LP\" data-toc-modified-id=\"Graphically-Solving-LP-4\"><span class=\"toc-item-num\">4&nbsp;&nbsp;</span>Graphically Solving LP</a></span><ul class=\"toc-item\"><li><span><a href=\"#Determine-the-Feasible-Region\" data-toc-modified-id=\"Determine-the-Feasible-Region-4.1\"><span class=\"toc-item-num\">4.1&nbsp;&nbsp;</span>Determine the Feasible Region</a></span><ul class=\"toc-item\"><li><span><a href=\"#Graph-Feasible-Region\" data-toc-modified-id=\"Graph-Feasible-Region-4.1.1\"><span class=\"toc-item-num\">4.1.1&nbsp;&nbsp;</span>Graph Feasible Region</a></span></li></ul></li><li><span><a href=\"#Plot-the-Objective-Function-and-find-Cornerpoints\" data-toc-modified-id=\"Plot-the-Objective-Function-and-find-Cornerpoints-4.2\"><span class=\"toc-item-num\">4.2&nbsp;&nbsp;</span>Plot the Objective Function and find Cornerpoints</a></span></li><li><span><a href=\"#Solve-for-the-Optimum-Values\" data-toc-modified-id=\"Solve-for-the-Optimum-Values-4.3\"><span class=\"toc-item-num\">4.3&nbsp;&nbsp;</span>Solve for the Optimum Values</a></span></li><li><span><a href=\"#Solve-the-Objective-Function\" data-toc-modified-id=\"Solve-the-Objective-Function-4.4\"><span class=\"toc-item-num\">4.4&nbsp;&nbsp;</span>Solve the Objective Function</a></span></li></ul></li><li><span><a href=\"#The-Simplex-Method\" data-toc-modified-id=\"The-Simplex-Method-5\"><span class=\"toc-item-num\">5&nbsp;&nbsp;</span>The Simplex Method</a></span><ul class=\"toc-item\"><li><span><a href=\"#Simplex-Preparation\" data-toc-modified-id=\"Simplex-Preparation-5.1\"><span class=\"toc-item-num\">5.1&nbsp;&nbsp;</span>Simplex Preparation</a></span></li><li><span><a href=\"#Simplex-Tableau\" data-toc-modified-id=\"Simplex-Tableau-5.2\"><span class=\"toc-item-num\">5.2&nbsp;&nbsp;</span>Simplex Tableau</a></span><ul class=\"toc-item\"><li><span><a href=\"#Setup-and-Finding-Pivot\" data-toc-modified-id=\"Setup-and-Finding-Pivot-5.2.1\"><span class=\"toc-item-num\">5.2.1&nbsp;&nbsp;</span>Setup and Finding Pivot</a></span></li><li><span><a href=\"#Row-reductions\" data-toc-modified-id=\"Row-reductions-5.2.2\"><span class=\"toc-item-num\">5.2.2&nbsp;&nbsp;</span>Row reductions</a></span></li></ul></li><li><span><a href=\"#Simplex-Interpretation\" data-toc-modified-id=\"Simplex-Interpretation-5.3\"><span class=\"toc-item-num\">5.3&nbsp;&nbsp;</span>Simplex Interpretation</a></span></li></ul></li><li><span><a href=\"#Linear-Programming-with-Python\" data-toc-modified-id=\"Linear-Programming-with-Python-6\"><span class=\"toc-item-num\">6&nbsp;&nbsp;</span>Linear Programming with Python</a></span><ul class=\"toc-item\"><li><span><a href=\"#Using-the-PuLP-Library\" data-toc-modified-id=\"Using-the-PuLP-Library-6.1\"><span class=\"toc-item-num\">6.1&nbsp;&nbsp;</span>Using the PuLP Library</a></span></li><li><span><a href=\"#Different-LP-Outcomes\" data-toc-modified-id=\"Different-LP-Outcomes-6.2\"><span class=\"toc-item-num\">6.2&nbsp;&nbsp;</span>Different LP Outcomes</a></span></li></ul></li><li><span><a href=\"#Sensitivity-Analysis\" data-toc-modified-id=\"Sensitivity-Analysis-7\"><span class=\"toc-item-num\">7&nbsp;&nbsp;</span>Sensitivity Analysis</a></span><ul class=\"toc-item\"><li><span><a href=\"#Theory\" data-toc-modified-id=\"Theory-7.1\"><span class=\"toc-item-num\">7.1&nbsp;&nbsp;</span>Theory</a></span></li><li><span><a href=\"#Sensitivity-Analysis-in-PuLP\" data-toc-modified-id=\"Sensitivity-Analysis-in-PuLP-7.2\"><span class=\"toc-item-num\">7.2&nbsp;&nbsp;</span>Sensitivity Analysis in PuLP</a></span></li><li><span><a href=\"#Slack-and-Shadow-Price-Interpretation\" data-toc-modified-id=\"Slack-and-Shadow-Price-Interpretation-7.3\"><span class=\"toc-item-num\">7.3&nbsp;&nbsp;</span>Slack and Shadow Price Interpretation</a></span></li></ul></li><li><span><a href=\"#Linear-Programming-Minimization\" data-toc-modified-id=\"Linear-Programming-Minimization-8\"><span class=\"toc-item-num\">8&nbsp;&nbsp;</span>Linear Programming Minimization</a></span><ul class=\"toc-item\"><li><span><a href=\"#Minimization-and-Reduced-Cost\" data-toc-modified-id=\"Minimization-and-Reduced-Cost-8.1\"><span class=\"toc-item-num\">8.1&nbsp;&nbsp;</span>Minimization and Reduced Cost</a></span></li><li><span><a href=\"#Reduced-Cost-Interpretation\" data-toc-modified-id=\"Reduced-Cost-Interpretation-8.2\"><span class=\"toc-item-num\">8.2&nbsp;&nbsp;</span>Reduced Cost Interpretation</a></span></li></ul></li><li><span><a href=\"#LP-Investment-Portfolio-Example\" data-toc-modified-id=\"LP-Investment-Portfolio-Example-9\"><span class=\"toc-item-num\">9&nbsp;&nbsp;</span>LP Investment Portfolio Example</a></span><ul class=\"toc-item\"><li><span><a href=\"#Slack-and-Shadow-Price-Interpretation\" data-toc-modified-id=\"Slack-and-Shadow-Price-Interpretation-9.1\"><span class=\"toc-item-num\">9.1&nbsp;&nbsp;</span>Slack and Shadow Price Interpretation</a></span></li><li><span><a href=\"#Reduced-Cost-Interpretation\" data-toc-modified-id=\"Reduced-Cost-Interpretation-9.2\"><span class=\"toc-item-num\">9.2&nbsp;&nbsp;</span>Reduced Cost Interpretation</a></span></li></ul></li></ul></div>"
   ]
  },
  {
   "cell_type": "markdown",
   "id": "561d4487",
   "metadata": {},
   "source": [
    "## Elements of Linear Programming\n",
    "\n",
    "Linear Programming is one of the simpler class optimization models. Specifically it is a form of constrained optimization, where we attempt to find the best point of a function while respecting various constraints. In the real world, these constraints are usually related to limited resources that we are trying to optimize around.\n",
    "\n",
    "There are four elements of a constrained optimization problem:\n",
    "- Decision variables\n",
    "    - The unknown values you're trying to determine\n",
    "    - Can be thought of as different quantities of a product to produce, amount of money to spend on different options, etc.\n",
    "- The objective function\n",
    "    - The mathematical expression that combines the decision variables to express our goal\n",
    "    - We are trying to either minimize (e.g. an expense) or maximize (e.g. profit) this function\n",
    "- Constraints\n",
    "    - The mathematical expression representing limitations, requirements, or restrictions imposed on our solution\n",
    "- Variable bounds\n",
    "\n",
    "Building our optimization model requires us to identify these components and create mathematical expressions out of our objective function and constraints, which are linear functions of the decision variables. All variables are continuous, if a variable is required to take an integer value then this requires the use of *integer programming.* No you can't just use LP and round up to an integer, your results may not be optimal, and you will feel bad.\n"
   ]
  },
  {
   "cell_type": "markdown",
   "id": "83750cc2",
   "metadata": {},
   "source": [
    "## Example: Product Machining\n",
    "A company produces two types of products, Product A and Product B, using two machines, Machine X and Machine Y. \n",
    "\n",
    "Each unit of Product A requires 3 hours on Machine X and 2 hours on Machine Y, while each unit of Product B requires 1 hour on Machine X and 4 hours on Machine Y.\n",
    "\n",
    "The company has 120 hours available on Machine X and 100 on Machine Y per week.\n",
    "\n",
    "Additionally, the company must satisfy the following constraints:\n",
    "- The company cannot produce more than 50 units of Product A per week.\n",
    "- The profit per unit of Product A is \\\\$50, and the profit per unit of Product B is \\\\$40. The company wishes to determine how many units of each product to produce weekly to maximize total profit.\n"
   ]
  },
  {
   "cell_type": "markdown",
   "id": "d359224a",
   "metadata": {},
   "source": [
    "## LP Model Formulation\n",
    "\n",
    "### Decision Variables\n",
    "First we need to identify the decision variables. These are the variables that we can control, but don't know the optimum values for. In the problem above, we can formulate those variables as follows:\n",
    "- $x_1$ = the number of Product A produced in a week\n",
    "- $x_2$ = the number of Product B produced in a week\n",
    "\n",
    "### Objective Function\n",
    "Next we need to determine our *objective function*. In this example, we are asked to maximize profit. The convention for representing the value of our function is *Z*, so using the provided profit per unit we can express our function as:\n",
    "\n",
    "Maximize $Z = 50x_1 + 40x_2$\n",
    "\n",
    "### Constraints\n",
    "Modeling constraints can be challenging. After determining our objective function, we need to scan the prompt and mathematically account for all other constraints on our problem.\n",
    "\n",
    "*The company cannot produce more than 50 units of Product A per week:*\n",
    "\n",
    "$x_1 \\leq 50$\n",
    "\n",
    "\n",
    "*Product A requires 3 hours on Machine X, while Product B requires 1 hour. There are only 120 hours available on Machine X per week:*\n",
    "\n",
    "$3x_1 + x_2 \\leq 120 $\n",
    "\n",
    "*Product A requires 2 hours on Machine Y, while Product B requires 4 hours. There are only 100 hours available on Machine Y per week:*\n",
    "\n",
    "$2x_1 + 4x_2 \\leq 100 $\n",
    "\n",
    "*You can't produce negative products. If you can, this math can't help you. Seek a physicist and/or spiritual advisor.* \n",
    "\n",
    "$x_1, x_2 \\geq 0 $"
   ]
  },
  {
   "cell_type": "markdown",
   "id": "58bc534b",
   "metadata": {},
   "source": [
    "## Graphically Solving LP\n",
    "\n",
    "A basic way to solve and demonstrate a linear programming problem is to graph it. This is only possible if your problem has two decision variables, otherwise we can't represent the problem as a linear graph.\n",
    "\n",
    "### Determine the Feasible Region\n",
    "First we will find our feasible region by plotting the line for each of our constraints. Treat all inequalities as equals when drawing your lines because the inequalities will be represented by shading in a specific direction.\n",
    "\n",
    "Plotting these lines requires a lot of advanced middle-school algebra that you probably don't remember. When two variables are present, solve the equation twice while plugging in a zero for each variable. This will give you two points to create the required line. \n",
    "\n",
    "**Plot Constraint 1:**\n",
    "\n",
    "Plot a line at $x_1 = 50$, feasible region is to the left of this line. \n",
    "\n",
    "**Plot Constraint 2:**\n",
    "\n",
    "$3x_1 + x_2 \\leq 120$\n",
    "\n",
    "First point: $3x_1 + 0 = 120$ -> $x_1 = 40, x_2 = 0$, point (40,0)\n",
    "\n",
    "Second point: $0 + x_2 = 120$ -> $x_1 = 0, x_2 = 120$, point (0,120)\n",
    "\n",
    "**Plot Constraint 3**\n",
    "\n",
    "This time skipping algebra, just like I did in middle school. This will probably come back to haunt me.\n",
    "\n",
    "$2x_1 + 4x_2 \\leq 100$\n",
    "\n",
    "First point: $x_1 = 50, x_2 = 0$, point (50,0)\n",
    "\n",
    "Second point: $x_1 = 0, x_2 = 25$, point (0,25)\n",
    "\n",
    "**Plot Constraint 4**\n",
    "\n",
    "$x_1, x_2 \\geq 0$\n",
    "\n",
    "The feasible region will be in the first quadrant, representing all positive values.\n",
    "\n",
    "#### Graph Feasible Region \n",
    "\n",
    "![Feasible Region](Images/GraphicalLP_1.jpeg)\n"
   ]
  },
  {
   "cell_type": "markdown",
   "id": "d0a9feee",
   "metadata": {},
   "source": [
    "### Plot the Objective Function and find Cornerpoints\n",
    "Our objective function represents our goal that we want to optimize for. We want to find the most optimal point within our feasible area that maximizes (or sometimes minimizes) this function.\n",
    "\n",
    "In our feasible region, the external edges intersect at cornerpoints. Unless the slope of the objective function is exactly the same as one of the edges, the most optimal solution will always be one of the cornerpoints. If we plot our objective function, we can see which cornerpoint maximizes the function.   \n",
    "\n",
    "Plot our objective function $Z = 50x_1 +40x_2$ by finding the line between (0,0) and (50,40). \n",
    "\n",
    "![Objective Function](Images/GraphicalLP_2.jpeg)\n"
   ]
  },
  {
   "cell_type": "markdown",
   "id": "dd1afc97",
   "metadata": {},
   "source": [
    "### Solve for the Optimum Values\n",
    "The cornerpoint we found is at the intersection of two of the constraints we defined above. We can solve for that intersection to get our optimum values for each product.\n",
    "\n",
    "Solve the intersection of the two constraints\n",
    "\n",
    "$3x_1 + x_2 \\leq 120$\n",
    "\n",
    "$2x_1 + 4x_2 \\leq 100$\n",
    "\n",
    "Solve the second equation for $x_1$ in terms of $x_2$\n",
    "\n",
    "$x_1 = 50 - 2x_2$\n",
    "\n",
    "Plug this $x_1$ in to the first equation\n",
    "\n",
    "$3(50-2x_2) + x_2 = 120$ => $150-6x_2+x_2 = 120$ => $150-5x_2 = 120$\n",
    "\n",
    "$-5x_2 = -30$\n",
    "\n",
    "**First optimal value: $x_2 = 6$**\n",
    "\n",
    "Solve for second optimal value\n",
    "$3x_1 + (6) = 120$\n",
    "\n",
    "**Second optimal value: $x_1 = 38$**\n"
   ]
  },
  {
   "cell_type": "markdown",
   "id": "f7bba0d3",
   "metadata": {},
   "source": [
    "### Solve the Objective Function\n",
    "Now we can plug our two optimum values into the objective function and find our optimal solution:\n",
    "\n",
    "$Z = 50x_1 + 40x_2$\n",
    "\n",
    "$Z = 50(38) + 40(6) = \\$2140$\n",
    "\n",
    "**The company should produce 38 units of Product A and 6 units of Product B to achieve a maximum profit of \\$2,140**"
   ]
  },
  {
   "cell_type": "markdown",
   "id": "24635cdd",
   "metadata": {},
   "source": [
    "## The Simplex Method\n",
    "The simplex method is a more tedious and difficult way for humans to find linear programming solutions because it intended for computers. Lucky for us, we get to experience this painful process the old-fashioned way. \n",
    "\n",
    "This method involves the construction of a simplex tableau, which is a fancy table that contains the same types of objective functions and constraints as above. In fact, we will demonstrate this method with the same example. "
   ]
  },
  {
   "cell_type": "markdown",
   "id": "16e8ecf8",
   "metadata": {},
   "source": [
    "### Simplex Preparation\n",
    "In order to align our function and constraints into a table, we need to do a few preparatory steps.\n",
    "\n",
    "First we need to move all of our variables in our objective function to the left hand side and set it equal to zero. Taking our objective function above:\n",
    "\n",
    "$Z = 50x_1 + 40 x_2$\n",
    "\n",
    "We will rewrite it as:\n",
    "\n",
    "$Z - 50x_1 - 40x_2 = 0$\n",
    "\n",
    "Then we take our constraints, change all inequalities to equals, and introduce slack variables that help us align our table. Now, this doesn't make sense yet, but it might soon!\n",
    "\n",
    "$x_1 \\leq 50$ -> $x_1 + s_1 = 50$\n",
    "\n",
    "\n",
    "$3x_1 + x_2 \\leq 120 $ -> $3x_1 + x_2 + s2 = 120 $\n",
    "\n",
    "\n",
    "$2x_1 + 4x_2 \\leq 100$ -> $2x_1 + 4x_2 + s3 = 100$\n"
   ]
  },
  {
   "cell_type": "markdown",
   "id": "b5cfc935",
   "metadata": {},
   "source": [
    "### Simplex Tableau\n",
    "\n",
    "#### Setup and Finding Pivot\n",
    "Now we take our new strange equations and fill them into the simplex tableau, aligning the value for each variable in the appropriate column. Note the final column RHS which represents the right-hand side of the equation.\n",
    "\n",
    "| Variable | x1  | x2  | s1  | s2  | s3  | Z   | RHS |\n",
    "|----------|-----|-----|-----|-----|-----|-----|-----|\n",
    "| s1       | 1   | 0   | 1   | 0   | 0   | 0   | 50  |\n",
    "| s2       | 3   | 1   | 0   | 1   | 0   | 0   | 120 |\n",
    "| s3       | 2   | 4   | 0   | 0   | 1   | 0   | 100 |\n",
    "| Z        | -50 | -40 | 0   | 0   | 0   | 0   | 0   |\n",
    "\n",
    "Next we need to determine our \"pivot,\" which will be the item in this table that focuses our row reduction. Finding this pivot is a multi-stage process:\n",
    "\n",
    "- In the Z row, find the lowest number which will become the pivot column\n",
    "    - For us this is -50, so x1 becomes our pivot column\n",
    "- Divide all non-Z RHS values by their respective values in the pivot column\n",
    "    - $\\frac{50}{1}, \\frac{120}{3}, \\frac{100}{2}$\n",
    "- Take the lowest value of these as your pivot. If there's a tie, just pick one.\n",
    "    - For us the s2 row is the smallest ($\\frac{120}{3} = 40$)\n",
    "    - The pivot is 3\n",
    "- We want to reduce this pivot to 1, performing whatever operation is necessary across the entire row\n",
    "    - In our case this entails dividing the entire row by 3\n",
    "- Rewrite the tableau with this new operation, leaving other rows as-is\n",
    "\n",
    "$\\frac{1}{3}R_2 => R_2$\n",
    "\n",
    "| Variable | x1  | x2  | s1  | s2  | s3  | Z   | RHS |\n",
    "|----------|-----|-----|-----|-----|-----|-----|-----|\n",
    "| s1       | 1   | 0   | 1   | 0   | 0   | 0   | 50  |\n",
    "| x1       | 1   | 1/3 | 0   | 1/3 | 0   | 0   | 40  |\n",
    "| s3       | 2   | 4   | 0   | 0   | 1   | 0   | 100 |\n",
    "| Z        | -50 | -40 | 0   | 0   | 0   | 0   | 0   |"
   ]
  },
  {
   "cell_type": "markdown",
   "id": "73cd9ce8",
   "metadata": {},
   "source": [
    "#### Row reductions\n",
    "\n",
    "Our next goal is to reduce the values above and below our same pivot to zero. For each of those values, determine what we can multiply our pivot by in order to add it to the value and equal zero. We will do this for each row.\n",
    "\n",
    "For example, the value above the pivot is 1. To reduce it, we multiply our pivot by -1 and add it to the value in the row above. We'll actually do this across the entire row, multiple values in our pivot row by -1 and adding that to the entire row above.\n",
    "\n",
    "This same process is repeated for the row below the pivot for whatever multiple is needed to reduce the value in that column to zero, so we have 3 tableau transformations to make:\n",
    "\n",
    "1. $-1R_2 + R_1 => R_1$\n",
    "\n",
    "2. $-2R_2 + R_3 => R_3$\n",
    "\n",
    "3. $50R_2 + R_4 => R_4$\n",
    "\n",
    "| Variable | x1  | x2      | s1  | s2     | s3  | Z   | RHS  |\n",
    "|----------|-----|---------|-----|--------|-----|-----|------|\n",
    "| s1       | 0   | -1/3    | 1   | -1/3   | 0   | 0   | 10   |\n",
    "| x1       | 1   | 1/3     | 0   | 1/3    | 0   | 0   | 40   |\n",
    "| s3       | 0   | 3 1/3   | 0   | -2/3   | 1   | 0   | 20   |\n",
    "| Z        | 0   | -23 1/3 | 0   | 16 2/3 | 0   | 0   | 2000 |\n",
    "\n",
    "If we have any negative numbers in the Z row, we need to repeat this process with a new pivot column if necessary. \n",
    "- Our lowest value is -23 1/3 (that can't be right) so x2 is our pivot column\n",
    "- Find the smallest positive value after dividing RHS by the pivot column\n",
    "    - -30, 13 1/3, 6\n",
    "- The pivot number is 3 1/3 at x2, s3\n",
    "    - This implies we multiply the entire row by 3/10s. I have little confidence that this is correct, but we press on\n",
    "\n",
    "$\\frac{3}{10}R_2 => R_2$\n",
    "\n",
    "| Variable | x1  | x2      | s1  | s2     | s3   | Z   | RHS  |\n",
    "|----------|-----|---------|-----|--------|------|-----|------|\n",
    "| s1       | 0   | -1/3    | 1   | -1/3   | 0    | 0   | 10   |\n",
    "| x1       | 1   | 1/3     | 0   | 1/3    | 0    | 0   | 40   |\n",
    "| s3       | 0   | 1       | 0   | -1/5   | 3/10 | 0   | 6    |\n",
    "| Z        | 0   | -23 1/3 | 0   | 16 2/3 | 0    | 0   | 2000 |\n",
    "\n",
    "Row reductions:\n",
    "\n",
    "1. $\\frac{1}{3}R_3 + R_1 => R_1$\n",
    "\n",
    "2. $-\\frac{1}{3}R_3 + R_2 => R_2$\n",
    "\n",
    "3. $23\\frac{1}{3}R_3 + R_4 => R_4$\n",
    "\n",
    "| Variable | x1  | x2  | s1  | s2    | s3    | Z   | RHS  |\n",
    "|----------|-----|-----|-----|-------|-------|-----|------|\n",
    "| s1       | 1/3 | 0   | 1   | -6/15 | 1/10  | 0   | 12   |\n",
    "| x1       | 1   | 0   | 0   | 6/15  | -1/10 | 0   | 38   |\n",
    "| x2       | 0   | 1   | 0   | -1/5  | 3/10  | 0   | 6    |\n",
    "| Z        | 0   | 0   | 0   | 12    | 7     | 0   | 2140 |\n",
    "\n",
    "Once we have no negatives in the Z row, we are finished."
   ]
  },
  {
   "cell_type": "markdown",
   "id": "5d895fa2",
   "metadata": {},
   "source": [
    "### Simplex Interpretation\n",
    "\n",
    "By some miracle, we achieved the same $x_1$ and $x_2$ values as our graphical solution as well as the same maximum Z value of $2,140.\n",
    "\n",
    "We also have a slack value of 12, which represents the unused units of our constraint on producing no more than 50 units of Product A in one week. Our optimum value for Product A is 38, but we have the capacity to produce 12 more."
   ]
  },
  {
   "cell_type": "markdown",
   "id": "dd625a6d",
   "metadata": {},
   "source": [
    "## Linear Programming with Python"
   ]
  },
  {
   "cell_type": "markdown",
   "id": "2fb516d4",
   "metadata": {},
   "source": [
    "### Using the PuLP Library\n",
    "\n",
    "To solve our same LP optimization problem in Python, we will be using an open-source library called PuLP. First we ensure PuLP is installed in our Python environment and begin by importing the module."
   ]
  },
  {
   "cell_type": "code",
   "execution_count": 5,
   "id": "63fe08b5",
   "metadata": {},
   "outputs": [],
   "source": [
    "from pulp import *"
   ]
  },
  {
   "cell_type": "markdown",
   "id": "9f0f2e6a",
   "metadata": {},
   "source": [
    "LpProblem is the PuLP class that creates the actual problem with the parameters of a problem name and the *sense* of the problem, which is either LpMaximize or LpMinimize. We will use the former as this is a maximization problem."
   ]
  },
  {
   "cell_type": "code",
   "execution_count": 10,
   "id": "efe29837",
   "metadata": {},
   "outputs": [],
   "source": [
    "prob = LpProblem(\"ProductDecision\", LpMaximize) \n",
    "x1 = LpVariable('x_1', lowBound = 0) \n",
    "x2 = LpVariable('x_2', lowBound = 0) "
   ]
  },
  {
   "cell_type": "markdown",
   "id": "15959bfb",
   "metadata": {},
   "source": [
    "Now we add our objective function and constraints to the `prob` LP problem we created. The objective function is added first, then we'll add our three constraints. If we print our `prob` at this point, we can see a summary of our problem so far."
   ]
  },
  {
   "cell_type": "code",
   "execution_count": 11,
   "id": "e997f720",
   "metadata": {},
   "outputs": [
    {
     "name": "stdout",
     "output_type": "stream",
     "text": [
      "ProductDecision:\n",
      "MAXIMIZE\n",
      "50*x_1 + 40*x_2 + 0\n",
      "SUBJECT TO\n",
      "_C1: x_1 <= 50\n",
      "\n",
      "_C2: 3 x_1 + x_2 <= 120\n",
      "\n",
      "_C3: 2 x_1 + 4 x_2 <= 100\n",
      "\n",
      "VARIABLES\n",
      "x_1 Continuous\n",
      "x_2 Continuous\n",
      "\n"
     ]
    }
   ],
   "source": [
    "# Objective function \n",
    "prob += 50*x1 + 40*x2, \"Obj\" \n",
    "\n",
    "# Constraints \n",
    "prob += x1 <= 50  \n",
    "prob += 3*x1 + 1*x2 <= 120 \n",
    "prob += 2*x1 + 4*x2 <= 100 \n",
    "print(prob)"
   ]
  },
  {
   "cell_type": "markdown",
   "id": "c7b020dd",
   "metadata": {},
   "source": [
    "Using `.solve()`, PuLP will actually execute the LP solution. Before looking at our answer, we can review LpStatus to see if we've achieved an optimal solution."
   ]
  },
  {
   "cell_type": "code",
   "execution_count": 12,
   "id": "38344121",
   "metadata": {
    "scrolled": true
   },
   "outputs": [
    {
     "name": "stdout",
     "output_type": "stream",
     "text": [
      "Welcome to the CBC MILP Solver \n",
      "Version: 2.10.3 \n",
      "Build Date: Dec 15 2019 \n",
      "\n",
      "command line - /Users/jdmini/datapad/lib/python3.9/site-packages/pulp/solverdir/cbc/osx/64/cbc /var/folders/1n/nvr79nb55tz9j4lsbrw6hsf80000gn/T/f93097c6566d4abcbe20be70fc0b47d6-pulp.mps max timeMode elapsed branch printingOptions all solution /var/folders/1n/nvr79nb55tz9j4lsbrw6hsf80000gn/T/f93097c6566d4abcbe20be70fc0b47d6-pulp.sol (default strategy 1)\n",
      "At line 2 NAME          MODEL\n",
      "At line 3 ROWS\n",
      "At line 8 COLUMNS\n",
      "At line 16 RHS\n",
      "At line 20 BOUNDS\n",
      "At line 21 ENDATA\n",
      "Problem MODEL has 3 rows, 2 columns and 5 elements\n",
      "Coin0008I MODEL read with 0 errors\n",
      "Option for timeMode changed from cpu to elapsed\n",
      "Presolve 2 (-1) rows, 2 (0) columns and 4 (-1) elements\n",
      "0  Obj -0 Dual inf 89.999998 (2)\n",
      "2  Obj 2140\n",
      "Optimal - objective value 2140\n",
      "After Postsolve, objective 2140, infeasibilities - dual 0 (0), primal 0 (0)\n",
      "Optimal objective 2140 - 2 iterations time 0.002, Presolve 0.00\n",
      "Option for printingOptions changed from normal to all\n",
      "Total time (CPU seconds):       0.00   (Wallclock seconds):       0.02\n",
      "\n",
      "status: Optimal\n"
     ]
    }
   ],
   "source": [
    "prob.solve() \n",
    "print(\"status: \" + LpStatus[prob.status]) "
   ]
  },
  {
   "cell_type": "markdown",
   "id": "02b36a33",
   "metadata": {},
   "source": [
    "Seeing we have an optimal solution, we can write a small loop to print each of the optimal variables and objective value. The optimal values for Product A and Product B (x_1 and x_2) match the values found with the graphing and simplex methods above. We also see the same maximum objective value of $2140."
   ]
  },
  {
   "cell_type": "code",
   "execution_count": 13,
   "id": "d16e34fc",
   "metadata": {},
   "outputs": [
    {
     "name": "stdout",
     "output_type": "stream",
     "text": [
      "x_1* = 38.0\n",
      "x_2* = 6.0\n",
      "2140.0\n"
     ]
    }
   ],
   "source": [
    "for variable in prob.variables():\n",
    "     print(\"{}* = {}\".format(variable.name, variable.varValue)) \n",
    "     \n",
    "print(value(prob.objective))"
   ]
  },
  {
   "cell_type": "markdown",
   "id": "f1d56bcd",
   "metadata": {},
   "source": [
    "### Different LP Outcomes\n",
    "\n",
    "Using `LpStatus` above, we found that this example had an optimal solution. However, there are four potential outcomes than a solution can have:\n",
    "\n",
    "-  One optimal solution \n",
    "\n",
    "-  Multiple optimal solutions\n",
    "    -  On a graph, this could be represented by an edge of a feasible region being exactly perpendicular to the objective function line\n",
    "-  An unbounded solution: the optimal value can reach into infinity\n",
    "    - If all constraints do not encapsulate a \"region\", then the objective value is theoretically infinite\n",
    "    - Usually this means we've missed a constraint while designing our model\n",
    "-  Solution is infeasible: there is no feasible region\n",
    "    - If the constraints are such that no feasible region is created, then the solution is infeasible\n"
   ]
  },
  {
   "cell_type": "markdown",
   "id": "2ab28c94",
   "metadata": {},
   "source": [
    "## Sensitivity Analysis"
   ]
  },
  {
   "cell_type": "markdown",
   "id": "95af4e9f",
   "metadata": {},
   "source": [
    "### Theory\n",
    "\n",
    "Up until now we have focused on finding the optimal solution, which is a useful first step. However, we can look more closely at our decision variables to see how they contribute to that solution and what happens if any are changed. There are a few terms that are important to this type of analysis:\n",
    "\n",
    "**Binding constraints**: These are constraints that would directly affect the optimal solution if changed as they limit the feasible region. Binding constraints have zero slack.\n",
    "\n",
    "**Slack**: The slack of a constraint is the difference between the right-hand side (RHS) and left-hand side (LHS) of the constraint equation at the optimal solution. This tells us the amount of unused capacity for a given constraint. If the slack is greater than zero, the constraint is non-binding and is not limiting the optimal solution.\n",
    "\n",
    "**Shadow price**: For a binding constraint, the shadow price represents how much the objective value will change when the RHS of the constraint changes. \n",
    "- This is essentially the marginal value of the constraint, as it affects the value of the objective function per unit of increase (in a binding constraint in a maximization problem)\n",
    "- The shadow price is zero for non-binding constraints, we can consider these resources to be in surplus (or \"free goods\" if you're an economist, but we don't care about them) \n",
    "\n",
    "**Reduced cost**: It's possible for the optimum solution for variables to be zero. As an example, it may not be as profitable to produce any of Product A and focus entirely on Product B. Reduced cost helps us determine what would need to change about that variable in order for it to make the cut of our optimal solution.\n",
    "- Specifically, it tells us how much the coefficient of that variable in the objective function needs to increase for maximization problems, or decrease for minimization problems, in order to be part of the optimal solution.\n",
    "- If in our example objective function $Z = 50x_1 + 40x_2$ we found that the optimal solution was to have zero units of $x_2$ (Product B), a reduced cost of 10 would mean that the coefficient of $x_2$ would need to increase from 40 to 50 for it to be greater than zero in our optimal solution. "
   ]
  },
  {
   "cell_type": "markdown",
   "id": "1e71599a",
   "metadata": {},
   "source": [
    "### Sensitivity Analysis in PuLP"
   ]
  },
  {
   "cell_type": "markdown",
   "id": "1b7767bc",
   "metadata": {},
   "source": [
    "Continuing our example above, we can report the slack and shadow price still contained in the `prob` solution:"
   ]
  },
  {
   "cell_type": "code",
   "execution_count": 15,
   "id": "febb3658",
   "metadata": {},
   "outputs": [
    {
     "name": "stdout",
     "output_type": "stream",
     "text": [
      "\n",
      " _C1 : x_1 <= 50 , Slack= 12.0 , Shadow Price= -0.0\n",
      "\n",
      " _C2 : 3*x_1 + x_2 <= 120 , Slack= -0.0 , Shadow Price= 12.0\n",
      "\n",
      " _C3 : 2*x_1 + 4*x_2 <= 100 , Slack= -0.0 , Shadow Price= 7.0\n"
     ]
    }
   ],
   "source": [
    "for name, c in prob.constraints.items():\n",
    "    print(\"\\n\", name, \":\", c, \", Slack=\", c.slack, \", Shadow Price=\", c.pi)"
   ]
  },
  {
   "cell_type": "markdown",
   "id": "97fcac1b",
   "metadata": {},
   "source": [
    "We can also report any reduced costs:"
   ]
  },
  {
   "cell_type": "code",
   "execution_count": 16,
   "id": "7fd79ae3",
   "metadata": {},
   "outputs": [
    {
     "name": "stdout",
     "output_type": "stream",
     "text": [
      "\n",
      " x_1 = 38.0 , Reduced Cost= 0.0\n",
      "\n",
      " x_2 = 6.0 , Reduced Cost= 0.0\n"
     ]
    }
   ],
   "source": [
    "for v in prob.variables():\n",
    "    print (\"\\n\", v.name, \"=\", v.varValue, \", Reduced Cost=\", v.dj)"
   ]
  },
  {
   "cell_type": "markdown",
   "id": "0c72ccd9",
   "metadata": {},
   "source": [
    "### Slack and Shadow Price Interpretation \n",
    "\n",
    "These results show us that the constraints on weekly production hours for both Machine X and Machine Y are binding while the constraint on making less than 50 units of Product A per week is not.\n",
    "\n",
    "The slack for the constraint on Product A is 12 is consistent with our findings using the simplex method and shows that we have a surplus of 12 units for this constraint.\n",
    "\n",
    "The shadow price of the Machine X constraint reveals that an extra \\\\$12 of weekly profit could be achieved if an extra hour of usage could be made available. An extra hour per week on Machine Y would generate an additional \\\\$7 of profit per week."
   ]
  },
  {
   "cell_type": "markdown",
   "id": "8f7fe081",
   "metadata": {},
   "source": [
    "## Linear Programming Minimization\n",
    "So far we've only worked with a maximization problem, in our example this involved trying to maximize profit. However, when we are called upon to minimize concerns like cost or risk we need to achieve a minimization solution."
   ]
  },
  {
   "cell_type": "markdown",
   "id": "2a935756",
   "metadata": {},
   "source": [
    "\n",
    "### Minimization and Reduced Cost\n",
    "Performing minimization in Python is almost an identical process as the maximization problem above, with the small difference of using the `LpMinimize` sense when the problem is defined. The major differences will be in interpreting the output once we find our solution.\n"
   ]
  },
  {
   "cell_type": "code",
   "execution_count": 16,
   "id": "7519bb93",
   "metadata": {},
   "outputs": [],
   "source": [
    "from pulp import *\n",
    "minprob = LpProblem(\"MinimizeDecision\", LpMinimize)\n",
    "x1 = LpVariable('x_1', lowBound = 0)\n",
    "x2 = LpVariable('x_2', lowBound = 0)\n",
    "x3 = LpVariable('x_3', lowBound = 0)"
   ]
  },
  {
   "cell_type": "markdown",
   "id": "fd57f612",
   "metadata": {},
   "source": [
    "As before, we add our objective function and constraints to the LpProblem we created. Pay attention to the inequality signs, in minimization problems they are usually greater-than instead of lesser-than relationships.\n",
    "\n",
    "Printing the problem shows our standard LP definition."
   ]
  },
  {
   "cell_type": "code",
   "execution_count": 17,
   "id": "b6e0a610",
   "metadata": {},
   "outputs": [
    {
     "name": "stdout",
     "output_type": "stream",
     "text": [
      "MinimizeDecision:\n",
      "MINIMIZE\n",
      "3*x_1 + 4*x_2 + 5*x_3 + 0\n",
      "SUBJECT TO\n",
      "_C1: 2 x_1 + x_3 >= 8\n",
      "\n",
      "_C2: x_2 + x_3 >= 6\n",
      "\n",
      "_C3: 6 x_1 + 8 x_2 >= 48\n",
      "\n",
      "VARIABLES\n",
      "x_1 Continuous\n",
      "x_2 Continuous\n",
      "x_3 Continuous\n",
      "\n"
     ]
    }
   ],
   "source": [
    "# Objective function\n",
    "minprob += 3*x1 + 4*x2 + 5*x3, \"Obj\"\n",
    "\n",
    "# Constraints\n",
    "minprob += 2*x1 + 1*x3 >= 8\n",
    "minprob += 1*x2 + 1*x3 >= 6\n",
    "minprob += 6*x1 + 8*x2 >= 48\n",
    "print(minprob)"
   ]
  },
  {
   "cell_type": "markdown",
   "id": "64226d05",
   "metadata": {},
   "source": [
    "Solving the problem and printing the status shows that we do have an optimal solution."
   ]
  },
  {
   "cell_type": "code",
   "execution_count": 18,
   "id": "a5d3e1cd",
   "metadata": {},
   "outputs": [
    {
     "name": "stdout",
     "output_type": "stream",
     "text": [
      "Welcome to the CBC MILP Solver \n",
      "Version: 2.10.3 \n",
      "Build Date: Dec 15 2019 \n",
      "\n",
      "command line - /Users/jdmini/datapad/lib/python3.9/site-packages/pulp/solverdir/cbc/osx/64/cbc /var/folders/1n/nvr79nb55tz9j4lsbrw6hsf80000gn/T/9495236d618e4513bcfe23fed7246b71-pulp.mps timeMode elapsed branch printingOptions all solution /var/folders/1n/nvr79nb55tz9j4lsbrw6hsf80000gn/T/9495236d618e4513bcfe23fed7246b71-pulp.sol (default strategy 1)\n",
      "At line 2 NAME          MODEL\n",
      "At line 3 ROWS\n",
      "At line 8 COLUMNS\n",
      "At line 18 RHS\n",
      "At line 22 BOUNDS\n",
      "At line 23 ENDATA\n",
      "Problem MODEL has 3 rows, 3 columns and 6 elements\n",
      "Coin0008I MODEL read with 0 errors\n",
      "Option for timeMode changed from cpu to elapsed\n",
      "Presolve 3 (0) rows, 3 (0) columns and 6 (0) elements\n",
      "0  Obj 0 Primal inf 16 (3)\n",
      "3  Obj 34.909091\n",
      "Optimal - objective value 34.909091\n",
      "Optimal objective 34.90909091 - 3 iterations time 0.002\n",
      "Option for printingOptions changed from normal to all\n",
      "Total time (CPU seconds):       0.00   (Wallclock seconds):       0.01\n",
      "\n",
      "status: Optimal\n"
     ]
    }
   ],
   "source": [
    "minprob.solve()\n",
    "print(\"status: \" + LpStatus[minprob.status])"
   ]
  },
  {
   "cell_type": "markdown",
   "id": "c46681f3",
   "metadata": {},
   "source": [
    "Print the optimal variables with a simple loop, then print the optimal objective value. In this case, we have an optimal minimal value of 34.9."
   ]
  },
  {
   "cell_type": "code",
   "execution_count": 19,
   "id": "212b3d3b",
   "metadata": {},
   "outputs": [
    {
     "name": "stdout",
     "output_type": "stream",
     "text": [
      "x_1* = 2.9090909\n",
      "x_2* = 3.8181818\n",
      "x_3* = 2.1818182\n",
      "34.909090899999995\n"
     ]
    }
   ],
   "source": [
    "for variable in minprob.variables():\n",
    "    print(\"{}* = {}\".format(variable.name, variable.varValue))\n",
    "\n",
    "print(value(minprob.objective))"
   ]
  },
  {
   "cell_type": "markdown",
   "id": "c975a032",
   "metadata": {},
   "source": [
    "### Reduced Cost Interpretation\n",
    "Here we see that each of our optimal variables has a reduced cost of zero. This means that each of our variables are already at their optimum level, and increasing any of them would not result in a decrease of our objective value."
   ]
  },
  {
   "cell_type": "code",
   "execution_count": 20,
   "id": "aee84e7d",
   "metadata": {},
   "outputs": [
    {
     "name": "stdout",
     "output_type": "stream",
     "text": [
      "\n",
      " x_1 = 2.9090909 , Reduced Cost= 0.0\n",
      "\n",
      " x_2 = 3.8181818 , Reduced Cost= 0.0\n",
      "\n",
      " x_3 = 2.1818182 , Reduced Cost= 0.0\n"
     ]
    }
   ],
   "source": [
    "for v in minprob.variables():\n",
    "    print (\"\\n\", v.name, \"=\", v.varValue, \", Reduced Cost=\", v.dj)"
   ]
  },
  {
   "cell_type": "markdown",
   "id": "8a26e346",
   "metadata": {},
   "source": [
    "## LP Investment Portfolio Example\n",
    "A trust officer at ABC Bank has a collection of bonds and needs to decide how to invest $500,000 in them in order to maximize the annual return.\n",
    "\n",
    "| Bond | Annual Return | Maturity | Risk | Tax-Free |\n",
    "|------|---------------|----------|------|----------|\n",
    "| A    | 9.5%          | Long     | High | Yes      |\n",
    "| B    | 8.0%          | Short    | Low  | Yes      |\n",
    "| C    | 9.0%          | Long     | Low  | No       |\n",
    "| D    | 9.0%          | Long     | High | Yes      |\n",
    "| E    | 9.0%          | Short    | High | No       |\n",
    "\n",
    "The officer wants to invest at least 50% of the money in short-term issues and no more than 50% in high-risk issues. Also, at least 25% of the funds should go into tax-free investments."
   ]
  },
  {
   "cell_type": "markdown",
   "id": "6bc9d036",
   "metadata": {},
   "source": [
    "In this problem, we can easily identify our decision variables as each individual bond since we are trying to determine how much to invest in each. Since we are trying to maximize our return, this is a maximization problem."
   ]
  },
  {
   "cell_type": "code",
   "execution_count": 34,
   "id": "d785ef3d",
   "metadata": {},
   "outputs": [],
   "source": [
    "#from pulp import *\n",
    "\n",
    "bondprob = LpProblem(\"InvestmentDecision\",LpMaximize)\n",
    "x1 = LpVariable('A', lowBound = 0)\n",
    "x2 = LpVariable('B', lowBound = 0)\n",
    "x3 = LpVariable('C', lowBound = 0)\n",
    "x4 = LpVariable('D', lowBound = 0)\n",
    "x5 = LpVariable('E', lowBound = 0)"
   ]
  },
  {
   "cell_type": "markdown",
   "id": "b9a50023",
   "metadata": {},
   "source": [
    "The objective function here is the annual return for each bond expressed as a decimal. The scenario expresses our constraints as percentages. Knowing our investment is $500,000, we can convert those percentages to real values.\n",
    "\n",
    "By referencing our table, we can determine which of our bond variables to include in each constraint. Remember that we need one final constraint that sums all of our decision variables to our total investment."
   ]
  },
  {
   "cell_type": "code",
   "execution_count": 35,
   "id": "5cabfca8",
   "metadata": {},
   "outputs": [
    {
     "name": "stdout",
     "output_type": "stream",
     "text": [
      "InvestmentDecision:\n",
      "MAXIMIZE\n",
      "0.095*A + 0.08*B + 0.09*C + 0.09*D + 0.09*E + 0.0\n",
      "SUBJECT TO\n",
      "Short_term: B + E >= 250000\n",
      "\n",
      "High_risk: A + D + E <= 250000\n",
      "\n",
      "Tax_free: A + B + D >= 125000\n",
      "\n",
      "Investment: A + B + C + D + E = 500000\n",
      "\n",
      "VARIABLES\n",
      "A Continuous\n",
      "B Continuous\n",
      "C Continuous\n",
      "D Continuous\n",
      "E Continuous\n",
      "\n"
     ]
    }
   ],
   "source": [
    "# Objective function\n",
    "bondprob += .095*x1 + .08*x2 + .09*x3 + .09*x4 + .09*x5, \"Obj\"\n",
    "\n",
    "# Constraints\n",
    "bondprob += x2 + x5 >= 250000, \"Short-term\"\n",
    "bondprob += x1 + x4 + x5 <= 250000, \"High-risk\"\n",
    "bondprob += x1 + x2 + x4 >= 125000, \"Tax-free\"\n",
    "bondprob += x1 + x2 + x3 + x4 + x5 == 500000, \"Investment\"\n",
    "print(bondprob)"
   ]
  },
  {
   "cell_type": "markdown",
   "id": "990d208f",
   "metadata": {},
   "source": [
    "Solve and print the status to show that we have an optimal solution, with spoilers for our optimal value."
   ]
  },
  {
   "cell_type": "code",
   "execution_count": 36,
   "id": "55fb689b",
   "metadata": {},
   "outputs": [
    {
     "name": "stdout",
     "output_type": "stream",
     "text": [
      "Welcome to the CBC MILP Solver \n",
      "Version: 2.10.3 \n",
      "Build Date: Dec 15 2019 \n",
      "\n",
      "command line - /Users/jdmini/datapad/lib/python3.9/site-packages/pulp/solverdir/cbc/osx/64/cbc /var/folders/1n/nvr79nb55tz9j4lsbrw6hsf80000gn/T/d18228c1e4b24648a04d6c5ae9ec8865-pulp.mps max timeMode elapsed branch printingOptions all solution /var/folders/1n/nvr79nb55tz9j4lsbrw6hsf80000gn/T/d18228c1e4b24648a04d6c5ae9ec8865-pulp.sol (default strategy 1)\n",
      "At line 2 NAME          MODEL\n",
      "At line 3 ROWS\n",
      "At line 9 COLUMNS\n",
      "At line 28 RHS\n",
      "At line 33 BOUNDS\n",
      "At line 34 ENDATA\n",
      "Problem MODEL has 4 rows, 5 columns and 13 elements\n",
      "Coin0008I MODEL read with 0 errors\n",
      "Option for timeMode changed from cpu to elapsed\n",
      "Presolve 4 (0) rows, 4 (-1) columns and 10 (-3) elements\n",
      "0  Obj -0 Primal inf 875000 (3) Dual inf 0.354996 (4)\n",
      "4  Obj 44687.5\n",
      "Optimal - objective value 44687.5\n",
      "After Postsolve, objective 44687.5, infeasibilities - dual 0 (0), primal 0 (0)\n",
      "Optimal objective 44687.5 - 4 iterations time 0.002, Presolve 0.00\n",
      "Option for printingOptions changed from normal to all\n",
      "Total time (CPU seconds):       0.00   (Wallclock seconds):       0.01\n",
      "\n",
      "status: Optimal\n"
     ]
    }
   ],
   "source": [
    "bondprob.solve()\n",
    "print(\"status: \" + LpStatus[bondprob.status])"
   ]
  },
  {
   "cell_type": "markdown",
   "id": "6e99afb1",
   "metadata": {},
   "source": [
    "Now we can print the optimal amount of investment for each bond, which would give us a maximum return of $44,687.50"
   ]
  },
  {
   "cell_type": "code",
   "execution_count": 37,
   "id": "598ca1c9",
   "metadata": {},
   "outputs": [
    {
     "name": "stdout",
     "output_type": "stream",
     "text": [
      "A* = 62500.0\n",
      "B* = 62500.0\n",
      "C* = 187500.0\n",
      "D* = 0.0\n",
      "E* = 187500.0\n",
      "44687.5\n"
     ]
    }
   ],
   "source": [
    "for variable in bondprob.variables():\n",
    "    print(\"{}* = {}\".format(variable.name, variable.varValue))\n",
    "\n",
    "print(value(bondprob.objective))"
   ]
  },
  {
   "cell_type": "markdown",
   "id": "213fa9b7",
   "metadata": {},
   "source": [
    "### Slack and Shadow Price Interpretation\n",
    "If we take a look at the slack and shadow prices of our constraints, we can see a few interesting things. First, all of our constraints are binding as evidenced by having zero slack.\n",
    "\n",
    "The shadow prices reveal more information about our constraints. First we have two constraints with negative shadow prices: the short-term and tax-free constraints. This indicates that increasing the required amount of investment in either would actually result in slightly lower returns.\n",
    "\n",
    "The high risk constraint shadow price is slightly positive, which tells us that allowing more investment in these bonds would slightly increase our maximum return.\n",
    "\n",
    "Finally, we see that the investment constraint has a shadow price of 0.09. This means a one-dollar increase in overall investment would give us a 9-cent increase in our optimal value.\n",
    "\n",
    "It makes sense that increasing our overall investment would give us a greater return, but our model design doesn't actually reflect the real-world marginal value of increasing the overall investment. Our constraints, which were given to us as percentages, were converted to values relative to the $500,000 investment. This is a good example of why thoughtful model design is important, because assumptions baked into the model can limit the utility of its outputs."
   ]
  },
  {
   "cell_type": "code",
   "execution_count": 38,
   "id": "de76835e",
   "metadata": {},
   "outputs": [
    {
     "name": "stdout",
     "output_type": "stream",
     "text": [
      "\n",
      " Short_term : B + E >= 250000 , Slack= -0.0 , Shadow Price= -0.0075\n",
      "\n",
      " High_risk : A + D + E <= 250000 , Slack= -0.0 , Shadow Price= 0.0075\n",
      "\n",
      " Tax_free : A + B + D >= 125000 , Slack= -0.0 , Shadow Price= -0.0025\n",
      "\n",
      " Investment : A + B + C + D + E = 500000 , Slack= -0.0 , Shadow Price= 0.09\n"
     ]
    }
   ],
   "source": [
    "for name, c in bondprob.constraints.items():\n",
    "    print(\"\\n\", name, \":\", c, \", Slack=\", c.slack, \", Shadow Price=\", c.pi)"
   ]
  },
  {
   "cell_type": "markdown",
   "id": "4b5ea4f2",
   "metadata": {},
   "source": [
    "### Reduced Cost Interpretation\n",
    "Our optimal solution gave us one variable with a value of zero, which was bond D. This means it has a nonzero reduced cost, which in this case is -0.005. This indicates that if the annual return of bond D increased by half a percent, it would be part of optimal solution and improve the objective value."
   ]
  },
  {
   "cell_type": "code",
   "execution_count": 40,
   "id": "294c871b",
   "metadata": {},
   "outputs": [
    {
     "name": "stdout",
     "output_type": "stream",
     "text": [
      "\n",
      " A = 62500.0 , Reduced Cost= 0.0\n",
      "\n",
      " B = 62500.0 , Reduced Cost= 0.0\n",
      "\n",
      " C = 187500.0 , Reduced Cost= 0.0\n",
      "\n",
      " D = 0.0 , Reduced Cost= -0.005\n",
      "\n",
      " E = 187500.0 , Reduced Cost= 0.0\n"
     ]
    }
   ],
   "source": [
    "for v in bondprob.variables():\n",
    "    print (\"\\n\", v.name, \"=\", v.varValue, \", Reduced Cost=\", v.dj)"
   ]
  }
 ],
 "metadata": {
  "kernelspec": {
   "display_name": "Python 3 (ipykernel)",
   "language": "python",
   "name": "python3"
  },
  "language_info": {
   "codemirror_mode": {
    "name": "ipython",
    "version": 3
   },
   "file_extension": ".py",
   "mimetype": "text/x-python",
   "name": "python",
   "nbconvert_exporter": "python",
   "pygments_lexer": "ipython3",
   "version": "3.11.2"
  },
  "toc": {
   "base_numbering": 1,
   "nav_menu": {},
   "number_sections": true,
   "sideBar": true,
   "skip_h1_title": true,
   "title_cell": "Table of Contents",
   "title_sidebar": "Contents",
   "toc_cell": true,
   "toc_position": {},
   "toc_section_display": true,
   "toc_window_display": false
  },
  "toc-autonumbering": false,
  "toc-showmarkdowntxt": false
 },
 "nbformat": 4,
 "nbformat_minor": 5
}
