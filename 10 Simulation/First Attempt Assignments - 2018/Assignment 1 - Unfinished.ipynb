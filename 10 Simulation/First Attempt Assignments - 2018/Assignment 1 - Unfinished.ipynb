{
 "cells": [
  {
   "cell_type": "markdown",
   "id": "opposed-consensus",
   "metadata": {
    "toc": true
   },
   "source": [
    "<h1>Table of Contents<span class=\"tocSkip\"></span></h1>\n",
    "<div class=\"toc\"><ul class=\"toc-item\"><li><span><a href=\"#Problem-1\" data-toc-modified-id=\"Problem-1-1\"><span class=\"toc-item-num\">1&nbsp;&nbsp;</span>Problem 1</a></span><ul class=\"toc-item\"><li><span><a href=\"#a)-Formulate-a-linear-programming-model-for-this-problem-to-maximize-profit\" data-toc-modified-id=\"a)-Formulate-a-linear-programming-model-for-this-problem-to-maximize-profit-1.1\"><span class=\"toc-item-num\">1.1&nbsp;&nbsp;</span>a) Formulate a linear programming model for this problem to maximize profit</a></span></li><li><span><a href=\"#b)-Use-the-graphical-method-to-solve-this-model\" data-toc-modified-id=\"b)-Use-the-graphical-method-to-solve-this-model-1.2\"><span class=\"toc-item-num\">1.2&nbsp;&nbsp;</span>b) Use the graphical method to solve this model</a></span></li><li><span><a href=\"#c)-Solve-with-Python\" data-toc-modified-id=\"c)-Solve-with-Python-1.3\"><span class=\"toc-item-num\">1.3&nbsp;&nbsp;</span>c) Solve with Python</a></span></li><li><span><a href=\"#d)-What-constraints-are-binding?\" data-toc-modified-id=\"d)-What-constraints-are-binding?-1.4\"><span class=\"toc-item-num\">1.4&nbsp;&nbsp;</span>d) What constraints are binding?</a></span></li></ul></li><li><span><a href=\"#Problem-2\" data-toc-modified-id=\"Problem-2-2\"><span class=\"toc-item-num\">2&nbsp;&nbsp;</span>Problem 2</a></span><ul class=\"toc-item\"><li><span><a href=\"#a)-Use-graphical-analysis-to-determine-the-optimal-solution(s)\" data-toc-modified-id=\"a)-Use-graphical-analysis-to-determine-the-optimal-solution(s)-2.1\"><span class=\"toc-item-num\">2.1&nbsp;&nbsp;</span>a) Use graphical analysis to determine the optimal solution(s)</a></span></li><li><span><a href=\"#b)-Simplex-Algorithm\" data-toc-modified-id=\"b)-Simplex-Algorithm-2.2\"><span class=\"toc-item-num\">2.2&nbsp;&nbsp;</span>b) Simplex Algorithm</a></span></li></ul></li><li><span><a href=\"#Problem-3\" data-toc-modified-id=\"Problem-3-3\"><span class=\"toc-item-num\">3&nbsp;&nbsp;</span>Problem 3</a></span><ul class=\"toc-item\"><li><span><a href=\"#a)--Report-the-optimal-solution-for-decision-variables-and-the-objective-value.\" data-toc-modified-id=\"a)--Report-the-optimal-solution-for-decision-variables-and-the-objective-value.-3.1\"><span class=\"toc-item-num\">3.1&nbsp;&nbsp;</span>a)  Report the optimal solution for decision variables and the objective value.</a></span></li><li><span><a href=\"#b)-Report-and-interpret-the-reduced-cost-value-of-each-decision-variable.\" data-toc-modified-id=\"b)-Report-and-interpret-the-reduced-cost-value-of-each-decision-variable.-3.2\"><span class=\"toc-item-num\">3.2&nbsp;&nbsp;</span>b) Report and interpret the reduced cost value of each decision variable.</a></span></li></ul></li><li><span><a href=\"#Problem-4\" data-toc-modified-id=\"Problem-4-4\"><span class=\"toc-item-num\">4&nbsp;&nbsp;</span>Problem 4</a></span><ul class=\"toc-item\"><li><span><a href=\"#a)-Formulate-an-LP-model-and-implement-it-in-Python.\" data-toc-modified-id=\"a)-Formulate-an-LP-model-and-implement-it-in-Python.-4.1\"><span class=\"toc-item-num\">4.1&nbsp;&nbsp;</span>a) Formulate an LP model and implement it in Python.</a></span></li><li><span><a href=\"#b)-What-is-the-optimal-solution?\" data-toc-modified-id=\"b)-What-is-the-optimal-solution?-4.2\"><span class=\"toc-item-num\">4.2&nbsp;&nbsp;</span>b) What is the optimal solution?</a></span></li><li><span><a href=\"#c)-What-constraints-are-binding?-Interpret-the-shadow-prices-and-slack-values.\" data-toc-modified-id=\"c)-What-constraints-are-binding?-Interpret-the-shadow-prices-and-slack-values.-4.3\"><span class=\"toc-item-num\">4.3&nbsp;&nbsp;</span>c) What constraints are binding? Interpret the shadow prices and slack values.</a></span></li><li><span><a href=\"#d)-Interpret-the-reduced-cost-value-of-each-decision-variable.\" data-toc-modified-id=\"d)-Interpret-the-reduced-cost-value-of-each-decision-variable.-4.4\"><span class=\"toc-item-num\">4.4&nbsp;&nbsp;</span>d) Interpret the reduced cost value of each decision variable.</a></span></li></ul></li><li><span><a href=\"#Problem-5\" data-toc-modified-id=\"Problem-5-5\"><span class=\"toc-item-num\">5&nbsp;&nbsp;</span>Problem 5</a></span><ul class=\"toc-item\"><li><span><a href=\"#a)-Formulate-an-Integer-LP-model-for-this-problem.\" data-toc-modified-id=\"a)-Formulate-an-Integer-LP-model-for-this-problem.-5.1\"><span class=\"toc-item-num\">5.1&nbsp;&nbsp;</span>a) Formulate an Integer LP model for this problem.</a></span></li><li><span><a href=\"#b)-Implement-the-model-in-Python-and-solve-it.\" data-toc-modified-id=\"b)-Implement-the-model-in-Python-and-solve-it.-5.2\"><span class=\"toc-item-num\">5.2&nbsp;&nbsp;</span>b) Implement the model in Python and solve it.</a></span></li></ul></li><li><span><a href=\"#Problem-6\" data-toc-modified-id=\"Problem-6-6\"><span class=\"toc-item-num\">6&nbsp;&nbsp;</span>Problem 6</a></span><ul class=\"toc-item\"><li><span><a href=\"#a)-Formulate-a-BIP-(Binary-Integer-Programming)-model-for-this-problem.\" data-toc-modified-id=\"a)-Formulate-a-BIP-(Binary-Integer-Programming)-model-for-this-problem.-6.1\"><span class=\"toc-item-num\">6.1&nbsp;&nbsp;</span>a) Formulate a BIP (Binary Integer Programming) model for this problem.</a></span></li><li><span><a href=\"#b)-Solve-in-Python\" data-toc-modified-id=\"b)-Solve-in-Python-6.2\"><span class=\"toc-item-num\">6.2&nbsp;&nbsp;</span>b) Solve in Python</a></span></li></ul></li><li><span><a href=\"#Problem-7\" data-toc-modified-id=\"Problem-7-7\"><span class=\"toc-item-num\">7&nbsp;&nbsp;</span>Problem 7</a></span><ul class=\"toc-item\"><li><span><a href=\"#a)-Formulate-a-MIP-(Mixed-Integer-Programming)-model\" data-toc-modified-id=\"a)-Formulate-a-MIP-(Mixed-Integer-Programming)-model-7.1\"><span class=\"toc-item-num\">7.1&nbsp;&nbsp;</span>a) Formulate a MIP (Mixed Integer Programming) model</a></span></li><li><span><a href=\"#b)-Solve-in-Python\" data-toc-modified-id=\"b)-Solve-in-Python-7.2\"><span class=\"toc-item-num\">7.2&nbsp;&nbsp;</span>b) Solve in Python</a></span></li></ul></li></ul></div>"
   ]
  },
  {
   "cell_type": "markdown",
   "id": "secondary-islam",
   "metadata": {},
   "source": [
    "## Problem 1 \n",
    "\n",
    "The WorldLight Company produces two light fixtures (products 1 and 2) that require both metal frame parts and electrical components. Management wants to determine how many units of each product to produce so as to maximize profit.\n",
    "\n",
    "- For each unit of product 1, 1 unit of frame parts and 2 units of electrical components are required.\n",
    "- For each unit of product 2, 3 units of frame parts and 2 units of electrical components are required.\n",
    "- The company has 200 units of frame parts and 300 units of electrical components.\n",
    "- Each unit of product 1 gives a profit of \\\\$1, and each unit of product 2, up to 60 units, gives a profit of \\\\$2.\n",
    "- Any excess over 60 units of product 2 brings no profit, so such an excess has been ruled out."
   ]
  },
  {
   "cell_type": "markdown",
   "id": "occupational-watts",
   "metadata": {},
   "source": [
    "### a) Formulate a linear programming model for this problem to maximize profit"
   ]
  },
  {
   "cell_type": "markdown",
   "id": "western-needle",
   "metadata": {},
   "source": [
    "$Z = x_1+2x_2$\n",
    "\n",
    "$x_1 + 3x_2 \\leq 200$\n",
    "\n",
    "$2x_1 + 2x_2 \\leq 300$\n",
    "\n",
    "$x_2 \\leq 60$"
   ]
  },
  {
   "cell_type": "markdown",
   "id": "cross-copyright",
   "metadata": {},
   "source": [
    "### b) Use the graphical method to solve this model\n",
    "<img src=\"Images/HW 1-1b.png\">"
   ]
  },
  {
   "cell_type": "markdown",
   "id": "danish-joseph",
   "metadata": {},
   "source": [
    "### c) Solve with Python\n",
    ">Compare your answer with part b. Also, report the sensitivity analysis parameters such as slack and shadow prices for all constraints."
   ]
  },
  {
   "cell_type": "markdown",
   "id": "increasing-buying",
   "metadata": {},
   "source": [
    "Below we create our model, define the objective function, input the constraints, and solve. The results conflict with the solution obtained above graphically, and it appears this is due to choosing the incorrect cornerpoint. "
   ]
  },
  {
   "cell_type": "code",
   "execution_count": 1,
   "id": "italian-poultry",
   "metadata": {},
   "outputs": [],
   "source": [
    "from pulp import *"
   ]
  },
  {
   "cell_type": "code",
   "execution_count": 9,
   "id": "certified-newman",
   "metadata": {},
   "outputs": [
    {
     "name": "stdout",
     "output_type": "stream",
     "text": [
      "x_1* = 125.0\n",
      "x_2* = 25.0\n",
      "175.0\n"
     ]
    }
   ],
   "source": [
    "# Model with lower bounds of zero\n",
    "prob = LpProblem(\"WorldLight Co\", LpMaximize)\n",
    "x1 = LpVariable('x_1', lowBound = 0)\n",
    "x2 = LpVariable('x_2', lowBound = 0)\n",
    "\n",
    "# Profit/objective function\n",
    "prob += x1 + 2*x2, \"Obj\"\n",
    "\n",
    "# Constraints\n",
    "prob += x2 <= 60 # Product 2 upper bound\n",
    "prob += x1 + 3*x2 <= 200 # frame parts\n",
    "prob += 2*x1 + 2*x2 <= 300 # components\n",
    "\n",
    "# Solve the model\n",
    "prob.solve()\n",
    "\n",
    "# Loop to print the optimum variables \n",
    "for variable in prob.variables():\n",
    "    print(\"{}* = {}\".format(variable.name, variable.varValue))\n",
    "\n",
    "# Profit at optimum levels\n",
    "print(value(prob.objective))"
   ]
  },
  {
   "cell_type": "markdown",
   "id": "attempted-knitting",
   "metadata": {},
   "source": [
    "The result finds the optimum values of 125 of product 1 and 25 of product 2 for a profit amount of $175.\n",
    "\n",
    "To continue our analysis, we can find the slack values and shadow prices for each constraint:"
   ]
  },
  {
   "cell_type": "code",
   "execution_count": 11,
   "id": "thermal-blake",
   "metadata": {},
   "outputs": [
    {
     "name": "stdout",
     "output_type": "stream",
     "text": [
      "\n",
      " _C1 : x_2 <= 60 , Slack= 35.0 , Shadow Price= -0.0\n",
      "\n",
      " _C2 : x_1 + 3*x_2 <= 200 , Slack= -0.0 , Shadow Price= 0.5\n",
      "\n",
      " _C3 : 2*x_1 + 2*x_2 <= 300 , Slack= -0.0 , Shadow Price= 0.25\n"
     ]
    }
   ],
   "source": [
    "for name, c in prob.constraints.items():\n",
    "    print(\"\\n\", name, \":\", c, \", Slack=\", c.slack, \", Shadow Price=\", c.pi)"
   ]
  },
  {
   "cell_type": "markdown",
   "id": "right-establishment",
   "metadata": {},
   "source": [
    "### d) What constraints are binding?\n",
    "Interpret the shadow price value of each constraint."
   ]
  },
  {
   "cell_type": "markdown",
   "id": "basic-contribution",
   "metadata": {},
   "source": [
    "The constraints for the frame parts and components are binding, and the shadow prices reflect how much more profit could be obtained if these constraints are increased by one. The constraint of product 2 has a shadow price of zero, meaning this is a free good and is not binding."
   ]
  },
  {
   "cell_type": "markdown",
   "id": "signal-plant",
   "metadata": {},
   "source": [
    "## Problem 2\n",
    "Consider the following problem, where the value of 𝑐 1 has not yet been ascertained.\n",
    "\n",
    "$Z = c_1x_1 +x_2$\n",
    "\n",
    "$x_1+x_2 \\leq 6$\n",
    "\n",
    "$x_1+2x_2 \\leq 10$\n",
    "\n",
    "$x_1,x_2 \\geq 0$"
   ]
  },
  {
   "cell_type": "markdown",
   "id": "prescribed-oxide",
   "metadata": {},
   "source": [
    "### a) Use graphical analysis to determine the optimal solution(s)\n",
    "...for ( 𝑥1 , 𝑥2 ) for the various possible values of $𝑐_1$ . Try 3 different values (for instance it can be 0.5, 1, and 2). Have you seen any change on the optimal solution of $𝑥_1 , 𝑥_2$ and objective value? Explain."
   ]
  },
  {
   "cell_type": "markdown",
   "id": "democratic-somalia",
   "metadata": {},
   "source": [
    "### b) Simplex Algorithm\n",
    "Suppose $c_1 = 2$ (so $Z=2x_1+x_2$, solve with the simplex model."
   ]
  },
  {
   "cell_type": "markdown",
   "id": "scheduled-termination",
   "metadata": {},
   "source": [
    "## Problem 3\n",
    "\n",
    "Here we explore a simple LP minimization model with the following constraints:\n",
    "\n",
    "$Z = 4x_1 + 3_x2 + 5x_3$\n",
    "\n",
    "$2x_1 + x_3 \\geq 8$\n",
    "\n",
    "$x_2 + x_3 \\geq 6$\n",
    "\n",
    "$6x_1 + 8x_2 \\geq 48$\n",
    "\n",
    "$x_1,x_2,x_3 \\geq 0$"
   ]
  },
  {
   "cell_type": "markdown",
   "id": "stupid-guarantee",
   "metadata": {},
   "source": [
    "### a)  Report the optimal solution for decision variables and the objective value."
   ]
  },
  {
   "cell_type": "markdown",
   "id": "relative-registrar",
   "metadata": {},
   "source": [
    "Performing a minimization is extremely similar to the maximization process in Problem 1. It is a simple matter of replacing the parameter when calling the LP Problem class. The optimal results for $x_1,x_2,x_3$ are printed below, which result in a minimized objective value of 34."
   ]
  },
  {
   "cell_type": "code",
   "execution_count": 14,
   "id": "generous-grain",
   "metadata": {},
   "outputs": [
    {
     "name": "stdout",
     "output_type": "stream",
     "text": [
      "Optimal\n",
      "x_1 = 2.9090909\n",
      "x_2 = 3.8181818\n",
      "x_3 = 2.1818182\n",
      "Z* =  34.0\n"
     ]
    }
   ],
   "source": [
    "# Create problem class and variables\n",
    "from pulp import *\n",
    "prob = LpProblem(\"LP Minimization\", LpMinimize)\n",
    "x1 = LpVariable('x_1', lowBound = 0)\n",
    "x2 = LpVariable('x_2', lowBound = 0)\n",
    "x3 = LpVariable('x_3', lowBound = 0)\n",
    "\n",
    "# Objective function \n",
    "prob += 4*x1 + 3*x2 + 5*x3, \"Obj\"\n",
    "\n",
    "# Constraints\n",
    "prob += 2*x1 + x3 >= 8\n",
    "prob += x2 + x3 >= 6\n",
    "prob += 6*x1 + 8*x2 >= 48\n",
    "prob += x1 >= 0\n",
    "prob += x2 >= 0\n",
    "prob += x3 >= 0\n",
    "\n",
    "# Solve the minimization\n",
    "prob.solve()\n",
    "\n",
    "print(LpStatus[prob.status])\n",
    "\n",
    "for variable in prob.variables():\n",
    "    print(\"{} = {}\".format(variable.name, variable.varValue))\n",
    "    \n",
    "print(\"Z* = \", value(prob.objective))"
   ]
  },
  {
   "cell_type": "markdown",
   "id": "suited-baker",
   "metadata": {},
   "source": [
    "### b) Report and interpret the reduced cost value of each decision variable."
   ]
  },
  {
   "cell_type": "markdown",
   "id": "fewer-season",
   "metadata": {},
   "source": [
    "The reduced cost can be obtained from the resulting prob.variables object. In this case the reduced cost of each decision variable is zero, which makes sense given that all three optimized variables have positive values. If there were a reduced cost, it would give us the amount that the coefficient of the variable in our objective function would need to increase before it would have a positive optimal value.  "
   ]
  },
  {
   "cell_type": "code",
   "execution_count": 15,
   "id": "periodic-cambridge",
   "metadata": {},
   "outputs": [
    {
     "name": "stdout",
     "output_type": "stream",
     "text": [
      "\n",
      " x_1 = 2.9090909 , Reduced Cost= 0.0\n",
      "\n",
      " x_2 = 3.8181818 , Reduced Cost= 0.0\n",
      "\n",
      " x_3 = 2.1818182 , Reduced Cost= 0.0\n"
     ]
    }
   ],
   "source": [
    "for v in prob.variables():\n",
    "    print (\"\\n\", v.name, \"=\", v.varValue, \", Reduced Cost=\", v.dj)"
   ]
  },
  {
   "cell_type": "markdown",
   "id": "refined-pastor",
   "metadata": {},
   "source": [
    "## Problem 4\n",
    "> A national bank needs to determine how to invest \\\\$500,000 in the following collection of bonds to maximize the annual return:\n",
    "\n",
    "\n",
    "| Bond | Annual Return | Maturity | Risk | Tax-Free |\n",
    "|------|---------------|----------|------|----------|\n",
    "| A    | 10.0%         | Long     | High | Yes      |\n",
    "| B    | 7.5%          | Short    | Low  | Yes      |\n",
    "| C    | 9.0%          | Long     | Low  | No       |\n",
    "| D    | 9.0%          | Long     | High | Yes      |\n",
    "| E    | 9.0%          | Short    | High | No       |\n",
    "\n",
    ">The officer wants to invest at least 50\\% of the money in short-term issues and no more than 50% in high-risk issues. Also, at least 30% of the funds should go into tax-free investments."
   ]
  },
  {
   "cell_type": "markdown",
   "id": "infrared-attribute",
   "metadata": {},
   "source": [
    "### a) Formulate an LP model and implement it in Python."
   ]
  },
  {
   "cell_type": "markdown",
   "id": "shaped-unemployment",
   "metadata": {},
   "source": [
    "To create this model, we start by creating the problem class and carefully choosing upward bounds that correspond to the prompt. In this case, bonds A, D, and E are high-risk and can only receive 50% of the investment so we set `upBound = 250`. We are maximizing the annual return, so we use those return percentages to build out our model. \n",
    "\n",
    "Constraints include:\n",
    "- B and D should sum to $\\geq$ than 250 as 50% short-term bonds\n",
    "- A, C, and D should sum to $\\leq$  than 250 as 50% high-risk bonds\n",
    "- A, B, and D should sum to $\\geq$  150 as 30% tax-free bonds"
   ]
  },
  {
   "cell_type": "code",
   "execution_count": 19,
   "id": "jewish-stuff",
   "metadata": {},
   "outputs": [
    {
     "name": "stdout",
     "output_type": "stream",
     "text": [
      "My_LP_Problem:\n",
      "MAXIMIZE\n",
      "0.1*A + 0.075*B + 0.09*C + 0.09*D + 0.09*E + 0.0\n",
      "SUBJECT TO\n",
      "Portfolio: A + B + C + D + E = 500\n",
      "\n",
      "Short_Term: B + E >= 250\n",
      "\n",
      "High_Risk: A + C + D <= 250\n",
      "\n",
      "Tax_Free: A + B + D >= 150\n",
      "\n",
      "VARIABLES\n",
      "A <= 250 Continuous\n",
      "B <= 500 Continuous\n",
      "C <= 500 Continuous\n",
      "D <= 250 Continuous\n",
      "E <= 250 Continuous\n",
      "\n",
      "status: Optimal\n",
      "A* = 250.0\n",
      "B* = 0.0\n",
      "C* = 0.0\n",
      "D* = 0.0\n",
      "E* = 250.0\n",
      "Z* =  47.5\n"
     ]
    }
   ],
   "source": [
    "prob = LpProblem(\"My LP Problem\", LpMaximize)\n",
    "\n",
    "x1 = LpVariable('A', lowBound = 0, upBound = 250)\n",
    "x2 = LpVariable('B', lowBound = 0, upBound = 500)\n",
    "x3 = LpVariable('C', lowBound = 0, upBound = 500)\n",
    "x4 = LpVariable('D', lowBound = 0, upBound = 250)\n",
    "x5 = LpVariable('E', lowBound = 0, upBound = 250)\n",
    "\n",
    "# Objective function based on annual return\n",
    "prob += 0.10*x1 + 0.075*x2 + 0.09*x3 + 0.09*x4 + 0.09*x5, \"Obj\"\n",
    "\n",
    "# Constraints\n",
    "prob += x1 + x2 + x3 + x4 + x5 == 500, \"Portfolio\" \n",
    "prob += x2 + x5 >= 250, \"Short-Term\"\n",
    "prob += x1 + x3 + x4 <= 250, \"High-Risk\"\n",
    "prob += x1 + x2 + x4 >= 150, \"Tax-Free\"\n",
    "\n",
    "print(prob)\n",
    "\n",
    "prob.solve() \n",
    "print(\"status: \" + LpStatus[prob.status]) \n",
    "\n",
    "for variable in prob.variables():\n",
    "     print(\"{}* = {}\".format(variable.name, variable.varValue)) \n",
    "     \n",
    "print(\"Z* = \",value(prob.objective))"
   ]
  },
  {
   "cell_type": "markdown",
   "id": "alpine-charleston",
   "metadata": {},
   "source": [
    "### b) What is the optimal solution?"
   ]
  },
  {
   "cell_type": "markdown",
   "id": "industrial-native",
   "metadata": {},
   "source": [
    "The optimal solution is to split the investment evenly between bonds A and E. This results in an optimal annual return of $47,500."
   ]
  },
  {
   "cell_type": "markdown",
   "id": "norwegian-sheep",
   "metadata": {},
   "source": [
    "### c) What constraints are binding? Interpret the shadow prices and slack values."
   ]
  },
  {
   "cell_type": "markdown",
   "id": "canadian-efficiency",
   "metadata": {},
   "source": [
    "The portfolio, short-term, and high-risk constraints are binding. The shadow price of the portfolio constraint is unsurprising, increasing the amount of investment would increase the objective value. The shadow price of the short-term constraint implies a reduced return if we increased its investment. The tax-free constraint is non-binding and has a slack of -100, meaning we have exceeded our tax-free requirement by 100. "
   ]
  },
  {
   "cell_type": "code",
   "execution_count": 20,
   "id": "known-mexican",
   "metadata": {},
   "outputs": [
    {
     "name": "stdout",
     "output_type": "stream",
     "text": [
      "\n",
      "Portfolio: Slack=-0.0, Shadow Price = 0.1\n",
      "\n",
      " Portfolio : , Slack= -0.0 , Shadow Price= 0.1\n",
      "\n",
      "Short_Term: Slack=-0.0, Shadow Price = -0.025\n",
      "\n",
      " Short_Term : , Slack= -0.0 , Shadow Price= -0.025\n",
      "\n",
      "High_Risk: Slack=-0.0, Shadow Price = -0.0\n",
      "\n",
      " High_Risk : , Slack= -0.0 , Shadow Price= -0.0\n",
      "\n",
      "Tax_Free: Slack=-100.0, Shadow Price = -0.0\n",
      "\n",
      " Tax_Free : , Slack= -100.0 , Shadow Price= -0.0\n"
     ]
    }
   ],
   "source": [
    "for name, c in prob.constraints.items():\n",
    "    print(\"\\n{}: Slack={}, Shadow Price = {}\".format(name, c.slack, c.pi))\n",
    "    print(\"\\n\", name, \":\", \", Slack=\", c.slack, \", Shadow Price=\", c.pi)"
   ]
  },
  {
   "cell_type": "markdown",
   "id": "qualified-examination",
   "metadata": {},
   "source": [
    "### d) Interpret the reduced cost value of each decision variable."
   ]
  },
  {
   "cell_type": "markdown",
   "id": "second-leone",
   "metadata": {},
   "source": [
    "The reduced cost of A and B are zero, which implies that B is not present in the optimum solution due to a combination of constraints that ruled it out. The negative reduced costs are strange for a maximization problem, it might imply these are actually better investments than the optimum solution but are ruled out due to constraints. The positive reduced cost of E, a bond that is present in the solution, may strengthen that argument because it would mean that it should be increased by 0.015 to be optimal."
   ]
  },
  {
   "cell_type": "code",
   "execution_count": 21,
   "id": "intermediate-thursday",
   "metadata": {},
   "outputs": [
    {
     "name": "stdout",
     "output_type": "stream",
     "text": [
      "\n",
      "A* = 250.0,   Reduced Cost = 0.0\n",
      "\n",
      "B* = 0.0,   Reduced Cost = 0.0\n",
      "\n",
      "C* = 0.0,   Reduced Cost = -0.01\n",
      "\n",
      "D* = 0.0,   Reduced Cost = -0.01\n",
      "\n",
      "E* = 250.0,   Reduced Cost = 0.015\n"
     ]
    }
   ],
   "source": [
    "for variable in prob.variables():\n",
    "     print(\"\\n{}* = {},   Reduced Cost = {}\".format(variable.name, variable.varValue, variable.dj)) "
   ]
  },
  {
   "cell_type": "markdown",
   "id": "textile-mississippi",
   "metadata": {},
   "source": [
    "## Problem 5\n",
    ">The CitruSun Corporation ships frozen orange juice concentrate from processing plants in Eustis and Clermont to distributors in Miami, Orlando, and Tallahassee. Each plant can produce 20 tons of concentrate each week. The company has just received orders of 10 tons from Miami for the coming week, 15 tons for Orlando, and 10tons for Tallahassee. The cost per ton for supplying each of the distributors from each of the processing plants i s shown in the following table:\n",
    "\n",
    "|          | Miami | Orlando | Tallahassee |\n",
    "|----------|-------|---------|-------------|\n",
    "| Eustis   | \\$260  | \\$200    | \\$290        |\n",
    "| Clermont | \\$220  | \\$240    | $330        |\n",
    "\n",
    ">The company wants to determine the **minimum** costly plan for filling their orders for the coming week."
   ]
  },
  {
   "cell_type": "markdown",
   "id": "atomic-karma",
   "metadata": {},
   "source": [
    "### a) Formulate an Integer LP model for this problem."
   ]
  },
  {
   "cell_type": "code",
   "execution_count": null,
   "id": "falling-subcommittee",
   "metadata": {},
   "outputs": [],
   "source": []
  },
  {
   "cell_type": "markdown",
   "id": "final-postcard",
   "metadata": {},
   "source": [
    "### b) Implement the model in Python and solve it.\n",
    "> What is the optimal solution?"
   ]
  },
  {
   "cell_type": "code",
   "execution_count": null,
   "id": "speaking-miami",
   "metadata": {},
   "outputs": [],
   "source": []
  },
  {
   "cell_type": "markdown",
   "id": "ambient-efficiency",
   "metadata": {},
   "source": [
    "## Problem 6"
   ]
  },
  {
   "cell_type": "markdown",
   "id": "republican-glory",
   "metadata": {},
   "source": [
    "A couple wants to divide their household tasks between them so that each has two tasks but the time spent is kept to a minimum. Their efficiencies on this task differ, and the time needed for each task/person is given in this table in hours.\n",
    "\n",
    "|        | Shopping | Cooking | Dishwashing | Laundry |\n",
    "|--------|----------|---------|-------------|---------|\n",
    "| Eve    | 4.5      | 7.5     | 3.0         | 3.0     |\n",
    "| Steven | 5.5      | 7.2     | 4.5         | 3.2     |"
   ]
  },
  {
   "cell_type": "markdown",
   "id": "colored-skirt",
   "metadata": {},
   "source": [
    "### a) Formulate a BIP (Binary Integer Programming) model for this problem.\n",
    "(Needs 8 binary decision variables)"
   ]
  },
  {
   "cell_type": "markdown",
   "id": "planned-customer",
   "metadata": {},
   "source": [
    "### b) Solve in Python"
   ]
  },
  {
   "cell_type": "markdown",
   "id": "tested-elevation",
   "metadata": {},
   "source": [
    "## Problem 7\n",
    "\n",
    "The Toys-R-4-U Company has developed two new toys for possible inclusion in its product line for the upcoming Christmas season. Setting up the production facilities to begin production would cost $45,000 for toy 1 and $75,000 for toy 2. Once these costs are covered, the toys would generate a unit profit of $10 for toy 1 and $15 for toy 2.\n",
    "\n",
    "The company has two factories that are capable of producing these toys. However, to avoid doubling the start-up costs, just one factory would be used, where the choice would be based on maximizing profit. For administrative reasons, the same factory would be used for both new toys if both are produced.\n",
    "\n",
    "Toy 1 can be produced at the rate of 50 per hour (or 1/50 hours for each toy) in factory 1 and 40 per hour (1/40 hours for each toy) in factory 2. Toy 2 can be produced at the rate of 40 per hour (1/40 hours for each toy) in factory 1 and 25 per hour in factory 2. Factories 1 and 2, respectively, have 500 hours and 700 hours of production time available before Christmas that could be used to produce these toys.\n",
    "\n",
    "It is not known whether these two toys would be continued after Christmas. Therefore, the problem is to determine how many units (if any) of each new toy should be produced before Christmas to maximize the total profit."
   ]
  },
  {
   "cell_type": "markdown",
   "id": "celtic-factory",
   "metadata": {},
   "source": [
    "### a) Formulate a MIP (Mixed Integer Programming) model"
   ]
  },
  {
   "cell_type": "markdown",
   "id": "handled-authorization",
   "metadata": {},
   "source": [
    "### b) Solve in Python"
   ]
  }
 ],
 "metadata": {
  "kernelspec": {
   "display_name": "Python 3",
   "language": "python",
   "name": "python3"
  },
  "language_info": {
   "codemirror_mode": {
    "name": "ipython",
    "version": 3
   },
   "file_extension": ".py",
   "mimetype": "text/x-python",
   "name": "python",
   "nbconvert_exporter": "python",
   "pygments_lexer": "ipython3",
   "version": "3.7.7"
  },
  "toc": {
   "base_numbering": 1,
   "nav_menu": {},
   "number_sections": true,
   "sideBar": true,
   "skip_h1_title": true,
   "title_cell": "Table of Contents",
   "title_sidebar": "Contents",
   "toc_cell": true,
   "toc_position": {},
   "toc_section_display": true,
   "toc_window_display": false
  }
 },
 "nbformat": 4,
 "nbformat_minor": 5
}
