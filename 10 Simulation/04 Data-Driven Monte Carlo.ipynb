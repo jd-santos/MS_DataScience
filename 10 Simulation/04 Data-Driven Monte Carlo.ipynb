{
 "cells": [
  {
   "cell_type": "markdown",
   "id": "b1d5c8ce-49a0-49ea-b2b9-bc4a74f97d91",
   "metadata": {},
   "source": [
    "## Input Analysis \n",
    "\n",
    "The observations available in our wind turbine dataset represent:\n",
    "- \"FailCount\": the count of the number of failures on a windmill turbine farm per year\n",
    "- \"RepairTime\": the time that it takes to repair a windmill turbine on each occurrence in minutes.\n",
    "- \"DriveTime\": the time that it takes to notice the failure and drive from the control station to the windmill turbine in minutes\n",
    "\n",
    "a) Using the techniques discussed in the input-analysis lecture, recommend an input distribution model for the \"FailCount,\" \"RepairTime,\" and \"DriveTime\" variables. Also, determine the distributions' parameters (For example, if data is Normal, what is the approximate mean and stdev; or if the data is Uniform, what are the minimum and maximum parameters).\n",
    "Note: consider which variable is naturally discrete or continuous. You can find the data\n",
    "on Blackboard.\n",
    "\n",
    "b) We pay \\\\$2 per minute (\\\\$120 per hour) to the technician who fixes a wind turbine, and the payment includes DriveTime and RepairTime multiplied by the total number of failures. Use the distribution and parameters you determined through input analysis (in part a) to simulate the total income of the technician per year. Report histogram, mean, standard deviation, and 95% confidence interval.\n",
    "\n",
    "Note: Income-yearly = $2 * (Repairtime + DriveTime) * FailCount"
   ]
  },
  {
   "cell_type": "code",
   "execution_count": 1,
   "id": "303e2044-d64a-4965-815d-9e9753cca366",
   "metadata": {
    "tags": []
   },
   "outputs": [],
   "source": [
    "data = read.csv(\"Data Sets/windTurbineData.csv\")"
   ]
  },
  {
   "cell_type": "markdown",
   "id": "6c662180-8342-4c83-8b6b-19cf4b985ce9",
   "metadata": {},
   "source": [
    "## Bootstrapping\n",
    "Using bootstrapping, estimate the median and 95% confidence\n",
    "interval for the median of the \"income\" variable in the \" Prestige \" dataset.\n",
    "\n",
    "Visualize the outcomes.\n",
    "\n",
    "library(\"car\")\n",
    "data(\"Prestige\")\n",
    "income <- Prestige$income"
   ]
  },
  {
   "cell_type": "markdown",
   "id": "0449fcf8-f5d8-43cd-9ec2-987a77f58e19",
   "metadata": {},
   "source": [
    "## Bootstrapping Newsvendor Model\n",
    "\n",
    "Use the Newsvendor Model to set up and run a bootstrap simulation assuming that we have access to a demand dataset in the last 100 days (the dataset is attached as newsVendorData.csv). Assume that the cost per unit (C) is \\\\$12, the selling price (R) is \\$18, and the salvage value (S) is \\\\$10.\n",
    "\n",
    "a) Suggest the optimal purchase quantity.\n",
    "b) Visualize the profit outcome and report a 95% confidence interval for the optimal profit.\n"
   ]
  }
 ],
 "metadata": {
  "kernelspec": {
   "display_name": "R",
   "language": "R",
   "name": "ir"
  },
  "language_info": {
   "codemirror_mode": "r",
   "file_extension": ".r",
   "mimetype": "text/x-r-source",
   "name": "R",
   "pygments_lexer": "r",
   "version": "4.0.0"
  }
 },
 "nbformat": 4,
 "nbformat_minor": 5
}
